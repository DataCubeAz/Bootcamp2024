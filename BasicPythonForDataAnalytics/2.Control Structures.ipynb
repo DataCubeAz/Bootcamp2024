{
 "cells": [
  {
   "cell_type": "markdown",
   "id": "cb7ec7d4-175b-42b8-820f-aadee483f7cf",
   "metadata": {},
   "source": [
    "# Functions"
   ]
  },
  {
   "cell_type": "markdown",
   "id": "e2bdf907-f2c4-45c0-8ede-300af7368204",
   "metadata": {},
   "source": [
    "##### English\n",
    "\n",
    "- In Python, a function is defined using the def keyword, followed by a function name, parameters enclosed in parentheses, and a colon\n",
    "\n",
    " ##### German\n",
    "- In Python wird eine Funktion mit dem Schlüsselwort def definiert, gefolgt von einem Funktionsnamen, Parametern in Klammern und einem Doppelpunkt"
   ]
  },
  {
   "cell_type": "code",
   "execution_count": 1,
   "id": "e0cd1a14-f58a-46a7-9bd2-3aeb56e08b80",
   "metadata": {},
   "outputs": [
    {
     "name": "stdout",
     "output_type": "stream",
     "text": [
      "a b\n",
      "a__b\n"
     ]
    }
   ],
   "source": [
    "print(\"a\", \"b\")\n",
    "\n",
    "print(\"a\", \"b\", sep=\"__\")"
   ]
  },
  {
   "cell_type": "code",
   "execution_count": 2,
   "id": "d34a5b0c-c8db-4ef7-9250-34e6aad41e0d",
   "metadata": {},
   "outputs": [
    {
     "name": "stdout",
     "output_type": "stream",
     "text": [
      "2 multiplied by 10 is 20\n"
     ]
    }
   ],
   "source": [
    "# One argument function Eine Argumentfunktion)\n",
    "\n",
    "def calculate(x):\n",
    "    result = x * 10\n",
    "    print(f\"{x} multiplied by 10 is {result}\")\n",
    "calculate(2)\n"
   ]
  },
  {
   "cell_type": "code",
   "execution_count": 3,
   "id": "18da2290-91b5-4c03-9c45-6f877172cab0",
   "metadata": {},
   "outputs": [],
   "source": [
    "# A Function with more arguments (Eine Funktion mit mehreren Argumenten)\n",
    "\n",
    "def add_numbers(a, b):\n",
    "    result = a + b\n",
    "    return result\n"
   ]
  },
  {
   "cell_type": "code",
   "execution_count": 4,
   "id": "51bc2f8c-c5ea-4151-8545-5b2d4f97d217",
   "metadata": {},
   "outputs": [
    {
     "data": {
      "text/plain": [
       "5"
      ]
     },
     "execution_count": 4,
     "metadata": {},
     "output_type": "execute_result"
    }
   ],
   "source": [
    "add_numbers(2,3)"
   ]
  },
  {
   "cell_type": "code",
   "execution_count": 5,
   "id": "2c100781-e9a7-4abd-8a9e-1e1fb5760626",
   "metadata": {},
   "outputs": [
    {
     "name": "stdout",
     "output_type": "stream",
     "text": [
      "15\n"
     ]
    }
   ],
   "source": [
    "def summer(arg1, arg2):\n",
    "    print(arg1 + arg2)\n",
    "\n",
    "summer(7, 8)"
   ]
  },
  {
   "cell_type": "code",
   "execution_count": 6,
   "id": "e4bb9316-72ec-46c7-aef8-48b183e5d0c9",
   "metadata": {},
   "outputs": [
    {
     "name": "stdout",
     "output_type": "stream",
     "text": [
      "15\n"
     ]
    }
   ],
   "source": [
    "summer(8, 7)\n"
   ]
  },
  {
   "cell_type": "code",
   "execution_count": 7,
   "id": "3e7f8951-b2bd-4078-9d73-8e709ca4bdcf",
   "metadata": {},
   "outputs": [
    {
     "name": "stdout",
     "output_type": "stream",
     "text": [
      "15\n"
     ]
    }
   ],
   "source": [
    "summer(arg2=8, arg1=7)"
   ]
  },
  {
   "cell_type": "code",
   "execution_count": 8,
   "id": "7e956aae-9c99-4910-b4c1-a6302f31ce17",
   "metadata": {},
   "outputs": [],
   "source": [
    "def sumof(x, y):\n",
    "    \"\"\"\n",
    "    This funtions sum two number\n",
    "\n",
    "    Args:\n",
    "        x: it can be int and floar\n",
    "        y: it can be int and floar\n",
    "\n",
    "    Returns:\n",
    "        int, float\n",
    "\n",
    "    \"\"\"\n",
    "    print(x + y)"
   ]
  },
  {
   "cell_type": "code",
   "execution_count": 9,
   "id": "b03cb3a9-e676-4aa1-a6bc-1b9da57e671a",
   "metadata": {},
   "outputs": [],
   "source": [
    "# This is a simple function that takes two arguments and prints their sum.\n",
    "# Das ist eine einfache Funktion, die zwei Argumente nimmt und ihre Summe ausgibt.\n",
    "def summer(arg1, arg2): \n",
    "    result = arg1 + arg2\n",
    "    print(f\"The sum of {arg1} and {arg2} is: {result}\")"
   ]
  },
  {
   "cell_type": "code",
   "execution_count": 10,
   "id": "6309ecab-d509-4d03-83d6-13977b72ccad",
   "metadata": {},
   "outputs": [
    {
     "name": "stdout",
     "output_type": "stream",
     "text": [
      "The sum of 7 and 8 is: 15\n"
     ]
    }
   ],
   "source": [
    "# Call the function with arguments 7 and 8\n",
    "# Rufe die Funktion mit den Argumenten 7 und 8 auf\n",
    "\n",
    "summer(7, 8)"
   ]
  },
  {
   "cell_type": "code",
   "execution_count": 11,
   "id": "d68b6e31-cda1-48c0-ac4b-41ae75329434",
   "metadata": {},
   "outputs": [
    {
     "name": "stdout",
     "output_type": "stream",
     "text": [
      "The sum of 8 and 7 is: 15\n"
     ]
    }
   ],
   "source": [
    "# Call the function with arguments 8 and 7\n",
    "# Rufe die Funktion mit den Argumenten 8 und 7 auf\n",
    "\n",
    "summer(8, 7)"
   ]
  },
  {
   "cell_type": "code",
   "execution_count": 12,
   "id": "6c072bf5-2240-4120-9606-c9b1f10af77b",
   "metadata": {},
   "outputs": [
    {
     "name": "stdout",
     "output_type": "stream",
     "text": [
      "The sum of 7 and 8 is: 15\n"
     ]
    }
   ],
   "source": [
    "# Call the function using keyword arguments\n",
    "#  Rufe die Funktion mit Schlüsselwortargumenten auf.\n",
    "\n",
    "summer(arg2=8, arg1=7)"
   ]
  },
  {
   "cell_type": "code",
   "execution_count": 13,
   "id": "e5fb3a2b-fcfe-4ed9-9ec1-9d79676c9ae8",
   "metadata": {},
   "outputs": [
    {
     "name": "stdout",
     "output_type": "stream",
     "text": [
      "Hello, Alice!\n",
      "Hi, Bob!\n"
     ]
    }
   ],
   "source": [
    "#Default Arguments\n",
    "\n",
    "def greet(name, greeting=\"Hello\"):\n",
    "    return f\"{greeting}, {name}!\"\n",
    "print(greet(\"Alice\"))          # Output: \"Hello, Alice!\"\n",
    "print(greet(\"Bob\", \"Hi\"))      # Output: \"Hi, Bob!\""
   ]
  },
  {
   "cell_type": "code",
   "execution_count": 14,
   "id": "5d1d7c47-3710-4262-9c68-7994b782e9c8",
   "metadata": {},
   "outputs": [],
   "source": [
    "# Adding value to a list \n",
    "# Einen Wert zu einer Liste hinzufügen\n",
    "\n",
    "list_store = [] \n",
    "def add_element(a, b):\n",
    "    c = a * b\n",
    "    list_store.append(c)\n",
    "    print(list_store)"
   ]
  },
  {
   "cell_type": "code",
   "execution_count": 15,
   "id": "acbeed6f-a71a-45d9-8c75-0021a637eba2",
   "metadata": {},
   "outputs": [
    {
     "name": "stdout",
     "output_type": "stream",
     "text": [
      "[6]\n",
      "[6, 8]\n",
      "[6, 8, 10]\n",
      "[6, 8, 10]\n"
     ]
    }
   ],
   "source": [
    "# Call the add_element function with different arguments\n",
    "# Rufe die Funktion add_element mit verschiedenen Argumenten auf.\n",
    "add_element(2, 3)\n",
    "add_element(2, 4)\n",
    "add_element(2, 5)\n",
    "print(list_store )"
   ]
  },
  {
   "cell_type": "markdown",
   "id": "23a8f162-a98a-42fd-a4ef-4d65f89877ec",
   "metadata": {},
   "source": [
    "  \n",
    "  **Key Takeaways**\n",
    "\n",
    "- Functions can take parameters (inputs) that are specified within the parentheses. These parameters are like variables that are accessible within the function.\n",
    "- The code inside the function is known as the function body. It contains the instructions and logic that the function performs.\n",
    "- Functions can return a value using the return statement. This value can be used elsewhere in your code.\n",
    "- Once you define a function, you can call it multiple times with different arguments, reducing code duplication.\n",
    "- Functions make your code more organized and structured, which aids in code management and collaboration in larger projects."
   ]
  },
  {
   "cell_type": "markdown",
   "id": "185cde36-74bd-4e2d-af87-df9fa871c887",
   "metadata": {},
   "source": [
    "**Wichtige Erkenntnisse**\n",
    "\n",
    "- Funktionen können Parameter (Eingaben) enthalten, die innerhalb der Klammern angegeben werden. Diese Parameter sind wie Variablen, auf die innerhalb der Funktion zugegriffen werden kann.\n",
    "- Der Code innerhalb der Funktion ist als Funktionskörper bekannt. Er enthält die Anweisungen und die Logik, die die Funktion ausführt.\n",
    "- Funktionen können einen Wert mit der Return-Anweisung zurückgeben. Dieser Wert kann an anderer Stelle in Ihrem Code verwendet werden.\n",
    "- Sobald Sie eine Funktion definiert haben, können Sie sie mehrmals mit verschiedenen Argumenten aufrufen, was die Code-Duplizierung reduziert.\n",
    "- Funktionen machen Ihren Code organisierter und strukturierter, was bei der Codeverwaltung und Zusammenarbeit in größeren Projekten hilft."
   ]
  },
  {
   "cell_type": "markdown",
   "id": "0bb9d893-c26e-4e60-9255-f0fe69321213",
   "metadata": {},
   "source": [
    "# Time for Practice (Zeit für Übung)"
   ]
  },
  {
   "cell_type": "markdown",
   "id": "edeea45b-d59d-4da8-b32d-bcc57644bea6",
   "metadata": {},
   "source": [
    "# Conditions\n",
    "##### English\n",
    "- In Python, \"conditions\" refer to the logic that allows you to make decisions in your code.\n",
    " ##### German\n",
    " - In Python, \"conditions\" refer to the logic that allows you to make decisions in your code."
   ]
  },
  {
   "cell_type": "code",
   "execution_count": null,
   "id": "c0b8eefb-a342-40de-a127-504f5c73ff21",
   "metadata": {},
   "outputs": [],
   "source": []
  },
  {
   "cell_type": "code",
   "execution_count": 19,
   "id": "aab723dd-593c-4b91-9845-5c384576d738",
   "metadata": {},
   "outputs": [],
   "source": [
    "# Conditions in Python\n",
    "# True and False\n",
    "condition1 = 1 == 1  # This condition is True\n",
    "condition2 = 1 == 2  # This condition is False"
   ]
  },
  {
   "cell_type": "code",
   "execution_count": 20,
   "id": "a48bd381-d3f2-474a-b445-83a5f5e08c49",
   "metadata": {},
   "outputs": [
    {
     "name": "stdout",
     "output_type": "stream",
     "text": [
      "This condition is True, so this line will be executed.\n"
     ]
    }
   ],
   "source": [
    "# if Statement (# if-Anweisung)\n",
    "\n",
    "if condition1:\n",
    "    print(\"This condition is True, so this line will be executed.\")\n",
    "if condition2:\n",
    "    print(\"This condition is False, so this line will be skipped.\")"
   ]
  },
  {
   "cell_type": "code",
   "execution_count": 21,
   "id": "f983a24e-3dd0-417a-ae3b-59e402ad29f9",
   "metadata": {},
   "outputs": [
    {
     "name": "stdout",
     "output_type": "stream",
     "text": [
      "This condition is True, so this line will be executed.\n"
     ]
    }
   ],
   "source": [
    "if 1 == 1:\n",
    "    print(\"This condition is True, so this line will be executed.\")\n",
    "if 1 == 2:\n",
    "    print(\"This condition is False, so this line will be skipped.\")"
   ]
  },
  {
   "cell_type": "code",
   "execution_count": 22,
   "id": "7ecb4b2d-4f3b-40bd-982f-394a9d90b8ae",
   "metadata": {},
   "outputs": [],
   "source": [
    "# The else Clause\n",
    "def number_check_with_else(number):\n",
    "    if number == 10:\n",
    "         print(\"The number is 10\")  # If 'number' is equal to 10, print this message.\n",
    "    else:\n",
    "        print(\"The number is not 10\") # If 'number' is not equal to 10, print this message.\n"
   ]
  },
  {
   "cell_type": "code",
   "execution_count": 23,
   "id": "d48e7e17-dc8a-4d6d-8ae1-87fee07d6c79",
   "metadata": {},
   "outputs": [
    {
     "name": "stdout",
     "output_type": "stream",
     "text": [
      "The number is not 10\n",
      "The number is 10\n"
     ]
    }
   ],
   "source": [
    "number_check_with_else(12)\n",
    "number_check_with_else(10)"
   ]
  },
  {
   "cell_type": "code",
   "execution_count": 24,
   "id": "f1c661c5-6d78-4c9e-b893-5c6129800e58",
   "metadata": {},
   "outputs": [],
   "source": [
    "# The elif Clause\n",
    "def number_check_with_elif(number): # Check if the 'number' is greater than 10.\n",
    "    if number > 10: # If 'number' is greater than 10, print this message.\n",
    "        print(\"The number is greater than 10\")\n",
    "    elif number < 10: # If the previous condition is not met, check if 'number' is less than 10.\n",
    "        print(\"The number is less than 10\")         # If 'number' is less than 10, print this message.\n",
    "    else: # If neither of the previous conditions is met, it means 'number' is equal to 10.\n",
    "        print(\"The number is equal to 10\")  # In this case, print this message."
   ]
  },
  {
   "cell_type": "code",
   "execution_count": 25,
   "id": "9e1c94b9-89d9-4414-a4ac-0a982d5a959d",
   "metadata": {},
   "outputs": [
    {
     "name": "stdout",
     "output_type": "stream",
     "text": [
      "The number is less than 10\n",
      "The number is equal to 10\n",
      "The number is greater than 10\n"
     ]
    }
   ],
   "source": [
    "number_check_with_elif(6)\n",
    "number_check_with_elif(10)\n",
    "number_check_with_elif(12)"
   ]
  },
  {
   "cell_type": "code",
   "execution_count": 26,
   "id": "2c84f1e5-2ac6-4ad0-a316-ef42183bcc39",
   "metadata": {},
   "outputs": [
    {
     "name": "stdout",
     "output_type": "stream",
     "text": [
      "True\n",
      "False\n",
      "True\n"
     ]
    }
   ],
   "source": [
    "#False True conditions\n",
    "print(True and True)\n",
    "print(False and True)\n",
    "print(False or True) "
   ]
  },
  {
   "cell_type": "code",
   "execution_count": 27,
   "id": "f8c8f8e7-fe30-4dea-a03e-81ef6f10fa9e",
   "metadata": {},
   "outputs": [],
   "source": [
    "#logical expressions\n",
    "\n",
    "# ==, !=, >, <, >=, <=\n",
    "# and, or, not"
   ]
  },
  {
   "cell_type": "code",
   "execution_count": 28,
   "id": "a80e2ffa-322c-404d-b7e0-9155dd156de0",
   "metadata": {},
   "outputs": [
    {
     "name": "stdout",
     "output_type": "stream",
     "text": [
      "Loan approved!\n"
     ]
    }
   ],
   "source": [
    "# Define the credit score and income variables.\n",
    "# Definiere die Variablen für die Kreditwürdigkeit und das Einkommen\n",
    "\n",
    "credit_score = 750\n",
    "income = 60000\n",
    "# Check if both the credit score is greater than or equal to 700 and income is greater than or equal to 50000.\n",
    "# Überprüfe, ob sowohl die Kreditwürdigkeit größer oder gleich 700 als auch das Einkommen größer oder gleich 50000 ist\n",
    "if credit_score >= 700 and income >= 50000:\n",
    "    print(\"Loan approved!\")\n",
    "else:\n",
    "    print(\"Loan denied.\")"
   ]
  },
  {
   "cell_type": "code",
   "execution_count": 30,
   "id": "c15f167d-b724-41f5-b675-59f2a587ce53",
   "metadata": {},
   "outputs": [
    {
     "name": "stdout",
     "output_type": "stream",
     "text": [
      "Both conditions are not met for num=1 and letter=\"a\"\n",
      "Both conditions are not met for num=2 and letter=\"b\"\n",
      "Both conditions are not met for num=3 and letter=\"c\"\n",
      "At least one condition is met for num=1 or letter=\"a\"\n",
      "Neither condition is met for num=2 or letter=\"b\"\n",
      "At least one condition is met for num=3 or letter=\"c\"\n"
     ]
    }
   ],
   "source": [
    "numbers = [1, 2, 3]\n",
    "alphabet = ['a', 'b', 'c']\n",
    "\n",
    "# AND condition\n",
    "for num, letter in zip(numbers, alphabet):\n",
    "    if num == 3 and letter == \"a\":\n",
    "        print(f'Both conditions are met for num={num} and letter=\"{letter}\"')\n",
    "    else:\n",
    "        print(f'Both conditions are not met for num={num} and letter=\"{letter}\"')\n",
    "\n",
    "# OR condition\n",
    "for num, letter in zip(numbers, alphabet):\n",
    "    if num == 3 or letter == \"a\":\n",
    "        print(f'At least one condition is met for num={num} or letter=\"{letter}\"')\n",
    "    else:\n",
    "        print(f'Neither condition is met for num={num} or letter=\"{letter}\"')"
   ]
  },
  {
   "cell_type": "code",
   "execution_count": 31,
   "id": "a6575dc8-1e23-4136-8a2d-00e08c904a1c",
   "metadata": {},
   "outputs": [],
   "source": [
    "\n",
    "def control_traffic_light(traffic_light_color):\n",
    "    if traffic_light_color == \"green\":\n",
    "        return \"Go\"\n",
    "    elif traffic_light_color == \"yellow\":\n",
    "        return \"Prepare to stop\"\n",
    "    else:\n",
    "        return \"Stop\"\n",
    "        \n",
    "# Example usages\n",
    "light1 = \"green\"\n",
    "light2 = \"yellow\"\n",
    "light3 = \"red\""
   ]
  },
  {
   "cell_type": "code",
   "execution_count": 32,
   "id": "45c61852-65db-4aea-8873-eed8a68a49de",
   "metadata": {},
   "outputs": [
    {
     "data": {
      "text/plain": [
       "'Go'"
      ]
     },
     "execution_count": 32,
     "metadata": {},
     "output_type": "execute_result"
    }
   ],
   "source": [
    "control_traffic_light('green')\n",
    "control_traffic_light(light1)"
   ]
  },
  {
   "cell_type": "markdown",
   "id": "21fb0f85-a29e-40a6-9d26-4e8af16bd36d",
   "metadata": {},
   "source": [
    " **Key Takeaways**\n",
    "\n",
    "- **if**: The primary conditional statement checks if a condition is True and, if it is, executes the associated code.\n",
    "- **elif**: Stands for \"else if\" and is used to check an additional condition if the previous condition(s) are not met.\n",
    "- **else**': Provides a default action to be taken when none of the previous conditions are true.\n",
    "- Conditions are essential for decision-making in your code. They allow you to create intelligent, responsive \n",
    "- Misusing = vs. ==: Assigning values uses =, while comparing values uses ==. Mistaking one for the other can lead to errors."
   ]
  },
  {
   "cell_type": "markdown",
   "id": "cd3a4afa-8225-406a-9ba3-780e0ff4db22",
   "metadata": {},
   "source": [
    "Wichtige Erkenntnisse\n",
    "\n",
    "- **if:** Die primäre Bedingungsanweisung prüft, ob eine Bedingung wahr ist, und führt, wenn dies der Fall ist, den zugehörigen Code aus.\n",
    "- **elif:** Steht für \"else if\" und wird verwendet, um eine zusätzliche Bedingung zu prüfen, wenn die vorherige(n) Bedingung(en) nicht erfüllt sind.\n",
    "- **else:** Bietet eine Standardaktion, die ausgeführt wird, wenn keine der vorherigen Bedingungen wahr ist.\n",
    "- Bedingungen sind wesentlich für die Entscheidungsfindung in Ihrem Code. Sie ermöglichen es Ihnen, intelligente, reaktionsfähige Programme zu erstellen.\n",
    "- Falsche Verwendung von = vs. ==: Werte zuweisen verwendet =, während Werte vergleichen == verwendet. Eine Verwechslung kann zu Fehlern führen."
   ]
  },
  {
   "cell_type": "markdown",
   "id": "2843c586-6bbd-47d1-904a-a5f1c0183c30",
   "metadata": {},
   "source": [
    "# Time for Practice (Zeit für Übung)"
   ]
  },
  {
   "cell_type": "markdown",
   "id": "b2a9e751-7834-4c31-b849-c2937a77780f",
   "metadata": {},
   "source": [
    " # Loops"
   ]
  },
  {
   "cell_type": "code",
   "execution_count": 1,
   "id": "4d1fa85c-358e-4c67-9083-da4bbc84b233",
   "metadata": {},
   "outputs": [
    {
     "name": "stdout",
     "output_type": "stream",
     "text": [
      "Character Name: Alice\n",
      "Character Name: Bob\n",
      "Character Name: Eve\n",
      "Character Name: Charlie\n"
     ]
    }
   ],
   "source": [
    "characters = ['Alice', 'Bob', 'Eve', 'Charlie']\n",
    "for character_name in characters:\n",
    "    print('Character Name:', character_name)"
   ]
  },
  {
   "cell_type": "code",
   "execution_count": 4,
   "id": "426d401a",
   "metadata": {},
   "outputs": [
    {
     "name": "stdout",
     "output_type": "stream",
     "text": [
      "Alice\n"
     ]
    }
   ],
   "source": [
    "# Creating a list named 'participants' with names of participants in a workshop\n",
    "# Erstellen einer Liste namens 'Teilnehmer' mit Namen der Teilnehmer eines Workshops\n",
    "\n",
    "participants = [\"Alice\", \"Bob\", \"Clara\", \"David\"]\n",
    "\n",
    "# Accessing and printing the first participant's name\n",
    "# Zugreifen und Ausdrucken des Namens des ersten Teilnehmers\n",
    "print(participants[0])  # Output: Alice\n"
   ]
  },
  {
   "cell_type": "code",
   "execution_count": 5,
   "id": "d8baa413-e3c9-4f9f-a171-c11dc7a11dcb",
   "metadata": {},
   "outputs": [
    {
     "name": "stdout",
     "output_type": "stream",
     "text": [
      "Bob\n"
     ]
    }
   ],
   "source": [
    "# Accessing and printing the second participant's name\n",
    "# Zugreifen und Ausdrucken des Namens des zweiten Teilnehmers\n",
    "\n",
    "print(participants[1])  # Output: Bob"
   ]
  },
  {
   "cell_type": "code",
   "execution_count": 37,
   "id": "4f91a2d5-ed24-4207-aabb-1fbb63740cf8",
   "metadata": {},
   "outputs": [
    {
     "name": "stdout",
     "output_type": "stream",
     "text": [
      "Ethan\n"
     ]
    }
   ],
   "source": [
    "# Adding a new participant to the list\n",
    "# Einen neuen Teilnehmer zur Liste hinzufügen\n",
    "\n",
    "participants.append(\"Ethan\")\n",
    "print(participants[4])  # Output: Ethan"
   ]
  },
  {
   "cell_type": "code",
   "execution_count": 38,
   "id": "2ca47b7b-e8af-4b3a-9270-e4357d40daea",
   "metadata": {},
   "outputs": [
    {
     "name": "stdout",
     "output_type": "stream",
     "text": [
      "['Alice', 'Bob', 'Clara', 'Ethan']\n"
     ]
    }
   ],
   "source": [
    "# Removing a participant from the list\n",
    "# Einen Teilnehmer aus der Liste entfernen\n",
    "\n",
    "participants.remove(\"David\")\n",
    "print(participants)  # Output: ['Alice', 'Bob', 'Clara', 'Ethan']"
   ]
  },
  {
   "cell_type": "code",
   "execution_count": 40,
   "id": "8fb275c6-ba33-4c96-8f9e-75479775bb5e",
   "metadata": {},
   "outputs": [
    {
     "name": "stdout",
     "output_type": "stream",
     "text": [
      "M\n",
      "y\n",
      " \n",
      "n\n",
      "a\n",
      "m\n",
      "e\n",
      " \n",
      "i\n",
      "s\n",
      " \n",
      "K\n",
      "h\n",
      "a\n",
      "n\n"
     ]
    }
   ],
   "source": [
    "#for loops with strings.\n",
    "#for-Schleifen mit Zeichenketten.\n",
    "\n",
    "review = 'My name is Khan'\n",
    "\n",
    "for symbol in review:\n",
    "    print(symbol) "
   ]
  },
  {
   "cell_type": "code",
   "execution_count": 41,
   "id": "792289c3-197b-4002-ae54-fa7ab552907d",
   "metadata": {},
   "outputs": [
    {
     "name": "stdout",
     "output_type": "stream",
     "text": [
      "My\n",
      "name\n",
      "is\n",
      "Khan\n"
     ]
    }
   ],
   "source": [
    "review = 'My name is Khan'\n",
    "# Split the string into words based on spaces\n",
    "# Teile den String anhand von Leerzeichen in Wörter auf\n",
    "words = review.split()\n",
    "for word in words:\n",
    "    print(word)"
   ]
  },
  {
   "cell_type": "code",
   "execution_count": 42,
   "id": "4fc8d6de-2126-414c-ad9a-b4c38459cbda",
   "metadata": {},
   "outputs": [
    {
     "name": "stdout",
     "output_type": "stream",
     "text": [
      "The number  0\n",
      "The number  1\n",
      "The number  2\n",
      "The number  3\n",
      "The number  4\n",
      "The number  5\n",
      "The number  6\n",
      "The number  7\n",
      "The number  8\n",
      "The number  9\n"
     ]
    }
   ],
   "source": [
    "#range()\n",
    "for i in range(10):\n",
    "    print('The number ', i) \n",
    "\n",
    "# produces a series of numbers from 0 up to but not including the value we pass it:\n",
    "# erzeugt eine Reihe von Zahlen von 0 bis zu, aber ausschließlich, dem Wert, den wir ihr übergeben"
   ]
  },
  {
   "cell_type": "code",
   "execution_count": 43,
   "id": "77244b53-7569-41b1-92cd-7562a3b04b44",
   "metadata": {},
   "outputs": [
    {
     "name": "stdout",
     "output_type": "stream",
     "text": [
      "The number  0\n",
      "The number  2\n",
      "The number  4\n",
      "The number  6\n",
      "The number  8\n"
     ]
    }
   ],
   "source": [
    "for i in range(0, 10 , 2):\n",
    "    print('The number ', i) \n",
    "# range(start, stop, step) generates a sequence of numbers.\n",
    "# range(Start, Stopp, Schritt) erzeugt eine Sequenz von Zahlen"
   ]
  },
  {
   "cell_type": "code",
   "execution_count": 44,
   "id": "2112b48a-e999-4989-8bd1-ad70a327d830",
   "metadata": {},
   "outputs": [
    {
     "name": "stdout",
     "output_type": "stream",
     "text": [
      "Famous film name:  Forrest Gump\n",
      "Famous film name:  Pulp Fiction\n",
      "Famous film name:  The Matrix\n",
      "Famous film name:  Jurassic Park\n"
     ]
    }
   ],
   "source": [
    "#len() function with range()\n",
    "#len()-Funktion mit range()\n",
    "film_names = ['Forrest Gump', 'Pulp Fiction', 'The Matrix', 'Jurassic Park']\n",
    "for i in range(len(film_names)):\n",
    "    print('Famous film name: ', film_names[i])\n"
   ]
  },
  {
   "cell_type": "code",
   "execution_count": 7,
   "id": "9288cc43-c7fa-4f41-a4ee-d85699e3c30b",
   "metadata": {},
   "outputs": [
    {
     "name": "stdout",
     "output_type": "stream",
     "text": [
      "Total price: 1025\n"
     ]
    }
   ],
   "source": [
    "# Calculate the total price of a list of items.\n",
    "# Berechne den Gesamtpreis einer Liste von Artikeln\n",
    "\n",
    "price = [80, 100, 90, 120, 130, 95, 110, 75, 70, 90, 65]\n",
    "total_price = 0\n",
    "for item_price in price:\n",
    "    total_price += item_price\n",
    "\n",
    "print(\"Total price:\", total_price)"
   ]
  },
  {
   "cell_type": "code",
   "execution_count": 9,
   "id": "d70f63ab-1fd9-42d4-9535-f61ffddcf70a",
   "metadata": {},
   "outputs": [
    {
     "name": "stdout",
     "output_type": "stream",
     "text": [
      "Total height: 1685\n"
     ]
    }
   ],
   "source": [
    "# sum() funtionn\n",
    "# sum () function takes a list as the argument and returns the sum of its elements\n",
    "\n",
    "# sum()-Funktion\n",
    "# sum()-Funktion nimmt eine Liste als Argument und gibt die Summe ihrer Elemente zurück\n",
    "height = [170, 165, 178, 162, 175, 169, 183, 155, 160, 168]\n",
    "total_height = sum(height)\n",
    "print(\"Total height:\", total_height)"
   ]
  },
  {
   "cell_type": "code",
   "execution_count": 10,
   "id": "d418cf5b-3615-4d1f-9a0b-b6b1ebdea489",
   "metadata": {},
   "outputs": [
    {
     "name": "stdout",
     "output_type": "stream",
     "text": [
      "Highest height: 183\n"
     ]
    }
   ],
   "source": [
    "#max() \n",
    "height = [170, 165, 178, 162, 175, 169, 183, 155, 160, 168]\n",
    "\n",
    "# Find the maximum height.\n",
    "# Finde die maximale Höhe.\n",
    "highest_height = max(height)\n",
    "print(\"Highest height:\", highest_height)"
   ]
  },
  {
   "cell_type": "code",
   "execution_count": 11,
   "id": "feab3a7e-9668-4331-8c24-a8eef3ffac90",
   "metadata": {},
   "outputs": [
    {
     "name": "stdout",
     "output_type": "stream",
     "text": [
      "Lowest height: 155\n"
     ]
    }
   ],
   "source": [
    "# Min()\n",
    "height = [170, 165, 178, 162, 175, 169, 183, 155, 160, 168]\n",
    "# Find the lowest height.\n",
    "# Finde die niedrigste Höhe\n",
    "lowest_height = min(height)\n",
    "print(\"Lowest height:\", lowest_height)"
   ]
  },
  {
   "cell_type": "markdown",
   "id": "5c77ec88-e99f-4af4-9234-756b40613e00",
   "metadata": {},
   "source": [
    "# Time for Practice (Zeit für Übung)"
   ]
  },
  {
   "cell_type": "markdown",
   "id": "5208562d-45ed-4dd7-9d51-63e566f502d7",
   "metadata": {},
   "source": [
    "## Advanced Loop funtions \n"
   ]
  },
  {
   "cell_type": "code",
   "execution_count": 70,
   "id": "6040595b-9e7a-4102-9079-7671d463551f",
   "metadata": {},
   "outputs": [
    {
     "name": "stdout",
     "output_type": "stream",
     "text": [
      "[('John', 'mathematics', 23), ('Mark', 'statistics', 30), ('Venessa', 'physics', 26), ('Mariam', 'astronomy', 22)]\n"
     ]
    }
   ],
   "source": [
    "# Zip\n",
    "\n",
    "# List of student names\n",
    "# Liste der Schülernamen\n",
    "students = [\"John\", \"Mark\", \"Venessa\", \"Mariam\"]\n",
    "\n",
    "# List of academic departments corresponding to each student\n",
    "# Liste der akademischen Abteilungen, die jedem Studenten entsprechen\n",
    "departments = [\"mathematics\", \"statistics\", \"physics\", \"astronomy\"]\n",
    "\n",
    "# List of ages corresponding to each student\n",
    "# Liste der Altersangaben, die jedem Studenten entsprechen\n",
    "ages = [23, 30, 26, 22]\n",
    "combined_list = list(zip(students, departments, ages))\n",
    "print(combined_list)"
   ]
  },
  {
   "cell_type": "code",
   "execution_count": 14,
   "id": "76eed21d-357f-4a49-a695-41d8f510eec4",
   "metadata": {},
   "outputs": [],
   "source": [
    "import timeit\n",
    "# Define the 'summer' function that adds two numbers\n",
    "# Definiere die Funktion 'summer', die zwei Zahlen addiert\n",
    "def summer(a, b):\n",
    "    return a + b"
   ]
  },
  {
   "cell_type": "code",
   "execution_count": 15,
   "id": "6242f56c-2c2a-4cb8-91fa-7bc97fd3fc62",
   "metadata": {},
   "outputs": [
    {
     "data": {
      "text/plain": [
       "70000"
      ]
     },
     "execution_count": 15,
     "metadata": {},
     "output_type": "execute_result"
    }
   ],
   "source": [
    "summer(4, 3) * 10000"
   ]
  },
  {
   "cell_type": "code",
   "execution_count": 16,
   "id": "d48773a1-981e-4b57-89be-09e2594cfab8",
   "metadata": {},
   "outputs": [],
   "source": [
    "# Define a lambda function 'new_sum' that also adds two numbers\n",
    "# Definiere eine Lambda-Funktion 'new_sum', die ebenfalls zwei Zahlen addiert\".\n",
    "new_sum = lambda a, b: a + b"
   ]
  },
  {
   "cell_type": "code",
   "execution_count": 17,
   "id": "847cc4cd-6816-4cce-9e12-e4a20e7ce3e0",
   "metadata": {},
   "outputs": [
    {
     "data": {
      "text/plain": [
       "70000"
      ]
     },
     "execution_count": 17,
     "metadata": {},
     "output_type": "execute_result"
    }
   ],
   "source": [
    "new_sum(4, 3)*10000"
   ]
  },
  {
   "cell_type": "code",
   "execution_count": 18,
   "id": "82233d81-114d-4854-8f1c-368bc549d50a",
   "metadata": {},
   "outputs": [
    {
     "name": "stdout",
     "output_type": "stream",
     "text": [
      "Execution time for 'summer': 0.14681010018102825 seconds\n",
      "Execution time for 'new_sum': 0.12122700014151633 seconds\n"
     ]
    }
   ],
   "source": [
    "# Measure the time it takes to execute the 'summer' function 1,000,000 times\n",
    "# Messen Sie die Zeit, die benötigt wird, um die 'summer'-Funktion 1.000.000 Mal auszuführen\n",
    "time_summer = timeit.timeit('summer(4, 3) * 10000', globals=globals(), number=1000000)\n",
    "\n",
    "# Measure the time it takes to execute the 'new_sum' lambda function 1,000,000 times\n",
    "# Messen Sie die Zeit, die benötigt wird, um die 'new_sum'-Lambda-Funktion 1.000.000 Mal auszuführen\n",
    "time_new_sum = timeit.timeit('new_sum(4, 3) * 10000', globals=globals(), number=1000000)\n"
   ]
  },
  {
   "cell_type": "code",
   "execution_count": null,
   "id": "32a4f712-30fa-4e94-878f-26cf847eac4b",
   "metadata": {},
   "outputs": [],
   "source": [
    "\n",
    "print(f\"Execution time for 'summer': {time_summer} seconds\")\n",
    "print(f\"Execution time for 'new_sum': {time_new_sum} seconds\")"
   ]
  },
  {
   "cell_type": "code",
   "execution_count": 5,
   "id": "9f7605e0-f005-43da-915b-2562aab0d93f",
   "metadata": {},
   "outputs": [
    {
     "name": "stdout",
     "output_type": "stream",
     "text": [
      "1200.0\n",
      "2400.0\n",
      "3600.0\n",
      "4800.0\n",
      "6000.0\n"
     ]
    }
   ],
   "source": [
    "# List of original salaries\n",
    "salaries = [1000, 2000, 3000, 4000, 5000]\n",
    "\n",
    "def new_salary(x):\n",
    "    return x * 20 / 100 + x\n",
    "for salary in salaries:\n",
    "    print(new_salary(salary))\n"
   ]
  },
  {
   "cell_type": "code",
   "execution_count": 77,
   "id": "9d82e87f-f6f8-4761-9979-d8173ddc7946",
   "metadata": {},
   "outputs": [
    {
     "name": "stdout",
     "output_type": "stream",
     "text": [
      "[1200.0, 2400.0, 3600.0, 4800.0, 6000.0]\n"
     ]
    }
   ],
   "source": [
    "# map\n",
    "new_salaries_map = list(map(new_salary, salaries))\n",
    "# Printing the new salaries calculated using map\n",
    "print(new_salaries_map)"
   ]
  },
  {
   "cell_type": "code",
   "execution_count": 6,
   "id": "ae16b448-8023-4ab2-bbaf-21f5312c8894",
   "metadata": {},
   "outputs": [
    {
     "name": "stdout",
     "output_type": "stream",
     "text": [
      "New salaries with 20% increase: [1200.0, 2400.0, 3600.0, 4800.0, 6000.0]\n"
     ]
    }
   ],
   "source": [
    "salaries = [1000, 2000, 3000, 4000, 5000]\n",
    "new_salaries = list(map(lambda x: x * 20 / 100 + x, salaries))\n",
    "print(\"New salaries with 20% increase:\", new_salaries)"
   ]
  },
  {
   "cell_type": "code",
   "execution_count": 79,
   "id": "e5f5e690-d3cb-41c8-a2c9-9efb1ded1cee",
   "metadata": {},
   "outputs": [
    {
     "name": "stdout",
     "output_type": "stream",
     "text": [
      "Even numbers from the list: [2, 4, 6, 8, 10]\n"
     ]
    }
   ],
   "source": [
    "# A list of numbers from 1 to 10\n",
    "# Eine Liste von Zahlen von 1 bis 10\n",
    "\n",
    "list_store = [1, 2, 3, 4, 5, 6, 7, 8, 9, 10]\n",
    "even_numbers = list(filter(lambda x: x % 2 == 0, list_store))\n",
    "\n",
    "# Printing the list of even numbers\n",
    "# Ausgabe der Liste der geraden Zahlen\n",
    "print(\"Even numbers from the list:\", even_numbers)"
   ]
  },
  {
   "cell_type": "code",
   "execution_count": 81,
   "id": "badb03a6-9b87-4117-99de-8665e83bea20",
   "metadata": {},
   "outputs": [
    {
     "name": "stdout",
     "output_type": "stream",
     "text": [
      "Squares of numbers: [1, 4, 9, 16, 25]\n"
     ]
    }
   ],
   "source": [
    "# Original list of numbers\n",
    "numbers = [1, 2, 3, 4, 5]\n",
    "\n",
    "# Creating a new list where each number is squared (number * number)\n",
    "# Erstellen einer neuen Liste, in der jede Zahl quadriert wird (Zahl * Zahl)\"\n",
    "squares = [x**2 for x in numbers]\n",
    "print(\"Squares of numbers:\", squares)"
   ]
  },
  {
   "cell_type": "code",
   "execution_count": 83,
   "id": "07c3ea2f-da8c-421f-bc1d-a50a2e7def43",
   "metadata": {},
   "outputs": [
    {
     "name": "stdout",
     "output_type": "stream",
     "text": [
      "Combined name-age pairs: [('Alice', 24), ('Bob', 30), ('Charlie', 35)]\n"
     ]
    }
   ],
   "source": [
    "# Two lists - names and corresponding ages\n",
    "# Zwei Listen - Namen und entsprechende Alter\n",
    "names = [\"Alice\", \"Bob\", \"Charlie\"]\n",
    "ages = [24, 30, 35]\n",
    "combined = list(zip(names, ages))\n",
    "print(\"Combined name-age pairs:\", combined)"
   ]
  }
 ],
 "metadata": {
  "kernelspec": {
   "display_name": "Python 3 (ipykernel)",
   "language": "python",
   "name": "python3"
  },
  "language_info": {
   "codemirror_mode": {
    "name": "ipython",
    "version": 3
   },
   "file_extension": ".py",
   "mimetype": "text/x-python",
   "name": "python",
   "nbconvert_exporter": "python",
   "pygments_lexer": "ipython3",
   "version": "3.11.5"
  }
 },
 "nbformat": 4,
 "nbformat_minor": 5
}
