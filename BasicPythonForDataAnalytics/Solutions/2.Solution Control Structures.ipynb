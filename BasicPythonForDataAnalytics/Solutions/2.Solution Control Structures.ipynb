{
 "cells": [
  {
   "cell_type": "markdown",
   "id": "75544a2a-2a80-4eca-8ea2-80152c984ba2",
   "metadata": {},
   "source": [
    "# Functions"
   ]
  },
  {
   "cell_type": "code",
   "execution_count": 1,
   "id": "b7a65d45-a523-42d8-85ee-3cc46953bef2",
   "metadata": {},
   "outputs": [
    {
     "data": {
      "text/plain": [
       "12"
      ]
     },
     "execution_count": 1,
     "metadata": {},
     "output_type": "execute_result"
    }
   ],
   "source": [
    "### 1. Schreibe eine Funktion, die zwei Zahlen multipliziert\n",
    "def multiply_two_numbers(num1, num2):\n",
    "    return num1 * num2\n",
    "    \n",
    "multiply_two_numbers(3, 4)\n"
   ]
  },
  {
   "cell_type": "markdown",
   "id": "875fd87c-d248-4c1c-b1ab-1f749950900a",
   "metadata": {},
   "source": [
    "# Conditions"
   ]
  },
  {
   "cell_type": "code",
   "execution_count": 2,
   "id": "2d0803e6-c1a6-4628-9233-a4096a5ce342",
   "metadata": {},
   "outputs": [],
   "source": [
    "### 1 .Schreibe eine Funktion, die prüft, ob eine Zahl gerade oder ungerade ist."
   ]
  },
  {
   "cell_type": "code",
   "execution_count": 3,
   "id": "89fdf1f7-6293-4eb0-bdff-7fcc3c4f8a57",
   "metadata": {},
   "outputs": [],
   "source": [
    "def check_odd_even(number):\n",
    "    if number % 2 == 0:\n",
    "        return \"Even\"\n",
    "    else:\n",
    "        return \"Odd\""
   ]
  },
  {
   "cell_type": "markdown",
   "id": "40ea18c8-5260-4f8b-9d9b-6a35fc6077f0",
   "metadata": {},
   "source": [
    " # Loops"
   ]
  },
  {
   "cell_type": "code",
   "execution_count": 5,
   "id": "eb6b3948-f366-4405-a61b-276d35884461",
   "metadata": {},
   "outputs": [],
   "source": [
    "#Schreibe eine LOOP code, die alle Elemente der Preisliste durchläuft und überprüft, ob sie mehr als 100 betragen. \n",
    "#Wenn ja, füge diese Zahl cheap_list hinzu, wenn weniger als 100, expensive_list."
   ]
  },
  {
   "cell_type": "code",
   "execution_count": 6,
   "id": "8dc02f00-ae47-44a9-826a-ee52b7ec3372",
   "metadata": {},
   "outputs": [],
   "source": [
    "prices = [15, 29, 74, 32, 100, 150, 200]"
   ]
  },
  {
   "cell_type": "code",
   "execution_count": 7,
   "id": "102c80bb-9c95-4007-9433-d314566439ea",
   "metadata": {},
   "outputs": [
    {
     "name": "stdout",
     "output_type": "stream",
     "text": [
      "This is the number 15 and added to cheap_list\n",
      "This is the number 29 and added to cheap_list\n",
      "This is the number 74 and added to cheap_list\n",
      "This is the number 32 and added to cheap_list\n",
      "This is the number 100 and added to expensive_list\n",
      "This is the number 150 and added to expensive_list\n",
      "This is the number 200 and added to expensive_list\n"
     ]
    }
   ],
   "source": [
    "cheap_list=[]\n",
    "expensive_list=[]\n",
    "for i in prices:\n",
    "    if i < 100:\n",
    "        cheap_list.append(i)\n",
    "        print(f\"This is the number {i} and added to cheap_list\")\n",
    "    else:\n",
    "        expensive_list.append(i)\n",
    "        print(f\"This is the number {i} and added to expensive_list\")"
   ]
  },
  {
   "cell_type": "code",
   "execution_count": null,
   "id": "31eb242e-cb60-4ea4-92f1-eed2c3a33ae9",
   "metadata": {},
   "outputs": [],
   "source": []
  }
 ],
 "metadata": {
  "kernelspec": {
   "display_name": "Python 3 (ipykernel)",
   "language": "python",
   "name": "python3"
  },
  "language_info": {
   "codemirror_mode": {
    "name": "ipython",
    "version": 3
   },
   "file_extension": ".py",
   "mimetype": "text/x-python",
   "name": "python",
   "nbconvert_exporter": "python",
   "pygments_lexer": "ipython3",
   "version": "3.11.5"
  }
 },
 "nbformat": 4,
 "nbformat_minor": 5
}
