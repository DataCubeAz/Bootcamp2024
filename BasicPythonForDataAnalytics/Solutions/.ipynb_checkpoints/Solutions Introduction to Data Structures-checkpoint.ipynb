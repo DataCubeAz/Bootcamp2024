{
 "cells": [
  {
   "cell_type": "markdown",
   "id": "7cce6d95-5999-4741-aafb-dd0f40f130d8",
   "metadata": {},
   "source": [
    "# Numbers: int, float, complex"
   ]
  },
  {
   "cell_type": "code",
   "execution_count": 1,
   "id": "fc686078-c56d-4770-9a49-7252bd5fd50f",
   "metadata": {},
   "outputs": [],
   "source": [
    "x = 10\n",
    "y = -5\n"
   ]
  },
  {
   "cell_type": "code",
   "execution_count": 2,
   "id": "d6bca0fb-7fb6-4b36-af30-80928abc8dcf",
   "metadata": {},
   "outputs": [
    {
     "data": {
      "text/plain": [
       "5"
      ]
     },
     "execution_count": 2,
     "metadata": {},
     "output_type": "execute_result"
    }
   ],
   "source": [
    "### a. Finden Sie die Summe von a und b\n",
    "z=x+y\n",
    "#print(z)\n",
    "z"
   ]
  },
  {
   "cell_type": "code",
   "execution_count": 3,
   "id": "f77f0d9d-bede-4099-9ee6-c185b002323d",
   "metadata": {},
   "outputs": [
    {
     "data": {
      "text/plain": [
       "int"
      ]
     },
     "execution_count": 3,
     "metadata": {},
     "output_type": "execute_result"
    }
   ],
   "source": [
    "### b. Was ist der Typ des Ergebnisses?\n",
    "type(z)"
   ]
  },
  {
   "cell_type": "code",
   "execution_count": 4,
   "id": "32fb339b-a6b7-428a-9eab-96b777f7581d",
   "metadata": {},
   "outputs": [
    {
     "name": "stdout",
     "output_type": "stream",
     "text": [
      "5.0\n"
     ]
    }
   ],
   "source": [
    "### c. Convert it to float and print the result ?\n",
    "z=float(z)\n",
    "print(z)"
   ]
  },
  {
   "cell_type": "code",
   "execution_count": 5,
   "id": "ae92be12-3c27-4b1d-8132-846da8822c50",
   "metadata": {},
   "outputs": [
    {
     "name": "stdout",
     "output_type": "stream",
     "text": [
      "<class 'float'>\n"
     ]
    }
   ],
   "source": [
    "### d. Print the result and data type ?\n",
    "\n",
    "print(type(z))"
   ]
  },
  {
   "cell_type": "code",
   "execution_count": 6,
   "id": "6325256a-8c4d-4faf-b98c-c30a75664b13",
   "metadata": {},
   "outputs": [],
   "source": [
    "a = 3.5\n",
    "b = 2.0"
   ]
  },
  {
   "cell_type": "code",
   "execution_count": 7,
   "id": "d6dd8ebe-d0ac-48be-aa3b-1392e93fca3b",
   "metadata": {},
   "outputs": [
    {
     "name": "stdout",
     "output_type": "stream",
     "text": [
      "-50\n"
     ]
    }
   ],
   "source": [
    "### 1. Multiplizieren Sie a und b. \n",
    "z=x*y\n",
    "print(z)"
   ]
  },
  {
   "cell_type": "code",
   "execution_count": 8,
   "id": "72e5a4d5-a0ce-4106-9174-558af5024181",
   "metadata": {},
   "outputs": [
    {
     "data": {
      "text/plain": [
       "int"
      ]
     },
     "execution_count": 8,
     "metadata": {},
     "output_type": "execute_result"
    }
   ],
   "source": [
    "### b. Welchen Datentyp hat das Ergebnis?\n",
    "type(z)"
   ]
  },
  {
   "cell_type": "code",
   "execution_count": 9,
   "id": "ef40064e-8fd8-46d0-8620-f30954fb93f1",
   "metadata": {},
   "outputs": [
    {
     "name": "stdout",
     "output_type": "stream",
     "text": [
      "-50\n"
     ]
    }
   ],
   "source": [
    "### 3. Konvertiere es in float und drucke das Ergebnis\n",
    "z=int(z)\n",
    "print(z)"
   ]
  },
  {
   "cell_type": "code",
   "execution_count": 10,
   "id": "7ba20042-b6eb-4478-8a74-c27cc4cdc170",
   "metadata": {},
   "outputs": [
    {
     "name": "stdout",
     "output_type": "stream",
     "text": [
      "<class 'int'>\n"
     ]
    }
   ],
   "source": [
    "### d. Print  data type  ?\n",
    "print(type(z))"
   ]
  },
  {
   "cell_type": "code",
   "execution_count": 11,
   "id": "e294b75f-372d-43eb-b655-73dfc22efab9",
   "metadata": {},
   "outputs": [],
   "source": [
    "a = 1 + 2j\n",
    "b = 3 + 4j"
   ]
  },
  {
   "cell_type": "code",
   "execution_count": 12,
   "id": "2bf98fd7-0a1b-441a-8ae5-fba2937cec0b",
   "metadata": {},
   "outputs": [
    {
     "name": "stdout",
     "output_type": "stream",
     "text": [
      "(-2-2j)\n"
     ]
    }
   ],
   "source": [
    "### a. Subtrahieren Sie b von a\n",
    "z=a-b\n",
    "print(z)"
   ]
  },
  {
   "cell_type": "code",
   "execution_count": 13,
   "id": "6e010383-f114-4ca3-9da7-6ed2ec9e20ad",
   "metadata": {},
   "outputs": [
    {
     "name": "stdout",
     "output_type": "stream",
     "text": [
      "<class 'complex'>\n",
      "(-2-2j)\n"
     ]
    }
   ],
   "source": [
    "### b. Was ist der Typ des resultierenden Werts\n",
    "print(type(z))\n",
    "print(z)"
   ]
  },
  {
   "cell_type": "code",
   "execution_count": 14,
   "id": "40eb4869-6c09-47a3-9524-7bc9635ad1f8",
   "metadata": {},
   "outputs": [],
   "source": [
    "### c. Convert it to int and print the result?\n",
    "#z=int(z)\n",
    "#print(z)"
   ]
  },
  {
   "cell_type": "markdown",
   "id": "63c7cb98-3be4-4661-beb4-d01aaa5e7921",
   "metadata": {},
   "source": [
    "# 1. String "
   ]
  },
  {
   "cell_type": "code",
   "execution_count": 15,
   "id": "a9884f85-1675-471f-b996-2cd322ef9cca",
   "metadata": {},
   "outputs": [],
   "source": [
    "text = \"I love Machine Learning\""
   ]
  },
  {
   "cell_type": "code",
   "execution_count": 16,
   "id": "8e416606-afe4-4a1c-bf4e-722568d455e7",
   "metadata": {},
   "outputs": [
    {
     "name": "stdout",
     "output_type": "stream",
     "text": [
      "The length of the string is: 23\n"
     ]
    }
   ],
   "source": [
    "# 1. Schreibe ein Python-Programm, um die Länge des Strings zu ermitteln.\n",
    "text = \"I love Machine Learning\"\n",
    "length_of_text = len(text)\n",
    "print(\"The length of the string is:\", length_of_text)"
   ]
  },
  {
   "cell_type": "code",
   "execution_count": 17,
   "id": "9f47f0ad-3e93-4b32-9ec4-1f01390023d4",
   "metadata": {},
   "outputs": [
    {
     "name": "stdout",
     "output_type": "stream",
     "text": [
      "love\n"
     ]
    }
   ],
   "source": [
    "# 2. Schreibe einen Code, der nur das Wort \"love\" aus dem Text text = \"I love Machine Learning\" extrahiert.\n",
    "text = \"I love Machine Learning\"\n",
    "word_love = text[2:6]\n",
    "print(word_love)"
   ]
  },
  {
   "cell_type": "code",
   "execution_count": 18,
   "id": "65ba3853-229d-4d05-b68c-33d7683bd0da",
   "metadata": {},
   "outputs": [
    {
     "name": "stdout",
     "output_type": "stream",
     "text": [
      "I like Machine Learning\n"
     ]
    }
   ],
   "source": [
    "# 3. Ändere das Wort \"love\" in \"like\" im Text text = \"I love Machine Learning\".\n",
    "text = \"I love Machine Learning\"\n",
    "text_mit_like = text.replace(\"love\", \"like\")\n",
    "print(text_mit_like)"
   ]
  },
  {
   "cell_type": "code",
   "execution_count": 19,
   "id": "a3d21d54-e9dd-4981-a9c5-97b011eb4061",
   "metadata": {},
   "outputs": [
    {
     "name": "stdout",
     "output_type": "stream",
     "text": [
      "Ihr Name istElisa und sie ist 30 Jahre alt\n"
     ]
    }
   ],
   "source": [
    "# 4. Schreibe ein Python-Programm, das einen Satz mit der F-String-Methode erstellt und ausgibt. Der Satz soll lauten: \"Ihr Name ist Elisa und sie ist 30 Jahre alt.\"\n",
    "name = \"Elisa\"\n",
    "age = \"30\"\n",
    "satz = f\"Ihr Name ist{name} und sie ist {age} Jahre alt\"\n",
    "print(satz)"
   ]
  },
  {
   "cell_type": "code",
   "execution_count": 20,
   "id": "e9b6441b-59b4-4e28-a081-f56706619d8d",
   "metadata": {},
   "outputs": [
    {
     "name": "stdout",
     "output_type": "stream",
     "text": [
      "Ihr Name ist Elisa und sie ist 30 Jahre alt\n"
     ]
    }
   ],
   "source": [
    "# 5. Schreibe ein Python-Programm, das einen Satz mithilfe der format() Methode erstellt und ausgibt. Der Satz soll lauten: \"Ihr Name ist Elisa und sie ist 30 Jahre alt.\"\n",
    "\n",
    "name = \"Elisa\"\n",
    "age = \"30\"\n",
    "sentence = \"Ihr Name ist {} und sie ist {} Jahre alt\".format(name, age)\n",
    "print(sentence)\n"
   ]
  },
  {
   "cell_type": "code",
   "execution_count": 21,
   "id": "b55bdad1-38c2-474f-9aa0-97b2cfa7dcac",
   "metadata": {},
   "outputs": [
    {
     "name": "stdout",
     "output_type": "stream",
     "text": [
      "Ihr Name ist Elisa und sie ist 30 Jahre alt\n"
     ]
    }
   ],
   "source": [
    "# 6. Mit den Variablen name und age , schreibe ein Python-Code, um einen Satz zu erstellen und diesen in einer Variablen namens sentence zu speichern\n",
    "sentence = \"Ihr Name ist {} und sie ist {} Jahre alt\".format(name, age)\n",
    "print(sentence)"
   ]
  },
  {
   "cell_type": "code",
   "execution_count": 22,
   "id": "be02f906-ff9b-4d62-9528-99db50c6939e",
   "metadata": {},
   "outputs": [
    {
     "name": "stdout",
     "output_type": "stream",
     "text": [
      "The index of 'Elisa' in the sentence is: 13\n"
     ]
    }
   ],
   "source": [
    "# 7. Schreibe ein Python-Programm, um den Index des Teilstrings \"Elisa\" innerhalb des Satzes zu finden.\n",
    "index_of_elisa = sentence.find(\"Elisa\")\n",
    "print(\"The index of 'Elisa' in the sentence is:\", index_of_elisa)"
   ]
  },
  {
   "cell_type": "code",
   "execution_count": 40,
   "id": "455f2cdd-a8c9-47c8-99db-9fcf3f263cf4",
   "metadata": {},
   "outputs": [],
   "source": [
    "number = 0.1234"
   ]
  },
  {
   "cell_type": "code",
   "execution_count": null,
   "id": "91d85c2b-2065-478f-ba1a-d7c0c2652011",
   "metadata": {},
   "outputs": [],
   "source": [
    "# 8 Schreibe ein Python-Programm, um diese Zahl mit unterschiedlichen Dezimalstellen unter Verwendung der F-String-Methode zu formatieren und auszudrucken.\n",
    "#Drucke die #Zahl speziell mit:"
   ]
  },
  {
   "cell_type": "code",
   "execution_count": null,
   "id": "0d7213df-35ff-492a-bc36-8e3b6080dda0",
   "metadata": {},
   "outputs": [],
   "source": [
    "# 8.1 Einer Dezimalstelle.\n",
    "print(f'This is number {number:.1f}.')"
   ]
  },
  {
   "cell_type": "code",
   "execution_count": null,
   "id": "793989f7-ba5d-42c6-a5f1-d64ba60b40c9",
   "metadata": {},
   "outputs": [],
   "source": [
    "# 8.2 Zwei Dezimalstellen\n",
    "print(f'This is number {number:.2f}.') "
   ]
  },
  {
   "cell_type": "code",
   "execution_count": null,
   "id": "869d5f41-5e62-4367-bfca-80cec5940da4",
   "metadata": {},
   "outputs": [],
   "source": [
    "# 9. Erstelle eine Variable, die den Text Alice's adventure enthält, wobei Einzelzitate und ein Escape-Zeichen für den Apostroph verwendet werden. Drucke diesen Satz.\n",
    "single_quote_string = 'Alice\\'s adventure'  \n",
    "print(single_quote_string)"
   ]
  },
  {
   "cell_type": "code",
   "execution_count": null,
   "id": "0cc8a341-94e4-4f42-b9cd-6570cbbf8498",
   "metadata": {},
   "outputs": [],
   "source": [
    "#9.2 Erstelle  eine Variable, die den Text Alice's adventure enthält, wobei Doppelzitate verwendet werden. Drucke diesen Satz.\n",
    "double_quote_string = \"Alice's adventure\"  \n",
    "print(double_quote_string)\n"
   ]
  },
  {
   "cell_type": "code",
   "execution_count": null,
   "id": "bab94865-8981-494a-98eb-0c3ed0b513ca",
   "metadata": {},
   "outputs": [],
   "source": [
    "# 10 Erstelle in Python zwei boolesche Variablen: is_student und is_teacher. Setze is_student auf True und is_teacher auf False.\n",
    "is_student = True\n",
    "is_teacher = False\n",
    "print(is_student, is_teacher)"
   ]
  },
  {
   "cell_type": "markdown",
   "id": "4a5aadba-1e27-47bc-8cc5-445908f224de",
   "metadata": {},
   "source": [
    "#  Lists "
   ]
  },
  {
   "cell_type": "code",
   "execution_count": null,
   "id": "3ca8b838-1c48-4dcb-bb35-3a8004bb8834",
   "metadata": {},
   "outputs": [],
   "source": [
    "fruit_selection = [\"apple\", \"banana\", \"cherry\", \"date\", \"elderberry\"]"
   ]
  },
  {
   "cell_type": "code",
   "execution_count": null,
   "id": "2f4ed31b-4719-40ee-97b2-c1f9ffa1cebb",
   "metadata": {},
   "outputs": [],
   "source": [
    "# 1.Schreibe ein Python-code, um die Früchte in alphabetischer Reihenfolge zu sortieren. Gib die sortierte Liste aus.\n",
    "fruit_selection.sort()\n",
    "print(fruit_selection)"
   ]
  },
  {
   "cell_type": "code",
   "execution_count": null,
   "id": "ee588514-a776-493a-9555-02475c727dde",
   "metadata": {},
   "outputs": [],
   "source": [
    "# 2. Schreibe einen Python-Code, der die Frucht \"orange\" am Ende der bestehenden Liste fruit_selection anhängt. Gib anschließend die aktualisierte Liste aus.\n",
    "fruit_selection.append(\"orange\")\n",
    "print(fruit_selection)"
   ]
  },
  {
   "cell_type": "code",
   "execution_count": null,
   "id": "74c7a54e-d56c-4e54-aec6-ec500eeb5e52",
   "metadata": {},
   "outputs": [],
   "source": [
    "#3.  Löschen Sie das letzte Element von fruit_selection und geben Sie es aus.\n",
    "last_item = fruit_selection.pop()\n",
    "print(last_item)"
   ]
  },
  {
   "cell_type": "code",
   "execution_count": null,
   "id": "e425c274-9e8e-42b2-ad30-2462ef572fac",
   "metadata": {},
   "outputs": [],
   "source": [
    "numbers = [5, 4, 3, 1]"
   ]
  },
  {
   "cell_type": "code",
   "execution_count": null,
   "id": "61953ad1-c0dc-454f-ac02-926aa433ddee",
   "metadata": {},
   "outputs": [],
   "source": [
    "# 4. Sortieren Sie die Liste der Zahlen von der  kleinsten zur größten und fügen Sie die fehlenden Zahlen hinzu.\n",
    "numbers.sort(reverse=False)\n",
    "numbers.insert(1, 2)\n",
    "print(numbers)"
   ]
  },
  {
   "cell_type": "code",
   "execution_count": null,
   "id": "5931f807-5a5b-4943-86d9-58317bb1eaf8",
   "metadata": {},
   "outputs": [],
   "source": [
    "text = \"I-love-machine-learning\""
   ]
  },
  {
   "cell_type": "code",
   "execution_count": null,
   "id": "0e6c2728-fa02-496a-9bd5-157ab06f9f35",
   "metadata": {},
   "outputs": [],
   "source": [
    "# 5.  Konvertieren Sie diesen Text in eine Liste.\n",
    "text_list = text.split(\"-\")\n",
    "text_list "
   ]
  },
  {
   "cell_type": "code",
   "execution_count": null,
   "id": "acabe9be-cd9b-4aaf-aac6-0b8f0c9a3ca7",
   "metadata": {},
   "outputs": [],
   "source": [
    "# 6 Drucken Sie diese Liste und konvertieren Sie die Liste wieder in einen String.\n",
    "print(text_list )\n",
    "text_back_to_string = \"-\".join(text_list)\n",
    "print(text_back_to_string)"
   ]
  },
  {
   "cell_type": "code",
   "execution_count": null,
   "id": "9926324a-ebce-4886-bd3b-e6bef7b3d409",
   "metadata": {},
   "outputs": [],
   "source": [
    "# 7.  Zählen Sie die Anzahl der Elemente in \"text\" und \"text_list\" und vergleichen Sie die Ergebnisse, um festzustellen, welches mehr Elemente hat.\n",
    "len(text_list)\n",
    "len(text_back_to_string)"
   ]
  },
  {
   "cell_type": "code",
   "execution_count": null,
   "id": "efc73219-248e-47d9-8ab4-7cecabf4afc3",
   "metadata": {},
   "outputs": [],
   "source": [
    "# 8.  Zählen Sie die Anzahl der Vorkommen von 'I' im text_list und 'i' in der Text Variablen.\n",
    "count_list = text_list.count('I')\n",
    "count_text = text.lower().count('i')\n",
    "print(count_list)\n",
    "print(count_text)"
   ]
  },
  {
   "cell_type": "code",
   "execution_count": null,
   "id": "4cca9a4c-6f60-4483-9e3d-9ea7d7e4dad8",
   "metadata": {},
   "outputs": [],
   "source": [
    "fruit_selection = [\"apple\", \"banana\", \"cherry\", \"date\", \"elderberry\"]"
   ]
  },
  {
   "cell_type": "code",
   "execution_count": null,
   "id": "9324c3ca-3035-4d6b-a3e2-90284c1bb4c4",
   "metadata": {},
   "outputs": [],
   "source": [
    "# 9. Finden Sie den Index von \"banan\" und ersetzen Sie \"banan\" durch \"kiwi\".\n",
    "index_of_banana = fruit_selection.index(\"banana\")\n",
    "fruit_selection[index_of_banana] = \"kiwi\""
   ]
  },
  {
   "cell_type": "markdown",
   "id": "a8fc7ce2-acac-4c7b-ad3d-3d50c112f522",
   "metadata": {},
   "source": [
    "# Dictionaries"
   ]
  },
  {
   "cell_type": "code",
   "execution_count": 24,
   "id": "6c79c1e0-1e61-45a7-a5ff-3db1ed83203c",
   "metadata": {},
   "outputs": [],
   "source": [
    "product_dict = {\n",
    "    \"Laptop\": [\"Dell\", 999.99],\n",
    "    \"Smartphone\": [\"Apple\", 799.99],\n",
    "    \"Headphones\": [\"Sony\", 129.95],\n",
    "    \"Tablet\": [\"Samsung\", 349.99]\n",
    "}"
   ]
  },
  {
   "cell_type": "code",
   "execution_count": 25,
   "id": "9fcd5281-520e-43b4-a927-c3f002a4d9bf",
   "metadata": {},
   "outputs": [
    {
     "name": "stdout",
     "output_type": "stream",
     "text": [
      "Produkt: Laptop\n",
      "Marke: Dell\n",
      "Preis: 999.99\n",
      "\n",
      "Produkt: Smartphone\n",
      "Marke: Apple\n",
      "Preis: 799.99\n",
      "\n",
      "Produkt: Headphones\n",
      "Marke: Sony\n",
      "Preis: 129.95\n",
      "\n",
      "Produkt: Tablet\n",
      "Marke: Samsung\n",
      "Preis: 349.99\n",
      "\n"
     ]
    }
   ],
   "source": [
    "# 1.Geben Sie die keys und values des product_dict aus\n",
    "for key, value in product_dict.items():\n",
    "    print(\"Produkt:\", key)\n",
    "    print(\"Marke:\", value[0])\n",
    "    print(\"Preis:\", value[1])\n",
    "    print()  # "
   ]
  },
  {
   "cell_type": "code",
   "execution_count": 27,
   "id": "13eaad1c-24be-43c1-b0ce-08ec1924f3b8",
   "metadata": {},
   "outputs": [],
   "source": [
    "# 2. Ändern Sie \"Smartphone\": [\"Apple\", 799.99] zu \"Smartphone\": [\"Samsung\", 500].\n",
    "product_dict[\"Smartphone\"] = [\"Samsung\", 500]\n"
   ]
  },
  {
   "cell_type": "code",
   "execution_count": 28,
   "id": "cd246f50-f0f8-440a-be2a-d29c7249c3f6",
   "metadata": {},
   "outputs": [
    {
     "data": {
      "text/plain": [
       "['Samsung', 500]"
      ]
     },
     "execution_count": 28,
     "metadata": {},
     "output_type": "execute_result"
    }
   ],
   "source": [
    "# 3. Geben Sie den  value des \"Smartphone\"  aus.\n",
    "product_dict[\"Smartphone\"]"
   ]
  },
  {
   "cell_type": "markdown",
   "id": "b451ae58-122e-4ab6-bf94-127468fceba5",
   "metadata": {},
   "source": [
    "# Tuple"
   ]
  },
  {
   "cell_type": "code",
   "execution_count": 29,
   "id": "b2dcc7a7-c192-43f0-9747-0f8baded6011",
   "metadata": {},
   "outputs": [],
   "source": [
    "my_tuple = (\"car\", \"bicycle\", \"motorcycle\")\n"
   ]
  },
  {
   "cell_type": "code",
   "execution_count": 30,
   "id": "b730b9d9-0647-4020-b6bb-322c27162df4",
   "metadata": {},
   "outputs": [
    {
     "name": "stdout",
     "output_type": "stream",
     "text": [
      "Das erste Element ist: car\n",
      "Das letzte Element ist: motorcycle\n"
     ]
    }
   ],
   "source": [
    " # 1. Wie können das erste und das letzte Element des Tupels my_tuple in Python ausgedruckt werden?\n",
    "print(\"Das erste Element ist:\", my_tuple[0])\n",
    "print(\"Das letzte Element ist:\", my_tuple[-1])"
   ]
  },
  {
   "cell_type": "markdown",
   "id": "dba9ef21-f1aa-4efa-8585-51606389a084",
   "metadata": {},
   "source": [
    "# Set"
   ]
  },
  {
   "cell_type": "code",
   "execution_count": 33,
   "id": "f4202f03-b736-4636-82de-abe1e73b63fb",
   "metadata": {},
   "outputs": [],
   "source": [
    "# 1 Erstelle in Python eine Set mit den Werten \"Auto\", \"Fahrrad\" und \"Motorrad\".\n",
    "my_set = {\"Auto\", \"Fahrrad\", \"Motorrad\"}"
   ]
  },
  {
   "cell_type": "code",
   "execution_count": 34,
   "id": "a07606cb-66a5-4c9b-b44e-57e1e3115e97",
   "metadata": {},
   "outputs": [],
   "source": [
    "# 2 Füge der bereits erstellten Set ein weiteres Element \"Auto\" hinz\n",
    "my_set.add(\"Auto\")"
   ]
  },
  {
   "cell_type": "code",
   "execution_count": 35,
   "id": "644023f4-e3d3-4950-853a-46e35a36e305",
   "metadata": {},
   "outputs": [
    {
     "name": "stdout",
     "output_type": "stream",
     "text": [
      "Anzahl der Elemente in my_set: 3\n",
      "my_set: {'Auto', 'Fahrrad', 'Motorrad'}\n"
     ]
    }
   ],
   "source": [
    "# 3. Zähle die Anzahl der Elemente in der  my_set und gib  my_set aus.\n",
    "count = len(my_set)\n",
    "print(\"Anzahl der Elemente in my_set:\", count)\n",
    "print(\"my_set:\", my_set)"
   ]
  },
  {
   "cell_type": "code",
   "execution_count": 38,
   "id": "0d1a7b6d-690b-44f7-a8ee-a80b71fe4b81",
   "metadata": {},
   "outputs": [
    {
     "data": {
      "text/plain": [
       "{2, 3, 5, 12}"
      ]
     },
     "execution_count": 38,
     "metadata": {},
     "output_type": "execute_result"
    }
   ],
   "source": [
    "#  4. Finde heraus, welche Elemente die Mengen A und B gemeinsam haben.\n",
    "\n",
    "a = {12, 2, 3, 12, 5}\n",
    "b = {10, 5, 12, 2, 3}\n",
    "common_elements = a.intersection(b)\n",
    "common_elements"
   ]
  },
  {
   "cell_type": "code",
   "execution_count": 37,
   "id": "90e035d6-bafd-4825-ad69-6b3a8cc67b0e",
   "metadata": {},
   "outputs": [
    {
     "data": {
      "text/plain": [
       "{2, 3, 5, 12}"
      ]
     },
     "execution_count": 37,
     "metadata": {},
     "output_type": "execute_result"
    }
   ],
   "source": [
    "#Overview\n"
   ]
  },
  {
   "cell_type": "code",
   "execution_count": 39,
   "id": "1c918581-df43-4762-8448-f5f10a374a7d",
   "metadata": {},
   "outputs": [],
   "source": [
    "#Trennen Sie die Elemente der my_list nach ihrem Datentyp und speichern Sie sie in verschiedenen Variablennamen.\n",
    "my_list = [\"Hi\", \"Wold!\", 42, 3.14, True, \"Python\", 2024, 0.99, False]\n"
   ]
  },
  {
   "cell_type": "code",
   "execution_count": null,
   "id": "99d1bef1-327c-4268-8493-3a1ade48cd79",
   "metadata": {},
   "outputs": [],
   "source": [
    "\n",
    "strings = [item for item in my_list if isinstance(item, str)]\n",
    "int_value = [item for item in my_list if isinstance(item, int)]\n",
    "float_value = [item for item in my_list if isinstance(item, float)]\n",
    "bool_value = [item for item in my_list if isinstance(item, bool)]\n",
    "print(\"String:\", strings)\n",
    "print(\"Int:\", int_value)\n",
    "print(\"Float:\", float_value)\n",
    "print(\"Bool:\", bool_value)"
   ]
  }
 ],
 "metadata": {
  "kernelspec": {
   "display_name": "Python 3 (ipykernel)",
   "language": "python",
   "name": "python3"
  },
  "language_info": {
   "codemirror_mode": {
    "name": "ipython",
    "version": 3
   },
   "file_extension": ".py",
   "mimetype": "text/x-python",
   "name": "python",
   "nbconvert_exporter": "python",
   "pygments_lexer": "ipython3",
   "version": "3.11.5"
  }
 },
 "nbformat": 4,
 "nbformat_minor": 5
}
