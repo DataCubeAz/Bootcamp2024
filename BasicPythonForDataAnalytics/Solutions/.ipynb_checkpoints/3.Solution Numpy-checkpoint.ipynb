{
 "cells": [
  {
   "cell_type": "code",
   "execution_count": 1,
   "id": "56f30e05-4a18-45db-bccf-5a0e472e0882",
   "metadata": {},
   "outputs": [],
   "source": [
    "import numpy as np"
   ]
  },
  {
   "cell_type": "code",
   "execution_count": 2,
   "id": "4557acfa-0504-4bbc-b6f5-e85bd0b56b26",
   "metadata": {},
   "outputs": [],
   "source": [
    "### 1. Erstelle ein 5x5 NumPy-Array mit zufälligen Werten und finde die minimalen und maximalen Werte\n",
    "\n",
    "random_array_5x5 = np.random.rand(5, 5)\n",
    "min_value = random_array_5x5.min()\n",
    "max_value = random_array_5x5.max()\n"
   ]
  },
  {
   "cell_type": "code",
   "execution_count": 8,
   "id": "a13b06b0-74c5-495b-a6f4-bc112addbd57",
   "metadata": {},
   "outputs": [],
   "source": [
    "### 2. Ein 3x3-Array mit Werten von 1 bis 9 und die Summe aller Elemente:\n",
    "\n",
    "array_3x3 = np.arange(1, 10).reshape(3, 3)\n",
    "sum_of_elements = array_3x3.sum()\n"
   ]
  },
  {
   "cell_type": "code",
   "execution_count": 9,
   "id": "8bfbf8bd-4c00-4862-8601-575708eede8a",
   "metadata": {},
   "outputs": [],
   "source": [
    "### 3. Teile die Liste in zwei Listen auf: eine mit den Werten größer als 5 und eine mit den Werten kleiner als 5.\n",
    "\n",
    "more_than_5 =array_3x3[array_3x3>5]\n",
    "less_than_5 =array_3x3[array_3x3<5]"
   ]
  },
  {
   "cell_type": "code",
   "execution_count": null,
   "id": "64906280-5f19-42bd-9f32-c8c5ed00074e",
   "metadata": {},
   "outputs": [],
   "source": []
  }
 ],
 "metadata": {
  "kernelspec": {
   "display_name": "Python 3 (ipykernel)",
   "language": "python",
   "name": "python3"
  },
  "language_info": {
   "codemirror_mode": {
    "name": "ipython",
    "version": 3
   },
   "file_extension": ".py",
   "mimetype": "text/x-python",
   "name": "python",
   "nbconvert_exporter": "python",
   "pygments_lexer": "ipython3",
   "version": "3.11.5"
  }
 },
 "nbformat": 4,
 "nbformat_minor": 5
}
