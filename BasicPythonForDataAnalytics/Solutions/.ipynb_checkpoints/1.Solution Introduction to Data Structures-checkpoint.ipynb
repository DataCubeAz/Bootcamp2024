{
 "cells": [
  {
   "cell_type": "markdown",
   "id": "7cce6d95-5999-4741-aafb-dd0f40f130d8",
   "metadata": {},
   "source": [
    "# Numbers: int, float, complex"
   ]
  },
  {
   "cell_type": "code",
   "execution_count": 1,
   "id": "fc686078-c56d-4770-9a49-7252bd5fd50f",
   "metadata": {},
   "outputs": [],
   "source": [
    "x = 10\n",
    "y = -5"
   ]
  },
  {
   "cell_type": "code",
   "execution_count": 2,
   "id": "d6bca0fb-7fb6-4b36-af30-80928abc8dcf",
   "metadata": {},
   "outputs": [
    {
     "data": {
      "text/plain": [
       "5"
      ]
     },
     "execution_count": 2,
     "metadata": {},
     "output_type": "execute_result"
    }
   ],
   "source": [
    "### 1. Finden Sie die Summe von a und b\n",
    "z=x+y\n",
    "#print(z)\n",
    "z"
   ]
  },
  {
   "cell_type": "code",
   "execution_count": 3,
   "id": "f77f0d9d-bede-4099-9ee6-c185b002323d",
   "metadata": {},
   "outputs": [
    {
     "data": {
      "text/plain": [
       "int"
      ]
     },
     "execution_count": 3,
     "metadata": {},
     "output_type": "execute_result"
    }
   ],
   "source": [
    "### 2. Was ist der Typ des Ergebnisses?\n",
    "type(z)"
   ]
  },
  {
   "cell_type": "code",
   "execution_count": 4,
   "id": "32fb339b-a6b7-428a-9eab-96b777f7581d",
   "metadata": {},
   "outputs": [
    {
     "name": "stdout",
     "output_type": "stream",
     "text": [
      "5.0\n"
     ]
    }
   ],
   "source": [
    "### 3. Konvertiere es in float und drucke das Ergebnis\n",
    "z=float(z)\n",
    "print(z)"
   ]
  },
  {
   "cell_type": "code",
   "execution_count": 5,
   "id": "ae92be12-3c27-4b1d-8132-846da8822c50",
   "metadata": {},
   "outputs": [
    {
     "name": "stdout",
     "output_type": "stream",
     "text": [
      "<class 'float'>\n"
     ]
    }
   ],
   "source": [
    "### 4. Drucke den Datentyp\n",
    "print(type(z))"
   ]
  },
  {
   "cell_type": "code",
   "execution_count": 6,
   "id": "6325256a-8c4d-4faf-b98c-c30a75664b13",
   "metadata": {},
   "outputs": [],
   "source": [
    "a = 3.5\n",
    "b = 2.0"
   ]
  },
  {
   "cell_type": "code",
   "execution_count": 7,
   "id": "d6dd8ebe-d0ac-48be-aa3b-1392e93fca3b",
   "metadata": {},
   "outputs": [
    {
     "name": "stdout",
     "output_type": "stream",
     "text": [
      "5.0\n"
     ]
    }
   ],
   "source": [
    "### 5. Multiplizieren Sie a und b. \n",
    "c=a*b\n",
    "print(z)"
   ]
  },
  {
   "cell_type": "code",
   "execution_count": 8,
   "id": "72e5a4d5-a0ce-4106-9174-558af5024181",
   "metadata": {},
   "outputs": [
    {
     "data": {
      "text/plain": [
       "float"
      ]
     },
     "execution_count": 8,
     "metadata": {},
     "output_type": "execute_result"
    }
   ],
   "source": [
    "### 6. Welchen Datentyp hat das Ergebnis?\n",
    "type(c)"
   ]
  },
  {
   "cell_type": "code",
   "execution_count": 9,
   "id": "ef40064e-8fd8-46d0-8620-f30954fb93f1",
   "metadata": {},
   "outputs": [
    {
     "name": "stdout",
     "output_type": "stream",
     "text": [
      "7\n"
     ]
    }
   ],
   "source": [
    "### 7. Konvertiere es in Int und drucke das Ergebnis\n",
    "c=int(c)\n",
    "print(c)"
   ]
  },
  {
   "cell_type": "code",
   "execution_count": 10,
   "id": "7ba20042-b6eb-4478-8a74-c27cc4cdc170",
   "metadata": {},
   "outputs": [
    {
     "name": "stdout",
     "output_type": "stream",
     "text": [
      "<class 'int'>\n"
     ]
    }
   ],
   "source": [
    "### 8. Drucke den Datentyp.\n",
    "print(type(c))"
   ]
  },
  {
   "cell_type": "code",
   "execution_count": 11,
   "id": "e294b75f-372d-43eb-b655-73dfc22efab9",
   "metadata": {},
   "outputs": [],
   "source": [
    "a = 1 + 2j\n",
    "b = 3 + 4j"
   ]
  },
  {
   "cell_type": "code",
   "execution_count": 12,
   "id": "2bf98fd7-0a1b-441a-8ae5-fba2937cec0b",
   "metadata": {},
   "outputs": [
    {
     "name": "stdout",
     "output_type": "stream",
     "text": [
      "(-2-2j)\n"
     ]
    }
   ],
   "source": [
    "### 9. Subtrahieren Sie b von a\n",
    "z=a-b\n",
    "print(z)"
   ]
  },
  {
   "cell_type": "code",
   "execution_count": 13,
   "id": "6e010383-f114-4ca3-9da7-6ed2ec9e20ad",
   "metadata": {},
   "outputs": [
    {
     "name": "stdout",
     "output_type": "stream",
     "text": [
      "<class 'complex'>\n",
      "(-2-2j)\n"
     ]
    }
   ],
   "source": [
    "### 10. Was ist der Typ des resultierenden Werts\n",
    "print(type(z))\n",
    "print(z)"
   ]
  },
  {
   "cell_type": "code",
   "execution_count": 14,
   "id": "40eb4869-6c09-47a3-9524-7bc9635ad1f8",
   "metadata": {},
   "outputs": [],
   "source": [
    "### 12. Konvertiere es in Int und drucke das Ergebnis\n",
    "#z=int(z)\n",
    "#print(z)"
   ]
  },
  {
   "cell_type": "markdown",
   "id": "d3408082-dc49-4f36-9009-df6694084de2",
   "metadata": {},
   "source": [
    "# Strings: str"
   ]
  },
  {
   "cell_type": "code",
   "execution_count": 15,
   "id": "7138a6ac-4c2d-4a1b-be43-722246a756a1",
   "metadata": {},
   "outputs": [],
   "source": [
    "text = \"I love Machine Learning\""
   ]
  },
  {
   "cell_type": "code",
   "execution_count": 16,
   "id": "6eec38b7-17d4-4d54-b948-4a6e9296df1d",
   "metadata": {},
   "outputs": [
    {
     "name": "stdout",
     "output_type": "stream",
     "text": [
      "The length of the string is: 23\n"
     ]
    }
   ],
   "source": [
    "# 1. Schreibe ein Python-Programm, um die Länge des Strings zu ermitteln.\n",
    "length_of_text = len(text)\n",
    "print(\"The length of the string is:\", length_of_text)"
   ]
  },
  {
   "cell_type": "code",
   "execution_count": 17,
   "id": "7e5235dc-5b8d-4fa4-90bb-5a85e5044d59",
   "metadata": {},
   "outputs": [
    {
     "name": "stdout",
     "output_type": "stream",
     "text": [
      "love\n"
     ]
    }
   ],
   "source": [
    "# 2. Schreibe einen Code, der nur das Wort \"love\" aus dem Text text = \"I love Machine Learning\" extrahiert.\n",
    "word_love = text[2:6]\n",
    "print(word_love)"
   ]
  },
  {
   "cell_type": "code",
   "execution_count": 18,
   "id": "98f6e626-8075-4860-a26e-1f72bfaaa134",
   "metadata": {},
   "outputs": [
    {
     "name": "stdout",
     "output_type": "stream",
     "text": [
      "I like Machine Learning\n"
     ]
    }
   ],
   "source": [
    "# 3. Ändere das Wort \"love\" in \"like\" im Text text = \"I love Machine Learning\".\n",
    "text_mit_like = text.replace(\"love\", \"like\")\n",
    "print(text_mit_like)"
   ]
  },
  {
   "cell_type": "code",
   "execution_count": 19,
   "id": "52963dec-047e-45c5-90e5-ee84392e96ae",
   "metadata": {},
   "outputs": [],
   "source": [
    "name= \"Elisa\"\n",
    "age=30"
   ]
  },
  {
   "cell_type": "code",
   "execution_count": 20,
   "id": "dd8d0de5-d4d1-4b9d-8612-71827d678a8c",
   "metadata": {},
   "outputs": [
    {
     "name": "stdout",
     "output_type": "stream",
     "text": [
      "Ihr Name ist Elisa und sie ist 30 Jahre alt\n"
     ]
    }
   ],
   "source": [
    "# 4. Schreibe ein Python-Code, das einen Satz mit der F-String-Methode erstellt und ausgibt. Der Satz soll lauten: \"Ihr Name ist Elisa und sie ist 30 Jahre alt.\"\n",
    "sentence = f\"Ihr Name ist {name} und sie ist {age} Jahre alt\"\n",
    "print(sentence)"
   ]
  },
  {
   "cell_type": "code",
   "execution_count": 21,
   "id": "689d1850-b1fd-428e-8bf0-5af160ac0a9f",
   "metadata": {},
   "outputs": [
    {
     "name": "stdout",
     "output_type": "stream",
     "text": [
      "Ihr Name ist Elisa und sie ist 30 Jahre alt\n"
     ]
    }
   ],
   "source": [
    "# 5. Schreibe ein Python-Programm, das einen Satz mithilfe der format() Methode erstellt und ausgibt. Der Satz soll lauten: \"Ihr Name ist Elisa und sie ist 30 Jahre alt.\"\n",
    "sentence_format = \"Ihr Name ist {} und sie ist {} Jahre alt\".format(name, age)\n",
    "print(sentence_format)\n"
   ]
  },
  {
   "cell_type": "code",
   "execution_count": 22,
   "id": "a0dc2a6d-edab-4953-b4f0-48cd72cd5971",
   "metadata": {},
   "outputs": [
    {
     "name": "stdout",
     "output_type": "stream",
     "text": [
      "The index of 'Elisa' in the sentence is: 13\n"
     ]
    }
   ],
   "source": [
    "# 6. Schreibe ein Python-Code, um den Index des Teilstrings \"Elisa\" innerhalb des Satzes zu finden.\n",
    "index_of_elisa = sentence.find(\"Elisa\")\n",
    "print(\"The index of 'Elisa' in the sentence is:\", index_of_elisa)"
   ]
  },
  {
   "cell_type": "code",
   "execution_count": 23,
   "id": "1e116d7f-7afa-4be2-915f-554fd46a1d8b",
   "metadata": {},
   "outputs": [],
   "source": [
    "# 7 Schreibe ein Python-code, um diese Zahl mit unterschiedlichen Dezimalstellen unter Verwendung der F-String-Methode zu formatieren und auszudrucken.\n",
    "#Drucke die #Zahl speziell mit:\n",
    "number = 0.1234"
   ]
  },
  {
   "cell_type": "code",
   "execution_count": 24,
   "id": "7ef138ef-0d7b-4d7b-ba85-dbadfef22b77",
   "metadata": {},
   "outputs": [
    {
     "name": "stdout",
     "output_type": "stream",
     "text": [
      "This is number 0.1.\n"
     ]
    }
   ],
   "source": [
    "# 7.a Einer Dezimalstelle.\n",
    "print(f'This is number {number:.1f}.')"
   ]
  },
  {
   "cell_type": "code",
   "execution_count": 25,
   "id": "efd6d572-35b4-4a33-925d-4823f12f7a20",
   "metadata": {},
   "outputs": [
    {
     "name": "stdout",
     "output_type": "stream",
     "text": [
      "This is number 0.12.\n"
     ]
    }
   ],
   "source": [
    "# 7.b Zwei Dezimalstellen\n",
    "print(f'This is number {number:.2f}.') "
   ]
  },
  {
   "cell_type": "code",
   "execution_count": 26,
   "id": "d9c2ac6e-65ce-468f-918e-4b3fc607bf84",
   "metadata": {},
   "outputs": [
    {
     "name": "stdout",
     "output_type": "stream",
     "text": [
      "Alice's adventure\n"
     ]
    }
   ],
   "source": [
    "# 8.1 Erstelle eine Variable, die den Text Alice's adventure enthält, wobei Einzelzitate verwendet werden. Drucke diesen Satz.\n",
    "single_quote_string = 'Alice\\'s adventure'  \n",
    "print(single_quote_string)"
   ]
  },
  {
   "cell_type": "code",
   "execution_count": 27,
   "id": "0b6aed6b-e576-4688-9278-3a5ad54e3423",
   "metadata": {},
   "outputs": [
    {
     "name": "stdout",
     "output_type": "stream",
     "text": [
      "Alice's adventure\n"
     ]
    }
   ],
   "source": [
    "#8.2 Erstelle  eine Variable, die den Text Alice's adventure enthält, wobei Doppelzitate verwendet werden. Drucke diesen Satz.\n",
    "double_quote_string = \"Alice's adventure\"  \n",
    "print(double_quote_string)\n"
   ]
  },
  {
   "cell_type": "markdown",
   "id": "490b243e-1e3c-49e4-b071-6514683774c0",
   "metadata": {},
   "source": [
    "# Bool"
   ]
  },
  {
   "cell_type": "code",
   "execution_count": 28,
   "id": "5b6b2cb3-7014-42c4-a3a9-0b8c8116b45c",
   "metadata": {},
   "outputs": [
    {
     "name": "stdout",
     "output_type": "stream",
     "text": [
      "True False\n"
     ]
    }
   ],
   "source": [
    "# 1 Erstelle in Python zwei boolesche Variablen: is_student und is_teacher. Setze is_student auf True und is_teacher auf False.\n",
    "is_student = True\n",
    "is_teacher = False\n",
    "print(is_student, is_teacher)"
   ]
  },
  {
   "cell_type": "markdown",
   "id": "83c3d65f-8234-4259-a840-0570c27299c3",
   "metadata": {},
   "source": [
    "#  Lists "
   ]
  },
  {
   "cell_type": "code",
   "execution_count": 29,
   "id": "2dd2b452-1227-459e-9101-f99a31377d7a",
   "metadata": {},
   "outputs": [],
   "source": [
    "fruit_selection = [\"apple\", \"banana\", \"cherry\", \"date\", \"elderberry\"]"
   ]
  },
  {
   "cell_type": "code",
   "execution_count": 30,
   "id": "4ba93bb5-244f-4174-988c-f10b6a47d08f",
   "metadata": {},
   "outputs": [
    {
     "name": "stdout",
     "output_type": "stream",
     "text": [
      "['apple', 'banana', 'cherry', 'date', 'elderberry']\n"
     ]
    }
   ],
   "source": [
    "# 1.Schreibe ein Python-code, um die Früchte in alphabetischer Reihenfolge zu sortieren. Gib die sortierte Liste aus.\n",
    "fruit_selection.sort()\n",
    "print(fruit_selection)"
   ]
  },
  {
   "cell_type": "code",
   "execution_count": 31,
   "id": "56082a9e-cf4b-40ba-816f-49c5a36392fa",
   "metadata": {},
   "outputs": [
    {
     "name": "stdout",
     "output_type": "stream",
     "text": [
      "['apple', 'banana', 'cherry', 'date', 'elderberry', 'orange']\n"
     ]
    }
   ],
   "source": [
    "# 2. Schreibe einen Python-Code, der die Frucht \"orange\" am Ende der bestehenden Liste fruit_selection anhängt. Gib die aktualisierte Liste aus.\n",
    "fruit_selection.append(\"orange\")\n",
    "print(fruit_selection)"
   ]
  },
  {
   "cell_type": "code",
   "execution_count": 32,
   "id": "c27e15fd-b306-462c-8c07-7ee4af06308c",
   "metadata": {},
   "outputs": [
    {
     "name": "stdout",
     "output_type": "stream",
     "text": [
      "orange\n"
     ]
    }
   ],
   "source": [
    "# 3. Löschen Sie das letzte Element von fruit_selection und geben Sie es aus.\n",
    "last_item = fruit_selection.pop()\n",
    "print(last_item)"
   ]
  },
  {
   "cell_type": "code",
   "execution_count": 33,
   "id": "11268d1f-64ab-40b9-bb4a-ca6e5aa93d80",
   "metadata": {},
   "outputs": [],
   "source": [
    "numbers = [5, 4, 3, 1]"
   ]
  },
  {
   "cell_type": "code",
   "execution_count": 34,
   "id": "82568528-73e0-4599-8622-e93008eee1b9",
   "metadata": {},
   "outputs": [
    {
     "name": "stdout",
     "output_type": "stream",
     "text": [
      "[1, 2, 3, 4, 5]\n"
     ]
    }
   ],
   "source": [
    "# 4. Sortieren Sie die Liste der Zahlen von der kleinsten zur größten und fügen Sie die fehlenden Zahlen hinzu.\n",
    "numbers.sort(reverse=False)\n",
    "numbers.insert(1, 2)\n",
    "print(numbers)"
   ]
  },
  {
   "cell_type": "code",
   "execution_count": 35,
   "id": "98fef4ba-fdb4-4c52-bea5-e2cc9089e9d0",
   "metadata": {},
   "outputs": [],
   "source": [
    "text = \"I-love-machine-learning\""
   ]
  },
  {
   "cell_type": "code",
   "execution_count": 36,
   "id": "1616233a-b934-4aba-b258-a5dde0ad83ec",
   "metadata": {},
   "outputs": [
    {
     "data": {
      "text/plain": [
       "['I', 'love', 'machine', 'learning']"
      ]
     },
     "execution_count": 36,
     "metadata": {},
     "output_type": "execute_result"
    }
   ],
   "source": [
    "# 5. Konvertieren Sie diesen Text in eine Liste. Speichern Sie die Liste als \"text_list\".\n",
    "text_list = text.split(\"-\")\n",
    "text_list "
   ]
  },
  {
   "cell_type": "code",
   "execution_count": 37,
   "id": "5c834036-4c8b-4a4a-b718-5344cc4a9504",
   "metadata": {},
   "outputs": [
    {
     "name": "stdout",
     "output_type": "stream",
     "text": [
      "['I', 'love', 'machine', 'learning']\n",
      "I-love-machine-learning\n"
     ]
    }
   ],
   "source": [
    "# 6 Drucken Sie diese Liste und konvertieren Sie die Liste wieder in einen String.\n",
    "print(text_list )\n",
    "text_back_to_string = \"-\".join(text_list)\n",
    "print(text_back_to_string)"
   ]
  },
  {
   "cell_type": "code",
   "execution_count": 38,
   "id": "323ceecd-acee-4669-a073-db3ebd0eaae5",
   "metadata": {},
   "outputs": [
    {
     "name": "stdout",
     "output_type": "stream",
     "text": [
      "4\n",
      "23\n"
     ]
    }
   ],
   "source": [
    "# 7. Zählen Sie die Anzahl der Elemente in \"text\" und \"text_list\" und vergleichen Sie die Ergebnisse, um festzustellen, welches mehr Elemente hat.\n",
    "print(len(text_list))\n",
    "print(len(text_back_to_string))\n"
   ]
  },
  {
   "cell_type": "code",
   "execution_count": 39,
   "id": "3f47ebb9-5e4f-471e-84a1-caf0ba6bcaa2",
   "metadata": {},
   "outputs": [
    {
     "name": "stdout",
     "output_type": "stream",
     "text": [
      "1\n",
      "3\n"
     ]
    }
   ],
   "source": [
    "# 8. Zählen Sie die Anzahl der Vorkommen von 'I' im Text-String und 'i' in der Text-Variablen.\n",
    "count_list = text_list.count('I')\n",
    "count_text = text.lower().count('i')\n",
    "print(count_list)\n",
    "print(count_text)\n"
   ]
  },
  {
   "cell_type": "code",
   "execution_count": 40,
   "id": "d6e6f369-ea3c-4a82-9414-43f0af3c4202",
   "metadata": {},
   "outputs": [],
   "source": [
    "fruit_selection = [\"apple\", \"banana\", \"cherry\", \"date\", \"elderberry\"]"
   ]
  },
  {
   "cell_type": "code",
   "execution_count": 41,
   "id": "11e7b366-60ae-4820-9a51-b9966bc1118a",
   "metadata": {},
   "outputs": [
    {
     "name": "stdout",
     "output_type": "stream",
     "text": [
      "['apple', 'kiwi', 'cherry', 'date', 'elderberry']\n"
     ]
    }
   ],
   "source": [
    "# 9. Finden Sie den Index von \"banan\" und ersetzen Sie \"banan\" durch \"kiwi\".\n",
    "index_of_banana = fruit_selection.index(\"banana\")\n",
    "fruit_selection[index_of_banana] = \"kiwi\"\n",
    "print(fruit_selection)"
   ]
  },
  {
   "cell_type": "markdown",
   "id": "6f23b807-89b9-4222-9d62-51faaf21223d",
   "metadata": {},
   "source": [
    "# Dictionaries"
   ]
  },
  {
   "cell_type": "code",
   "execution_count": 42,
   "id": "18bcca35-b673-49f7-a046-80685d0b0442",
   "metadata": {},
   "outputs": [],
   "source": [
    "product_dict = {\n",
    "    \"Laptop\": [\"Dell\", 999.99],\n",
    "    \"Smartphone\": [\"Apple\", 799.99],\n",
    "    \"Headphones\": [\"Sony\", 129.95],\n",
    "    \"Tablet\": [\"Samsung\", 349.99]\n",
    "}\n"
   ]
  },
  {
   "cell_type": "code",
   "execution_count": 43,
   "id": "1afa35a4-0e05-48d5-b7fa-eb5ba73da131",
   "metadata": {},
   "outputs": [
    {
     "name": "stdout",
     "output_type": "stream",
     "text": [
      "Produkt: Laptop\n",
      "Marke: Dell\n",
      "Preis: 999.99\n",
      "\n",
      "Produkt: Smartphone\n",
      "Marke: Apple\n",
      "Preis: 799.99\n",
      "\n",
      "Produkt: Headphones\n",
      "Marke: Sony\n",
      "Preis: 129.95\n",
      "\n",
      "Produkt: Tablet\n",
      "Marke: Samsung\n",
      "Preis: 349.99\n",
      "\n"
     ]
    }
   ],
   "source": [
    "# 1.Geben Sie die keys und values des product_dict aus\n",
    "for key, value in product_dict.items():\n",
    "    print(\"Produkt:\", key)\n",
    "    print(\"Marke:\", value[0])\n",
    "    print(\"Preis:\", value[1])\n",
    "    print()  # "
   ]
  },
  {
   "cell_type": "code",
   "execution_count": 44,
   "id": "c36fbb3b-6027-46ff-9f8f-ecdd7f335361",
   "metadata": {},
   "outputs": [],
   "source": [
    "# 2. Ändern Sie \"Smartphone\": [\"Apple\", 799.99] zu \"Smartphone\": [\"Samsung\", 500].\n",
    "product_dict[\"Smartphone\"] = [\"Samsung\", 500]"
   ]
  },
  {
   "cell_type": "code",
   "execution_count": 45,
   "id": "b8a95c25-b677-4442-96aa-ba29e14161fb",
   "metadata": {},
   "outputs": [
    {
     "data": {
      "text/plain": [
       "['Samsung', 500]"
      ]
     },
     "execution_count": 45,
     "metadata": {},
     "output_type": "execute_result"
    }
   ],
   "source": [
    "# 3. Geben Sie den  value des \"Smartphone\"  aus.\n",
    "product_dict[\"Smartphone\"]"
   ]
  },
  {
   "cell_type": "markdown",
   "id": "86a8af4f-9fda-41a7-959b-0fb5eb5b9892",
   "metadata": {},
   "source": [
    "# Tuple"
   ]
  },
  {
   "cell_type": "code",
   "execution_count": 46,
   "id": "92eefb46-d320-4658-b860-7e207178bd21",
   "metadata": {},
   "outputs": [],
   "source": [
    "my_tuple = (\"Auto\", \"Fahrrad\", \"Motorrad\")"
   ]
  },
  {
   "cell_type": "code",
   "execution_count": 47,
   "id": "5f3df862-4ec9-48ad-b837-6c50a9c4cc60",
   "metadata": {},
   "outputs": [
    {
     "name": "stdout",
     "output_type": "stream",
     "text": [
      "Das erste Element ist: Auto\n",
      "Das letzte Element ist: Motorrad\n"
     ]
    }
   ],
   "source": [
    "# 1. Drucke das erste und das letzte Element des Tupels my_tuple in Python aus.\n",
    "print(\"Das erste Element ist:\", my_tuple[0])\n",
    "print(\"Das letzte Element ist:\", my_tuple[-1])"
   ]
  },
  {
   "cell_type": "code",
   "execution_count": 48,
   "id": "4351d1fc-2423-4405-84f3-bf7b5a974e1d",
   "metadata": {},
   "outputs": [],
   "source": [
    "# 2 Entferne das erste Element des Tupels my_tuple in Python\n"
   ]
  },
  {
   "cell_type": "markdown",
   "id": "65d0eecc-1ca3-4ca1-bbd7-f35c87c26541",
   "metadata": {},
   "source": [
    "# Set"
   ]
  },
  {
   "cell_type": "code",
   "execution_count": 49,
   "id": "c52759b8-da3c-4402-b295-9448b294c60b",
   "metadata": {},
   "outputs": [],
   "source": [
    "# 1 Erstelle in Python eine Set (my_set) mit den Value \"Auto\", \"Fahrrad\" und \"Motorrad\".\n",
    "my_set = {\"Auto\", \"Fahrrad\", \"Motorrad\"}"
   ]
  },
  {
   "cell_type": "code",
   "execution_count": 50,
   "id": "50d07675-859a-4672-af41-1bdc8219544d",
   "metadata": {},
   "outputs": [],
   "source": [
    "# 2 Füge der bereits erstellten Set ein weiteres Element \"Auto\" hinz\n",
    "my_set.add(\"Auto\")"
   ]
  },
  {
   "cell_type": "code",
   "execution_count": 51,
   "id": "f28af5b5-6309-4997-a84e-b077b353c274",
   "metadata": {},
   "outputs": [
    {
     "name": "stdout",
     "output_type": "stream",
     "text": [
      "Anzahl der Elemente in my_set: 3\n",
      "my_set: {'Motorrad', 'Auto', 'Fahrrad'}\n"
     ]
    }
   ],
   "source": [
    "# 3 Zähle die Anzahl der Elemente in der  my_set und gib  my_set aus.\n",
    "count = len(my_set)\n",
    "print(\"Anzahl der Elemente in my_set:\", count)\n",
    "print(\"my_set:\", my_set)"
   ]
  },
  {
   "cell_type": "code",
   "execution_count": 52,
   "id": "4c44d837-8e08-4170-8c33-2bd090477da9",
   "metadata": {},
   "outputs": [],
   "source": [
    "a = {12, 2, 3, 12, 5}\n",
    "b = {10, 5, 12, 2, 3}\n"
   ]
  },
  {
   "cell_type": "code",
   "execution_count": 53,
   "id": "afae6d85-390a-47a0-af84-55f0bf68133b",
   "metadata": {},
   "outputs": [
    {
     "data": {
      "text/plain": [
       "{2, 3, 5, 12}"
      ]
     },
     "execution_count": 53,
     "metadata": {},
     "output_type": "execute_result"
    }
   ],
   "source": [
    "# 4. Finde heraus, welche Elemente die Mengen a und b gemeinsam haben.\n",
    "\n",
    "common_elements = a.intersection(b)\n",
    "common_elements"
   ]
  }
 ],
 "metadata": {
  "kernelspec": {
   "display_name": "Python 3 (ipykernel)",
   "language": "python",
   "name": "python3"
  },
  "language_info": {
   "codemirror_mode": {
    "name": "ipython",
    "version": 3
   },
   "file_extension": ".py",
   "mimetype": "text/x-python",
   "name": "python",
   "nbconvert_exporter": "python",
   "pygments_lexer": "ipython3",
   "version": "3.11.5"
  }
 },
 "nbformat": 4,
 "nbformat_minor": 5
}
