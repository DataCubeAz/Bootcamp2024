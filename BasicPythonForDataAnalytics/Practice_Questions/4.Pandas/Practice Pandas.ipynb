{
 "cells": [
  {
   "cell_type": "markdown",
   "id": "4fb6986d-e739-4d90-b143-8497ebe3efd0",
   "metadata": {},
   "source": [
    "# PART 1"
   ]
  },
  {
   "cell_type": "code",
   "execution_count": null,
   "id": "fbb02841-7f37-4db1-8eb0-5a2809b2bf02",
   "metadata": {},
   "outputs": [],
   "source": [
    "## 1. Import the necessary libraries (Importieren Sie die notwendigen Bibliotheken )"
   ]
  },
  {
   "cell_type": "markdown",
   "id": "70457d16-f074-4a6b-8841-e46e7d320403",
   "metadata": {},
   "source": [
    "| Column Name         | English Description                                 | German Description                                         |\n",
    "|---------------------|-----------------------------------------------------|------------------------------------------------------------|\n",
    "| order_id            | Identifier for the order.                           | Kennung für die Bestellung.                                |\n",
    "| quantity            | Number of items ordered.                            | Anzahl der bestellten Artikel.                             |\n",
    "| item_name           | Name of the food item.                              | Name des Lebensmittelartikels.                             |\n",
    "| choice_description  | Description of food item customizations (if any).   | Beschreibung der Anpassungen des Lebensmittelartikels (falls vorhanden). |\n",
    "| item_price          | Price of the item (in USD).                         | Preis des Artikels (in USD).                               |"
   ]
  },
  {
   "cell_type": "code",
   "execution_count": 1,
   "id": "c99dd546-0395-46e0-8528-b9dcc29b0ff5",
   "metadata": {},
   "outputs": [],
   "source": [
    "import pandas as pd"
   ]
  },
  {
   "cell_type": "markdown",
   "id": "92798105-459c-47b8-bccf-c476759131a4",
   "metadata": {},
   "source": [
    "##  2. Import the dataset and Analysis  (Importieren Sie den Datensatz und Analyse )"
   ]
  },
  {
   "cell_type": "code",
   "execution_count": 2,
   "id": "67993f1c-c74b-42b1-9d5c-069124ebc264",
   "metadata": {},
   "outputs": [
    {
     "data": {
      "text/html": [
       "<div>\n",
       "<style scoped>\n",
       "    .dataframe tbody tr th:only-of-type {\n",
       "        vertical-align: middle;\n",
       "    }\n",
       "\n",
       "    .dataframe tbody tr th {\n",
       "        vertical-align: top;\n",
       "    }\n",
       "\n",
       "    .dataframe thead th {\n",
       "        text-align: right;\n",
       "    }\n",
       "</style>\n",
       "<table border=\"1\" class=\"dataframe\">\n",
       "  <thead>\n",
       "    <tr style=\"text-align: right;\">\n",
       "      <th></th>\n",
       "      <th>order_id</th>\n",
       "      <th>quantity</th>\n",
       "      <th>item_name</th>\n",
       "      <th>choice_description</th>\n",
       "      <th>item_price</th>\n",
       "    </tr>\n",
       "  </thead>\n",
       "  <tbody>\n",
       "    <tr>\n",
       "      <th>0</th>\n",
       "      <td>1</td>\n",
       "      <td>1</td>\n",
       "      <td>Chips and Fresh Tomato Salsa</td>\n",
       "      <td>NaN</td>\n",
       "      <td>$2.39</td>\n",
       "    </tr>\n",
       "    <tr>\n",
       "      <th>1</th>\n",
       "      <td>1</td>\n",
       "      <td>1</td>\n",
       "      <td>Izze</td>\n",
       "      <td>[Clementine]</td>\n",
       "      <td>$3.39</td>\n",
       "    </tr>\n",
       "    <tr>\n",
       "      <th>2</th>\n",
       "      <td>1</td>\n",
       "      <td>1</td>\n",
       "      <td>Nantucket Nectar</td>\n",
       "      <td>[Apple]</td>\n",
       "      <td>$3.39</td>\n",
       "    </tr>\n",
       "    <tr>\n",
       "      <th>3</th>\n",
       "      <td>1</td>\n",
       "      <td>1</td>\n",
       "      <td>Chips and Tomatillo-Green Chili Salsa</td>\n",
       "      <td>NaN</td>\n",
       "      <td>$2.39</td>\n",
       "    </tr>\n",
       "    <tr>\n",
       "      <th>4</th>\n",
       "      <td>2</td>\n",
       "      <td>2</td>\n",
       "      <td>Chicken Bowl</td>\n",
       "      <td>[Tomatillo-Red Chili Salsa (Hot), [Black Beans...</td>\n",
       "      <td>$16.98</td>\n",
       "    </tr>\n",
       "    <tr>\n",
       "      <th>5</th>\n",
       "      <td>3</td>\n",
       "      <td>1</td>\n",
       "      <td>Chicken Bowl</td>\n",
       "      <td>[Fresh Tomato Salsa (Mild), [Rice, Cheese, Sou...</td>\n",
       "      <td>$10.98</td>\n",
       "    </tr>\n",
       "    <tr>\n",
       "      <th>6</th>\n",
       "      <td>3</td>\n",
       "      <td>1</td>\n",
       "      <td>Side of Chips</td>\n",
       "      <td>NaN</td>\n",
       "      <td>$1.69</td>\n",
       "    </tr>\n",
       "    <tr>\n",
       "      <th>7</th>\n",
       "      <td>4</td>\n",
       "      <td>1</td>\n",
       "      <td>Steak Burrito</td>\n",
       "      <td>[Tomatillo Red Chili Salsa, [Fajita Vegetables...</td>\n",
       "      <td>$11.75</td>\n",
       "    </tr>\n",
       "    <tr>\n",
       "      <th>8</th>\n",
       "      <td>4</td>\n",
       "      <td>1</td>\n",
       "      <td>Steak Soft Tacos</td>\n",
       "      <td>[Tomatillo Green Chili Salsa, [Pinto Beans, Ch...</td>\n",
       "      <td>$9.25</td>\n",
       "    </tr>\n",
       "    <tr>\n",
       "      <th>9</th>\n",
       "      <td>5</td>\n",
       "      <td>1</td>\n",
       "      <td>Steak Burrito</td>\n",
       "      <td>[Fresh Tomato Salsa, [Rice, Black Beans, Pinto...</td>\n",
       "      <td>$9.25</td>\n",
       "    </tr>\n",
       "  </tbody>\n",
       "</table>\n",
       "</div>"
      ],
      "text/plain": [
       "   order_id  quantity                              item_name  \\\n",
       "0         1         1           Chips and Fresh Tomato Salsa   \n",
       "1         1         1                                   Izze   \n",
       "2         1         1                       Nantucket Nectar   \n",
       "3         1         1  Chips and Tomatillo-Green Chili Salsa   \n",
       "4         2         2                           Chicken Bowl   \n",
       "5         3         1                           Chicken Bowl   \n",
       "6         3         1                          Side of Chips   \n",
       "7         4         1                          Steak Burrito   \n",
       "8         4         1                       Steak Soft Tacos   \n",
       "9         5         1                          Steak Burrito   \n",
       "\n",
       "                                  choice_description item_price  \n",
       "0                                                NaN     $2.39   \n",
       "1                                       [Clementine]     $3.39   \n",
       "2                                            [Apple]     $3.39   \n",
       "3                                                NaN     $2.39   \n",
       "4  [Tomatillo-Red Chili Salsa (Hot), [Black Beans...    $16.98   \n",
       "5  [Fresh Tomato Salsa (Mild), [Rice, Cheese, Sou...    $10.98   \n",
       "6                                                NaN     $1.69   \n",
       "7  [Tomatillo Red Chili Salsa, [Fajita Vegetables...    $11.75   \n",
       "8  [Tomatillo Green Chili Salsa, [Pinto Beans, Ch...     $9.25   \n",
       "9  [Fresh Tomato Salsa, [Rice, Black Beans, Pinto...     $9.25   "
      ]
     },
     "execution_count": 2,
     "metadata": {},
     "output_type": "execute_result"
    }
   ],
   "source": [
    "### 1.Print first 10 row of the dataset (Geben Sie die ersten 10 Zeilen des Datensatzes aus.)\n"
   ]
  },
  {
   "cell_type": "code",
   "execution_count": 2,
   "id": "a45f0510-aa73-44a8-a346-7161b277c078",
   "metadata": {},
   "outputs": [],
   "source": [
    "### 2.Print the shape of the dataset (Geben Sie die Form des Datensatzes aus.)\n"
   ]
  },
  {
   "cell_type": "code",
   "execution_count": 3,
   "id": "8b53d4a3-82e2-4fb2-b6d4-c7c829fc79a3",
   "metadata": {},
   "outputs": [],
   "source": [
    "### 3. Print the info of the dataset (Geben Sie die Informationen des Datensatzes aus) \n"
   ]
  },
  {
   "cell_type": "code",
   "execution_count": 4,
   "id": "2e476159-a5d8-44f6-acf8-ee7a7fefa54e",
   "metadata": {},
   "outputs": [],
   "source": [
    "### 4. Print the name of all the columns. (Gib den Namen aller Spalten aus. )\n"
   ]
  },
  {
   "cell_type": "code",
   "execution_count": 5,
   "id": "40cb5a17-38a5-4647-b605-87570f93095b",
   "metadata": {},
   "outputs": [],
   "source": [
    "### 5. What is the number of columns in the dataset? ( Wie viele Spalten hat das Dataset?)\n"
   ]
  },
  {
   "cell_type": "code",
   "execution_count": null,
   "id": "7d2ea413-83d4-4f4f-a57e-461398488e07",
   "metadata": {},
   "outputs": [],
   "source": [
    "### 6. Check for duplicated values and drop them ( Überprüfe auf doppelte Werte und entferne sie.)"
   ]
  },
  {
   "cell_type": "code",
   "execution_count": null,
   "id": "6fa24448-c95f-4188-bc7a-3903100b9d64",
   "metadata": {},
   "outputs": [],
   "source": [
    "### 7. Choose order_id and item_price columns and print fisr 5 row (Wählen Sie die Spalten order_id und item_price aus und drucken Sie die ersten 5 Zeilen)\n"
   ]
  },
  {
   "cell_type": "markdown",
   "id": "c3f88ca7-ddc1-4647-a469-2710f75bd4ff",
   "metadata": {},
   "source": [
    "# PART 2"
   ]
  },
  {
   "cell_type": "markdown",
   "id": "19252e91-ffe0-4abb-9c4b-43d0f5eb96f7",
   "metadata": {},
   "source": [
    "## Filling missing values  ( Füllen von fehlenden Werten)"
   ]
  },
  {
   "cell_type": "code",
   "execution_count": 13,
   "id": "53562053-2143-4750-9730-dcc5f08a26b6",
   "metadata": {},
   "outputs": [],
   "source": [
    "### 1. Check missing values and show in percentages  ( Überprüfen von fehlenden Werten und Anzeigen in Prozenten)\n"
   ]
  },
  {
   "cell_type": "code",
   "execution_count": 14,
   "id": "33e065ac-af50-4c59-ad41-d6731a313cbc",
   "metadata": {},
   "outputs": [],
   "source": [
    "### 2. Fill mising value in item_price with median () ( Die fehlenden Werte in 'item_price' mit dem Median füllen)\n"
   ]
  },
  {
   "cell_type": "code",
   "execution_count": 15,
   "id": "1eb9b48c-877a-42a4-a563-0051fe00cb24",
   "metadata": {},
   "outputs": [],
   "source": [
    "### 3.Fill mising value in  choice_description with \"Unknow\" (Die fehlenden Werte in 'choice_description' mit 'Unbekannt' füllen)\n"
   ]
  },
  {
   "cell_type": "markdown",
   "id": "fd1c0fad-4f8d-4bbf-b4ac-408860ecc54f",
   "metadata": {},
   "source": [
    "## 4. Pivot table"
   ]
  },
  {
   "cell_type": "code",
   "execution_count": 3,
   "id": "01d639ce-82c9-4c66-9257-983065c1937b",
   "metadata": {},
   "outputs": [
    {
     "data": {
      "text/html": [
       "<div>\n",
       "<style scoped>\n",
       "    .dataframe tbody tr th:only-of-type {\n",
       "        vertical-align: middle;\n",
       "    }\n",
       "\n",
       "    .dataframe tbody tr th {\n",
       "        vertical-align: top;\n",
       "    }\n",
       "\n",
       "    .dataframe thead th {\n",
       "        text-align: right;\n",
       "    }\n",
       "</style>\n",
       "<table border=\"1\" class=\"dataframe\">\n",
       "  <thead>\n",
       "    <tr style=\"text-align: right;\">\n",
       "      <th></th>\n",
       "      <th>order_id</th>\n",
       "      <th>quantity</th>\n",
       "      <th>item_name</th>\n",
       "      <th>choice_description</th>\n",
       "      <th>item_price</th>\n",
       "    </tr>\n",
       "  </thead>\n",
       "  <tbody>\n",
       "    <tr>\n",
       "      <th>0</th>\n",
       "      <td>1</td>\n",
       "      <td>1</td>\n",
       "      <td>Chips and Fresh Tomato Salsa</td>\n",
       "      <td>NaN</td>\n",
       "      <td>$2.39</td>\n",
       "    </tr>\n",
       "    <tr>\n",
       "      <th>1</th>\n",
       "      <td>1</td>\n",
       "      <td>1</td>\n",
       "      <td>Izze</td>\n",
       "      <td>[Clementine]</td>\n",
       "      <td>$3.39</td>\n",
       "    </tr>\n",
       "    <tr>\n",
       "      <th>2</th>\n",
       "      <td>1</td>\n",
       "      <td>1</td>\n",
       "      <td>Nantucket Nectar</td>\n",
       "      <td>[Apple]</td>\n",
       "      <td>$3.39</td>\n",
       "    </tr>\n",
       "    <tr>\n",
       "      <th>3</th>\n",
       "      <td>1</td>\n",
       "      <td>1</td>\n",
       "      <td>Chips and Tomatillo-Green Chili Salsa</td>\n",
       "      <td>NaN</td>\n",
       "      <td>$2.39</td>\n",
       "    </tr>\n",
       "    <tr>\n",
       "      <th>4</th>\n",
       "      <td>2</td>\n",
       "      <td>2</td>\n",
       "      <td>Chicken Bowl</td>\n",
       "      <td>[Tomatillo-Red Chili Salsa (Hot), [Black Beans...</td>\n",
       "      <td>$16.98</td>\n",
       "    </tr>\n",
       "    <tr>\n",
       "      <th>5</th>\n",
       "      <td>3</td>\n",
       "      <td>1</td>\n",
       "      <td>Chicken Bowl</td>\n",
       "      <td>[Fresh Tomato Salsa (Mild), [Rice, Cheese, Sou...</td>\n",
       "      <td>$10.98</td>\n",
       "    </tr>\n",
       "    <tr>\n",
       "      <th>6</th>\n",
       "      <td>3</td>\n",
       "      <td>1</td>\n",
       "      <td>Side of Chips</td>\n",
       "      <td>NaN</td>\n",
       "      <td>$1.69</td>\n",
       "    </tr>\n",
       "    <tr>\n",
       "      <th>7</th>\n",
       "      <td>4</td>\n",
       "      <td>1</td>\n",
       "      <td>Steak Burrito</td>\n",
       "      <td>[Tomatillo Red Chili Salsa, [Fajita Vegetables...</td>\n",
       "      <td>$11.75</td>\n",
       "    </tr>\n",
       "    <tr>\n",
       "      <th>8</th>\n",
       "      <td>4</td>\n",
       "      <td>1</td>\n",
       "      <td>Steak Soft Tacos</td>\n",
       "      <td>[Tomatillo Green Chili Salsa, [Pinto Beans, Ch...</td>\n",
       "      <td>$9.25</td>\n",
       "    </tr>\n",
       "    <tr>\n",
       "      <th>9</th>\n",
       "      <td>5</td>\n",
       "      <td>1</td>\n",
       "      <td>Steak Burrito</td>\n",
       "      <td>[Fresh Tomato Salsa, [Rice, Black Beans, Pinto...</td>\n",
       "      <td>$9.25</td>\n",
       "    </tr>\n",
       "  </tbody>\n",
       "</table>\n",
       "</div>"
      ],
      "text/plain": [
       "   order_id  quantity                              item_name  \\\n",
       "0         1         1           Chips and Fresh Tomato Salsa   \n",
       "1         1         1                                   Izze   \n",
       "2         1         1                       Nantucket Nectar   \n",
       "3         1         1  Chips and Tomatillo-Green Chili Salsa   \n",
       "4         2         2                           Chicken Bowl   \n",
       "5         3         1                           Chicken Bowl   \n",
       "6         3         1                          Side of Chips   \n",
       "7         4         1                          Steak Burrito   \n",
       "8         4         1                       Steak Soft Tacos   \n",
       "9         5         1                          Steak Burrito   \n",
       "\n",
       "                                  choice_description item_price  \n",
       "0                                                NaN     $2.39   \n",
       "1                                       [Clementine]     $3.39   \n",
       "2                                            [Apple]     $3.39   \n",
       "3                                                NaN     $2.39   \n",
       "4  [Tomatillo-Red Chili Salsa (Hot), [Black Beans...    $16.98   \n",
       "5  [Fresh Tomato Salsa (Mild), [Rice, Cheese, Sou...    $10.98   \n",
       "6                                                NaN     $1.69   \n",
       "7  [Tomatillo Red Chili Salsa, [Fajita Vegetables...    $11.75   \n",
       "8  [Tomatillo Green Chili Salsa, [Pinto Beans, Ch...     $9.25   \n",
       "9  [Fresh Tomato Salsa, [Rice, Black Beans, Pinto...     $9.25   "
      ]
     },
     "execution_count": 3,
     "metadata": {},
     "output_type": "execute_result"
    }
   ],
   "source": [
    "### 1 . Create a pivot table to show the total item price for each item name.\n",
    "### (Erstellen Sie eine Pivot-Tabelle, um den Gesamtpreis für jeden Artikelnamen anzuzeigen.)\n",
    "chipotle_data = pd.read_csv('chipotle.tsv', sep='\\t')\n",
    "chipotle_data.head(10)"
   ]
  },
  {
   "cell_type": "code",
   "execution_count": null,
   "id": "60b6b12d-b082-4877-ae06-601a357d0fe0",
   "metadata": {},
   "outputs": [],
   "source": []
  },
  {
   "cell_type": "code",
   "execution_count": null,
   "id": "7f54cf5b-456b-4b0c-9b4f-84f82d4826c9",
   "metadata": {},
   "outputs": [],
   "source": []
  }
 ],
 "metadata": {
  "kernelspec": {
   "display_name": "Python 3 (ipykernel)",
   "language": "python",
   "name": "python3"
  },
  "language_info": {
   "codemirror_mode": {
    "name": "ipython",
    "version": 3
   },
   "file_extension": ".py",
   "mimetype": "text/x-python",
   "name": "python",
   "nbconvert_exporter": "python",
   "pygments_lexer": "ipython3",
   "version": "3.11.5"
  }
 },
 "nbformat": 4,
 "nbformat_minor": 5
}
