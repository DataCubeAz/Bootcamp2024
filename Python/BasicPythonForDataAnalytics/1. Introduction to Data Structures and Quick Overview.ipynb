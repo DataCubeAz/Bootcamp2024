{
 "cells": [
  {
   "cell_type": "markdown",
   "metadata": {},
   "source": [
    "***Introduction to Data Structures and  Quick Overview***"
   ]
  },
  {
   "cell_type": "markdown",
   "metadata": {},
   "source": [
    "\n",
    "# - Numbers: int, float, complex\n",
    "# - Strings: str\n",
    "# - Boolean (TRUE-FALSE): bool\n",
    "# - List\n",
    "# - Tuple\n",
    "# - Set\n",
    "# Quick Overview\n",
    "#------------------------------------------------------------------------------------------------------------------------------------------------------------------------------------------\n",
    "###Jupyterlab extensions\n",
    "###https://jupyterlab-contrib.github.io/extensions.html f"
   ]
  },
  {
   "cell_type": "markdown",
   "metadata": {},
   "source": [
    "# Numbers: int, float, complex"
   ]
  },
  {
   "cell_type": "markdown",
   "metadata": {},
   "source": [
    "## Intigers (Ganzzahl)"
   ]
  },
  {
   "cell_type": "markdown",
   "metadata": {},
   "source": [
    "##### English\n",
    "- **The integer is the number we use when we count things.**\n",
    "- **Integers are like whole numbers**, such as the number of fingers on your hand.\n",
    "- **No decimal points**; they can be positive or negative.\n",
    "- **Watch out for decimal points**; integers don't have them."
   ]
  },
  {
   "cell_type": "markdown",
   "metadata": {},
   "source": [
    "##### Deutsch \n",
    "- **Die Ganzzahl ist die Zahl, die wir verwenden, wenn wir Dinge zählen.**\n",
    "- **Ganzzahlen sind wie ganze Zahlen**, zum Beispiel die Anzahl der Finger an deiner Hand.\n",
    "- **Keine Dezimalstellen**; sie können positiv oder negativ sein.\n",
    "- **Achte auf Dezimalstellen**; Ganzzahlen haben diese nicht.\n",
    "\n"
   ]
  },
  {
   "cell_type": "code",
   "execution_count": 1,
   "metadata": {},
   "outputs": [
    {
     "name": "stdout",
     "output_type": "stream",
     "text": [
      "<class 'int'>\n"
     ]
    }
   ],
   "source": [
    "print(type(3))"
   ]
  },
  {
   "cell_type": "code",
   "execution_count": 2,
   "metadata": {},
   "outputs": [],
   "source": [
    "x = 5"
   ]
  },
  {
   "cell_type": "markdown",
   "metadata": {},
   "source": [
    "#### Variables"
   ]
  },
  {
   "cell_type": "code",
   "execution_count": 3,
   "metadata": {},
   "outputs": [
    {
     "name": "stdout",
     "output_type": "stream",
     "text": [
      "<class 'int'>\n",
      "<class 'int'>\n",
      "<class 'int'>\n"
     ]
    }
   ],
   "source": [
    "### Intiger numbers \n",
    "### Variables\n",
    "x = 5\n",
    "y = -7\n",
    "z = 0\n",
    "\n",
    "print(type(x))  #  Es wird <class 'int'> anzeigen.\n",
    "print(type(y))  #  Es wird <class 'int'> anzeigen.\n",
    "print(type(z))  #  Es wird <class 'int'> anzeigen.)"
   ]
  },
  {
   "cell_type": "code",
   "execution_count": 4,
   "metadata": {
    "tags": []
   },
   "outputs": [
    {
     "name": "stdout",
     "output_type": "stream",
     "text": [
      "15\n"
     ]
    }
   ],
   "source": [
    "result1 = x * 3 # Multiplizieren x by 3\n",
    "print(result1)\n"
   ]
  },
  {
   "cell_type": "code",
   "execution_count": 5,
   "metadata": {},
   "outputs": [
    {
     "name": "stdout",
     "output_type": "stream",
     "text": [
      "-1.0\n"
     ]
    }
   ],
   "source": [
    "result2 = y / 7 # Teile y durch 7.\n",
    "print(result2)"
   ]
  },
  {
   "cell_type": "code",
   "execution_count": 6,
   "metadata": {},
   "outputs": [
    {
     "name": "stdout",
     "output_type": "stream",
     "text": [
      "-3.5\n"
     ]
    }
   ],
   "source": [
    "result3 = (x * y) /10 # Multipliziere x und y und teile das Ergebnis dann durch 10.)\n",
    "print(result3)"
   ]
  },
  {
   "cell_type": "code",
   "execution_count": 7,
   "metadata": {},
   "outputs": [
    {
     "name": "stdout",
     "output_type": "stream",
     "text": [
      "25\n"
     ]
    }
   ],
   "source": [
    "# \n",
    "result4 = x ** 2  # # Calculate the square of x (Berechne das Quadrat von x.)\n",
    "print(result4)"
   ]
  },
  {
   "cell_type": "markdown",
   "metadata": {},
   "source": [
    "##### English\n",
    "- You can do all Math operations  in Python\n",
    "##### Deutsch\n",
    "- Du kannst alle mathematischen Operationen in Python durchführen.\n",
    "\r\n",
    "\r\n",
    ")"
   ]
  },
  {
   "cell_type": "markdown",
   "metadata": {},
   "source": [
    "## Floating-Point Numbers  (Fließkommazahl )"
   ]
  },
  {
   "cell_type": "code",
   "execution_count": 8,
   "metadata": {
    "tags": []
   },
   "outputs": [
    {
     "name": "stdout",
     "output_type": "stream",
     "text": [
      "<class 'float'>\n",
      "<class 'float'>\n",
      "<class 'float'>\n"
     ]
    }
   ],
   "source": [
    "#### (float) \n",
    "\n",
    "a = 3.14\n",
    "b = -0.5\n",
    "c = 2.0 # Auch wenn es eine ganze Zahl ist, wird sie als Fließkommazahl gespeichert.\n",
    "\n",
    "print(type(a))\n",
    "print(type(b))  \n",
    "print(type(c)) "
   ]
  },
  {
   "cell_type": "code",
   "execution_count": 9,
   "metadata": {
    "tags": []
   },
   "outputs": [
    {
     "name": "stdout",
     "output_type": "stream",
     "text": [
      "3\n"
     ]
    }
   ],
   "source": [
    "### Change types from float to int  (Ändere den Typ von Float zu Int.)\n",
    "\n",
    "a = 3.14    # (Zuweisung eines Float-Wertes zur Variablen 'a')\n",
    "a = int(a)  # (Konvertierung des Float 'a' in einen Integer)\n",
    "print(a)   #  ( Drucke den Wert von 'a' nach der Konvertierung)"
   ]
  },
  {
   "cell_type": "code",
   "execution_count": 10,
   "metadata": {},
   "outputs": [
    {
     "name": "stdout",
     "output_type": "stream",
     "text": [
      "<class 'int'>\n"
     ]
    }
   ],
   "source": [
    "print(type(a)) #(Drucke den Typ von 'a', um zu bestätigen, dass es jetzt ein Integer ist"
   ]
  },
  {
   "cell_type": "code",
   "execution_count": 11,
   "metadata": {
    "tags": []
   },
   "outputs": [
    {
     "name": "stdout",
     "output_type": "stream",
     "text": [
      "5.0\n"
     ]
    }
   ],
   "source": [
    "### Change types from into  to float  (Ändere den Typ von Int zu Float.)\n",
    "\n",
    "x = 5  #(Zuweisung eines Integer-Wertes (5) zur Variablen 'x')\n",
    "x = float(x) # # Konvertiere 'x' in einen Float und weise das Ergebnis neu zu 'x' zu\n",
    "print(x) # Drucke den Wert von 'x' nach der Konvertierung"
   ]
  },
  {
   "cell_type": "code",
   "execution_count": 12,
   "metadata": {},
   "outputs": [
    {
     "name": "stdout",
     "output_type": "stream",
     "text": [
      "<class 'float'>\n"
     ]
    }
   ],
   "source": [
    "print(type(x)) # Drucke den Typ von 'x', um zu bestätigen, dass es jetzt ein Float ist"
   ]
  },
  {
   "cell_type": "code",
   "execution_count": 13,
   "metadata": {
    "tags": []
   },
   "outputs": [
    {
     "name": "stdout",
     "output_type": "stream",
     "text": [
      "0\n"
     ]
    }
   ],
   "source": [
    "result1 = int(a * b / 10) # Berechne das Ergebnis von (a * b / 10) und konvertiere es sofort in einen Integer\n",
    "c = a * b / 10 # Speichere das Ergebnis von (a * b / 10) in der Variablen 'c'\n",
    "result2 = int(c) # Konvertiere den Wert von 'c' in einen Integer\n",
    "print(result1)"
   ]
  },
  {
   "cell_type": "code",
   "execution_count": 14,
   "metadata": {},
   "outputs": [
    {
     "name": "stdout",
     "output_type": "stream",
     "text": [
      "0\n"
     ]
    }
   ],
   "source": [
    "print(result2)"
   ]
  },
  {
   "cell_type": "markdown",
   "metadata": {},
   "source": [
    "## Complex Numbers (Komplexe Zahlen)"
   ]
  },
  {
   "cell_type": "code",
   "execution_count": 15,
   "metadata": {},
   "outputs": [
    {
     "name": "stdout",
     "output_type": "stream",
     "text": [
      "<class 'complex'>\n",
      "<class 'complex'>\n",
      "<class 'complex'>\n"
     ]
    }
   ],
   "source": [
    "p = 2 + 3j\n",
    "q = -1.5 - 0.5j\n",
    "r = 0 + 2j\n",
    "\n",
    "print(type(p)) \n",
    "print(type(q))  \n",
    "print(type(r))  "
   ]
  },
  {
   "cell_type": "markdown",
   "metadata": {},
   "source": [
    "  **Key Takeaways**\n",
    "\n",
    "- Python supports various numeric data types, including integers (int), floating-point numbers (float), and complex numbers (complex).\n",
    "- Integers are whole numbers without decimal points and can be positive or negative.\n",
    "- Floating-point numbers have decimal points and can also be positive or negative. Be mindful of potential precision issues.\n",
    "- Complex numbers consist of a real part and an imaginary part, represented with \"j\" or \"J.\" They are used in advanced mathematical calculations.\n",
    "- You can use the type() function to determine the data type of a number.\n",
    "- Math operations can be performed with these numeric data types to perform various calculations in Python."
   ]
  },
  {
   "cell_type": "markdown",
   "metadata": {},
   "source": [
    "**Haupterkenntnisse**\n",
    "- Python unterstützt verschiedene numerische Datentypen, darunter Ganzzahlen (int), Gleitkommazahlen (float) und komplexe Zahlen (complex).\n",
    "- Ganzzahlen sind ganze Zahlen ohne Dezimalstellen und können positiv oder negativ sein.\n",
    "- Gleitkommazahlen haben Dezimalstellen und können ebenfalls positiv oder negativ sein. Beachten Sie mögliche Präzisionsprobleme.\n",
    "- Komplexe Zahlen bestehen aus einem Realteil und einem Imaginärteil, die mit \"j\" oder \"J\" dargestellt werden. Sie werden in fortgeschrittenen mathematischen Berechnungen verwendet.\n",
    "- Sie können die Funktion type() verwenden, um den Datentyp einer Zahl zu ermitteln.\n",
    "- Mit diesen numerischen Datentypen können mathematische Operationen durchgeführt werden, um verschiedene Berechnungen in Python durchzuführen."
   ]
  },
  {
   "cell_type": "markdown",
   "metadata": {},
   "source": [
    "# Time for Practice (Zeit für Übung)"
   ]
  },
  {
   "cell_type": "code",
   "execution_count": 16,
   "metadata": {},
   "outputs": [],
   "source": [
    "#####################################################################################################################################################################################################################"
   ]
  },
  {
   "cell_type": "markdown",
   "metadata": {},
   "source": [
    "# Strings (Zeichenketten): str"
   ]
  },
  {
   "cell_type": "markdown",
   "metadata": {},
   "source": [
    "##### English \n",
    "- Strings are sequences of characters enclosed in single ('') or double (\"\") quotes or  \"\"\"  This is for notes but it is also saved as intiger \"\"\"\n",
    "- You can use single or double quotes interchangeably, but be consistent.\n",
    "- You can include special characters using escape sequences, like \\n for a new line.\n",
    "- Always close a string with the same type of quote that opened it.\n",
    "de."
   ]
  },
  {
   "cell_type": "markdown",
   "metadata": {},
   "source": [
    "##### Deutsch\n",
    "\n",
    "- Zeichenketten sind Sequenzen von Zeichen, die in einfachen ('') oder doppelten (\"\") Anführungszeichen oder \"\"\" (dreifachen Anführungszeichen) eingeschlossen sind.Dies ist für Notizen, wird jedoch auch als Ganzzahl gespeichert.\n",
    "- Sie können einfache oder doppelte Anführungszeichen beliebig verwenden, sollten aber konsistent sein.\n",
    "- Sie können Sonderzeichen mit Escape-Sequenzen wie \\n für einen Zeilenumbruch einfügen.\n",
    "- Schließen Sie immer eine Zeichenkette mit dem gleichen Typ von Anführungszeichen, mit dem sie geöffnet wurde."
   ]
  },
  {
   "cell_type": "code",
   "execution_count": 17,
   "metadata": {},
   "outputs": [
    {
     "name": "stdout",
     "output_type": "stream",
     "text": [
      "Alice\n",
      "Hello, World!\n",
      "This is a string with a new line character: \n",
      "See?\n",
      "You can use single quotes for strings too.\n"
     ]
    }
   ],
   "source": [
    "### String samples\n",
    "\n",
    "name = \"Alice\" #einfachen ('') \n",
    "message = 'Hello, World!' #doppelten (\"\")\n",
    "escaped_string = \"\"\"This is a string with a new line character: \\nSee?\"\"\" # dreifachen Anführungszeichen\n",
    "single_quote_string = 'You can use single quotes for strings too.'\n",
    "\n",
    "print(name) \n",
    "print(message)  \n",
    "print(escaped_string)\n",
    "print(single_quote_string) "
   ]
  },
  {
   "cell_type": "code",
   "execution_count": 18,
   "metadata": {
    "tags": []
   },
   "outputs": [
    {
     "name": "stdout",
     "output_type": "stream",
     "text": [
      "Hello, Alice\n"
     ]
    }
   ],
   "source": [
    "###String Concatenation: (String-Konkatenation:)\n",
    "\n",
    "greeting = \"Hello, \" + name\n",
    "print(greeting)  "
   ]
  },
  {
   "cell_type": "markdown",
   "metadata": {
    "tags": []
   },
   "source": [
    "#### English\n",
    " - You can join strings using the + operator.\n",
    "#### Deutsch\n",
    " - Sie können Zeichenketten mit dem + Operator verbinden."
   ]
  },
  {
   "cell_type": "code",
   "execution_count": 19,
   "metadata": {},
   "outputs": [
    {
     "name": "stdout",
     "output_type": "stream",
     "text": [
      "12\n"
     ]
    }
   ],
   "source": [
    "### String Length: (Zeichenkettenlänge)\n",
    "\n",
    "length = len(greeting)\n",
    "print(length)  # Es wird 12 anzeigen (inklusive Leerzeichen und Zeichen)."
   ]
  },
  {
   "cell_type": "markdown",
   "metadata": {},
   "source": [
    "- You can find the length of a string using the len() function."
   ]
  },
  {
   "cell_type": "code",
   "execution_count": 20,
   "metadata": {},
   "outputs": [
    {
     "name": "stdout",
     "output_type": "stream",
     "text": [
      "H\n",
      "Alice\n"
     ]
    }
   ],
   "source": [
    "### String Indexing and Slicing: (Zeichenketten-Indexierung und Slicing:)\n",
    "\n",
    "first_char = greeting[0]  # Holt das erste Zeichen 'H'.\n",
    "substring = greeting[7:12]  # Holt die Teilkette \"Alice\".\n",
    "print(first_char)\n",
    "print(substring)"
   ]
  },
  {
   "cell_type": "markdown",
   "metadata": {},
   "source": [
    "#### English\n",
    "- You can access individual characters in a string using indexing (starts from 0).\n",
    "- You can slice a string to extract a portion of it using [start:stop] notation.\n",
    "#### Deutsch\n",
    "- Sie können auf einzelne Zeichen in einer Zeichenkette mit Indexierung zugreifen (beginnt bei 0).\r",
    "- \n",
    "Sie können eine Zeichenkette mit der [start:stop]-Notation zuschneiden, um einen Teil davon zu extrahieren."
   ]
  },
  {
   "cell_type": "code",
   "execution_count": 21,
   "metadata": {
    "tags": []
   },
   "outputs": [
    {
     "name": "stdout",
     "output_type": "stream",
     "text": [
      "d r\n"
     ]
    }
   ],
   "source": [
    "### Negative indexing (Negative Indexierung)\n",
    "\n",
    "word = 'Hello World'\n",
    "last_letter = word[-1]\n",
    "third_from_end = word[-3]\n",
    "print(last_letter, third_from_end)"
   ]
  },
  {
   "cell_type": "code",
   "execution_count": 22,
   "metadata": {
    "tags": []
   },
   "outputs": [
    {
     "name": "stdout",
     "output_type": "stream",
     "text": [
      "HELLO, ALICE\n"
     ]
    }
   ],
   "source": [
    "### String Methods: (Methoden für Zeichenketten:)\n",
    "\n",
    "greeting = \"Hello, \" + name\n",
    "uppercase_greeting = greeting.upper()  # Konvertiert die string in Großbuchstaben.\n",
    "print(uppercase_greeting)  # Es wird \"HELLO, ALICE\" anzeigen."
   ]
  },
  {
   "cell_type": "markdown",
   "metadata": {},
   "source": [
    "#### English\n",
    " - Python offers many string methods for manipulating strings, such as upper(), lower(), and replace().\n",
    " - Remember that strings are immutable; methods return new strings."
   ]
  },
  {
   "cell_type": "markdown",
   "metadata": {},
   "source": [
    "#### Deutsch\n",
    "- Pthon bietet viele Zeichenkettenmethoden zur Manipulation von Zeichenketten an, wie z.B. upper(), lower() und replace().\n",
    "- Beachten Sie, dass Zeichenketten unveränderlich (immutable) sind; Methoden geben neue Zeichenketten zurück."
   ]
  },
  {
   "cell_type": "code",
   "execution_count": 23,
   "metadata": {
    "tags": []
   },
   "outputs": [],
   "source": [
    "### Reassign the character\n",
    "\n",
    "word = 'Hello'\n",
    "#word[0] = 'B'  "
   ]
  },
  {
   "cell_type": "markdown",
   "metadata": {},
   "source": [
    "- Deactivate the code above and pay attention to the error. (Deaktiviere den obenstehenden Code und achte auf den Fehler.)\n",
    "- You cannot change a character of the string  (Du kannst ein Zeichen in der Zeichenkette nicht ändern.)"
   ]
  },
  {
   "cell_type": "code",
   "execution_count": 24,
   "metadata": {},
   "outputs": [],
   "source": [
    "### Reassing the variable \n",
    "\n",
    "word = 'aaa' # Weise der Variablen 'word' die Zeichenkette 'aaa' zu\n",
    "word = 'abc' # Weise der Variablen 'word' die Zeichenkette 'abc' zu"
   ]
  },
  {
   "cell_type": "markdown",
   "metadata": {
    "tags": []
   },
   "source": [
    "- You can only reasign the variable to new value"
   ]
  },
  {
   "cell_type": "code",
   "execution_count": 25,
   "metadata": {
    "tags": []
   },
   "outputs": [
    {
     "data": {
      "text/plain": [
       "['__add__',\n",
       " '__class__',\n",
       " '__contains__',\n",
       " '__delattr__',\n",
       " '__dir__',\n",
       " '__doc__',\n",
       " '__eq__',\n",
       " '__format__',\n",
       " '__ge__',\n",
       " '__getattribute__',\n",
       " '__getitem__',\n",
       " '__getnewargs__',\n",
       " '__getstate__',\n",
       " '__gt__',\n",
       " '__hash__',\n",
       " '__init__',\n",
       " '__init_subclass__',\n",
       " '__iter__',\n",
       " '__le__',\n",
       " '__len__',\n",
       " '__lt__',\n",
       " '__mod__',\n",
       " '__mul__',\n",
       " '__ne__',\n",
       " '__new__',\n",
       " '__reduce__',\n",
       " '__reduce_ex__',\n",
       " '__repr__',\n",
       " '__rmod__',\n",
       " '__rmul__',\n",
       " '__setattr__',\n",
       " '__sizeof__',\n",
       " '__str__',\n",
       " '__subclasshook__',\n",
       " 'capitalize',\n",
       " 'casefold',\n",
       " 'center',\n",
       " 'count',\n",
       " 'encode',\n",
       " 'endswith',\n",
       " 'expandtabs',\n",
       " 'find',\n",
       " 'format',\n",
       " 'format_map',\n",
       " 'index',\n",
       " 'isalnum',\n",
       " 'isalpha',\n",
       " 'isascii',\n",
       " 'isdecimal',\n",
       " 'isdigit',\n",
       " 'isidentifier',\n",
       " 'islower',\n",
       " 'isnumeric',\n",
       " 'isprintable',\n",
       " 'isspace',\n",
       " 'istitle',\n",
       " 'isupper',\n",
       " 'join',\n",
       " 'ljust',\n",
       " 'lower',\n",
       " 'lstrip',\n",
       " 'maketrans',\n",
       " 'partition',\n",
       " 'removeprefix',\n",
       " 'removesuffix',\n",
       " 'replace',\n",
       " 'rfind',\n",
       " 'rindex',\n",
       " 'rjust',\n",
       " 'rpartition',\n",
       " 'rsplit',\n",
       " 'rstrip',\n",
       " 'split',\n",
       " 'splitlines',\n",
       " 'startswith',\n",
       " 'strip',\n",
       " 'swapcase',\n",
       " 'title',\n",
       " 'translate',\n",
       " 'upper',\n",
       " 'zfill']"
      ]
     },
     "execution_count": 25,
     "metadata": {},
     "output_type": "execute_result"
    }
   ],
   "source": [
    "### dir function\n",
    "\n",
    "dir(greeting) # Es druckt die Methoden und Funktionen\n"
   ]
  },
  {
   "cell_type": "markdown",
   "metadata": {
    "tags": []
   },
   "source": [
    "#### English \n",
    " - The dir() function is used to inspect and retrieve a list of methods and attributes associated with a given variable.\n",
    "   \n",
    "#### Deutsch \n",
    " - Die `dir()` Funktion wird verwendet, um eine gegebene Variable zu inspizieren und eine Liste der damit verbundenen Methoden und Attribute abzurufen.\r\n"
   ]
  },
  {
   "cell_type": "code",
   "execution_count": 26,
   "metadata": {
    "tags": []
   },
   "outputs": [
    {
     "data": {
      "text/plain": [
       "['Hello,', 'Alice']"
      ]
     },
     "execution_count": 26,
     "metadata": {},
     "output_type": "execute_result"
    }
   ],
   "source": [
    "greeting.split() # Teilt den Gruß in eine Liste von Wörtern auf."
   ]
  },
  {
   "cell_type": "code",
   "execution_count": 27,
   "metadata": {
    "tags": []
   },
   "outputs": [
    {
     "name": "stdout",
     "output_type": "stream",
     "text": [
      "ofofo\n"
     ]
    }
   ],
   "source": [
    "original_string = \" ofofo \" # Wir beginnen mit einem String, der am Anfang und am Ende zusätzliche Leerzeichen hat.\n",
    "stripped_string = original_string.strip() # Mit der Methode `strip()` entfernen wir die zusätzlichen Leerzeichen.\n",
    "print(stripped_string) "
   ]
  },
  {
   "cell_type": "code",
   "execution_count": 28,
   "metadata": {
    "tags": []
   },
   "outputs": [
    {
     "name": "stdout",
     "output_type": "stream",
     "text": [
      "fof\n"
     ]
    }
   ],
   "source": [
    "original_string = \"ofofo\" \n",
    "stripped_string = original_string.strip(\"o\") # Mit der Methode `strip(\"o\")` entfernen wir die führenden und abschließenden 'o'-Zeichen.\n",
    "print(stripped_string) #Abschließend drucken wir das Ergebnis, welches der bereinigte String ist, bei dem 'o' vom Anfang und Ende entfernt wurde."
   ]
  },
  {
   "cell_type": "code",
   "execution_count": 29,
   "metadata": {
    "tags": []
   },
   "outputs": [
    {
     "name": "stdout",
     "output_type": "stream",
     "text": [
      "My name is Alica and I am 30 years old.\n"
     ]
    }
   ],
   "source": [
    "### String Formatting:( F string method) \n",
    "\n",
    "name = 'Alica' \n",
    "age = 30 \n",
    "f_string = f\"My name is {name} and I am {age} years old.\" # Erstellen Sie einen F-String, um einen Satz mit den Variablen 'name' und 'age' zu formatieren.\n",
    "print(f_string) "
   ]
  },
  {
   "cell_type": "code",
   "execution_count": 30,
   "metadata": {
    "tags": []
   },
   "outputs": [
    {
     "name": "stdout",
     "output_type": "stream",
     "text": [
      "My name is Alica and I am 30 years old.\n"
     ]
    }
   ],
   "source": [
    "### Format method\n",
    "\n",
    "formatted_string = \"My name is {} and I am {} years old.\".format(name, age) # Erstellen Sie einen String mit Platzhaltern und verwenden Sie dann die Methode `.format()`, um sie auszufüllen.\n",
    "print(formatted_string) "
   ]
  },
  {
   "cell_type": "markdown",
   "metadata": {
    "tags": []
   },
   "source": [
    "#### English \n",
    "- You can format strings using f-strings or the `format()' method.\n",
    "#### Deutsch \n",
    "- Sie können Strings mit F-Strings oder der `format()`-Methode formatieren.\r\n",
    "\r\n",
    "\r\n",
    "\r\n"
   ]
  },
  {
   "cell_type": "code",
   "execution_count": 31,
   "metadata": {
    "tags": []
   },
   "outputs": [
    {
     "name": "stdout",
     "output_type": "stream",
     "text": [
      "Tom 's pen is blue\n"
     ]
    }
   ],
   "source": [
    "### Escape character (Escape-Zeichen)\n",
    "\n",
    "#print('Tom 's pen is blue') # es wird einen Fehler geben\n",
    "print('Tom \\'s pen is blue') "
   ]
  },
  {
   "cell_type": "markdown",
   "metadata": {},
   "source": [
    "#### English \n",
    "The backslash is used in a few other important combinations as well:\\\n",
    "- \\n indicates a line break \n",
    "- \\t indicates a tab or indent\n",
    "#### Deutsch \n",
    "Der Backslash wird auch in einigen anderen wichtigen Kombinationen verwendet:\r\n",
    "- `\\n` zeigt einen Zeilenumbruch an\r\n",
    "- `\\t` zeigt einen Tabulator oder Einzug an"
   ]
  },
  {
   "cell_type": "code",
   "execution_count": 32,
   "metadata": {},
   "outputs": [
    {
     "name": "stdout",
     "output_type": "stream",
     "text": [
      "Single-quoted string: Tom 's pen\n",
      "Length of the single-quoted string: 10\n"
     ]
    }
   ],
   "source": [
    "### Escape character isn't  part of the text\n",
    "\n",
    "single_quote_string = 'Tom \\'s pen'  # Dies ist der einfach-quotierte String mit einem Escape-Zeichen.\n",
    "double_quote_string = \"Tom 's pen\"  # Dies ist der doppelt-quotierte String ohne ein Escape-Zeichen.\n",
    "print(f\"Single-quoted string: {single_quote_string}\")\n",
    "print(f\"Length of the single-quoted string: {len(single_quote_string)}\") \n"
   ]
  },
  {
   "cell_type": "code",
   "execution_count": 33,
   "metadata": {},
   "outputs": [
    {
     "name": "stdout",
     "output_type": "stream",
     "text": [
      "Double-quoted string: Tom 's pen\n",
      "Length of the double-quoted string: 10\n"
     ]
    }
   ],
   "source": [
    "\n",
    "print(f\"Double-quoted string: {double_quote_string}\") \n",
    "print(f\"Length of the double-quoted string: {len(double_quote_string)}\") "
   ]
  },
  {
   "cell_type": "markdown",
   "metadata": {},
   "source": [
    "#### English \n",
    " - Note that the escape character isn't considered part of the text.\n",
    "#### Deutsch \n",
    "- Beachten Sie, dass das Escape-Zeichen nicht als Teil des Texts betrachtet wird.\r\n"
   ]
  },
  {
   "cell_type": "code",
   "execution_count": 34,
   "metadata": {
    "tags": []
   },
   "outputs": [
    {
     "name": "stdout",
     "output_type": "stream",
     "text": [
      "Replaced Word: my name is khan\n",
      "Original Word (Unchanged): my name is khan\n"
     ]
    }
   ],
   "source": [
    "### replace() replaces characters or sequences of characters in the string (ersetzt Zeichen oder Zeichenfolgen im String)\n",
    "\n",
    "word = 'my name is khan' \n",
    "new_word = word.replace('My', 'Your') # Verwenden Sie die Methode `replace()` um 'My' im String durch 'Your' zu ersetzen.\n",
    "print(f'Replaced Word: {new_word}') \n",
    "print(f'Original Word (Unchanged): {word}') "
   ]
  },
  {
   "cell_type": "markdown",
   "metadata": {},
   "source": [
    "#### English \n",
    " - Note: This method doesn't modify the original string; it returns a new string with the replacement.\n",
    " - You should assign the result to a variable if you want to keep or work with the modified string.\n",
    "#### Deutsch \n",
    "- Hinweis: Diese Methode ändert den ursprünglichen String nicht; sie gibt einen neuen String mit der Ersetzung zurück.\r\n",
    "- Sie sollten das Ergebnis einer Variablen zuweisen, wenn Sie den modifizierten String behalten oder damit arbeiten möchten.\r\n"
   ]
  },
  {
   "cell_type": "code",
   "execution_count": 35,
   "metadata": {
    "tags": []
   },
   "outputs": [
    {
     "name": "stdout",
     "output_type": "stream",
     "text": [
      "Index of first 'hello': 5\n"
     ]
    }
   ],
   "source": [
    "#find() searches for a substring in a string (sucht nach einer Teilzeichenkette in einem String.)\n",
    "\n",
    "word = 'hey, hello, hello, hello, how low?' \n",
    "idx = word.find('hello') # Verwenden Sie die Methode `find()`, um nach dem ersten Vorkommen von 'hello' im String zu suchen.\n",
    "print(f\"Index of first 'hello': {idx}\") "
   ]
  },
  {
   "cell_type": "code",
   "execution_count": 36,
   "metadata": {
    "tags": []
   },
   "outputs": [
    {
     "name": "stdout",
     "output_type": "stream",
     "text": [
      "Index of 'hello' in the range (7 to 10): 5\n"
     ]
    }
   ],
   "source": [
    "# Use the find() method with optional start and end positions (Methode mit optionalen Start- und Endpositionen.)\n",
    "\n",
    "idx = word.find('hello', 3, 10) # Dies sucht nach 'hello' innerhalb des angegebenen Bereichs (3 bis 10).\n",
    "print(f\"Index of 'hello' in the range (7 to 10): {idx}\") "
   ]
  },
  {
   "cell_type": "code",
   "execution_count": 37,
   "metadata": {
    "tags": []
   },
   "outputs": [
    {
     "name": "stdout",
     "output_type": "stream",
     "text": [
      "Index of : -1\n"
     ]
    }
   ],
   "source": [
    "idx = word.find('hallo') \n",
    "print(f\"Index of : {idx}\")  "
   ]
  },
  {
   "cell_type": "markdown",
   "metadata": {},
   "source": [
    "#### English \n",
    "- The result is the index of the first 'hello' found within that range or -1 if not foun\n",
    "#### Deutsch \n",
    "- Das Ergebnis ist der Index des ersten gefundenen 'hello' innerhalb dieses Bereichs oder -1, wenn es nicht gefunden wurde.\r\n",
    "\n"
   ]
  },
  {
   "cell_type": "code",
   "execution_count": 38,
   "metadata": {},
   "outputs": [
    {
     "data": {
      "text/plain": [
       "'hey, hello, hello, hello, how low?'"
      ]
     },
     "execution_count": 38,
     "metadata": {},
     "output_type": "execute_result"
    }
   ],
   "source": [
    "word"
   ]
  },
  {
   "cell_type": "code",
   "execution_count": 39,
   "metadata": {
    "tags": []
   },
   "outputs": [
    {
     "name": "stdout",
     "output_type": "stream",
     "text": [
      "Index of : -1\n"
     ]
    }
   ],
   "source": [
    " # find () method is case-sensitive (Die Methode ist groß- und kleinschreibungsempfindlich.)\n",
    "    \n",
    "idx = word.find('Hello')  \n",
    "print(f\"Index of : {idx}\")  "
   ]
  },
  {
   "cell_type": "code",
   "execution_count": 40,
   "metadata": {},
   "outputs": [
    {
     "name": "stdout",
     "output_type": "stream",
     "text": [
      "My name is Khan\n"
     ]
    }
   ],
   "source": [
    "# Adding Strings (Hinzufügen von Zeichenketten.)\n",
    "\n",
    "print('My' + \" \" + 'name' + ' is ' + 'Khan')"
   ]
  },
  {
   "cell_type": "code",
   "execution_count": 41,
   "metadata": {
    "scrolled": true
   },
   "outputs": [
    {
     "name": "stdout",
     "output_type": "stream",
     "text": [
      "This is number 0.1.\n",
      "This is number 0.06.\n",
      "This is number 0.062\n"
     ]
    }
   ],
   "source": [
    "### Formatting numbers (Formatieren von Zahlen.)\n",
    "\n",
    "number = 0.0623\n",
    "print(f'This is number {number:.1f}.') \n",
    "print(f'This is number {number:.2f}.') \n",
    "print(f'This is number {number:.3f}') "
   ]
  },
  {
   "cell_type": "markdown",
   "metadata": {
    "jp-MarkdownHeadingCollapsed": true
   },
   "source": [
    "**Key Takeaways**\n",
    "\n",
    "- Strings in Python are sequences of characters enclosed in single (') or double (\") quotes. \n",
    "- You can use escape sequences, like \\n for a new line, to include special characters in strings.\n",
    "- String concatenation allows you to join strings together using the + operator.\n",
    "- The len() function can be used to find the length (number of characters) in a string.\n",
    "- You can access individual characters in a string using indexing, which starts from 0.\n",
    "- String slicing allows you to extract substrings using [start:stop] notation.\n",
    "- Python offers various string methods (e.g., upper(), lower(), replace()) for string manipulation.\n",
    "- Keep in mind that strings are immutable; when you modify a string, it creates a new string.\n",
    "- String formatting can be done using f-strings or the format() method to insert variables or values into a string.\n",
    "- Understanding strings is essential for working with text data, user input, and text processing in Python."
   ]
  },
  {
   "cell_type": "markdown",
   "metadata": {},
   "source": [
    "**Wichtige Erkenntnisse**\r\n",
    "\r\n",
    "- Zeichenketten (Strings) in Python sind Sequenzen von Zeichen, die in einfachen (') oder doppelten (\") Anführungszeichen eingeschlossen sind.\r\n",
    "- Sie können Escape-Sequenzen wie \\n für einen Zeilenumbruch verwenden, um Sonderzeichen in Zeichenketten einzufügen.\r\n",
    "- Zeichenkettenverkettung ermöglicht es Ihnen, Zeichenketten mithilfe des + Operators zu verbinden.\r\n",
    "- Die Funktion len() kann verwendet werden, um die Länge (Anzahl der Zeichen) in einer Zeichenkette zu ermitteln.\r\n",
    "- Sie können auf einzelne Zeichen in einer Zeichenkette über Indexierung zugreifen, die bei 0 beginnt.\r\n",
    "- Mit Zeichenketten-Slicing können Sie Teilzeichenketten mithilfe der Notation [start:stop] extrahieren.\r\n",
    "- Python bietet verschiedene Zeichenkettenmethoden (z. B. upper(), lower(), replace()) zur Zeichenkettenmanipulation.\r\n",
    "- Beachten Sie, dass Zeichenketten unveränderlich (immutable) sind. Wenn Sie eine Zeichenkette ändern, wird eine neue Zeichenkette erstellt.\r\n",
    "- Die Formatierung von Zeichenketten kann mithilfe von F-Strings oder der Methode format() durchgeführt werden, um Variablen oder Werte in eine Zeichenkette einzufügen.\r\n",
    "- Das Verständnis von Zeichenketten ist wichtig für die Arbeit mit Textdaten, Benutzereingaben und Textverarbeitung in Python.\r\n",
    "ython.                                                                        \n",
    "                                                                                 "
   ]
  },
  {
   "cell_type": "markdown",
   "metadata": {},
   "source": [
    "# Time for Practice (Zeit für Übung)"
   ]
  },
  {
   "cell_type": "code",
   "execution_count": 42,
   "metadata": {},
   "outputs": [],
   "source": [
    "##################################################################################################################################################################################################################"
   ]
  },
  {
   "cell_type": "markdown",
   "metadata": {},
   "source": [
    "#  Boolean\n"
   ]
  },
  {
   "cell_type": "markdown",
   "metadata": {
    "tags": []
   },
   "source": [
    "#### English \n",
    "-  Boolean values represent true or false conditions.\n",
    "#### Deutsch \n",
    "  - Boolesche Werte repräsentieren wahre oder falsche Bedingungen.\n",
    ")"
   ]
  },
  {
   "cell_type": "code",
   "execution_count": 43,
   "metadata": {
    "tags": []
   },
   "outputs": [
    {
     "data": {
      "text/plain": [
       "True"
      ]
     },
     "execution_count": 43,
     "metadata": {},
     "output_type": "execute_result"
    }
   ],
   "source": [
    "# True is a boolean value representing a true condition. (# True ist ein boolescher Wert, der eine wahre Bedingung repräsentiert)\n",
    "\n",
    "True "
   ]
  },
  {
   "cell_type": "code",
   "execution_count": 44,
   "metadata": {
    "tags": []
   },
   "outputs": [
    {
     "data": {
      "text/plain": [
       "False"
      ]
     },
     "execution_count": 44,
     "metadata": {},
     "output_type": "execute_result"
    }
   ],
   "source": [
    "# False is a boolean value representing a false condition. (False ist ein boolescher Wert, der eine falsche Bedingung repräsentiert.)\n",
    "\n",
    "False"
   ]
  },
  {
   "cell_type": "code",
   "execution_count": 45,
   "metadata": {
    "tags": []
   },
   "outputs": [
    {
     "data": {
      "text/plain": [
       "bool"
      ]
     },
     "execution_count": 45,
     "metadata": {},
     "output_type": "execute_result"
    }
   ],
   "source": [
    "# Using the type() function to check the data type of True. (Verwenden der Funktion type(), um den Datentyp von True zu überprüfen)\n",
    "\n",
    "type(True)"
   ]
  },
  {
   "cell_type": "code",
   "execution_count": 46,
   "metadata": {},
   "outputs": [
    {
     "data": {
      "text/plain": [
       "False"
      ]
     },
     "execution_count": 46,
     "metadata": {},
     "output_type": "execute_result"
    }
   ],
   "source": [
    "# Vergleich von Ganzzahlen mit dem Gleichheitsoperator (==).\n",
    "\n",
    "5 == 4 # 5 ist nicht gleich 4, daher ergibt dieser Ausdruck False."
   ]
  },
  {
   "cell_type": "code",
   "execution_count": 47,
   "metadata": {},
   "outputs": [
    {
     "data": {
      "text/plain": [
       "True"
      ]
     },
     "execution_count": 47,
     "metadata": {},
     "output_type": "execute_result"
    }
   ],
   "source": [
    "# 1 ist gleich 1, daher ergibt dieser Ausdruck True.\n",
    "\n",
    "1 == 1"
   ]
  },
  {
   "cell_type": "code",
   "execution_count": 48,
   "metadata": {},
   "outputs": [
    {
     "data": {
      "text/plain": [
       "bool"
      ]
     },
     "execution_count": 48,
     "metadata": {},
     "output_type": "execute_result"
    }
   ],
   "source": [
    "# Verwenden der Funktion type(), um den Datentyp des Ergebnisses des Vergleichs zu überprüfen.\n",
    "\n",
    "type(3 == 2)"
   ]
  },
  {
   "cell_type": "code",
   "execution_count": 49,
   "metadata": {
    "tags": []
   },
   "outputs": [
    {
     "name": "stdout",
     "output_type": "stream",
     "text": [
      "is_student: True\n",
      "is_adult: False\n"
     ]
    }
   ],
   "source": [
    "### Boolean Variables:\n",
    "\n",
    "# - Booleans can be assigned to variables. They can only have two values: True or False.\n",
    "\n",
    "is_student = True  # This variable indicates whether someone is a student (True) or not (False).\n",
    "is_adult = False   # This variable indicates whether someone is an adult (True) or not (False).\n",
    "\n",
    "print(f'is_student: {is_student}')\n",
    "print(f'is_adult: {is_adult}')\n"
   ]
  },
  {
   "cell_type": "code",
   "execution_count": 50,
   "metadata": {
    "tags": []
   },
   "outputs": [
    {
     "name": "stdout",
     "output_type": "stream",
     "text": [
      "is_teenager: True\n",
      "is_elderly: False\n"
     ]
    }
   ],
   "source": [
    "### Comparison Operators: (Vergleichsoperatoren:)\n",
    "\n",
    "# - Booleans often result from comparisons using operators like == (equal) or != (not equal).\n",
    "# - - Booleans ergeben sich oft aus Vergleichen unter Verwendung von Operatoren wie == (gleich) oder != (ungleich).\n",
    "\n",
    "age = 18\n",
    "is_teenager =age == 18  # Dies ist wahr, wenn 'age' gleich 18 ist.\n",
    "is_elderly = age >= 65  # Dies ist wahr, wenn 'age' größer oder gleich 65 ist.\n",
    "\n",
    "print(f'is_teenager: {is_teenager}')\n",
    "print(f'is_elderly: {is_elderly}')\n"
   ]
  },
  {
   "cell_type": "code",
   "execution_count": 51,
   "metadata": {
    "tags": []
   },
   "outputs": [
    {
     "name": "stdout",
     "output_type": "stream",
     "text": [
      "is_student_and_teenager: True\n",
      "is_adult_or_elderly: False\n",
      "is_not_adult: True\n"
     ]
    }
   ],
   "source": [
    "###  Logical Operators: (Logische Operatoren:)\n",
    "\n",
    "# - Logical operators (and, or, not) are used to combine or invert boolean values.\n",
    "is_student_and_teenager = is_student and is_teenager  # Wahr, wenn sowohl 'is_student' als auch 'is_teenager' wahr sind.\n",
    "is_adult_or_elderly = is_adult or is_elderly  # Wahr, wenn entweder 'is_adult' oder 'is_elderly' wahr ist.\n",
    "is_not_adult = not is_adult  # Wahr, wenn 'is_adult' falsch (False) ist.\n",
    "\n",
    "print(f'is_student_and_teenager: {is_student_and_teenager}')\n",
    "print(f'is_adult_or_elderly: {is_adult_or_elderly}')\n",
    "print(f'is_not_adult: {is_not_adult}')"
   ]
  },
  {
   "cell_type": "markdown",
   "metadata": {
    "tags": []
   },
   "source": [
    "#### English \n",
    "\n",
    "**Key Takeaways**\n",
    "\n",
    "- **Why It's Important**:\n",
    "- Booleans are fundamental for decision-making in programming, like if statements and loops.\n",
    "- They help control the flow of a program based on conditions.\n",
    "- Booleans are used for testing, validation, and making your code responsive to different situations.\n",
    "- **Common Mistakes**:\n",
    " - Misusing assignment operator (=) instead of equality operator (==) in comparisons.\n",
    " - Forgetting the capitalization: 'True' and 'False' are case-sensitive in Python.\n"
   ]
  },
  {
   "cell_type": "markdown",
   "metadata": {},
   "source": [
    "#### Deutsch \n",
    "\n",
    "**Wichtige Erkenntnisse**\n",
    "\n",
    "Warum ist es wichtig:\n",
    "- Boolesche Werte sind grundlegend für Entscheidungsfindung in der Programmierung, wie bei If-Anweisungen und Schleifen.\n",
    "- Sie helfen dabei, den Programmfluss basierend auf Bedingungen zu steuern.\n",
    "- Boolesche Werte werden für Tests, Validierungen und die Anpassung Ihres Codes an unterschiedliche Situationen verwendet.\n",
    "\n",
    "Häufige Fehler:\n",
    "- Fehlende Verwendung des Zuweisungsoperators (=) anstelle des Gleichheitsoperators (==) bei Vergleichen.\n",
    "- Vergessen der Großschreibung: 'True' und 'False' sind in Python groß- und kleinschreibungsempfindlich.\n"
   ]
  },
  {
   "cell_type": "markdown",
   "metadata": {},
   "source": [
    "# Time for Practice (Zeit für Übung)"
   ]
  },
  {
   "cell_type": "markdown",
   "metadata": {},
   "source": [
    "## Bitte öffnen Sie die 1. Practice Intrucation und bearbeiten Sie den Abschnitt # Bool .\n",
    "## Please open 1. Practice Instruction file and do the # Bool."
   ]
  },
  {
   "cell_type": "code",
   "execution_count": 52,
   "metadata": {},
   "outputs": [],
   "source": [
    "##################################################################################################################################################################################################################"
   ]
  },
  {
   "cell_type": "markdown",
   "metadata": {},
   "source": [
    "\n",
    "#  Lists \n"
   ]
  },
  {
   "cell_type": "markdown",
   "metadata": {},
   "source": [
    "#### English \n",
    "- A list is a versatile and ordered collection of items that can be of different data types.\n",
    "- Lists are created by placing items (elements) inside square brackets [ ], separated by commas.\n",
    "- Lists are mutable, which means you can change their content after they are created."
   ]
  },
  {
   "cell_type": "markdown",
   "metadata": {},
   "source": [
    "#### Deutsch \n",
    "- Eine Liste ist eine vielseitige und geordnete Sammlung von Elementen, die unterschiedliche Datentypen haben können.\r\n",
    "- Listen werden erstellt, indem Elemente in eckigen Klammern [ ] platziert werden, getrennt durch Kommas.\r\n",
    "- Listen sind veränderbar, das bedeutet, dass Sie ihren Inhalt nach ihrer Erstellung ändern können.\r\n"
   ]
  },
  {
   "cell_type": "code",
   "execution_count": 53,
   "metadata": {
    "tags": []
   },
   "outputs": [
    {
     "name": "stdout",
     "output_type": "stream",
     "text": [
      "fruits: ['apple', 'banana', 'cherry']\n",
      "numbers: [1, 2, 3, 4, 5]\n",
      "mixed_list: ['apple', 3, 5.6, True]\n"
     ]
    }
   ],
   "source": [
    "###  Creating Lists: (Erstellen von Listen:)\n",
    "\n",
    "fruits = [\"apple\", \"banana\", \"cherry\"]\n",
    "numbers = [1, 2, 3, 4, 5]\n",
    "mixed_list = [\"apple\", 3, 5.6, True]\n",
    "\n",
    "print(f'fruits: {fruits}')\n",
    "print(f'numbers: {numbers}')\n",
    "print(f'mixed_list: {mixed_list}')"
   ]
  },
  {
   "cell_type": "code",
   "execution_count": 54,
   "metadata": {},
   "outputs": [
    {
     "name": "stdout",
     "output_type": "stream",
     "text": [
      "The data type of 'elements' is: <class 'list'>\n"
     ]
    }
   ],
   "source": [
    "#type()\n",
    "\n",
    "print(f\"The data type of 'elements' is: {type(fruits)}\")"
   ]
  },
  {
   "cell_type": "markdown",
   "metadata": {},
   "source": [
    "#### English \n",
    "- Lists are created using square brackets [] and can contain various data types.\n",
    "#### Deutsch \n",
    "- Listen werden mit eckigen Klammern [] erstellt und können verschiedene Datentypen enthalten.\r\n"
   ]
  },
  {
   "cell_type": "code",
   "execution_count": 55,
   "metadata": {},
   "outputs": [
    {
     "name": "stdout",
     "output_type": "stream",
     "text": [
      "first_fruit: apple\n",
      "last_number: 5\n"
     ]
    }
   ],
   "source": [
    "# Accessing Elements:\n",
    "\n",
    "first_fruit = fruits[0]  # Gets the first item, which is \"apple\".\n",
    "last_number = numbers[-1]  # Gets the last item, which is 5.\n",
    "\n",
    "print(f'first_fruit: {first_fruit}')\n",
    "print(f'last_number: {last_number}')"
   ]
  },
  {
   "cell_type": "markdown",
   "metadata": {},
   "source": [
    "#### English \n",
    "- You can access list elements by their index, which starts at 0.\n",
    "#### Deutsch \n",
    "- Sie können auf Listenelemente über ihren Index zugreifen, der bei 0 beginnt.\n"
   ]
  },
  {
   "cell_type": "code",
   "execution_count": 56,
   "metadata": {},
   "outputs": [
    {
     "name": "stdout",
     "output_type": "stream",
     "text": [
      "[1, 2, 99, 4, 5]\n"
     ]
    }
   ],
   "source": [
    "# - Lists are mutable; you can change their content. (Listen sind veränderbar; Sie können ihren Inhalt ändern.)\n",
    "numbers = [1, 2, 3, 4, 5]\n",
    "numbers[2] = 99  # Ändert das dritte Element auf 99. Python bietet Methoden für häufige Listenoperationen.\n",
    "print(numbers)"
   ]
  },
  {
   "cell_type": "markdown",
   "metadata": {},
   "source": [
    "#### English \n",
    "- Lists are mutable; you can change their content.\n",
    "#### Deutsch \n",
    "- Listen sind veränderbar; Sie können ihren Inhalt ändern.\r\n"
   ]
  },
  {
   "cell_type": "code",
   "execution_count": 57,
   "metadata": {
    "tags": []
   },
   "outputs": [
    {
     "name": "stdout",
     "output_type": "stream",
     "text": [
      "subset_fruits: ['banana', 'cherry']\n",
      "partial_numbers: [1, 2, 99]\n"
     ]
    }
   ],
   "source": [
    "# Slicing Lists:\n",
    "\n",
    "subset_fruits = fruits[1:3]  # Erhält einen Ausschnitt, [\"Banane\", \"Kirsche\"].\n",
    "partial_numbers = numbers[:3]  # Erhält die ersten 3 Elemente, [1, 2, 3].\n",
    "\n",
    "print(f'subset_fruits: {subset_fruits}')\n",
    "print(f'partial_numbers: {partial_numbers}')"
   ]
  },
  {
   "cell_type": "markdown",
   "metadata": {},
   "source": [
    "#### English \n",
    "- Slicing allows you to get a portion of the list.\n",
    "#### Deutsch \n",
    "- Das Slicing ermöglicht es Ihnen, einen Teil der Liste zu erhalten.\r\n"
   ]
  },
  {
   "cell_type": "code",
   "execution_count": 58,
   "metadata": {
    "tags": []
   },
   "outputs": [],
   "source": [
    "# Create a list of fruits (Erstellen Sie eine Liste von Früchten.)\n",
    "\n",
    "fruits = [\"apple\", \"banana\", \"cherry\", \"date\", \"elderberry\"]"
   ]
  },
  {
   "cell_type": "code",
   "execution_count": 59,
   "metadata": {},
   "outputs": [
    {
     "data": {
      "text/plain": [
       "['__add__',\n",
       " '__class__',\n",
       " '__class_getitem__',\n",
       " '__contains__',\n",
       " '__delattr__',\n",
       " '__delitem__',\n",
       " '__dir__',\n",
       " '__doc__',\n",
       " '__eq__',\n",
       " '__format__',\n",
       " '__ge__',\n",
       " '__getattribute__',\n",
       " '__getitem__',\n",
       " '__getstate__',\n",
       " '__gt__',\n",
       " '__hash__',\n",
       " '__iadd__',\n",
       " '__imul__',\n",
       " '__init__',\n",
       " '__init_subclass__',\n",
       " '__iter__',\n",
       " '__le__',\n",
       " '__len__',\n",
       " '__lt__',\n",
       " '__mul__',\n",
       " '__ne__',\n",
       " '__new__',\n",
       " '__reduce__',\n",
       " '__reduce_ex__',\n",
       " '__repr__',\n",
       " '__reversed__',\n",
       " '__rmul__',\n",
       " '__setattr__',\n",
       " '__setitem__',\n",
       " '__sizeof__',\n",
       " '__str__',\n",
       " '__subclasshook__',\n",
       " 'append',\n",
       " 'clear',\n",
       " 'copy',\n",
       " 'count',\n",
       " 'extend',\n",
       " 'index',\n",
       " 'insert',\n",
       " 'pop',\n",
       " 'remove',\n",
       " 'reverse',\n",
       " 'sort']"
      ]
     },
     "execution_count": 59,
     "metadata": {},
     "output_type": "execute_result"
    }
   ],
   "source": [
    "dir(fruits)"
   ]
  },
  {
   "cell_type": "code",
   "execution_count": 60,
   "metadata": {
    "tags": []
   },
   "outputs": [
    {
     "name": "stdout",
     "output_type": "stream",
     "text": [
      "Fruits after removing 'banana': ['apple', 'cherry', 'date', 'elderberry']\n"
     ]
    }
   ],
   "source": [
    "# Remove \"banana\" from the 'fruits' list using the remove() method. \n",
    "# Entfernen Sie \"Banane\" aus der 'fruits'-Liste mithilfe der Methode `remove()`\n",
    "\n",
    "fruits.remove(\"banana\")  # This method removes \"banana\" from the list\n",
    "print(f\"Fruits after removing 'banana': {fruits}\")"
   ]
  },
  {
   "cell_type": "code",
   "execution_count": 61,
   "metadata": {
    "tags": []
   },
   "outputs": [
    {
     "name": "stdout",
     "output_type": "stream",
     "text": [
      "Fruits after popping the last item: ['apple', 'cherry', 'date']\n"
     ]
    }
   ],
   "source": [
    "# Remove the last item from the 'fruits' list using the pop() method\n",
    "#Entfernen Sie das letzte Element aus der 'fruits'-Liste mithilfe der Methode `pop()`.\n",
    "\n",
    "fruits.pop() # Dies wird 'elderberry' entfernen, da es das letzte Element in der Liste ist.\n",
    "print(f\"Fruits after popping the last item: {fruits}\")"
   ]
  },
  {
   "cell_type": "code",
   "execution_count": 62,
   "metadata": {
    "scrolled": true,
    "tags": []
   },
   "outputs": [
    {
     "name": "stdout",
     "output_type": "stream",
     "text": [
      "Fruits after popping the last item: ['apple', 'date']\n"
     ]
    }
   ],
   "source": [
    "\n",
    "fruits.pop(1) # Dies wird das Element, das sich an der Indexposition 1 befindet, entfernen.\n",
    "print(f\"Fruits after popping the last item: {fruits}\")"
   ]
  },
  {
   "cell_type": "code",
   "execution_count": 63,
   "metadata": {},
   "outputs": [
    {
     "name": "stdout",
     "output_type": "stream",
     "text": [
      "this is the  listed after sort [0, 2, 3, 4, 5, 10, 12]\n"
     ]
    }
   ],
   "source": [
    "# Sorts the 'numbers' list in ascending order. (Sortiert die 'numbers'-Liste in aufsteigender Reihenfolge.)\n",
    "\n",
    "numbers = [12, 2, 4, 5, 10,0, 3]\n",
    "numbers.sort() \n",
    "print(f'this is the  listed after sort {numbers}')"
   ]
  },
  {
   "cell_type": "code",
   "execution_count": 64,
   "metadata": {},
   "outputs": [
    {
     "name": "stdout",
     "output_type": "stream",
     "text": [
      "this is the  listed after sort [12, 10, 5, 4, 3, 2, 0]\n"
     ]
    }
   ],
   "source": [
    "# Sorts the 'numbers' list in descending order. (Sortiert die 'numbers'-Liste in absteigender Reihenfolge)\n",
    "\n",
    "numbers = [12, 2, 4, 5, 10,0, 3]\n",
    "numbers.sort(reverse=True) \n",
    "print(f'this is the  listed after sort {numbers}')"
   ]
  },
  {
   "cell_type": "code",
   "execution_count": 65,
   "metadata": {},
   "outputs": [
    {
     "name": "stdout",
     "output_type": "stream",
     "text": [
      "['A', 'B', 'C', 'D', 'a', 'b']\n"
     ]
    }
   ],
   "source": [
    "#sort() method to sort the 'alphabet' list (# Verwenden Sie die Methode sort(), um die 'alphabet'-Liste zu sortieren)\n",
    "\n",
    "alphabet= ['A', 'a', 'B', 'C', 'D', 'b']\n",
    "alphabet.sort()  #Verwenden Sie die Methode sort(), um die 'alphabet'-Liste in aufsteigender Reihenfolge (groß- und kleinschreibungsempfindlich) zu sortieren.\n",
    "print(alphabet)"
   ]
  },
  {
   "cell_type": "code",
   "execution_count": 66,
   "metadata": {},
   "outputs": [
    {
     "data": {
      "text/plain": [
       "[0, 2, 3, 4, 5, 10, 12]"
      ]
     },
     "execution_count": 66,
     "metadata": {},
     "output_type": "execute_result"
    }
   ],
   "source": [
    "#sorted() Function . (Funktion sorted())\n",
    "\n",
    "numbers = [12, 2, 4, 5, 10,0, 3]\n",
    "sorted(numbers)"
   ]
  },
  {
   "cell_type": "markdown",
   "metadata": {},
   "source": [
    "#### English \n",
    "- Press \"Shift + Tab\" at the end of the sorted() function and the sort() method to see the differences.\n",
    "- sorted() returns a None value, which means it produces a empth list\n",
    "- Note: sort is a method, while sorted is a function. Therefore, sorted does not modify the original list; it simply returns the sorted result.\n",
    "- To see the difference, press Shift + Tab on sorted and sort\n",
    "#### Deutsch\n",
    "- Drücken Sie am Ende der sorted() Funktion \"Shift + Tab\", um die Unterschiede anzuzeigen.\r\n",
    "- sorted() gibt einen None-Wert zurück, was bedeutet, dass es eine leere Liste erzeugt\n",
    "- Hinweis: sort ist eine Methode, während sorted eine Funktion ist. Daher ändert sorted die Originalliste nicht; es gibt einfach das sortierte Ergebnis zurück.\r\n",
    "- Um den Unterschied zu sehen, drücken Sie \"Shift + Tab\" auf sorted und sort.\r\n",
    ".\r\n"
   ]
  },
  {
   "cell_type": "code",
   "execution_count": 67,
   "metadata": {},
   "outputs": [
    {
     "name": "stdout",
     "output_type": "stream",
     "text": [
      "this is the number list after sorted function [12, 2, 4, 5, 10, 0, 3]\n"
     ]
    }
   ],
   "source": [
    "print(f'this is the number list after sorted function {numbers}')"
   ]
  },
  {
   "cell_type": "code",
   "execution_count": 68,
   "metadata": {},
   "outputs": [
    {
     "name": "stdout",
     "output_type": "stream",
     "text": [
      "Data type of 'line': <class 'str'>\n",
      "Length of 'line': 27\n"
     ]
    }
   ],
   "source": [
    "# Split the 'line' string into words using the split() method\n",
    "\n",
    "line = 'Lorem ipsum dolor sit amet.' \n",
    "print(f\"Data type of 'line': {type(line)}\") \n",
    "print(f\"Length of 'line': {len(line)}\") "
   ]
  },
  {
   "cell_type": "code",
   "execution_count": 69,
   "metadata": {},
   "outputs": [],
   "source": [
    "# 'words' will store a list of strings ('words' wird eine Liste von Zeichenketten speichern.)\n",
    "\n",
    "words = line.split()  "
   ]
  },
  {
   "cell_type": "code",
   "execution_count": 70,
   "metadata": {},
   "outputs": [
    {
     "name": "stdout",
     "output_type": "stream",
     "text": [
      "List of words: ['Lorem', 'ipsum', 'dolor', 'sit', 'amet.']\n",
      "Data type of 'words': <class 'list'>\n",
      "Number of words in the 'words' list: 5\n"
     ]
    }
   ],
   "source": [
    "print(f\"List of words: {words}\") \n",
    "print(f\"Data type of 'words': {type(words)}\")\n",
    "print(f\"Number of words in the 'words' list: {len(words)}\") "
   ]
  },
  {
   "cell_type": "code",
   "execution_count": 71,
   "metadata": {},
   "outputs": [
    {
     "name": "stdout",
     "output_type": "stream",
     "text": [
      "['Uh-oh', 'uh-oh', 'uh-oh', 'uh-oh.']\n"
     ]
    }
   ],
   "source": [
    "#split() wthout any argument (split() ohne jegliches Argument)\n",
    "\n",
    "phrase = 'Uh-oh uh-oh uh-oh  uh-oh.'\n",
    "res = phrase.split()\n",
    "print(res) "
   ]
  },
  {
   "cell_type": "code",
   "execution_count": 72,
   "metadata": {},
   "outputs": [
    {
     "name": "stdout",
     "output_type": "stream",
     "text": [
      "['Uh', 'oh uh', 'oh uh', 'oh  uh', 'oh.']\n"
     ]
    }
   ],
   "source": [
    "#split() with argument (# split() mit Argument.)\n",
    "\n",
    "phrase = 'Uh-oh uh-oh uh-oh  uh-oh.'\n",
    "res = phrase.split('-') # Verwenden Sie die Methode split(), um den 'Satz' in Wörter auf der Grundlage von Bindestrichen als Trennzeichen aufzuteilen.\n",
    "print(res)"
   ]
  },
  {
   "cell_type": "code",
   "execution_count": 73,
   "metadata": {},
   "outputs": [
    {
     "name": "stdout",
     "output_type": "stream",
     "text": [
      "Uh-oh uh-oh uh-oh  uh-oh.\n"
     ]
    }
   ],
   "source": [
    "# From list to string : join () method (Von Liste zu Zeichenkette: join() Methode)\n",
    "\n",
    "phrase = '-'.join(res) # Bildet eine Zeichenkette aus den Elementen, getrennt durch Leerzeichen.\n",
    "\n",
    "print(phrase) "
   ]
  },
  {
   "cell_type": "code",
   "execution_count": 74,
   "metadata": {},
   "outputs": [
    {
     "name": "stdout",
     "output_type": "stream",
     "text": [
      "count_of_apples: 1\n"
     ]
    }
   ],
   "source": [
    "# Counts () method.  (Methode counts())\n",
    "\n",
    "fruits = [\"apple\", \"banana\", \"cherry\", \"date\", \"elderberry\"]\n",
    "count_of_apples = fruits.count(\"apple\")  # Zählt das Vorkommen von \"Apfel\".\n",
    "print(f'count_of_apples: {count_of_apples}')"
   ]
  },
  {
   "cell_type": "code",
   "execution_count": 75,
   "metadata": {
    "tags": []
   },
   "outputs": [
    {
     "name": "stdout",
     "output_type": "stream",
     "text": [
      "['apple', 'banana', 'cherry', 'date', 'elderberry', 'orange']\n"
     ]
    }
   ],
   "source": [
    "# Append () method. (Methode append())\n",
    " \n",
    "fruits.append(\"orange\")  # Adds \"orange\" to the end of the 'fruits' list.\n",
    "print(fruits)"
   ]
  },
  {
   "cell_type": "code",
   "execution_count": 76,
   "metadata": {},
   "outputs": [
    {
     "name": "stdout",
     "output_type": "stream",
     "text": [
      "[10, 20, [30, 40]]\n"
     ]
    }
   ],
   "source": [
    "# Append a list into a list. (Fügt eine Liste in eine andere Liste ein)\n",
    "\n",
    "data = [10, 20] # Erstellen Sie eine Liste namens 'data' mit den Elementen 10 und 20.\n",
    "data.append([30, 40])# Fügen Sie der 'data'-Liste eine neue Liste [30, 40] hinzu.\n",
    "print(data)\n"
   ]
  },
  {
   "cell_type": "code",
   "execution_count": 77,
   "metadata": {},
   "outputs": [
    {
     "name": "stdout",
     "output_type": "stream",
     "text": [
      "[12, 2, 4, 5, 10, 0, 3, 7, 8]\n"
     ]
    }
   ],
   "source": [
    "# Extend method(). (Methode extend())\n",
    "\n",
    "numbers.extend([7, 8]) #Verwenden Sie die Methode extend(), um jedes Element aus der Liste [7, 8] zur 'numbers'-Liste hinzuzufügen.\n",
    "print(numbers) "
   ]
  },
  {
   "cell_type": "code",
   "execution_count": 78,
   "metadata": {},
   "outputs": [
    {
     "name": "stdout",
     "output_type": "stream",
     "text": [
      "[4, 12, 2, 4, 5, 10, 0, 3, 7, 8]\n"
     ]
    }
   ],
   "source": [
    "# Insert method() \n",
    "\n",
    "numbers.insert(0, 4) # Verwenden Sie die Methode insert(), um den Wert 4 an Index 0 in die 'numbers'-Liste einzufügen.\n",
    "print(numbers) \n"
   ]
  },
  {
   "cell_type": "markdown",
   "metadata": {},
   "source": [
    "#### English \n",
    "- Pay attention differcen between extend(),  append ()  and insert() methods\n",
    "#### Deutsch\n",
    "- Achten Sie auf den Unterschied zwischen den Methoden extend(), append() und insert().\n"
   ]
  },
  {
   "cell_type": "code",
   "execution_count": 79,
   "metadata": {},
   "outputs": [],
   "source": [
    "# Nested list\n",
    "elements = [0, \"a\", 2, \"c\", True, [6, 5, 2]] "
   ]
  },
  {
   "cell_type": "code",
   "execution_count": 80,
   "metadata": {},
   "outputs": [
    {
     "name": "stdout",
     "output_type": "stream",
     "text": [
      "Element at index 5: [6, 5, 2]\n"
     ]
    }
   ],
   "source": [
    "# Access and print the element at index 5 of the 'elements' list, which is a nested list\n",
    "#Greifen Sie auf das Element an Index 5 der 'elements'-Liste zu und drucken Sie es aus, was eine verschachtelte Liste ist.\n",
    "\n",
    "print(f\"Element at index 5: {elements[5]}\") \n"
   ]
  },
  {
   "cell_type": "code",
   "execution_count": 81,
   "metadata": {},
   "outputs": [
    {
     "name": "stdout",
     "output_type": "stream",
     "text": [
      "Data type of element at index 5: <class 'list'>\n"
     ]
    }
   ],
   "source": [
    "# Use the type() function to determine the data type of the element at index 5.\n",
    "# Verwenden Sie die Funktion type(), um den Datentyp des Elements an Index 5 zu bestimmen.\n",
    "\n",
    "print(f\"Data type of element at index 5: {type(elements[5])}\") "
   ]
  },
  {
   "cell_type": "code",
   "execution_count": 82,
   "metadata": {},
   "outputs": [
    {
     "name": "stdout",
     "output_type": "stream",
     "text": [
      "Element at index 1 of the nested list: 5\n"
     ]
    }
   ],
   "source": [
    "# Access and print the element at index 1 of the nested list at index 5.\n",
    "# Greifen Sie auf das Element an Index 1 der verschachtelten Liste an Index 5 zu und drucken Sie es aus.\n",
    "\n",
    "print(f\"Element at index 1 of the nested list: {elements[5][1]}\") \n"
   ]
  },
  {
   "cell_type": "code",
   "execution_count": 83,
   "metadata": {},
   "outputs": [
    {
     "name": "stdout",
     "output_type": "stream",
     "text": [
      "Data type of element at index 1 of the nested list: <class 'int'>\n"
     ]
    }
   ],
   "source": [
    "# Use the type() function to determine the data type of the element at index 1 of the nested list.\n",
    "# Verwenden Sie die Funktion type(), um den Datentyp des Elements an Index 1 der verschachtelten Liste zu bestimmen.\n",
    "\n",
    "print(f\"Data type of element at index 1 of the nested list: {type(elements[5][1])}\") "
   ]
  },
  {
   "cell_type": "code",
   "execution_count": 84,
   "metadata": {},
   "outputs": [
    {
     "name": "stdout",
     "output_type": "stream",
     "text": [
      "Number of elements in the 'elements' list: 6\n"
     ]
    }
   ],
   "source": [
    "# Create a list named 'elements' containing a mix of data types, including a nested list.\n",
    "#Erstellen Sie eine Liste mit dem Namen 'elements', die eine Mischung aus verschiedenen Datentypen enthält, einschließlich einer verschachtelten Liste.\n",
    "\n",
    "elements = [0, \"a\", 2, \"c\", True, [6, 5, 2]] \n",
    "print(f\"Number of elements in the 'elements' list: {len(elements)}\")"
   ]
  },
  {
   "cell_type": "markdown",
   "metadata": {},
   "source": [
    "#### English \n",
    "- When you use the len() function to find the length of a list, it counts each element as one, including nested lists\n",
    "#### Deutsch\n",
    "- Wenn Sie die Funktion len() verwenden, um die Länge einer Liste zu finden, zählt sie jedes Element, einschließlich verschachtelter Listen, als eins.\r\n"
   ]
  },
  {
   "cell_type": "code",
   "execution_count": 85,
   "metadata": {},
   "outputs": [
    {
     "name": "stdout",
     "output_type": "stream",
     "text": [
      "kiwi found at index 3.\n"
     ]
    }
   ],
   "source": [
    "## Index() method\n",
    "\n",
    "fruits = ['apple', 'banana', 'orange', 'kiwi', 'grape'] \n",
    "search_item = 'kiwi' # # Geben Sie das Element an, nach dem in der Liste gesucht werden soll.\n",
    "index = fruits.index(search_item) # Verwenden Sie die Methode index(), um den Index von 'Kiwi' in der 'fruits'-Liste zu finden.\n",
    "print(f\"{search_item} found at index {index}.\") "
   ]
  },
  {
   "cell_type": "markdown",
   "metadata": {},
   "source": [
    "**Key Takeaways**\n",
    "- Lists are versatile and can store a variety of data types, making them suitable for a wide range of applications.\n",
    "- Lists maintain the order of elements, meaning the order in which you add items is preserved.\n",
    "- Elements in a list can be accessed using an index. Indexing starts at 0 for the first element.\n",
    "- You can extract subsets of a list using slicing. This allows you to work with a portion of the list.\n",
    "- Lists are mutable, meaning you can change their contents by adding, removing, or modifying elements.\n",
    "- Python provides useful list methods like append(), remove(), sort(), and count() for various list operations.\n",
    "- Pay attention to off-by-one errors when indexing (starting from 0). Modifying a list while iterating over it can lead to unexpected behavior.\n",
    "-  Lists are fundamental data structures used to manage and manipulate collections of data. They are essential for tasks like data storage, processing, and iteration in Python\n",
    "-  Lists are commonly used in loops( we will learn in the next lessons) for iteration and processing each element in the list."
   ]
  },
  {
   "cell_type": "markdown",
   "metadata": {},
   "source": [
    "**Wichtige Erkenntnisse**\n",
    "- Listen sind vielseitig und können eine Vielzahl von Datentypen speichern, was sie für eine breite Palette von Anwendungen geeignet macht.\n",
    "- Listen behalten die Reihenfolge der Elemente bei, was bedeutet, dass die Reihenfolge, in der Sie Elemente hinzufügen, erhalten bleibt.\n",
    "- Elemente in einer Liste können über einen Index zugegriffen werden. Die Indexierung beginnt bei 0 für das erste Element.\n",
    "- Sie können Teilmengen einer Liste mithilfe von Slicing extrahieren. Dadurch können Sie mit einem Teil der Liste arbeiten.\n",
    "- Listen sind veränderbar, das bedeutet, dass Sie ihren Inhalt durch Hinzufügen, Entfernen oder Ändern von Elementen ändern können.\n",
    "- Python bietet nützliche Listenmethoden wie append(), remove(), sort() und count() für verschiedene Listenoperationen.\n",
    "- Achten Sie auf Off-by-One-Fehler bei der Indexierung (beginnend bei 0). Das Ändern einer Liste während des Iterierens darüber kann zu unerwartetem Verhalten führen.\n",
    "- Listen sind grundlegende Datenstrukturen, die verwendet werden, um Sammlungen von Daten zu verwalten und zu manipulieren. Sie sind unerlässlich für Aufgaben wie Datenspeicherung, -verarbeitung und Iteration in Python.\n",
    "- Listen werden häufig in Schleifen (die wir in den nächsten Lektionen kennenlernen werden) zur Iteration und Verarbeitung jedes Elements in der Liste verwendet.\n"
   ]
  },
  {
   "cell_type": "markdown",
   "metadata": {},
   "source": [
    "# Time for Practice (Zeit für Übung)"
   ]
  },
  {
   "cell_type": "markdown",
   "metadata": {},
   "source": [
    "## Bitte öffnen Sie die 1. Practice Intrucation und bearbeiten Sie den Abschnitt # Lists .\n",
    "## Please open 1. Practice Instruction file and do the # Lists."
   ]
  },
  {
   "cell_type": "code",
   "execution_count": 86,
   "metadata": {},
   "outputs": [],
   "source": [
    "#################################################################################################################################################################################################################"
   ]
  },
  {
   "cell_type": "markdown",
   "metadata": {},
   "source": [
    "# Dictionaries"
   ]
  },
  {
   "cell_type": "markdown",
   "metadata": {},
   "source": [
    "#### English \n",
    "- A dictionary in Python is a collection of key-value pairs.\n",
    "- It is an unordered, mutable, and iterable data structure. \n",
    "- Dictionaries are used to store data in the form of key-value mappings, where each key maps to a specific value."
   ]
  },
  {
   "cell_type": "markdown",
   "metadata": {},
   "source": [
    "#### Deutsch\n",
    "- Ein Wörterbuch (Dictionary) in Python ist eine Sammlung von Schlüssel-Wert-Paaren.\n",
    "- Es handelt sich um eine ungeordnete, veränderbare und durchlaufbare Datenstruktur.\n",
    "- Wörterbücher werden verwendet, um Daten in Form von Schlüssel-Wert-Zuordnungen zu speichern, wobei jeder Schlüssel einem bestimmten Wert zugeordnet ist.\n"
   ]
  },
  {
   "cell_type": "code",
   "execution_count": 87,
   "metadata": {},
   "outputs": [
    {
     "name": "stdout",
     "output_type": "stream",
     "text": [
      "{'The Great Gatsby': ['F. Scott Fitzgerald', 12.99], 'To Kill a Mockingbird': ['Harper Lee', 14.95], '1984': ['George Orwell', 10.99], 'Pride and Prejudice': ['Jane Austen', 9.99]}\n"
     ]
    }
   ],
   "source": [
    "\n",
    "# Create a dictionary 'book_dict' that associates book titles with lists containing author names and prices.\n",
    "# Erstellen Sie ein Wörterbuch 'book_dict', das Buchtitel mit Listen verknüpft, die Autorennamen und Preise enthalten.\n",
    "\n",
    "book_dict = {\n",
    "    \"The Great Gatsby\": [\"F. Scott Fitzgerald\", 12.99],\n",
    "    \"To Kill a Mockingbird\": [\"Harper Lee\", 14.95],\n",
    "    \"1984\": [\"George Orwell\", 10.99],\n",
    "    \"Pride and Prejudice\": [\"Jane Austen\", 9.99]\n",
    "}\n",
    "print(book_dict)"
   ]
  },
  {
   "cell_type": "code",
   "execution_count": 88,
   "metadata": {},
   "outputs": [
    {
     "name": "stdout",
     "output_type": "stream",
     "text": [
      "True\n"
     ]
    }
   ],
   "source": [
    "# Search for a key in the dictionary to check if it exists\n",
    "#Suchen Sie nach einem Schlüssel im Wörterbuch, um zu überprüfen, ob er existiert.\n",
    "\n",
    "\n",
    "book_exists = \"1984\" in book_dict\n",
    "print(book_exists)"
   ]
  },
  {
   "cell_type": "code",
   "execution_count": 89,
   "metadata": {},
   "outputs": [
    {
     "data": {
      "text/plain": [
       "['George Orwell', 10.99]"
      ]
     },
     "execution_count": 89,
     "metadata": {},
     "output_type": "execute_result"
    }
   ],
   "source": [
    "# Call the value by key\n",
    "#Rufen Sie den Wert über den Schlüssel auf.\n",
    "\n",
    "book_dict['1984']"
   ]
  },
  {
   "cell_type": "code",
   "execution_count": null,
   "metadata": {},
   "outputs": [],
   "source": []
  },
  {
   "cell_type": "markdown",
   "metadata": {},
   "source": [
    "#### English \n",
    "- You can all the value by key\n",
    "- However you cannot call the key by value"
   ]
  },
  {
   "cell_type": "markdown",
   "metadata": {},
   "source": [
    "#### Deutsch\n",
    "- Sie können den Wert über den Schlüssel aufrufen.\n",
    "- Jedoch können Sie den Schlüssel nicht über den Wert aufrufen.\n"
   ]
  },
  {
   "cell_type": "code",
   "execution_count": 90,
   "metadata": {},
   "outputs": [
    {
     "name": "stdout",
     "output_type": "stream",
     "text": [
      "['F. Scott Fitzgerald', 12.99]\n"
     ]
    }
   ],
   "source": [
    "#  Accessing the values with different methods \n",
    "# (Zugriff auf die Werte mit verschiedenen Methoden.)\n",
    "\n",
    "gatsby_info = book_dict[\"The Great Gatsby\"] #Zugriff auf die Werte mit verschiedenen Methoden.\n",
    "print(gatsby_info)  \n",
    " "
   ]
  },
  {
   "cell_type": "code",
   "execution_count": 91,
   "metadata": {},
   "outputs": [
    {
     "name": "stdout",
     "output_type": "stream",
     "text": [
      "George Orwell\n"
     ]
    }
   ],
   "source": [
    "author_of_1984 = book_dict[\"1984\"][0] # Zugriff auf die Werte für \"The Great Gatsby\" im Wörterbuch.\n",
    "\n",
    "print(author_of_1984)  \n"
   ]
  },
  {
   "cell_type": "code",
   "execution_count": 92,
   "metadata": {},
   "outputs": [
    {
     "name": "stdout",
     "output_type": "stream",
     "text": [
      "9.99\n"
     ]
    }
   ],
   "source": [
    "\n",
    "price_of_pride_and_prejudice = book_dict[\"Pride and Prejudice\"][1] # Zugriff auf den Preis für \"Pride and Prejudice\" im Wörterbuch.\n",
    "print(price_of_pride_and_prejudice) "
   ]
  },
  {
   "cell_type": "code",
   "execution_count": 93,
   "metadata": {},
   "outputs": [
    {
     "name": "stdout",
     "output_type": "stream",
     "text": [
      "Book titles in the dictionary: dict_keys(['The Great Gatsby', 'To Kill a Mockingbird', '1984', 'Pride and Prejudice'])\n"
     ]
    }
   ],
   "source": [
    "# Retrieve the keys (book titles) in the dictionary\n",
    "# Abrufen der Schlüssel (Buchtitel) im Wörterbuch.\n",
    "\n",
    "keys = book_dict.keys()\n",
    "print(f\"Book titles in the dictionary: {keys}\") # Drucken Sie die Schlüssel mithilfe eines f-Strings."
   ]
  },
  {
   "cell_type": "code",
   "execution_count": 94,
   "metadata": {},
   "outputs": [
    {
     "name": "stdout",
     "output_type": "stream",
     "text": [
      "Author names and prices in the dictionary: dict_values([['F. Scott Fitzgerald', 12.99], ['Harper Lee', 14.95], ['George Orwell', 10.99], ['Jane Austen', 9.99]])\n"
     ]
    }
   ],
   "source": [
    "# Retrieve the values (author names and prices) in the dictionary\n",
    "# Abrufen der Werte (Autorennamen und Preise) im Wörterbuch.\n",
    "\n",
    "values = book_dict.values()\n",
    "print(f\"Author names and prices in the dictionary: {values}\")"
   ]
  },
  {
   "cell_type": "code",
   "execution_count": 95,
   "metadata": {},
   "outputs": [
    {
     "name": "stdout",
     "output_type": "stream",
     "text": [
      "Key: The Great Gatsby, Value: ['F. Scott Fitzgerald', 12.99]\n",
      "Key: To Kill a Mockingbird, Value: ['Harper Lee', 14.95]\n",
      "Key: 1984, Value: ['George Orwell', 10.99]\n",
      "Key: Pride and Prejudice, Value: ['Jane Austen', 9.99]\n"
     ]
    }
   ],
   "source": [
    "\n",
    "for key, value in book_dict.items():\n",
    "    print(f'Key: {key}, Value: {value}')  "
   ]
  },
  {
   "cell_type": "code",
   "execution_count": 96,
   "metadata": {},
   "outputs": [
    {
     "name": "stdout",
     "output_type": "stream",
     "text": [
      "Key: The Great Gatsby, Value: ['F. Scott Fitzgerald', 12.99]\n",
      "Key: To Kill a Mockingbird, Value: ['Harper Lee', 14.95]\n",
      "Key: 1984, Value: ['George Orwell', 14.99]\n",
      "Key: Pride and Prejudice, Value: ['Jane Austen', 9.99]\n"
     ]
    }
   ],
   "source": [
    "# Edit the value associated with a key\n",
    "# Bearbeiten Sie den Wert, der mit einem Schlüssel verknüpft ist.\n",
    "\n",
    "book_dict['1984'] = [\"George Orwell\", 14.99]\n",
    "for key, value in book_dict.items():\n",
    "    print(f'Key: {key}, Value: {value}') "
   ]
  },
  {
   "cell_type": "code",
   "execution_count": 97,
   "metadata": {},
   "outputs": [],
   "source": [
    "#KeyError \n",
    "\n",
    "#print(book_dict['One'])\n",
    "# Activate the code above to see the error code "
   ]
  },
  {
   "cell_type": "code",
   "execution_count": 98,
   "metadata": {},
   "outputs": [
    {
     "name": "stdout",
     "output_type": "stream",
     "text": [
      "We do not have this book\n"
     ]
    }
   ],
   "source": [
    "# Try to access the value associated with the key 'One' in the 'book_prices' dictionary\n",
    "# Versuchen Sie, auf den mit dem Schlüssel 'One' im 'book_prices'-Wörterbuch verknüpften Wert zuzugreifen.\n",
    "try:\n",
    "    book = book_dict['One']\n",
    "    print(book_dict)\n",
    "except:\n",
    "    print('We do not have this book') #Behandeln Sie den Fall, in dem der Schlüssel 'One' im Wörterbuch nicht existiert."
   ]
  },
  {
   "cell_type": "code",
   "execution_count": 99,
   "metadata": {},
   "outputs": [
    {
     "name": "stdout",
     "output_type": "stream",
     "text": [
      "None\n"
     ]
    }
   ],
   "source": [
    "#Using get\n",
    "\n",
    "print(book_dict.get(\"One\")) #This method won't cause errors and is simpler than try-except.(Diese Methode verursacht keine Fehler und ist einfacher als try-except)"
   ]
  },
  {
   "cell_type": "code",
   "execution_count": 100,
   "metadata": {},
   "outputs": [],
   "source": [
    "#Adding items (Hinzufügen von Elementen)\n",
    "\n",
    "book_dict[\"War and Peace \"]= 20.0\n",
    "book_dict.update({\"Pride and Prejudice\": [\"Jane Austen\", 9.99]})"
   ]
  },
  {
   "cell_type": "code",
   "execution_count": 101,
   "metadata": {},
   "outputs": [
    {
     "name": "stdout",
     "output_type": "stream",
     "text": [
      "Key: The Great Gatsby, Value: ['F. Scott Fitzgerald', 12.99]\n",
      "Key: To Kill a Mockingbird, Value: ['Harper Lee', 14.95]\n",
      "Key: 1984, Value: ['George Orwell', 14.99]\n",
      "Key: Pride and Prejudice, Value: ['Jane Austen', 9.99]\n",
      "Key: War and Peace , Value: 20.0\n"
     ]
    }
   ],
   "source": [
    "for key, value in book_dict.items():\n",
    "    print(f'Key: {key}, Value: {value}')  # Print  "
   ]
  },
  {
   "cell_type": "code",
   "execution_count": 102,
   "metadata": {},
   "outputs": [],
   "source": [
    "#Dictory is use in website \n",
    "\n",
    "shopping_cart = [\n",
    "    {\n",
    "        'product': 'T-shirt',\n",
    "        'category': 'clothing',\n",
    "        'quantity': 2,\n",
    "        'price': 15.99\n",
    "    },\n",
    "    {\n",
    "        'product': 'Jeans',\n",
    "        'category': 'clothing',\n",
    "        'quantity': 1,\n",
    "        'price': 29.99\n",
    "    },\n",
    "    {\n",
    "        'product': 'Sneakers',\n",
    "        'category': 'footwear',\n",
    "        'quantity': 1,\n",
    "        'price': 49.99\n",
    "    }\n",
    "]"
   ]
  },
  {
   "cell_type": "code",
   "execution_count": 103,
   "metadata": {},
   "outputs": [
    {
     "name": "stdout",
     "output_type": "stream",
     "text": [
      "111.96000000000001\n"
     ]
    }
   ],
   "source": [
    "# Variable für die Gesamtkosten des Einkaufswagens\n",
    "\n",
    "total_cost = 0\n",
    "\n",
    "for item in shopping_cart:\n",
    "\n",
    "    total_cost += item['price'] * item['quantity']\n",
    "\n",
    "print(total_cost)"
   ]
  },
  {
   "cell_type": "markdown",
   "metadata": {},
   "source": [
    "#### English \n",
    "**Key Takeaways**\n",
    "\n",
    "- Dictionaries provide fast and efficient data retrieval. \n",
    "- Dictionaries allow you to organize and store data in a structured way. \n",
    "- Dictionaries enable you to create associations between keys and values, which is a powerful way to represent relationships and mappings in your programs\n",
    "- Dictionaries are dynamic and mutable.\n"
   ]
  },
  {
   "cell_type": "markdown",
   "metadata": {},
   "source": [
    "#### Deutsch\n",
    "**Wichtige Erkenntnisse**\n",
    "\n",
    "- Dictionaries ermöglichen eine schnelle und effiziente Datenabfrage.\n",
    "- Dictionaries ermöglichen es Ihnen, Daten strukturiert zu organisieren und zu speichern.\n",
    "- Dictionaries ermöglichen es Ihnen, Beziehungen und Zuordnungen zwischen Schlüsseln und Werten zu erstellen, was eine leistungsstarke Möglichkeit ist, Beziehungen und Zuordnungen in Ihren Programmen darzustellen.\n",
    "- Wörterbücher sind dynamisch und veränderbar.\n",
    "\n"
   ]
  },
  {
   "cell_type": "markdown",
   "metadata": {},
   "source": [
    "# Time for Practice (Zeit für Übung)"
   ]
  },
  {
   "cell_type": "code",
   "execution_count": 104,
   "metadata": {},
   "outputs": [],
   "source": [
    "\n",
    "## Bitte öffnen Sie die 1. Practice Intrucation und bearbeiten Sie den Abschnitt # Dictionaries .\n",
    "## Please open 1. Practice Instruction file and do the # Dictionaries."
   ]
  },
  {
   "cell_type": "code",
   "execution_count": 105,
   "metadata": {},
   "outputs": [],
   "source": [
    "########################################################################################################################################################################################################################"
   ]
  },
  {
   "cell_type": "markdown",
   "metadata": {},
   "source": [
    "# Tuple"
   ]
  },
  {
   "cell_type": "markdown",
   "metadata": {},
   "source": [
    "#### English \n",
    "- A tuple is an ordered, immutable, and iterable collection of elements in Python. \n",
    "- It is similar to a list, but unlike lists, tuples cannot be modified after creation.\n",
    "- Tuples are defined by enclosing elements in parentheses ( ).''"
   ]
  },
  {
   "cell_type": "markdown",
   "metadata": {},
   "source": [
    "#### Deutsch\n",
    "- Ein Tupel ist eine geordnete, unveränderliche und iterierbare Sammlung von Elementen in Python.\n",
    "- Es ist ähnlich wie eine Liste, aber im Gegensatz zu Listen können Tupel nach der Erstellung nicht modifiziert werden.\n",
    "- Tupel werden definiert, indem Elemente in Klammern ( ) eingeschlossen werden."
   ]
  },
  {
   "cell_type": "code",
   "execution_count": 106,
   "metadata": {},
   "outputs": [
    {
     "name": "stdout",
     "output_type": "stream",
     "text": [
      "Data type of 'my_tuple': <class 'tuple'>\n"
     ]
    }
   ],
   "source": [
    "#tuple \n",
    "\n",
    "my_tuple = (\"apple\", \"banana\", \"cherry\")\n",
    "print(f\"Data type of 'my_tuple': {type(my_tuple)}\") # Überprüfen Sie den Datentyp der Variable 'my_tuple'.\n"
   ]
  },
  {
   "cell_type": "code",
   "execution_count": 107,
   "metadata": {},
   "outputs": [
    {
     "name": "stdout",
     "output_type": "stream",
     "text": [
      "First element of 'my_tuple': apple\n"
     ]
    }
   ],
   "source": [
    "#Index\n",
    "\n",
    "first_element = my_tuple[0] # Greife auf das erste Element des Tupels über seinen Index (0-basiert) zu.\n",
    "print(f\"First element of 'my_tuple': {first_element}\")"
   ]
  },
  {
   "cell_type": "code",
   "execution_count": 108,
   "metadata": {},
   "outputs": [
    {
     "name": "stdout",
     "output_type": "stream",
     "text": [
      "Mixed-type tuple 'mixed_tuple': ('Hello', 'I', 1, 2, 2.6)\n"
     ]
    }
   ],
   "source": [
    "#  mixed-type tuple\n",
    "\n",
    "mixed_tuple = (\"Hello\", \"I\", 1, 2, 2.6)\n",
    "print(f\"Mixed-type tuple 'mixed_tuple': {mixed_tuple}\")"
   ]
  },
  {
   "cell_type": "code",
   "execution_count": 109,
   "metadata": {},
   "outputs": [
    {
     "name": "stdout",
     "output_type": "stream",
     "text": [
      "Subset of elements using slicing: ('apple', 'banana', 'cherry')\n"
     ]
    }
   ],
   "source": [
    "#Slicing the tuple to get a subset of elements (Schneide das Tupel, um eine Teilmenge der Elemente zu erhalten.)\n",
    "\n",
    "subset = my_tuple[0:3]  \n",
    "print(f\"Subset of elements using slicing: {subset}\") "
   ]
  },
  {
   "cell_type": "code",
   "execution_count": 110,
   "metadata": {},
   "outputs": [],
   "source": [
    "#Immutable\n",
    "\n",
    "#my_tuple[0] = 'kiwi'\n",
    "#Activa the code above to see the error "
   ]
  },
  {
   "cell_type": "code",
   "execution_count": 111,
   "metadata": {},
   "outputs": [
    {
     "name": "stdout",
     "output_type": "stream",
     "text": [
      "apple banana cherry\n"
     ]
    }
   ],
   "source": [
    "#Sequence Packing/Unpacking:\n",
    "x, y, z = my_tuple\n",
    "print(x,y,z)"
   ]
  },
  {
   "cell_type": "markdown",
   "metadata": {},
   "source": [
    "#### English \n",
    "**Key Takeaways**\n",
    "- Tuples maintain the order of elements, meaning the first element is accessed first, the second element is accessed second, and so on.\n",
    "- Once a tuple is created, you cannot change, add, or remove its elements. This is in contrast to lists, which are mutable.\n",
    "- Tuples are used when you want to ensure that the data remains unchanged throughout your program.\n",
    "- Since tuples are immutable, they can be used as keys in dictionaries, whereas lists cannot.\n",
    "- You can assign multiple variables in a single line by unpacking a tuple"
   ]
  },
  {
   "cell_type": "markdown",
   "metadata": {},
   "source": [
    "#### Deutsch\n",
    "**Wichtige Erkenntnisse**\r\n",
    "- Tupel behalten die Reihenfolge der Elemente bei, was bedeutet, dass das erste Element zuerst zugegriffen wird, das zweite Element als zweites und so weiter.\r\n",
    "- Einmal erstellt, kannst du die Elemente eines Tupels nicht ändern, hinzufügen oder entfernen. Dies steht im Gegensatz zu Listen, die veränderbar sind.\r\n",
    "- Tupel werden verwendet, wenn du sicherstellen möchtest, dass die Daten im gesamten Programm unverändert bleiben.\r\n",
    "- Da Tupel unveränderlich sind, können sie als Schlüssel in Wörterbüchern verwendet werden, während Listen dies nicht können.\r\n",
    "- Du kannst mehrere Variablen in einer einzigen Zeile zuweisen, indem du ein Tupel entpackst.\r\n"
   ]
  },
  {
   "cell_type": "markdown",
   "metadata": {},
   "source": [
    "# Time for Practice (Zeit für Übung)"
   ]
  },
  {
   "cell_type": "markdown",
   "metadata": {},
   "source": [
    "\n",
    "## Bitte öffnen Sie die 1. Practice Intrucation und bearbeiten Sie den Abschnitt # Tuple .\n",
    "## Please open 1. Practice Instruction file and do the # Tuple."
   ]
  },
  {
   "cell_type": "code",
   "execution_count": 112,
   "metadata": {},
   "outputs": [],
   "source": [
    "#######################################################################################################################################################################################################################"
   ]
  },
  {
   "cell_type": "markdown",
   "metadata": {},
   "source": [
    "# Set"
   ]
  },
  {
   "cell_type": "markdown",
   "metadata": {},
   "source": [
    "#### English \n",
    "- A set is an unordered collection of unique elements.\n",
    "#### Deutsch\n",
    "- Ein Set ist eine ungeordnete Sammlung von einzigartigen Elementen.\r\n"
   ]
  },
  {
   "cell_type": "code",
   "execution_count": 113,
   "metadata": {},
   "outputs": [
    {
     "data": {
      "text/plain": [
       "set"
      ]
     },
     "execution_count": 113,
     "metadata": {},
     "output_type": "execute_result"
    }
   ],
   "source": [
    "# Creating a set with curly braces \n",
    "#Ein Set mit geschweiften Klammern erstellen.\n",
    "\n",
    "fruits = {\"apple\", \"banana\", \"cherry\"}\n",
    "type(fruits)"
   ]
  },
  {
   "cell_type": "markdown",
   "metadata": {},
   "source": [
    "#### English \n",
    "- It look like a dictionary but it has no key : value pair\n",
    "#### Deutsch\n",
    "- Es sieht aus wie ein Wörterbuch, hat aber kein Schlüssel-Wert-Paar.\r\n"
   ]
  },
  {
   "cell_type": "code",
   "execution_count": 114,
   "metadata": {},
   "outputs": [
    {
     "data": {
      "text/plain": [
       "set"
      ]
     },
     "execution_count": 114,
     "metadata": {},
     "output_type": "execute_result"
    }
   ],
   "source": [
    "# Creating a set using the set() constructor\n",
    "# Ein Set mit dem Set()-Konstruktor erstellen.\n",
    "\n",
    "colors = set([\"red\", \"green\", \"blue\"])\n",
    "type(colors)"
   ]
  },
  {
   "cell_type": "markdown",
   "metadata": {},
   "source": [
    "#### English \n",
    "- It resembles a list, yet set() is employed.\n",
    "- To learn more about it, press Shift + Tap at the end of set().\n",
    "#### Deutsch\n",
    "- Es ähnelt einer Liste, doch set() wird verwendet.\r\n",
    "- Um mehr darüber zu erfahren, drücke Shift + Tap am Ende von set().\r\n"
   ]
  },
  {
   "cell_type": "code",
   "execution_count": 115,
   "metadata": {},
   "outputs": [],
   "source": [
    "# An empty set (Ein leeres Set)\n",
    "\n",
    "empty_set = set()"
   ]
  },
  {
   "cell_type": "code",
   "execution_count": 116,
   "metadata": {},
   "outputs": [],
   "source": [
    "#There is no order in set (In einem Set gibt es keine Reihenfolge)\n",
    "\n",
    "#colors[0]\n",
    "#activate the code ot see the error code ."
   ]
  },
  {
   "cell_type": "markdown",
   "metadata": {},
   "source": [
    "- To learn more about error, press Shift + Tap at the end of set() to find out the reason."
   ]
  },
  {
   "cell_type": "code",
   "execution_count": 117,
   "metadata": {},
   "outputs": [
    {
     "data": {
      "text/plain": [
       "{'apple', 'banana', 'cherry'}"
      ]
     },
     "execution_count": 117,
     "metadata": {},
     "output_type": "execute_result"
    }
   ],
   "source": [
    "#Pay attention to fruit dataset compare it with outp\n",
    "#Achte auf den Obst-Datensatz und vergleiche ihn mit dem Ausgabeergebnis.\n",
    "\n",
    "fruits = {\"apple\", \"banana\", \"cherry\", \"apple\", \"banana\"}\n",
    "fruits\n"
   ]
  },
  {
   "cell_type": "code",
   "execution_count": 118,
   "metadata": {},
   "outputs": [],
   "source": [
    "# Adding  Elements:\n",
    "# Elemente hinzufügen:\n",
    "\n",
    "fruits.add(\"orange\")"
   ]
  },
  {
   "cell_type": "code",
   "execution_count": 119,
   "metadata": {},
   "outputs": [],
   "source": [
    "# Removing Elements\n",
    "# Elemente hinzufügen:\n",
    "\n",
    "fruits.remove(\"apple\")"
   ]
  },
  {
   "cell_type": "code",
   "execution_count": 120,
   "metadata": {},
   "outputs": [],
   "source": [
    "# Unique value\n",
    "\n",
    "a = {1, 1, 1, 2, 2,2} # A set in Python is a collection that stores only unique values"
   ]
  },
  {
   "cell_type": "code",
   "execution_count": 121,
   "metadata": {},
   "outputs": [
    {
     "name": "stdout",
     "output_type": "stream",
     "text": [
      "{1, 2}\n"
     ]
    }
   ],
   "source": [
    "print(a)"
   ]
  },
  {
   "cell_type": "code",
   "execution_count": 122,
   "metadata": {},
   "outputs": [
    {
     "data": {
      "text/plain": [
       "2"
      ]
     },
     "execution_count": 122,
     "metadata": {},
     "output_type": "execute_result"
    }
   ],
   "source": [
    "len(a)"
   ]
  },
  {
   "cell_type": "code",
   "execution_count": 123,
   "metadata": {
    "scrolled": true
   },
   "outputs": [
    {
     "data": {
      "text/plain": [
       "['__and__',\n",
       " '__class__',\n",
       " '__class_getitem__',\n",
       " '__contains__',\n",
       " '__delattr__',\n",
       " '__dir__',\n",
       " '__doc__',\n",
       " '__eq__',\n",
       " '__format__',\n",
       " '__ge__',\n",
       " '__getattribute__',\n",
       " '__getstate__',\n",
       " '__gt__',\n",
       " '__hash__',\n",
       " '__iand__',\n",
       " '__init__',\n",
       " '__init_subclass__',\n",
       " '__ior__',\n",
       " '__isub__',\n",
       " '__iter__',\n",
       " '__ixor__',\n",
       " '__le__',\n",
       " '__len__',\n",
       " '__lt__',\n",
       " '__ne__',\n",
       " '__new__',\n",
       " '__or__',\n",
       " '__rand__',\n",
       " '__reduce__',\n",
       " '__reduce_ex__',\n",
       " '__repr__',\n",
       " '__ror__',\n",
       " '__rsub__',\n",
       " '__rxor__',\n",
       " '__setattr__',\n",
       " '__sizeof__',\n",
       " '__str__',\n",
       " '__sub__',\n",
       " '__subclasshook__',\n",
       " '__xor__',\n",
       " 'add',\n",
       " 'clear',\n",
       " 'copy',\n",
       " 'difference',\n",
       " 'difference_update',\n",
       " 'discard',\n",
       " 'intersection',\n",
       " 'intersection_update',\n",
       " 'isdisjoint',\n",
       " 'issubset',\n",
       " 'issuperset',\n",
       " 'pop',\n",
       " 'remove',\n",
       " 'symmetric_difference',\n",
       " 'symmetric_difference_update',\n",
       " 'union',\n",
       " 'update']"
      ]
     },
     "execution_count": 123,
     "metadata": {},
     "output_type": "execute_result"
    }
   ],
   "source": [
    "dir(a)"
   ]
  },
  {
   "cell_type": "code",
   "execution_count": 124,
   "metadata": {},
   "outputs": [],
   "source": [
    "# Create two sets 'a' and 'b'\n",
    "a = {1, 2, 3, 4, 5}\n",
    "b = {4, 5, 6, 7, 8}"
   ]
  },
  {
   "cell_type": "code",
   "execution_count": 125,
   "metadata": {},
   "outputs": [
    {
     "name": "stdout",
     "output_type": "stream",
     "text": [
      "Elements in 'a' but not in 'b': {1, 2, 3}\n"
     ]
    }
   ],
   "source": [
    "#difference()\n",
    "\n",
    "difference_ab = a.difference(b) # Berechne die Differenz zwischen Set 'a' und Set 'b'.\n",
    "difference_ab = a - b # - Alternativ kannst du den '-' Operator verwenden, um das gleiche Ergebnis zu erzielen.\n",
    "print(f\"Elements in 'a' but not in 'b': {difference_ab}\") "
   ]
  },
  {
   "cell_type": "code",
   "execution_count": 126,
   "metadata": {},
   "outputs": [
    {
     "name": "stdout",
     "output_type": "stream",
     "text": [
      "Elements common to both 'a' and 'b': {4, 5}\n"
     ]
    }
   ],
   "source": [
    "#intersection()\n",
    "# Calculate the intersection between set 'a' and set 'b' using the 'intersection()' method\n",
    "# Berechne den Schnittpunkt zwischen Set 'a' und Set 'b' mit der Methode 'intersection()'.\n",
    "\n",
    "intersection_ab = a.intersection(b) \n",
    "print(f\"Elements common to both 'a' and 'b': {intersection_ab}\") \n"
   ]
  },
  {
   "cell_type": "code",
   "execution_count": 127,
   "metadata": {},
   "outputs": [],
   "source": [
    "# Removing duplicates from a list\n",
    "# Duplikate aus einer Liste entfernen.\n",
    "\n",
    "my_list = [1, 2, 2, 3, 3, 4]\n",
    "unique_set = set(my_list)\n",
    "unique_list = list(unique_set)\n"
   ]
  },
  {
   "cell_type": "markdown",
   "metadata": {},
   "source": [
    "**Key Takeaways**\n",
    "- Sets are great for maintaining a collection of unique elements\n",
    "- Sets do not support indexing, so you cannot access elements by their position within the set.\n",
    "- Sets support set operations such as union, intersection, and difference. \n",
    "- Sets are optimized for membership testing.  A set is much faster than searching for it in a list, especially for large collections.\n",
    "- Removing duplicates from a list or sequence\n",
    "- Sets are unordered, so you can't rely on the order of elements within a set.\n"
   ]
  },
  {
   "cell_type": "markdown",
   "metadata": {},
   "source": [
    "**Wichtige Erkenntnisse**\n",
    "- Sets sind großartig für die Aufrechterhaltung einer Sammlung von einzigartigen Elementen.\n",
    "- Sets unterstützen keine Indizierung, daher kannst du nicht auf Elemente nach ihrer Position im Set zugreifen.\n",
    "- Sets unterstützen Mengenoperationen wie Vereinigung, Schnittmenge und Differenz.\n",
    "- Sets sind für die Mitgliedschaftsprüfung optimiert. Ein Set ist viel schneller als die Suche danach in einer Liste, besonders bei großen Sammlungen.\n",
    "- Duplikate aus einer Liste oder Sequenz entfernen.\n",
    "- Sets sind ungeordnet, daher kannst du dich nicht auf die Reihenfolge der Elemente innerhalb eines Sets verlassen.\n"
   ]
  },
  {
   "cell_type": "markdown",
   "metadata": {},
   "source": [
    "# Time for Practice (Zeit für Übung)"
   ]
  },
  {
   "cell_type": "markdown",
   "metadata": {},
   "source": [
    "\n",
    "## Bitte öffnen Sie die 1. Practice Intrucation und bearbeiten Sie den Abschnitt # Set .\n",
    "## Please open 1. Practice Instruction file and do the # Set."
   ]
  },
  {
   "cell_type": "code",
   "execution_count": 128,
   "metadata": {},
   "outputs": [],
   "source": [
    "################################################################################################################################################################################################################"
   ]
  },
  {
   "cell_type": "markdown",
   "metadata": {},
   "source": [
    "# Quick Overview\n"
   ]
  },
  {
   "cell_type": "markdown",
   "metadata": {},
   "source": [
    "###  Mutability vs. Immutability: (Veränderlichkeit vs. Unveränderlichkeit:))"
   ]
  },
  {
   "cell_type": "code",
   "execution_count": 129,
   "metadata": {},
   "outputs": [],
   "source": [
    "\n",
    "# Lists are mutable (Listen sind veränderbar.)\n",
    "my_list = [1, 2, 3]\n",
    "my_list[0] = 10\n",
    "\n",
    "# Tuples are immutable (Tupel sind unveränderlich.)\n",
    "my_tuple = (1, 2, 3)\n",
    "\n",
    "# Attempting to modify a tuple will result in an error: my_tuple[0\n",
    "#- Der Versuch, ein Tupel zu modifizieren, führt zu einem Fehler: my_tuple[0] = 10.\n"
   ]
  },
  {
   "cell_type": "markdown",
   "metadata": {},
   "source": [
    "### Ordered vs. Unordered:"
   ]
  },
  {
   "cell_type": "code",
   "execution_count": 130,
   "metadata": {},
   "outputs": [
    {
     "data": {
      "text/plain": [
       "'c'"
      ]
     },
     "execution_count": 130,
     "metadata": {},
     "output_type": "execute_result"
    }
   ],
   "source": [
    "# Lists, tuples, and strings are ordered\n",
    "# - Listen, Tupel und strings sind geordnet.\n",
    "\n",
    "my_list = [3, 1, 2]\n",
    "my_tuple = (3, 1, 2)\n",
    "my_string = \"cba\"\n",
    "\n",
    "# Sets and dictionaries are unordered\n",
    "#Sets und Wörterbücher sind ungeordnet.\n",
    "\n",
    "my_set = {3, 1, 2}\n",
    "my_dict = {'b': 2, 'a': 1, 'c': 3}\n",
    "\n",
    "\n",
    "my_string[0]\n",
    "\n",
    "# Attempting to call a value with index in set or  my_dict\n",
    "# Der Versuch, einen Wert mit Index in einem Set oder my_dict aufzurufen.\n"
   ]
  },
  {
   "cell_type": "markdown",
   "metadata": {},
   "source": [
    " ### Duplicate Handling:"
   ]
  },
  {
   "cell_type": "code",
   "execution_count": 131,
   "metadata": {},
   "outputs": [],
   "source": [
    "# Lists allow duplicates\n",
    "# - Listen erlauben Duplikate.\n",
    "\n",
    "my_list = [1, 2, 2, 3, 3, 3]\n",
    "\n",
    "# Sets automatically remove duplicates\n",
    "# Sets entfernen automatisch Duplikate.\n",
    "\n",
    "my_set = {1, 2, 2, 3, 3, 3}\n",
    "\n",
    "# Dictionaries require unique keys\n",
    "# Wörterbücher erfordern einzigartige Schlüssel.\n",
    "my_dict = {'a': 1, 'b': 2, 'a': 3}  # The second 'a' overwrites the first\n",
    "\n",
    "\n",
    "# Attempting to add the second  key : a  , value : 5  in  my_dict\n",
    "# Der Versuch, den zweiten Schlüssel: a, Wert: 5, in my_dict hinzuzufügen.\n"
   ]
  },
  {
   "cell_type": "markdown",
   "metadata": {},
   "source": [
    "## Use Cases:\n"
   ]
  },
  {
   "cell_type": "code",
   "execution_count": 132,
   "metadata": {},
   "outputs": [],
   "source": [
    "# Lists for general use\n",
    "# Listen für allgemeine Verwendung.\n",
    "my_list = [1, 2, 3]\n",
    "\n",
    "# Tuples for immutability and dictionary keys. #Tuples are often used as keys in dictionaries\n",
    "# Tupel für Unveränderlichkeit und Wörterbuchschlüssel. Tupel werden oft als Schlüssel in Wörterbüchern verwendet.\n",
    "\n",
    "my_tuple = (4, 5, 6)\n",
    "\n",
    "# Sets for unique values and set operations\n",
    "# Sets für eindeutige Werte und Mengenoperationen.\n",
    "\n",
    "my_set = {7, 8, 9}\n",
    "\n",
    "# Strings for text\n",
    "# Strings für Text\n",
    "my_string = \"Hello, World!\"\n",
    "\n",
    "# Dictionaries for key-value mappings\n",
    "# - Dictionaries für Schlüssel-Wert-Zuordnungen.\n",
    "my_dict = {'name': 'Alice', 'age': 30}"
   ]
  },
  {
   "cell_type": "code",
   "execution_count": 133,
   "metadata": {},
   "outputs": [
    {
     "name": "stdout",
     "output_type": "stream",
     "text": [
      "Alice\n"
     ]
    }
   ],
   "source": [
    "# Creating a dictionary with a tuple key\n",
    "# Erstellen eines Wörterbuchs mit einem Tupel als Schlüssel.\n",
    "\n",
    "student_info = {(4, 5, 6): 'Alice'}\n",
    "\n",
    "# Accessing the value using the tuple key\n",
    "# Zugriff auf den Wert mithilfe des Tupelschlüssels.\n",
    "\n",
    "print(student_info[(4, 5, 6)])  # Output: 'Alice'\n"
   ]
  },
  {
   "cell_type": "code",
   "execution_count": null,
   "metadata": {},
   "outputs": [],
   "source": []
  }
 ],
 "metadata": {
  "jpcodetoc-autonumbering": true,
  "jpcodetoc-showcode": true,
  "jpcodetoc-showmarkdowntxt": false,
  "jpcodetoc-showtags": true,
  "kernelspec": {
   "display_name": "Python 3 (ipykernel)",
   "language": "python",
   "name": "python3"
  },
  "language_info": {
   "codemirror_mode": {
    "name": "ipython",
    "version": 3
   },
   "file_extension": ".py",
   "mimetype": "text/x-python",
   "name": "python",
   "nbconvert_exporter": "python",
   "pygments_lexer": "ipython3",
   "version": "3.11.5"
  }
 },
 "nbformat": 4,
 "nbformat_minor": 4
}
