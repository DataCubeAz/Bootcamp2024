{
 "cells": [
  {
   "cell_type": "code",
   "execution_count": null,
   "id": "bfd0ca6f-48ac-4585-a14f-0860dca22c19",
   "metadata": {},
   "outputs": [],
   "source": [
    "### 1. Erstelle ein 5x5 NumPy-Array mit zufälligen Werten und finde die minimalen und maximalen Werte\n"
   ]
  },
  {
   "cell_type": "code",
   "execution_count": null,
   "id": "4c1a271e-98ab-4ead-b012-52f3c054415b",
   "metadata": {},
   "outputs": [],
   "source": [
    "### 2. Ein 3x3-Array mit Werten von 1 bis 9 und die Summe aller Elemente:\n"
   ]
  },
  {
   "cell_type": "code",
   "execution_count": null,
   "id": "cfb76455-8b92-4dec-b622-32c21c370b6d",
   "metadata": {},
   "outputs": [],
   "source": [
    "### 3. Teile die Array (Ein 3x3-Array) in zwei array auf: eine mit den Werten größer als 5 und eine mit den Werten kleiner als 5.\n"
   ]
  }
 ],
 "metadata": {
  "kernelspec": {
   "display_name": "Python 3 (ipykernel)",
   "language": "python",
   "name": "python3"
  },
  "language_info": {
   "codemirror_mode": {
    "name": "ipython",
    "version": 3
   },
   "file_extension": ".py",
   "mimetype": "text/x-python",
   "name": "python",
   "nbconvert_exporter": "python",
   "pygments_lexer": "ipython3",
   "version": "3.11.5"
  }
 },
 "nbformat": 4,
 "nbformat_minor": 5
}
