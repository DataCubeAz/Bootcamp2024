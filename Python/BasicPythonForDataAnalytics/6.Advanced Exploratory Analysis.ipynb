{
 "cells": [
  {
   "cell_type": "code",
   "execution_count": 1,
   "id": "3796fc1e-e822-408a-953a-0b8c938a3429",
   "metadata": {},
   "outputs": [],
   "source": [
    "import numpy as np\n",
    "import pandas as pd\n",
    "import seaborn as sns\n",
    "import matplotlib.pyplot as plt\n",
    "from scipy import stats\n",
    "from scipy.stats import pointbiserialr\n",
    "df = sns.load_dataset(\"titanic\")\n",
    "import statsmodels.api as sm"
   ]
  },
  {
   "cell_type": "code",
   "execution_count": 2,
   "id": "2ef77cb3-2611-4153-a9cd-760a6808ba8e",
   "metadata": {},
   "outputs": [],
   "source": [
    "import pandas as pd\n",
    "import seaborn as sns\n",
    "import matplotlib.pyplot as plt\n",
    "\n",
    "def check_df(dataframe, head=3):\n",
    "    print(\"##################### Shape #####################\")\n",
    "    print(dataframe.shape)\n",
    "    print(\"##################### Duplicate Values #####################\")\n",
    "    print(dataframe.duplicated().sum())\n",
    "\n",
    "    print(\"##################### Types #####################\")\n",
    "    print(dataframe.dtypes)\n",
    "\n",
    "    print(\"##################### Head #####################\")\n",
    "    print(dataframe.head(head))\n",
    "\n",
    "    print(\"##################### NA #####################\")\n",
    "    print(dataframe.isna().mean()*100)\n",
    "\n",
    "    print(\"##################### Unique Values #####################\")\n",
    "    print(dataframe.nunique())\n",
    "\n"
   ]
  },
  {
   "cell_type": "code",
   "execution_count": 3,
   "id": "39898447-e3ee-4cb3-8c9d-7b13adc3b4b5",
   "metadata": {},
   "outputs": [
    {
     "name": "stdout",
     "output_type": "stream",
     "text": [
      "##################### Shape #####################\n",
      "(891, 15)\n",
      "##################### Duplicate Values #####################\n",
      "107\n",
      "##################### Types #####################\n",
      "survived          int64\n",
      "pclass            int64\n",
      "sex              object\n",
      "age             float64\n",
      "sibsp             int64\n",
      "parch             int64\n",
      "fare            float64\n",
      "embarked         object\n",
      "class          category\n",
      "who              object\n",
      "adult_male         bool\n",
      "deck           category\n",
      "embark_town      object\n",
      "alive            object\n",
      "alone              bool\n",
      "dtype: object\n",
      "##################### Head #####################\n",
      "   survived  pclass     sex   age  sibsp  parch     fare embarked  class  \\\n",
      "0         0       3    male  22.0      1      0   7.2500        S  Third   \n",
      "1         1       1  female  38.0      1      0  71.2833        C  First   \n",
      "2         1       3  female  26.0      0      0   7.9250        S  Third   \n",
      "\n",
      "     who  adult_male deck  embark_town alive  alone  \n",
      "0    man        True  NaN  Southampton    no  False  \n",
      "1  woman       False    C    Cherbourg   yes  False  \n",
      "2  woman       False  NaN  Southampton   yes   True  \n",
      "##################### NA #####################\n",
      "survived        0.000000\n",
      "pclass          0.000000\n",
      "sex             0.000000\n",
      "age            19.865320\n",
      "sibsp           0.000000\n",
      "parch           0.000000\n",
      "fare            0.000000\n",
      "embarked        0.224467\n",
      "class           0.000000\n",
      "who             0.000000\n",
      "adult_male      0.000000\n",
      "deck           77.216611\n",
      "embark_town     0.224467\n",
      "alive           0.000000\n",
      "alone           0.000000\n",
      "dtype: float64\n",
      "##################### Unique Values #####################\n",
      "survived         2\n",
      "pclass           3\n",
      "sex              2\n",
      "age             88\n",
      "sibsp            7\n",
      "parch            7\n",
      "fare           248\n",
      "embarked         3\n",
      "class            3\n",
      "who              3\n",
      "adult_male       2\n",
      "deck             7\n",
      "embark_town      3\n",
      "alive            2\n",
      "alone            2\n",
      "dtype: int64\n"
     ]
    }
   ],
   "source": [
    "check_df(df)"
   ]
  },
  {
   "cell_type": "code",
   "execution_count": 4,
   "id": "a5cd5f4d-e938-458a-9e3e-b8d652264ceb",
   "metadata": {},
   "outputs": [
    {
     "data": {
      "text/html": [
       "<div>\n",
       "<style scoped>\n",
       "    .dataframe tbody tr th:only-of-type {\n",
       "        vertical-align: middle;\n",
       "    }\n",
       "\n",
       "    .dataframe tbody tr th {\n",
       "        vertical-align: top;\n",
       "    }\n",
       "\n",
       "    .dataframe thead th {\n",
       "        text-align: right;\n",
       "    }\n",
       "</style>\n",
       "<table border=\"1\" class=\"dataframe\">\n",
       "  <thead>\n",
       "    <tr style=\"text-align: right;\">\n",
       "      <th></th>\n",
       "      <th>count</th>\n",
       "      <th>mean</th>\n",
       "      <th>std</th>\n",
       "      <th>min</th>\n",
       "      <th>25%</th>\n",
       "      <th>50%</th>\n",
       "      <th>75%</th>\n",
       "      <th>max</th>\n",
       "    </tr>\n",
       "  </thead>\n",
       "  <tbody>\n",
       "    <tr>\n",
       "      <th>survived</th>\n",
       "      <td>891.0</td>\n",
       "      <td>0.383838</td>\n",
       "      <td>0.486592</td>\n",
       "      <td>0.00</td>\n",
       "      <td>0.0000</td>\n",
       "      <td>0.0000</td>\n",
       "      <td>1.0</td>\n",
       "      <td>1.0000</td>\n",
       "    </tr>\n",
       "    <tr>\n",
       "      <th>pclass</th>\n",
       "      <td>891.0</td>\n",
       "      <td>2.308642</td>\n",
       "      <td>0.836071</td>\n",
       "      <td>1.00</td>\n",
       "      <td>2.0000</td>\n",
       "      <td>3.0000</td>\n",
       "      <td>3.0</td>\n",
       "      <td>3.0000</td>\n",
       "    </tr>\n",
       "    <tr>\n",
       "      <th>age</th>\n",
       "      <td>714.0</td>\n",
       "      <td>29.699118</td>\n",
       "      <td>14.526497</td>\n",
       "      <td>0.42</td>\n",
       "      <td>20.1250</td>\n",
       "      <td>28.0000</td>\n",
       "      <td>38.0</td>\n",
       "      <td>80.0000</td>\n",
       "    </tr>\n",
       "    <tr>\n",
       "      <th>sibsp</th>\n",
       "      <td>891.0</td>\n",
       "      <td>0.523008</td>\n",
       "      <td>1.102743</td>\n",
       "      <td>0.00</td>\n",
       "      <td>0.0000</td>\n",
       "      <td>0.0000</td>\n",
       "      <td>1.0</td>\n",
       "      <td>8.0000</td>\n",
       "    </tr>\n",
       "    <tr>\n",
       "      <th>parch</th>\n",
       "      <td>891.0</td>\n",
       "      <td>0.381594</td>\n",
       "      <td>0.806057</td>\n",
       "      <td>0.00</td>\n",
       "      <td>0.0000</td>\n",
       "      <td>0.0000</td>\n",
       "      <td>0.0</td>\n",
       "      <td>6.0000</td>\n",
       "    </tr>\n",
       "    <tr>\n",
       "      <th>fare</th>\n",
       "      <td>891.0</td>\n",
       "      <td>32.204208</td>\n",
       "      <td>49.693429</td>\n",
       "      <td>0.00</td>\n",
       "      <td>7.9104</td>\n",
       "      <td>14.4542</td>\n",
       "      <td>31.0</td>\n",
       "      <td>512.3292</td>\n",
       "    </tr>\n",
       "  </tbody>\n",
       "</table>\n",
       "</div>"
      ],
      "text/plain": [
       "          count       mean        std   min      25%      50%   75%       max\n",
       "survived  891.0   0.383838   0.486592  0.00   0.0000   0.0000   1.0    1.0000\n",
       "pclass    891.0   2.308642   0.836071  1.00   2.0000   3.0000   3.0    3.0000\n",
       "age       714.0  29.699118  14.526497  0.42  20.1250  28.0000  38.0   80.0000\n",
       "sibsp     891.0   0.523008   1.102743  0.00   0.0000   0.0000   1.0    8.0000\n",
       "parch     891.0   0.381594   0.806057  0.00   0.0000   0.0000   0.0    6.0000\n",
       "fare      891.0  32.204208  49.693429  0.00   7.9104  14.4542  31.0  512.3292"
      ]
     },
     "execution_count": 4,
     "metadata": {},
     "output_type": "execute_result"
    }
   ],
   "source": [
    "df.describe().T"
   ]
  },
  {
   "cell_type": "markdown",
   "id": "1ed35e1e-ed0c-49c1-b4b5-f07c3dae9300",
   "metadata": {},
   "source": [
    "## Categorical Variables Analysis "
   ]
  },
  {
   "cell_type": "code",
   "execution_count": 5,
   "id": "97a55079-44d2-493a-b85b-f9f63270feea",
   "metadata": {},
   "outputs": [
    {
     "data": {
      "image/png": "[encoded data removed]",
      "text/plain": [
       "<Figure size 1000x1000 with 1 Axes>"
      ]
     },
     "metadata": {},
     "output_type": "display_data"
    }
   ],
   "source": [
    "import matplotlib.pyplot as plt\n",
    "import matplotlib.image as mpimg\n",
    "image = mpimg.imread('documents/Intro_to_variable_types_3.webp')\n",
    "plt.figure(figsize=(10, 10))\n",
    "plt.imshow(image)\n",
    "plt.show()"
   ]
  },
  {
   "cell_type": "markdown",
   "id": "d97995d1-c82d-4536-8402-d473b6b832b6",
   "metadata": {},
   "source": [
    "**Categorical variables** \\\n",
    "*Nominal Variables*\n",
    "-These are variables that have two or more categories, but which do not have an intrinsic order.\\\n",
    "-For example, a nominal categorical variable can be a person's gender, nationality, or the brand of a product!\\\n",
    "\n",
    "*Ordinal Variables*\\\n",
    "-These are categorical variables that have a clear ordering of the categories\\\n",
    "-For instance, an order customer satisfaction, with dinal categorical variable could be a rating scale categories like \"Very Unsatisfied,\" \"Unsatisfied,\" \"Neutral,\" \"Satisfied,\" and \"Very Satisfied.\" \n",
    "\\\n"
   ]
  },
  {
   "cell_type": "code",
   "execution_count": 6,
   "id": "cb30cdf6-2c02-4a83-b424-0faa1bf89fc7",
   "metadata": {},
   "outputs": [
    {
     "data": {
      "text/plain": [
       "survived\n",
       "0    549\n",
       "1    342\n",
       "Name: count, dtype: int64"
      ]
     },
     "execution_count": 6,
     "metadata": {},
     "output_type": "execute_result"
    }
   ],
   "source": [
    "# Count the number of occurrences of each unique value in the \"survived\" column.\n",
    "df[\"survived\"].value_counts()\n"
   ]
  },
  {
   "cell_type": "code",
   "execution_count": 7,
   "id": "f810f0f5-b1fe-4a58-bf4f-29c09edac0c1",
   "metadata": {},
   "outputs": [
    {
     "data": {
      "text/plain": [
       "array(['male', 'female'], dtype=object)"
      ]
     },
     "execution_count": 7,
     "metadata": {},
     "output_type": "execute_result"
    }
   ],
   "source": [
    "# Get the unique values from the \"sex\" column.\n",
    "df[\"sex\"].unique()"
   ]
  },
  {
   "cell_type": "code",
   "execution_count": 8,
   "id": "5c8c0cd4-6f3a-4de5-951a-3b06db46d640",
   "metadata": {},
   "outputs": [
    {
     "data": {
      "text/plain": [
       "3"
      ]
     },
     "execution_count": 8,
     "metadata": {},
     "output_type": "execute_result"
    }
   ],
   "source": [
    "# Count the number of unique values in the \"class\" column.\n",
    "df[\"class\"].nunique()\n"
   ]
  },
  {
   "cell_type": "code",
   "execution_count": 9,
   "id": "3b62eec4-cf55-405e-80af-401bf883d14d",
   "metadata": {},
   "outputs": [
    {
     "data": {
      "text/plain": [
       "['sex',\n",
       " 'embarked',\n",
       " 'class',\n",
       " 'who',\n",
       " 'adult_male',\n",
       " 'deck',\n",
       " 'embark_town',\n",
       " 'alive',\n",
       " 'alone']"
      ]
     },
     "execution_count": 9,
     "metadata": {},
     "output_type": "execute_result"
    }
   ],
   "source": [
    "categorical_types = [\"category\", \"object\", \"bool\"]\n",
    "categorical_columns = [col for col in df.columns if str(df[col].dtypes) in categorical_types]\n",
    "categorical_columns"
   ]
  },
  {
   "cell_type": "code",
   "execution_count": 10,
   "id": "3c81716d-64a4-4be6-b54c-906adef247a5",
   "metadata": {},
   "outputs": [],
   "source": [
    "def find_categorical_columns(df, max_unique_values=10, include_mixed_types=True):\n",
    "    categorical_cols = []\n",
    "    for col in df.columns:\n",
    "        dtype = str(df[col].dtypes)       \n",
    "        if dtype in [\"category\", \"object\", \"bool\"]:\n",
    "            categorical_cols.append(col)\n",
    "        elif include_mixed_types and pd.api.types.is_object_dtype(df[col]):\n",
    "            categorical_cols.append(col)\n",
    "        else:\n",
    "            num_unique_values = df[col].nunique(dropna=False)\n",
    "            if num_unique_values <= max_unique_values:\n",
    "                categorical_cols.append(col)\n",
    "\n",
    "    return categorical_cols\n",
    "\n",
    "categorical_columns = find_categorical_columns(df)"
   ]
  },
  {
   "cell_type": "code",
   "execution_count": 11,
   "id": "610ae4ae-1fff-4d82-a753-93774a31bea9",
   "metadata": {},
   "outputs": [
    {
     "data": {
      "text/plain": [
       "['survived',\n",
       " 'pclass',\n",
       " 'sex',\n",
       " 'sibsp',\n",
       " 'parch',\n",
       " 'embarked',\n",
       " 'class',\n",
       " 'who',\n",
       " 'adult_male',\n",
       " 'deck',\n",
       " 'embark_town',\n",
       " 'alive',\n",
       " 'alone']"
      ]
     },
     "execution_count": 11,
     "metadata": {},
     "output_type": "execute_result"
    }
   ],
   "source": [
    "categorical_columns"
   ]
  },
  {
   "cell_type": "code",
   "execution_count": 12,
   "id": "9f4d0f92-1b8f-468a-9701-d0acd5940d84",
   "metadata": {},
   "outputs": [
    {
     "data": {
      "text/html": [
       "<div>\n",
       "<style scoped>\n",
       "    .dataframe tbody tr th:only-of-type {\n",
       "        vertical-align: middle;\n",
       "    }\n",
       "\n",
       "    .dataframe tbody tr th {\n",
       "        vertical-align: top;\n",
       "    }\n",
       "\n",
       "    .dataframe thead th {\n",
       "        text-align: right;\n",
       "    }\n",
       "</style>\n",
       "<table border=\"1\" class=\"dataframe\">\n",
       "  <thead>\n",
       "    <tr style=\"text-align: right;\">\n",
       "      <th></th>\n",
       "      <th>survived</th>\n",
       "      <th>pclass</th>\n",
       "      <th>sex</th>\n",
       "      <th>sibsp</th>\n",
       "      <th>parch</th>\n",
       "      <th>embarked</th>\n",
       "      <th>class</th>\n",
       "      <th>who</th>\n",
       "      <th>adult_male</th>\n",
       "      <th>deck</th>\n",
       "      <th>embark_town</th>\n",
       "      <th>alive</th>\n",
       "      <th>alone</th>\n",
       "    </tr>\n",
       "  </thead>\n",
       "  <tbody>\n",
       "    <tr>\n",
       "      <th>0</th>\n",
       "      <td>0</td>\n",
       "      <td>3</td>\n",
       "      <td>male</td>\n",
       "      <td>1</td>\n",
       "      <td>0</td>\n",
       "      <td>S</td>\n",
       "      <td>Third</td>\n",
       "      <td>man</td>\n",
       "      <td>True</td>\n",
       "      <td>NaN</td>\n",
       "      <td>Southampton</td>\n",
       "      <td>no</td>\n",
       "      <td>False</td>\n",
       "    </tr>\n",
       "    <tr>\n",
       "      <th>1</th>\n",
       "      <td>1</td>\n",
       "      <td>1</td>\n",
       "      <td>female</td>\n",
       "      <td>1</td>\n",
       "      <td>0</td>\n",
       "      <td>C</td>\n",
       "      <td>First</td>\n",
       "      <td>woman</td>\n",
       "      <td>False</td>\n",
       "      <td>C</td>\n",
       "      <td>Cherbourg</td>\n",
       "      <td>yes</td>\n",
       "      <td>False</td>\n",
       "    </tr>\n",
       "    <tr>\n",
       "      <th>2</th>\n",
       "      <td>1</td>\n",
       "      <td>3</td>\n",
       "      <td>female</td>\n",
       "      <td>0</td>\n",
       "      <td>0</td>\n",
       "      <td>S</td>\n",
       "      <td>Third</td>\n",
       "      <td>woman</td>\n",
       "      <td>False</td>\n",
       "      <td>NaN</td>\n",
       "      <td>Southampton</td>\n",
       "      <td>yes</td>\n",
       "      <td>True</td>\n",
       "    </tr>\n",
       "    <tr>\n",
       "      <th>3</th>\n",
       "      <td>1</td>\n",
       "      <td>1</td>\n",
       "      <td>female</td>\n",
       "      <td>1</td>\n",
       "      <td>0</td>\n",
       "      <td>S</td>\n",
       "      <td>First</td>\n",
       "      <td>woman</td>\n",
       "      <td>False</td>\n",
       "      <td>C</td>\n",
       "      <td>Southampton</td>\n",
       "      <td>yes</td>\n",
       "      <td>False</td>\n",
       "    </tr>\n",
       "    <tr>\n",
       "      <th>4</th>\n",
       "      <td>0</td>\n",
       "      <td>3</td>\n",
       "      <td>male</td>\n",
       "      <td>0</td>\n",
       "      <td>0</td>\n",
       "      <td>S</td>\n",
       "      <td>Third</td>\n",
       "      <td>man</td>\n",
       "      <td>True</td>\n",
       "      <td>NaN</td>\n",
       "      <td>Southampton</td>\n",
       "      <td>no</td>\n",
       "      <td>True</td>\n",
       "    </tr>\n",
       "  </tbody>\n",
       "</table>\n",
       "</div>"
      ],
      "text/plain": [
       "   survived  pclass     sex  sibsp  parch embarked  class    who  adult_male  \\\n",
       "0         0       3    male      1      0        S  Third    man        True   \n",
       "1         1       1  female      1      0        C  First  woman       False   \n",
       "2         1       3  female      0      0        S  Third  woman       False   \n",
       "3         1       1  female      1      0        S  First  woman       False   \n",
       "4         0       3    male      0      0        S  Third    man        True   \n",
       "\n",
       "  deck  embark_town alive  alone  \n",
       "0  NaN  Southampton    no  False  \n",
       "1    C    Cherbourg   yes  False  \n",
       "2  NaN  Southampton   yes   True  \n",
       "3    C  Southampton   yes  False  \n",
       "4  NaN  Southampton    no   True  "
      ]
     },
     "execution_count": 12,
     "metadata": {},
     "output_type": "execute_result"
    }
   ],
   "source": [
    "df[categorical_columns].head()"
   ]
  },
  {
   "cell_type": "code",
   "execution_count": 15,
   "id": "0f149342-0ff6-47ee-b768-ffce76e19a71",
   "metadata": {},
   "outputs": [],
   "source": [
    "def plot_categorical_data(df, x, y, hue=None, kind='bar'):\n",
    "    \"\"\"\n",
    "    Plots categorical data using seaborn's catplot function.\n",
    "\n",
    "    Parameters:\n",
    "    df (DataFrame): The DataFrame containing the data to plot.\n",
    "    x (str): The name of the column to be plotted on the x-axis.\n",
    "    y (str): The name of the column to be plotted on the y-axis.\n",
    "    hue (str, optional): The name of the column to be used for color encoding. Defaults to None.\n",
    "    kind (str, optional): The kind of plot to draw. Defaults to 'bar'.\n",
    "\n",
    "    Returns:\n",
    "    A seaborn axis-level plot object.\n",
    "    \"\"\"\n",
    "    plot = sns.catplot(data=df, x=x, y=y, hue=hue, kind=kind)\n",
    "    return plot"
   ]
  },
  {
   "cell_type": "code",
   "execution_count": 16,
   "id": "6d4bdd8a-514a-42c0-a51a-60834cb2feda",
   "metadata": {},
   "outputs": [
    {
     "data": {
      "image/png": "[encoded data removed]",
      "text/plain": [
       "<Figure size 601x500 with 1 Axes>"
      ]
     },
     "metadata": {},
     "output_type": "display_data"
    }
   ],
   "source": [
    "plot_categorical_data(df, x=\"sex\", y=\"survived\", hue=\"class\", kind=\"bar\") ;"
   ]
  },
  {
   "cell_type": "markdown",
   "id": "d6cb4583-9ef8-4ccc-9e50-f9b361dda6ff",
   "metadata": {},
   "source": [
    "<div class=\"alert alert-warning\">\n",
    "    \n",
    "### English \n",
    "For males in the \"First\" class category, the error bar extends quite a bit above and below the bar, indicating that there's more uncertainty about the true survival rate for this group. This could be due to a smaller sample size or greater variability in survival outcomes within this group.\n",
    "For females, the error bars are relatively shorter, especially for the \"First\" class, suggesting that the survival rate data for this group is less variable and the mean survival rate is estimated with more certainty.\n",
    "\n",
    " ### Deutsch\n",
    "\n",
    "\n",
    "Für Männer in der Kategorie \"Erste Klasse\" erstreckt sich der Fehlerbalken ziemlich weit über und unter den Balken, was darauf hinweist, dass es mehr Unsicherheit über die wahre Überlebensrate für diese Gruppe gibt. Dies könnte auf eine kleinere Stichprobengröße oder eine größere Variabilität der Überlebensergebnisse innerhalb dieser Gruppe zurückzuführen sein.\n",
    "Für Frauen sind die Fehlerbalken relativ kürzer, insbesondere für die \"Erste Klasse\", was darauf hindeutet, dass die Daten zur Überlebensrate für diese Gruppe weniger variabel sind und die durchschnittliche Überlebensrate mit größerer Sicherheit geschätzt wird.\n",
    "\n",
    "\n",
    "</div>\n"
   ]
  },
  {
   "cell_type": "code",
   "execution_count": 17,
   "id": "55aea7e0-6de8-430a-86af-21ae991b6a98",
   "metadata": {},
   "outputs": [],
   "source": [
    "def find_binary_columns(df, max_unique_values=2):\n",
    "    binary_cols = []\n",
    "    for col in df.columns:\n",
    "        num_unique_values = df[col].nunique(dropna=False)\n",
    "        if num_unique_values <= max_unique_values:\n",
    "            binary_cols.append(col)\n",
    "    return binary_cols"
   ]
  },
  {
   "cell_type": "code",
   "execution_count": 18,
   "id": "304c08a2-6a64-452d-a128-435528dd5a06",
   "metadata": {},
   "outputs": [
    {
     "data": {
      "text/plain": [
       "['survived', 'sex', 'adult_male', 'alive', 'alone']"
      ]
     },
     "execution_count": 18,
     "metadata": {},
     "output_type": "execute_result"
    }
   ],
   "source": [
    "binary_columns=find_binary_columns(df)\n",
    "binary_columns"
   ]
  },
  {
   "cell_type": "code",
   "execution_count": 19,
   "id": "cedec5ba-4034-4573-a395-2eb533db6dd3",
   "metadata": {},
   "outputs": [
    {
     "data": {
      "text/plain": [
       "['deck', 'class', 'sibsp', 'pclass', 'parch', 'embark_town', 'who', 'embarked']"
      ]
     },
     "execution_count": 19,
     "metadata": {},
     "output_type": "execute_result"
    }
   ],
   "source": [
    "categorical_columns_set = set(df[categorical_columns].columns)\n",
    "binary_value_set = set(binary_columns)\n",
    "non_binary_columns = list(categorical_columns_set - binary_value_set)\n",
    "non_binary_columns"
   ]
  },
  {
   "cell_type": "markdown",
   "id": "9c654b5c-0bdd-4011-8757-bab3c6dfcfb5",
   "metadata": {},
   "source": [
    "# Time for Practice Part 1"
   ]
  },
  {
   "cell_type": "markdown",
   "id": "a7dba75f-1973-4b22-afa7-d0919e13201d",
   "metadata": {},
   "source": [
    "## Numerical Variables Analysis"
   ]
  },
  {
   "cell_type": "code",
   "execution_count": 20,
   "id": "cb5f716e-9180-45e3-800c-b054a0815b8c",
   "metadata": {},
   "outputs": [],
   "source": [
    "numerical_columns = [col for col in df.columns if pd.api.types.is_numeric_dtype(df[col])]\n",
    "numerical_columns = [col for col in numerical_columns if col not in categorical_columns]\n"
   ]
  },
  {
   "cell_type": "code",
   "execution_count": 21,
   "id": "f00f9fa5-0dca-4db8-9a5d-35acf040555d",
   "metadata": {},
   "outputs": [
    {
     "data": {
      "text/html": [
       "<div>\n",
       "<style scoped>\n",
       "    .dataframe tbody tr th:only-of-type {\n",
       "        vertical-align: middle;\n",
       "    }\n",
       "\n",
       "    .dataframe tbody tr th {\n",
       "        vertical-align: top;\n",
       "    }\n",
       "\n",
       "    .dataframe thead th {\n",
       "        text-align: right;\n",
       "    }\n",
       "</style>\n",
       "<table border=\"1\" class=\"dataframe\">\n",
       "  <thead>\n",
       "    <tr style=\"text-align: right;\">\n",
       "      <th></th>\n",
       "      <th>age</th>\n",
       "      <th>fare</th>\n",
       "    </tr>\n",
       "  </thead>\n",
       "  <tbody>\n",
       "    <tr>\n",
       "      <th>0</th>\n",
       "      <td>22.0</td>\n",
       "      <td>7.2500</td>\n",
       "    </tr>\n",
       "    <tr>\n",
       "      <th>1</th>\n",
       "      <td>38.0</td>\n",
       "      <td>71.2833</td>\n",
       "    </tr>\n",
       "    <tr>\n",
       "      <th>2</th>\n",
       "      <td>26.0</td>\n",
       "      <td>7.9250</td>\n",
       "    </tr>\n",
       "    <tr>\n",
       "      <th>3</th>\n",
       "      <td>35.0</td>\n",
       "      <td>53.1000</td>\n",
       "    </tr>\n",
       "    <tr>\n",
       "      <th>4</th>\n",
       "      <td>35.0</td>\n",
       "      <td>8.0500</td>\n",
       "    </tr>\n",
       "  </tbody>\n",
       "</table>\n",
       "</div>"
      ],
      "text/plain": [
       "    age     fare\n",
       "0  22.0   7.2500\n",
       "1  38.0  71.2833\n",
       "2  26.0   7.9250\n",
       "3  35.0  53.1000\n",
       "4  35.0   8.0500"
      ]
     },
     "execution_count": 21,
     "metadata": {},
     "output_type": "execute_result"
    }
   ],
   "source": [
    "df[numerical_columns].head()"
   ]
  },
  {
   "cell_type": "code",
   "execution_count": 22,
   "id": "6e4320ed-34f0-4a62-bc1d-0e5bd52805ae",
   "metadata": {},
   "outputs": [],
   "source": [
    "def describe_numerical_column(dataframe, column):\n",
    "    \"\"\"Provides a summary for a numerical column.\"\"\"\n",
    "    print(f\"Summary for {column}:\")\n",
    "    display(dataframe[column].describe())\n",
    "\n",
    "    missing = dataframe[column].isnull().sum()\n",
    "    print(f\"Missing values: {missing}\")\n",
    "\n",
    "    skewness = dataframe[column].skew()\n",
    "    print(f\"Skewness: {skewness:.2f}\")"
   ]
  },
  {
   "cell_type": "code",
   "execution_count": 23,
   "id": "b814dbba-bef2-402f-a7be-c687783bf0c7",
   "metadata": {},
   "outputs": [
    {
     "name": "stdout",
     "output_type": "stream",
     "text": [
      "Summary for age:\n"
     ]
    },
    {
     "data": {
      "text/plain": [
       "count    714.000000\n",
       "mean      29.699118\n",
       "std       14.526497\n",
       "min        0.420000\n",
       "25%       20.125000\n",
       "50%       28.000000\n",
       "75%       38.000000\n",
       "max       80.000000\n",
       "Name: age, dtype: float64"
      ]
     },
     "metadata": {},
     "output_type": "display_data"
    },
    {
     "name": "stdout",
     "output_type": "stream",
     "text": [
      "Missing values: 177\n",
      "Skewness: 0.39\n"
     ]
    }
   ],
   "source": [
    "describe_numerical_column(df, 'age')"
   ]
  },
  {
   "cell_type": "code",
   "execution_count": 24,
   "id": "a6da0006-f219-4fe3-8b3a-ee839f16bfa7",
   "metadata": {},
   "outputs": [],
   "source": [
    "def plot_numerical_column(dataframe, column):\n",
    "    \"\"\"Generates histogram and boxplot for a numerical column.\"\"\"\n",
    "    plt.figure(figsize=(12, 5))\n",
    "\n",
    "    plt.subplot(1, 2, 1)\n",
    "    sns.histplot(dataframe[column], kde=True)\n",
    "    plt.title(f\"Histogram of {column}\")\n",
    "\n",
    "    plt.subplot(1, 2, 2)\n",
    "    sns.boxplot(y=dataframe[column])\n",
    "    plt.title(f\"Boxplot of {column}\")\n",
    "\n",
    "    plt.tight_layout()\n",
    "    plt.show()"
   ]
  },
  {
   "cell_type": "code",
   "execution_count": 25,
   "id": "de05a927-3121-4739-97b0-d627ec8f93c5",
   "metadata": {},
   "outputs": [
    {
     "data": {
      "image/png": "[encoded data removed]",
      "text/plain": [
       "<Figure size 1200x500 with 2 Axes>"
      ]
     },
     "metadata": {},
     "output_type": "display_data"
    }
   ],
   "source": [
    "plot_numerical_column(df, 'age')"
   ]
  },
  {
   "cell_type": "markdown",
   "id": "51f490cb-96fa-4045-a874-3fe8d51ac902",
   "metadata": {},
   "source": [
    "Chekc the continues varaible to see wheather is normally distributed or not . This is very imporatn to choose correct Correlation method."
   ]
  },
  {
   "cell_type": "code",
   "execution_count": 26,
   "id": "dc0aa796-f318-4282-870f-b391878a9d30",
   "metadata": {},
   "outputs": [
    {
     "data": {
      "text/plain": [
       "survived         0\n",
       "pclass           0\n",
       "sex              0\n",
       "age            177\n",
       "sibsp            0\n",
       "parch            0\n",
       "fare             0\n",
       "embarked         2\n",
       "class            0\n",
       "who              0\n",
       "adult_male       0\n",
       "deck           688\n",
       "embark_town      2\n",
       "alive            0\n",
       "alone            0\n",
       "dtype: int64"
      ]
     },
     "execution_count": 26,
     "metadata": {},
     "output_type": "execute_result"
    }
   ],
   "source": [
    "df.isna().sum()"
   ]
  },
  {
   "cell_type": "code",
   "execution_count": 27,
   "id": "acb305b9-99e7-4d78-8431-b9fa96c93bbc",
   "metadata": {},
   "outputs": [],
   "source": [
    "df.dropna(inplace=True)"
   ]
  },
  {
   "cell_type": "code",
   "execution_count": 28,
   "id": "76837ded-f1da-4c98-9421-5c66d1da78c2",
   "metadata": {},
   "outputs": [],
   "source": [
    "##df.drop('deck', axis=1, inplace= True)\n",
    "##df.dropna(inplace=True)"
   ]
  },
  {
   "cell_type": "markdown",
   "id": "bfe3e0cc-6988-464f-b631-c231f8a4af9c",
   "metadata": {},
   "source": [
    "# Time for Practice Part 2"
   ]
  },
  {
   "cell_type": "markdown",
   "id": "43405dc9-6d17-4caf-b5dd-541c82836a68",
   "metadata": {},
   "source": [
    "# Correlation analysis"
   ]
  },
  {
   "cell_type": "markdown",
   "id": "d3158e8a-030f-41d4-be41-d16df8783bf3",
   "metadata": {},
   "source": [
    "### English:\n",
    "- Pearson Correlation Coefficient: Pearson's correlation measures the linear relationship between two continuous variables. It assumes that both variables are normally distributed and have a linear relationship.\n",
    "- Kendall Tau Correlation Coefficient: Kendall's tau is a non-parametric measure that assesses the ordinal association between two variables. (which is suitable for ordinal data, as well as for continuous data that do not meet the assumptions of normality required for Pearson's correlation)\n",
    "- Spearman Rank Correlation: Spearman's correlation is another non-parametric measure (Not normal disttibution). It does not assume normal distribution.\n",
    "- Chi-square test for categorical variables, but it treats ordinal data as nominal (this is a limitation).\n",
    "### German:\n",
    "- Pearson-Korrelationskoeffizient: Die Pearson-Korrelation misst die lineare Beziehung zwischen zwei kontinuierlichen Variablen. Sie setzt voraus, dass beide Variablen normal verteilt sind und eine lineare Beziehung haben.\n",
    "- Kendall Tau Korrelationskoeffizient: Kendall's Tau ist ein nicht-parametrisches Maß, das die ordinale Assoziation zwischen zwei Variablen bewertet.\n",
    "- Spearman Rank Korrelation: Die Spearman-Korrelation ist ein weiteres nicht-parametrisches Maß. Es setzt keine Normalverteilung voraus.\n",
    "- Chi-Quadrat-Test für kategoriale Variablen, behandelt jedoch ordinale Daten als nominal (dies ist eine Einschränkung).\n"
   ]
  },
  {
   "cell_type": "markdown",
   "id": "6d0b13a8",
   "metadata": {},
   "source": [
    "- Spearman's Rank correlation coefficient is indeed suitable for both ordinal datasets and non-parametric continuous values. It is a non-parametric measure that assesses the strength and direction of association between two variables. ( it is the similar with pearson correlation )\n",
    "-  Kendall's Tau is particularly useful for small sample sizes because it is less affected by the distribution of data\n",
    "- Spearman's correlation is suitable for larger datasets compared to Kendall's Tau and is a bit more straightforward to interpret and calculate."
   ]
  },
  {
   "cell_type": "code",
   "execution_count": 29,
   "id": "6170e05a-ce57-4a08-8e2c-6d6427604a70",
   "metadata": {},
   "outputs": [],
   "source": [
    "method : {'pearson', 'kendall', 'spearman'}\n",
    "\n",
    "#df.corr(method='pearson')"
   ]
  },
  {
   "cell_type": "markdown",
   "id": "7fca37cc-9d30-421a-bd93-5a9afdfdc5a6",
   "metadata": {},
   "source": [
    "## Correlation in non_binary_columns variables"
   ]
  },
  {
   "cell_type": "code",
   "execution_count": 30,
   "id": "27e6c052-ba46-4401-864c-e70f5607142f",
   "metadata": {},
   "outputs": [
    {
     "data": {
      "text/plain": [
       "['deck', 'class', 'sibsp', 'pclass', 'parch', 'embark_town', 'who', 'embarked']"
      ]
     },
     "execution_count": 30,
     "metadata": {},
     "output_type": "execute_result"
    }
   ],
   "source": [
    "non_binary_columns"
   ]
  },
  {
   "cell_type": "code",
   "execution_count": 31,
   "id": "29776d0f-04e0-4766-b032-f2e0e4027078",
   "metadata": {},
   "outputs": [
    {
     "data": {
      "text/html": [
       "<div>\n",
       "<style scoped>\n",
       "    .dataframe tbody tr th:only-of-type {\n",
       "        vertical-align: middle;\n",
       "    }\n",
       "\n",
       "    .dataframe tbody tr th {\n",
       "        vertical-align: top;\n",
       "    }\n",
       "\n",
       "    .dataframe thead th {\n",
       "        text-align: right;\n",
       "    }\n",
       "</style>\n",
       "<table border=\"1\" class=\"dataframe\">\n",
       "  <thead>\n",
       "    <tr style=\"text-align: right;\">\n",
       "      <th></th>\n",
       "      <th>deck</th>\n",
       "      <th>class</th>\n",
       "      <th>sibsp</th>\n",
       "      <th>pclass</th>\n",
       "      <th>parch</th>\n",
       "      <th>embark_town</th>\n",
       "      <th>who</th>\n",
       "      <th>embarked</th>\n",
       "    </tr>\n",
       "  </thead>\n",
       "  <tbody>\n",
       "    <tr>\n",
       "      <th>1</th>\n",
       "      <td>C</td>\n",
       "      <td>First</td>\n",
       "      <td>1</td>\n",
       "      <td>1</td>\n",
       "      <td>0</td>\n",
       "      <td>Cherbourg</td>\n",
       "      <td>woman</td>\n",
       "      <td>C</td>\n",
       "    </tr>\n",
       "    <tr>\n",
       "      <th>3</th>\n",
       "      <td>C</td>\n",
       "      <td>First</td>\n",
       "      <td>1</td>\n",
       "      <td>1</td>\n",
       "      <td>0</td>\n",
       "      <td>Southampton</td>\n",
       "      <td>woman</td>\n",
       "      <td>S</td>\n",
       "    </tr>\n",
       "    <tr>\n",
       "      <th>6</th>\n",
       "      <td>E</td>\n",
       "      <td>First</td>\n",
       "      <td>0</td>\n",
       "      <td>1</td>\n",
       "      <td>0</td>\n",
       "      <td>Southampton</td>\n",
       "      <td>man</td>\n",
       "      <td>S</td>\n",
       "    </tr>\n",
       "    <tr>\n",
       "      <th>10</th>\n",
       "      <td>G</td>\n",
       "      <td>Third</td>\n",
       "      <td>1</td>\n",
       "      <td>3</td>\n",
       "      <td>1</td>\n",
       "      <td>Southampton</td>\n",
       "      <td>child</td>\n",
       "      <td>S</td>\n",
       "    </tr>\n",
       "    <tr>\n",
       "      <th>11</th>\n",
       "      <td>C</td>\n",
       "      <td>First</td>\n",
       "      <td>0</td>\n",
       "      <td>1</td>\n",
       "      <td>0</td>\n",
       "      <td>Southampton</td>\n",
       "      <td>woman</td>\n",
       "      <td>S</td>\n",
       "    </tr>\n",
       "  </tbody>\n",
       "</table>\n",
       "</div>"
      ],
      "text/plain": [
       "   deck  class  sibsp  pclass  parch  embark_town    who embarked\n",
       "1     C  First      1       1      0    Cherbourg  woman        C\n",
       "3     C  First      1       1      0  Southampton  woman        S\n",
       "6     E  First      0       1      0  Southampton    man        S\n",
       "10    G  Third      1       3      1  Southampton  child        S\n",
       "11    C  First      0       1      0  Southampton  woman        S"
      ]
     },
     "execution_count": 31,
     "metadata": {},
     "output_type": "execute_result"
    }
   ],
   "source": [
    "df[non_binary_columns].head()"
   ]
  },
  {
   "cell_type": "code",
   "execution_count": 32,
   "id": "d49fced3-c69a-43c0-a674-50346ed06c36",
   "metadata": {},
   "outputs": [],
   "source": [
    "from scipy.stats import chi2_contingency\n",
    "import numpy as np\n",
    "\n",
    "def cramers_v(x, y):\n",
    "    \"\"\"Calculate Cramér's V statistic for two categorical variables.\"\"\"\n",
    "    confusion_matrix = pd.crosstab(x, y)\n",
    "    chi2 = chi2_contingency(confusion_matrix)[0]\n",
    "    n = confusion_matrix.sum().sum()\n",
    "    phi2 = chi2 / n\n",
    "    r, k = confusion_matrix.shape\n",
    "    phi2corr = max(0, phi2 - ((k-1)*(r-1))/(n-1))    \n",
    "    rcorr = r - ((r-1)**2)/(n-1)\n",
    "    kcorr = k - ((k-1)**2)/(n-1)\n",
    "    return np.sqrt(phi2corr / min((rcorr-1), (kcorr-1)))\n",
    "\n"
   ]
  },
  {
   "cell_type": "code",
   "execution_count": 33,
   "id": "470a4a3f-1c03-4426-9136-438a44e9f34d",
   "metadata": {},
   "outputs": [
    {
     "data": {
      "image/png": "[encoded data removed]",
      "text/plain": [
       "<Figure size 1200x1000 with 2 Axes>"
      ]
     },
     "metadata": {},
     "output_type": "display_data"
    }
   ],
   "source": [
    "cramers_v_results = pd.DataFrame(index=non_binary_columns, columns=non_binary_columns)\n",
    "for col1 in non_binary_columns:\n",
    "    for col2 in non_binary_columns:\n",
    "        if col1 != col2:\n",
    "            cramers_v_results.loc[col1, col2] = cramers_v(df[col1], df[col2])\n",
    "\n",
    "cramers_v_results\n",
    "plt.figure(figsize=(12, 10))\n",
    "sns.heatmap(cramers_v_results.astype(float), annot=True, cmap='coolwarm')\n",
    "plt.title(\"Heatmap of Cramér's V Results\")\n",
    "plt.show()"
   ]
  },
  {
   "cell_type": "markdown",
   "id": "5d4c2a1f-0824-46f1-a575-03573ecd1211",
   "metadata": {},
   "source": [
    "## Correlation in continuous variables and  binary columns"
   ]
  },
  {
   "cell_type": "markdown",
   "id": "1a946a83-a145-4f32-8627-1171db81b7de",
   "metadata": {},
   "source": [
    "### English:\n",
    "- First, before finding the correlation, we need to convert categorical ( binary) columns to numerical values.\n",
    "### German:\n",
    "- Zuerst müssen wir vor dem Auffinden der Korrelation kategoriale Spalten (binary) in numerische Werte umwandeln."
   ]
  },
  {
   "cell_type": "code",
   "execution_count": 34,
   "id": "bbbb4728-00c8-47db-a0f9-45bcf24ee1f1",
   "metadata": {},
   "outputs": [],
   "source": [
    "from sklearn import preprocessing\n",
    "le = preprocessing.LabelEncoder()\n"
   ]
  },
  {
   "cell_type": "code",
   "execution_count": 35,
   "id": "dcab7327-3d18-43da-b074-70e71ee9d1b1",
   "metadata": {},
   "outputs": [],
   "source": [
    "for i in df[binary_columns]:\n",
    "    df[i] = le.fit_transform(df[i])"
   ]
  },
  {
   "cell_type": "code",
   "execution_count": 36,
   "id": "c0ffcbf6-9e09-4ec0-b69a-48772f158f10",
   "metadata": {},
   "outputs": [
    {
     "data": {
      "text/html": [
       "<div>\n",
       "<style scoped>\n",
       "    .dataframe tbody tr th:only-of-type {\n",
       "        vertical-align: middle;\n",
       "    }\n",
       "\n",
       "    .dataframe tbody tr th {\n",
       "        vertical-align: top;\n",
       "    }\n",
       "\n",
       "    .dataframe thead th {\n",
       "        text-align: right;\n",
       "    }\n",
       "</style>\n",
       "<table border=\"1\" class=\"dataframe\">\n",
       "  <thead>\n",
       "    <tr style=\"text-align: right;\">\n",
       "      <th></th>\n",
       "      <th>survived</th>\n",
       "      <th>sex</th>\n",
       "      <th>adult_male</th>\n",
       "      <th>alive</th>\n",
       "      <th>alone</th>\n",
       "    </tr>\n",
       "  </thead>\n",
       "  <tbody>\n",
       "    <tr>\n",
       "      <th>1</th>\n",
       "      <td>1</td>\n",
       "      <td>0</td>\n",
       "      <td>0</td>\n",
       "      <td>1</td>\n",
       "      <td>0</td>\n",
       "    </tr>\n",
       "    <tr>\n",
       "      <th>3</th>\n",
       "      <td>1</td>\n",
       "      <td>0</td>\n",
       "      <td>0</td>\n",
       "      <td>1</td>\n",
       "      <td>0</td>\n",
       "    </tr>\n",
       "    <tr>\n",
       "      <th>6</th>\n",
       "      <td>0</td>\n",
       "      <td>1</td>\n",
       "      <td>1</td>\n",
       "      <td>0</td>\n",
       "      <td>1</td>\n",
       "    </tr>\n",
       "    <tr>\n",
       "      <th>10</th>\n",
       "      <td>1</td>\n",
       "      <td>0</td>\n",
       "      <td>0</td>\n",
       "      <td>1</td>\n",
       "      <td>0</td>\n",
       "    </tr>\n",
       "    <tr>\n",
       "      <th>11</th>\n",
       "      <td>1</td>\n",
       "      <td>0</td>\n",
       "      <td>0</td>\n",
       "      <td>1</td>\n",
       "      <td>1</td>\n",
       "    </tr>\n",
       "  </tbody>\n",
       "</table>\n",
       "</div>"
      ],
      "text/plain": [
       "    survived  sex  adult_male  alive  alone\n",
       "1          1    0           0      1      0\n",
       "3          1    0           0      1      0\n",
       "6          0    1           1      0      1\n",
       "10         1    0           0      1      0\n",
       "11         1    0           0      1      1"
      ]
     },
     "execution_count": 36,
     "metadata": {},
     "output_type": "execute_result"
    }
   ],
   "source": [
    "df[binary_columns].head()"
   ]
  },
  {
   "cell_type": "code",
   "execution_count": 37,
   "id": "32cc9744-4abf-45e4-a467-f216517da77c",
   "metadata": {},
   "outputs": [
    {
     "data": {
      "text/plain": [
       "['age', 'fare']"
      ]
     },
     "execution_count": 37,
     "metadata": {},
     "output_type": "execute_result"
    }
   ],
   "source": [
    "numerical_columns"
   ]
  },
  {
   "cell_type": "code",
   "execution_count": 38,
   "id": "723ca592-7a64-40ba-9ec8-78bbb05514d9",
   "metadata": {},
   "outputs": [],
   "source": [
    "ordinal_columns=['pclass' , 'sibsp']"
   ]
  },
  {
   "cell_type": "markdown",
   "id": "e703ba47-45f9-4b72-868c-98feb3450bac",
   "metadata": {},
   "source": [
    "### English:\n",
    "As \"pclass\" and \"sibsp\" can be considered as ordinal categorical datasets, we can use Spearman correlation for those columns.\n",
    "### German:\n",
    "Da \"pclass\" und \"sibsp\" als ordinal-kategoriale Datensätze betrachtet werden können, können wir für diese Spalten die Spearman-Korrelation verwenden."
   ]
  },
  {
   "cell_type": "code",
   "execution_count": 39,
   "id": "331818a7-87cd-4729-8122-aab47fb489bc",
   "metadata": {},
   "outputs": [],
   "source": [
    "method : {'pearson', 'kendall', 'spearman'}\n",
    "#df.corr(method='pearson')"
   ]
  },
  {
   "cell_type": "code",
   "execution_count": 40,
   "id": "30b05429-5b04-408c-8a80-754e220a7538",
   "metadata": {},
   "outputs": [
    {
     "data": {
      "image/png": "[encoded data removed]",
      "text/plain": [
       "<Figure size 1500x800 with 2 Axes>"
      ]
     },
     "metadata": {},
     "output_type": "display_data"
    }
   ],
   "source": [
    "plt.figure(figsize=(15, 8))  \n",
    "correlation_matrix = df[numerical_columns+binary_columns +ordinal_columns] .corr(method='spearman')\n",
    "sns.heatmap(correlation_matrix, annot=True, cmap='coolwarm')\n",
    "plt.show()\n"
   ]
  },
  {
   "cell_type": "markdown",
   "id": "e2fdf734-6760-4abc-9b76-9673051bd8cb",
   "metadata": {},
   "source": [
    "# Time for Practice Part 3"
   ]
  },
  {
   "cell_type": "markdown",
   "id": "b43f3dfb-d32a-44de-accb-6c44694096dc",
   "metadata": {},
   "source": [
    "# Correlation analysis  with Visualizing"
   ]
  },
  {
   "cell_type": "markdown",
   "id": "bf0cacfa-f903-4980-ac91-6db50f037314",
   "metadata": {},
   "source": [
    " ### Visualizing the relationship between a categorical variable and  numerical columns "
   ]
  },
  {
   "cell_type": "code",
   "execution_count": 41,
   "id": "01664246-f076-4877-86fa-e5328e500c1b",
   "metadata": {},
   "outputs": [],
   "source": [
    "from ipywidgets import interact, Dropdown, FloatSlider, HBox\n",
    "import plotly.graph_objs as go\n",
    "import pandas as pd\n",
    "import plotly.subplots as sp"
   ]
  },
  {
   "cell_type": "code",
   "execution_count": 42,
   "id": "359b3b4b-3b2f-46f5-8629-acc3008ac672",
   "metadata": {},
   "outputs": [],
   "source": [
    "\n",
    "numerical_columns_sorted = sorted(numerical_columns)\n",
    "categorical_columns_sorted = sorted(categorical_columns)\n",
    "numerical_dropdown = Dropdown(options=numerical_columns_sorted, description='Numerical Column:')\n",
    "categorical_dropdown = Dropdown(options=categorical_columns_sorted, description='Categorical Column:')\n"
   ]
  },
  {
   "cell_type": "code",
   "execution_count": 43,
   "id": "487f756f-0193-433b-9d6c-4be2ef3790e2",
   "metadata": {},
   "outputs": [
    {
     "data": {
      "application/vnd.jupyter.widget-view+json": {
       "model_id": "6dbf6a1a5d884a6f8d5111ff3355fc10",
       "version_major": 2,
       "version_minor": 0
      },
      "text/plain": [
       "interactive(children=(Dropdown(description='Numerical Column:', options=('age', 'fare'), value='age'), Dropdow…"
      ]
     },
     "metadata": {},
     "output_type": "display_data"
    },
    {
     "data": {
      "text/plain": [
       "<function __main__.update_plot(numerical_column, categorical_column)>"
      ]
     },
     "execution_count": 43,
     "metadata": {},
     "output_type": "execute_result"
    }
   ],
   "source": [
    "\n",
    "def update_plot(numerical_column, categorical_column):\n",
    "    data = []\n",
    "    categories = df[categorical_column].unique().tolist()\n",
    "    if pd.isna(categories).any():\n",
    "        categories.append(np.nan)\n",
    "    for category in categories:\n",
    "        if pd.isna(category):\n",
    "            category_name = 'missing'  \n",
    "            subset = df[pd.isna(df[categorical_column])][numerical_column]\n",
    "        else:\n",
    "            category_name = str(category)\n",
    "            subset = df[df[categorical_column] == category][numerical_column]\n",
    "\n",
    "        data.append(\n",
    "            go.Box(\n",
    "                y=subset,\n",
    "                name=category_name\n",
    "            )\n",
    "        )\n",
    "    fig = go.Figure(data=data)\n",
    "    fig.update_layout(title=f'Distribution of {numerical_column} by {categorical_column} (including Missing)')\n",
    "    fig.show()\n",
    "interact(update_plot, numerical_column=numerical_dropdown, categorical_column=categorical_dropdown)"
   ]
  },
  {
   "cell_type": "markdown",
   "id": "315382b7-4232-4d93-a08f-6045e0a556ee",
   "metadata": {},
   "source": [
    " ### Visualization for Two Numerical Columns:"
   ]
  },
  {
   "cell_type": "code",
   "execution_count": 44,
   "id": "27fcf8e0-837f-4610-9f2d-524ac120f5a7",
   "metadata": {},
   "outputs": [
    {
     "data": {
      "application/vnd.jupyter.widget-view+json": {
       "model_id": "8a57fa8bf35c4859be26a4388d3c517e",
       "version_major": 2,
       "version_minor": 0
      },
      "text/plain": [
       "interactive(children=(Dropdown(description='X-axis:', options=('age', 'fare'), value='age'), Dropdown(descript…"
      ]
     },
     "metadata": {},
     "output_type": "display_data"
    },
    {
     "data": {
      "text/plain": [
       "<function __main__.update_numerical_plot(x_column, y_column)>"
      ]
     },
     "execution_count": 44,
     "metadata": {},
     "output_type": "execute_result"
    }
   ],
   "source": [
    "numerical_columns_sorted = sorted(numerical_columns) \n",
    "def update_numerical_plot(x_column, y_column):\n",
    "    fig = sp.make_subplots(rows=2, cols=2, \n",
    "                           column_widths=[0.90, 0.15], \n",
    "                           row_heights=[0.15, 0.85],\n",
    "                           shared_xaxes=True,\n",
    "                           shared_yaxes=True,\n",
    "                           vertical_spacing=0.02,\n",
    "                           horizontal_spacing=0.02,\n",
    "                           subplot_titles=(None, None, f'Scatter Plot of {x_column} vs {y_column}'))\n",
    "    fig.add_trace(go.Scatter(x=df[x_column], y=df[y_column], mode='markers', name='scatter'), row=2, col=1)\n",
    "    fig.add_trace(go.Histogram(x=df[x_column], name=f'histogram {x_column}'), row=1, col=1)\n",
    "    fig.add_trace(go.Histogram(y=df[y_column], name=f'histogram {y_column}', orientation='h'), row=2, col=2)\n",
    "    fig.update_layout(height=800, width=1200, showlegend=False)\n",
    "    fig.show()\n",
    "x_dropdown = Dropdown(options=numerical_columns_sorted, description='X-axis:')\n",
    "y_dropdown = Dropdown(options=numerical_columns_sorted, description='Y-axis:')\n",
    "interact(update_numerical_plot, x_column=x_dropdown, y_column=y_dropdown)\n"
   ]
  },
  {
   "cell_type": "markdown",
   "id": "28ffa656-31a7-4f9f-a670-c85e75a1be18",
   "metadata": {},
   "source": [
    "### Visualization for Two Categorical Columns:\n"
   ]
  },
  {
   "cell_type": "code",
   "execution_count": 45,
   "id": "8d8314ed-935c-44e3-b125-0fd17915ad49",
   "metadata": {},
   "outputs": [
    {
     "data": {
      "application/vnd.jupyter.widget-view+json": {
       "model_id": "e989c7413feb457e9911767dfcc2ed3d",
       "version_major": 2,
       "version_minor": 0
      },
      "text/plain": [
       "interactive(children=(Dropdown(description='Column 1:', options=('adult_male', 'alive', 'alone', 'class', 'dec…"
      ]
     },
     "metadata": {},
     "output_type": "display_data"
    },
    {
     "data": {
      "text/plain": [
       "<function __main__.update_categorical_plot(column1, column2)>"
      ]
     },
     "execution_count": 45,
     "metadata": {},
     "output_type": "execute_result"
    }
   ],
   "source": [
    "import plotly.graph_objs as go\n",
    "from ipywidgets import Dropdown, interact\n",
    "import pandas as pd\n",
    "\n",
    "# Assuming df is your DataFrame and categorical_columns is a list of column names.\n",
    "\n",
    "def update_categorical_plot(column1, column2):\n",
    "    if column1 == column2:\n",
    "        print(\"The same column is selected for both axes. Please select different columns.\")\n",
    "        return\n",
    "    grouped_data = df.groupby([column1, column2]).size().reset_index(name='counts')\n",
    "    data = []\n",
    "    categories = sorted(df[column2].unique())\n",
    "    for category in categories:\n",
    "        data.append(\n",
    "            go.Bar(\n",
    "                name=str(category),\n",
    "                x=grouped_data[grouped_data[column2] == category][column1],\n",
    "                y=grouped_data[grouped_data[column2] == category]['counts']\n",
    "            )\n",
    "        )\n",
    "    fig = go.Figure(data=data)\n",
    "    fig.update_layout(\n",
    "        barmode='group',\n",
    "        title=f'Grouped Bar Chart of {column1} and {column2}',\n",
    "        xaxis_title=column1,\n",
    "        yaxis_title='Count',\n",
    "        xaxis={'categoryorder':'total descending'}  # This will order the x-axis based on count\n",
    "    )\n",
    "    fig.show()\n",
    "\n",
    "# Example usage:\n",
    "categorical_columns_sorted = sorted(categorical_columns)  # Ensure categorical_columns is defined\n",
    "column1_dropdown = Dropdown(options=categorical_columns_sorted, description='Column 1:')\n",
    "column2_dropdown = Dropdown(options=categorical_columns_sorted, description='Column 2:')\n",
    "interact(update_categorical_plot, column1=column1_dropdown, column2=column2_dropdown)\n"
   ]
  },
  {
   "cell_type": "code",
   "execution_count": 46,
   "id": "24069318-67ef-4d66-b189-b3e0f6632ad6",
   "metadata": {},
   "outputs": [
    {
     "data": {
      "text/html": [
       "<div>\n",
       "<style scoped>\n",
       "    .dataframe tbody tr th:only-of-type {\n",
       "        vertical-align: middle;\n",
       "    }\n",
       "\n",
       "    .dataframe tbody tr th {\n",
       "        vertical-align: top;\n",
       "    }\n",
       "\n",
       "    .dataframe thead th {\n",
       "        text-align: right;\n",
       "    }\n",
       "</style>\n",
       "<table border=\"1\" class=\"dataframe\">\n",
       "  <thead>\n",
       "    <tr style=\"text-align: right;\">\n",
       "      <th></th>\n",
       "      <th>survived</th>\n",
       "      <th>pclass</th>\n",
       "      <th>sex</th>\n",
       "      <th>age</th>\n",
       "      <th>sibsp</th>\n",
       "      <th>parch</th>\n",
       "      <th>fare</th>\n",
       "      <th>embarked</th>\n",
       "      <th>class</th>\n",
       "      <th>who</th>\n",
       "      <th>adult_male</th>\n",
       "      <th>deck</th>\n",
       "      <th>embark_town</th>\n",
       "      <th>alive</th>\n",
       "      <th>alone</th>\n",
       "    </tr>\n",
       "  </thead>\n",
       "  <tbody>\n",
       "    <tr>\n",
       "      <th>1</th>\n",
       "      <td>1</td>\n",
       "      <td>1</td>\n",
       "      <td>0</td>\n",
       "      <td>38.0</td>\n",
       "      <td>1</td>\n",
       "      <td>0</td>\n",
       "      <td>71.2833</td>\n",
       "      <td>C</td>\n",
       "      <td>First</td>\n",
       "      <td>woman</td>\n",
       "      <td>0</td>\n",
       "      <td>C</td>\n",
       "      <td>Cherbourg</td>\n",
       "      <td>1</td>\n",
       "      <td>0</td>\n",
       "    </tr>\n",
       "    <tr>\n",
       "      <th>3</th>\n",
       "      <td>1</td>\n",
       "      <td>1</td>\n",
       "      <td>0</td>\n",
       "      <td>35.0</td>\n",
       "      <td>1</td>\n",
       "      <td>0</td>\n",
       "      <td>53.1000</td>\n",
       "      <td>S</td>\n",
       "      <td>First</td>\n",
       "      <td>woman</td>\n",
       "      <td>0</td>\n",
       "      <td>C</td>\n",
       "      <td>Southampton</td>\n",
       "      <td>1</td>\n",
       "      <td>0</td>\n",
       "    </tr>\n",
       "    <tr>\n",
       "      <th>6</th>\n",
       "      <td>0</td>\n",
       "      <td>1</td>\n",
       "      <td>1</td>\n",
       "      <td>54.0</td>\n",
       "      <td>0</td>\n",
       "      <td>0</td>\n",
       "      <td>51.8625</td>\n",
       "      <td>S</td>\n",
       "      <td>First</td>\n",
       "      <td>man</td>\n",
       "      <td>1</td>\n",
       "      <td>E</td>\n",
       "      <td>Southampton</td>\n",
       "      <td>0</td>\n",
       "      <td>1</td>\n",
       "    </tr>\n",
       "    <tr>\n",
       "      <th>10</th>\n",
       "      <td>1</td>\n",
       "      <td>3</td>\n",
       "      <td>0</td>\n",
       "      <td>4.0</td>\n",
       "      <td>1</td>\n",
       "      <td>1</td>\n",
       "      <td>16.7000</td>\n",
       "      <td>S</td>\n",
       "      <td>Third</td>\n",
       "      <td>child</td>\n",
       "      <td>0</td>\n",
       "      <td>G</td>\n",
       "      <td>Southampton</td>\n",
       "      <td>1</td>\n",
       "      <td>0</td>\n",
       "    </tr>\n",
       "    <tr>\n",
       "      <th>11</th>\n",
       "      <td>1</td>\n",
       "      <td>1</td>\n",
       "      <td>0</td>\n",
       "      <td>58.0</td>\n",
       "      <td>0</td>\n",
       "      <td>0</td>\n",
       "      <td>26.5500</td>\n",
       "      <td>S</td>\n",
       "      <td>First</td>\n",
       "      <td>woman</td>\n",
       "      <td>0</td>\n",
       "      <td>C</td>\n",
       "      <td>Southampton</td>\n",
       "      <td>1</td>\n",
       "      <td>1</td>\n",
       "    </tr>\n",
       "  </tbody>\n",
       "</table>\n",
       "</div>"
      ],
      "text/plain": [
       "    survived  pclass  sex   age  sibsp  parch     fare embarked  class    who  \\\n",
       "1          1       1    0  38.0      1      0  71.2833        C  First  woman   \n",
       "3          1       1    0  35.0      1      0  53.1000        S  First  woman   \n",
       "6          0       1    1  54.0      0      0  51.8625        S  First    man   \n",
       "10         1       3    0   4.0      1      1  16.7000        S  Third  child   \n",
       "11         1       1    0  58.0      0      0  26.5500        S  First  woman   \n",
       "\n",
       "    adult_male deck  embark_town  alive  alone  \n",
       "1            0    C    Cherbourg      1      0  \n",
       "3            0    C  Southampton      1      0  \n",
       "6            1    E  Southampton      0      1  \n",
       "10           0    G  Southampton      1      0  \n",
       "11           0    C  Southampton      1      1  "
      ]
     },
     "execution_count": 46,
     "metadata": {},
     "output_type": "execute_result"
    }
   ],
   "source": [
    "df.head()"
   ]
  },
  {
   "cell_type": "code",
   "execution_count": 47,
   "id": "80309bba-e714-47a3-bb2d-58dac05d1cf6",
   "metadata": {},
   "outputs": [
    {
     "name": "stderr",
     "output_type": "stream",
     "text": [
      "C:\\Users\\habdullayev\\AppData\\Local\\Temp\\ipykernel_7080\\821690737.py:1: FutureWarning:\n",
      "\n",
      "The default of observed=False is deprecated and will be changed to True in a future version of pandas. Pass observed=False to retain current behavior or observed=True to adopt the future default and silence this warning.\n",
      "\n"
     ]
    },
    {
     "data": {
      "text/plain": [
       "class\n",
       "First     157\n",
       "Second     15\n",
       "Third      10\n",
       "Name: alone, dtype: int64"
      ]
     },
     "execution_count": 47,
     "metadata": {},
     "output_type": "execute_result"
    }
   ],
   "source": [
    "df.groupby('class')['alone'].count()"
   ]
  },
  {
   "cell_type": "markdown",
   "id": "a06676a2-09bc-4b4c-bb69-ed971b73c4d6",
   "metadata": {},
   "source": [
    "# Time for Practice Part 3"
   ]
  }
 ],
 "metadata": {
  "kernelspec": {
   "display_name": "Python 3 (ipykernel)",
   "language": "python",
   "name": "python3"
  },
  "language_info": {
   "codemirror_mode": {
    "name": "ipython",
    "version": 3
   },
   "file_extension": ".py",
   "mimetype": "text/x-python",
   "name": "python",
   "nbconvert_exporter": "python",
   "pygments_lexer": "ipython3",
   "version": "3.11.5"
  }
 },
 "nbformat": 4,
 "nbformat_minor": 5
}
