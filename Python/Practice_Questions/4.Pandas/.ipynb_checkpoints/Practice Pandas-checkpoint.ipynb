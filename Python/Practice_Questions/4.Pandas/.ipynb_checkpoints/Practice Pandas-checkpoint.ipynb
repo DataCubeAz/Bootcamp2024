{
 "cells": [
  {
   "cell_type": "markdown",
   "id": "7c3c3d26-7459-4328-9c3d-4b185ea32cef",
   "metadata": {},
   "source": [
    "| Column Name         | English Description                                 | German Description                                         |\n",
    "|---------------------|-----------------------------------------------------|------------------------------------------------------------|\n",
    "| order_id            | Identifier for the order.                           | Kennung für die Bestellung.                                |\n",
    "| quantity            | Number of items ordered.                            | Anzahl der bestellten Artikel.                             |\n",
    "| item_name           | Name of the food item.                              | Name des Lebensmittelartikels.                             |\n",
    "| choice_description  | Description of food item customizations (if any).   | Beschreibung der Anpassungen des Lebensmittelartikels (falls vorhanden). |\n",
    "| item_price          | Price of the item (in USD).                         | Preis des Artikels (in USD).                               |\n"
   ]
  },
  {
   "cell_type": "markdown",
   "id": "2e50301a-70b7-41f2-bfdc-d589b1598573",
   "metadata": {},
   "source": [
    "## 1. Import the necessary libraries (Importieren Sie die notwendigen Bibliotheken )"
   ]
  },
  {
   "cell_type": "code",
   "execution_count": null,
   "id": "c99dd546-0395-46e0-8528-b9dcc29b0ff5",
   "metadata": {},
   "outputs": [],
   "source": []
  },
  {
   "cell_type": "markdown",
   "id": "92798105-459c-47b8-bccf-c476759131a4",
   "metadata": {},
   "source": [
    "##  2. Import the dataset and Analysis  (Importieren Sie den Datensatz und Analyse )"
   ]
  },
  {
   "cell_type": "code",
   "execution_count": 1,
   "id": "67993f1c-c74b-42b1-9d5c-069124ebc264",
   "metadata": {},
   "outputs": [],
   "source": [
    "### 1.Print first 10 row of the dataset (Geben Sie die ersten 10 Zeilen des Datensatzes aus.)\n"
   ]
  },
  {
   "cell_type": "code",
   "execution_count": 2,
   "id": "a45f0510-aa73-44a8-a346-7161b277c078",
   "metadata": {},
   "outputs": [],
   "source": [
    "### 2.Print the shape of the dataset (Geben Sie die Form des Datensatzes aus.)\n"
   ]
  },
  {
   "cell_type": "code",
   "execution_count": 3,
   "id": "8b53d4a3-82e2-4fb2-b6d4-c7c829fc79a3",
   "metadata": {},
   "outputs": [],
   "source": [
    "### 3. Print the info of the dataset (Geben Sie die Informationen des Datensatzes aus) \n"
   ]
  },
  {
   "cell_type": "code",
   "execution_count": 4,
   "id": "2e476159-a5d8-44f6-acf8-ee7a7fefa54e",
   "metadata": {},
   "outputs": [],
   "source": [
    "### 4. Print the name of all the columns. (Gib den Namen aller Spalten aus. )\n"
   ]
  },
  {
   "cell_type": "code",
   "execution_count": 5,
   "id": "40cb5a17-38a5-4647-b605-87570f93095b",
   "metadata": {},
   "outputs": [],
   "source": [
    "### 5. What is the number of columns in the dataset? ( Wie viele Spalten hat das Dataset?)\n"
   ]
  },
  {
   "cell_type": "code",
   "execution_count": null,
   "id": "7d2ea413-83d4-4f4f-a57e-461398488e07",
   "metadata": {},
   "outputs": [],
   "source": [
    "### 6. Check for duplicated values and drop them ( Überprüfe auf doppelte Werte und entferne sie.)"
   ]
  },
  {
   "cell_type": "code",
   "execution_count": 6,
   "id": "cd78bc21-2845-4081-b6bf-7f19af29689d",
   "metadata": {},
   "outputs": [],
   "source": [
    "### 7. Which item is sold the most and how much was it sold? (Welcher Artikel wird am meisten verkauft und wie viel wurde davon verkauft?)\n"
   ]
  },
  {
   "cell_type": "code",
   "execution_count": 7,
   "id": "df73f138-b8b0-455f-b40b-9fcd99423a65",
   "metadata": {},
   "outputs": [],
   "source": [
    "### 8. How many items were ordered in total? (Wie viele Artikel wurden insgesamt bestellt?)\n"
   ]
  },
  {
   "cell_type": "markdown",
   "id": "19252e91-ffe0-4abb-9c4b-43d0f5eb96f7",
   "metadata": {},
   "source": [
    "## 3. Filling missing values  ( Füllen von fehlenden Werten)"
   ]
  },
  {
   "cell_type": "code",
   "execution_count": 13,
   "id": "53562053-2143-4750-9730-dcc5f08a26b6",
   "metadata": {},
   "outputs": [],
   "source": [
    "### 1. Check missing values and show in percentages  ( Überprüfen von fehlenden Werten und Anzeigen in Prozenten)\n"
   ]
  },
  {
   "cell_type": "code",
   "execution_count": 14,
   "id": "33e065ac-af50-4c59-ad41-d6731a313cbc",
   "metadata": {},
   "outputs": [],
   "source": [
    "### 2. Fill mising value in item_price with median () ( Die fehlenden Werte in 'item_price' mit dem Median füllen)\n"
   ]
  },
  {
   "cell_type": "code",
   "execution_count": 15,
   "id": "1eb9b48c-877a-42a4-a563-0051fe00cb24",
   "metadata": {},
   "outputs": [],
   "source": [
    "### 3.Fill mising value in  choice_description with \"Unknow\" (Die fehlenden Werte in 'choice_description' mit 'Unbekannt' füllen)\n"
   ]
  },
  {
   "cell_type": "markdown",
   "id": "fd1c0fad-4f8d-4bbf-b4ac-408860ecc54f",
   "metadata": {},
   "source": [
    "## 4. Pivot table and Group By"
   ]
  },
  {
   "cell_type": "code",
   "execution_count": 16,
   "id": "01d639ce-82c9-4c66-9257-983065c1937b",
   "metadata": {},
   "outputs": [],
   "source": [
    "### 1 . Create a pivot table to show the total item price for each item name.\n",
    "### (Erstellen Sie eine Pivot-Tabelle, um den Gesamtpreis für jeden Artikelnamen anzuzeigen.)\n"
   ]
  },
  {
   "cell_type": "code",
   "execution_count": 18,
   "id": "40956ae3-be28-4a6d-913a-e9de5d1e2709",
   "metadata": {},
   "outputs": [],
   "source": [
    "### 2. Group the data by 'item_name' and calculate the total quantity for each item.\n",
    "### Gruppieren Sie die Daten nach 'item_name' und berechnen Sie die Gesamtmenge für jeden Artikel.\n"
   ]
  }
 ],
 "metadata": {
  "kernelspec": {
   "display_name": "Python 3 (ipykernel)",
   "language": "python",
   "name": "python3"
  },
  "language_info": {
   "codemirror_mode": {
    "name": "ipython",
    "version": 3
   },
   "file_extension": ".py",
   "mimetype": "text/x-python",
   "name": "python",
   "nbconvert_exporter": "python",
   "pygments_lexer": "ipython3",
   "version": "3.11.5"
  }
 },
 "nbformat": 4,
 "nbformat_minor": 5
}
