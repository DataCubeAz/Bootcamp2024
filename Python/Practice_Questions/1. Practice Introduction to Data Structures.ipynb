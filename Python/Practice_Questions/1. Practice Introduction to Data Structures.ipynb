{
 "cells": [
  {
   "cell_type": "markdown",
   "id": "7cce6d95-5999-4741-aafb-dd0f40f130d8",
   "metadata": {},
   "source": [
    "# Numbers: int, float, complex"
   ]
  },
  {
   "cell_type": "code",
   "execution_count": 2,
   "id": "fc686078-c56d-4770-9a49-7252bd5fd50f",
   "metadata": {},
   "outputs": [],
   "source": [
    "x = 10\n",
    "y = -5\n"
   ]
  },
  {
   "cell_type": "code",
   "execution_count": null,
   "id": "d6bca0fb-7fb6-4b36-af30-80928abc8dcf",
   "metadata": {},
   "outputs": [],
   "source": [
    "### 1. Finden Sie die Summe von a und b\n"
   ]
  },
  {
   "cell_type": "code",
   "execution_count": 3,
   "id": "f77f0d9d-bede-4099-9ee6-c185b002323d",
   "metadata": {},
   "outputs": [],
   "source": [
    "### 2. Was ist der Typ des Ergebnisses?\n"
   ]
  },
  {
   "cell_type": "code",
   "execution_count": null,
   "id": "32fb339b-a6b7-428a-9eab-96b777f7581d",
   "metadata": {},
   "outputs": [],
   "source": [
    "### 3. Konvertiere es in float und drucke das Ergebnis\n"
   ]
  },
  {
   "cell_type": "code",
   "execution_count": null,
   "id": "ae92be12-3c27-4b1d-8132-846da8822c50",
   "metadata": {},
   "outputs": [],
   "source": [
    "### 4. Drucke den Datentyp\n"
   ]
  },
  {
   "cell_type": "code",
   "execution_count": 5,
   "id": "6325256a-8c4d-4faf-b98c-c30a75664b13",
   "metadata": {},
   "outputs": [],
   "source": [
    "a = 3.5\n",
    "b = 2.0"
   ]
  },
  {
   "cell_type": "code",
   "execution_count": null,
   "id": "d6dd8ebe-d0ac-48be-aa3b-1392e93fca3b",
   "metadata": {},
   "outputs": [],
   "source": [
    "### 5. Multiplizieren Sie a und b. \n"
   ]
  },
  {
   "cell_type": "code",
   "execution_count": null,
   "id": "72e5a4d5-a0ce-4106-9174-558af5024181",
   "metadata": {},
   "outputs": [],
   "source": [
    "### 6. Welchen Datentyp hat das Ergebnis?\n"
   ]
  },
  {
   "cell_type": "code",
   "execution_count": null,
   "id": "ef40064e-8fd8-46d0-8620-f30954fb93f1",
   "metadata": {},
   "outputs": [],
   "source": [
    "### 7. Konvertiere es in Int und drucke das Ergebnis\n"
   ]
  },
  {
   "cell_type": "markdown",
   "id": "d3408082-dc49-4f36-9009-df6694084de2",
   "metadata": {},
   "source": [
    "# Strings: str"
   ]
  },
  {
   "cell_type": "code",
   "execution_count": null,
   "id": "7138a6ac-4c2d-4a1b-be43-722246a756a1",
   "metadata": {},
   "outputs": [],
   "source": [
    "text = \"I love Machine Learning\""
   ]
  },
  {
   "cell_type": "code",
   "execution_count": null,
   "id": "6eec38b7-17d4-4d54-b948-4a6e9296df1d",
   "metadata": {},
   "outputs": [],
   "source": [
    "# 1. Schreibe ein Python-code, um die Länge des Strings zu ermitteln.\n"
   ]
  },
  {
   "cell_type": "code",
   "execution_count": null,
   "id": "7e5235dc-5b8d-4fa4-90bb-5a85e5044d59",
   "metadata": {},
   "outputs": [],
   "source": [
    "# 2. Schreibe einen Code, der nur das Wort \"love\" aus dem Text text = \"I love Machine Learning\" extrahiert.\n"
   ]
  },
  {
   "cell_type": "code",
   "execution_count": null,
   "id": "98f6e626-8075-4860-a26e-1f72bfaaa134",
   "metadata": {},
   "outputs": [],
   "source": [
    "# 3. Ändere das Wort \"love\" in \"like\" im Text text = \"I love Machine Learning\".\n"
   ]
  },
  {
   "cell_type": "code",
   "execution_count": null,
   "id": "52963dec-047e-45c5-90e5-ee84392e96ae",
   "metadata": {},
   "outputs": [],
   "source": [
    "name= \"Elisa\"\n",
    "age=\"30\"\n"
   ]
  },
  {
   "cell_type": "code",
   "execution_count": null,
   "id": "dd8d0de5-d4d1-4b9d-8612-71827d678a8c",
   "metadata": {},
   "outputs": [],
   "source": [
    "# 4. Schreibe ein Python-Code, das einen Satz mit der F-String-Methode erstellt und ausgibt.\n",
    "#Der Satz soll lauten: \"Ihr Name ist Elisa und sie ist 30 Jahre alt.\"\n"
   ]
  },
  {
   "cell_type": "code",
   "execution_count": null,
   "id": "689d1850-b1fd-428e-8bf0-5af160ac0a9f",
   "metadata": {},
   "outputs": [],
   "source": [
    "# 5. Schreibe ein Python-Code, das einen Satz mithilfe der format() Methode erstellt und ausgibt.\n",
    "#Der Satz soll lauten: \"Ihr Name ist Elisa und sie ist 30 Jahre alt.\"\n"
   ]
  },
  {
   "cell_type": "code",
   "execution_count": null,
   "id": "a0dc2a6d-edab-4953-b4f0-48cd72cd5971",
   "metadata": {},
   "outputs": [],
   "source": [
    "# 6. Schreibe ein Python-Code, um den Index des Teilstrings \"Elisa\" innerhalb des Satzes zu finden.\n"
   ]
  },
  {
   "cell_type": "code",
   "execution_count": null,
   "id": "83229661-c345-410a-bf98-fe7696d2ce02",
   "metadata": {},
   "outputs": [],
   "source": [
    "number = 0.1234."
   ]
  },
  {
   "cell_type": "code",
   "execution_count": null,
   "id": "1e116d7f-7afa-4be2-915f-554fd46a1d8b",
   "metadata": {},
   "outputs": [],
   "source": [
    "# 7 Schreibe ein Python-code, um diese Zahl mit unterschiedlichen Dezimalstellen unter Verwendung der F-String-Methode zu formatieren und auszudrucken.\n",
    "#Drucke die #Zahl speziell mit:\n"
   ]
  },
  {
   "cell_type": "code",
   "execution_count": null,
   "id": "7ef138ef-0d7b-4d7b-ba85-dbadfef22b77",
   "metadata": {},
   "outputs": [],
   "source": [
    "# 7 Einer Dezimalstelle.\n"
   ]
  },
  {
   "cell_type": "markdown",
   "id": "490b243e-1e3c-49e4-b071-6514683774c0",
   "metadata": {},
   "source": [
    "# Bool"
   ]
  },
  {
   "cell_type": "code",
   "execution_count": null,
   "id": "5b6b2cb3-7014-42c4-a3a9-0b8c8116b45c",
   "metadata": {},
   "outputs": [],
   "source": [
    "# 1 Erstelle in Python zwei boolesche Variablen: is_student und is_teacher. Setze is_student auf True und is_teacher auf False.\n"
   ]
  },
  {
   "cell_type": "markdown",
   "id": "83c3d65f-8234-4259-a840-0570c27299c3",
   "metadata": {},
   "source": [
    "#  Lists "
   ]
  },
  {
   "cell_type": "code",
   "execution_count": 3,
   "id": "2dd2b452-1227-459e-9101-f99a31377d7a",
   "metadata": {},
   "outputs": [],
   "source": [
    "fruit_selection = [\"apple\", \"banana\", \"cherry\", \"date\", \"elderberry\"]"
   ]
  },
  {
   "cell_type": "code",
   "execution_count": null,
   "id": "4ba93bb5-244f-4174-988c-f10b6a47d08f",
   "metadata": {},
   "outputs": [],
   "source": [
    "# 1.Schreibe ein Python-code, um die Früchte in alphabetischer Reihenfolge zu sortieren. Gib die sortierte Liste aus.\n"
   ]
  },
  {
   "cell_type": "code",
   "execution_count": null,
   "id": "56082a9e-cf4b-40ba-816f-49c5a36392fa",
   "metadata": {},
   "outputs": [],
   "source": [
    "# 2. Schreibe einen Python-Code, der die Frucht \"orange\" am Ende der bestehenden Liste fruit_selection anhängt. \n",
    "#Gib anschließend die aktualisierte Liste aus.\n"
   ]
  },
  {
   "cell_type": "code",
   "execution_count": null,
   "id": "c27e15fd-b306-462c-8c07-7ee4af06308c",
   "metadata": {},
   "outputs": [],
   "source": [
    "# 3. Löschen Sie das letzte Element von fruit_selection und geben Sie es aus.\n"
   ]
  },
  {
   "cell_type": "code",
   "execution_count": null,
   "id": "11268d1f-64ab-40b9-bb4a-ca6e5aa93d80",
   "metadata": {},
   "outputs": [],
   "source": [
    "numbers = [5, 4, 3, 1]"
   ]
  },
  {
   "cell_type": "code",
   "execution_count": null,
   "id": "82568528-73e0-4599-8622-e93008eee1b9",
   "metadata": {},
   "outputs": [],
   "source": [
    "# 4. Sortieren Sie die Liste der Zahlen von der kleinsten zur größten und fügen Sie die fehlenden Zahlen hinzu.\n"
   ]
  },
  {
   "cell_type": "code",
   "execution_count": null,
   "id": "98fef4ba-fdb4-4c52-bea5-e2cc9089e9d0",
   "metadata": {},
   "outputs": [],
   "source": [
    "text = \"I-love-machine-learning\""
   ]
  },
  {
   "cell_type": "code",
   "execution_count": null,
   "id": "1616233a-b934-4aba-b258-a5dde0ad83ec",
   "metadata": {},
   "outputs": [],
   "source": [
    "# 5. Konvertieren Sie diesen Text in eine Liste. Speichern Sie die Liste als \"text_list\".\n"
   ]
  },
  {
   "cell_type": "code",
   "execution_count": null,
   "id": "5c834036-4c8b-4a4a-b718-5344cc4a9504",
   "metadata": {},
   "outputs": [],
   "source": [
    "# 6 Drucken Sie diese Liste und konvertieren Sie die Liste wieder in einen String.\n"
   ]
  },
  {
   "cell_type": "code",
   "execution_count": null,
   "id": "323ceecd-acee-4669-a073-db3ebd0eaae5",
   "metadata": {},
   "outputs": [],
   "source": [
    "# 7. Zählen Sie die Anzahl der Elemente in \"text\" und \"text_list\" und vergleichen Sie die Ergebnisse, um festzustellen, welches mehr Elemente hat.\n",
    "\n"
   ]
  },
  {
   "cell_type": "markdown",
   "id": "6f23b807-89b9-4222-9d62-51faaf21223d",
   "metadata": {},
   "source": [
    "# Dictionaries"
   ]
  },
  {
   "cell_type": "code",
   "execution_count": 4,
   "id": "18bcca35-b673-49f7-a046-80685d0b0442",
   "metadata": {},
   "outputs": [],
   "source": [
    "product_dict = {\n",
    "    \"Laptop\": [\"Dell\", 999.99],\n",
    "    \"Smartphone\": [\"Apple\", 799.99],\n",
    "    \"Headphones\": [\"Sony\", 129.95],\n",
    "    \"Tablet\": [\"Samsung\", 349.99]\n",
    "}\n"
   ]
  },
  {
   "cell_type": "code",
   "execution_count": null,
   "id": "1afa35a4-0e05-48d5-b7fa-eb5ba73da131",
   "metadata": {},
   "outputs": [],
   "source": [
    "# 1.Geben Sie die keys und values des product_dict aus\n"
   ]
  },
  {
   "cell_type": "code",
   "execution_count": null,
   "id": "c36fbb3b-6027-46ff-9f8f-ecdd7f335361",
   "metadata": {},
   "outputs": [],
   "source": [
    "# 2. Ändern Sie \"Smartphone\": [\"Apple\", 799.99] zu \"Smartphone\": [\"Samsung\", 500].\n"
   ]
  },
  {
   "cell_type": "code",
   "execution_count": null,
   "id": "b8a95c25-b677-4442-96aa-ba29e14161fb",
   "metadata": {},
   "outputs": [],
   "source": [
    "# 3. Geben Sie den  value des \"Smartphone\"  aus.\n"
   ]
  },
  {
   "cell_type": "markdown",
   "id": "86a8af4f-9fda-41a7-959b-0fb5eb5b9892",
   "metadata": {},
   "source": [
    "# Tuple"
   ]
  },
  {
   "cell_type": "code",
   "execution_count": null,
   "id": "92eefb46-d320-4658-b860-7e207178bd21",
   "metadata": {},
   "outputs": [],
   "source": [
    "my_tuple = (\"Auto\", \"Fahrrad\", \"Motorrad\")"
   ]
  },
  {
   "cell_type": "code",
   "execution_count": null,
   "id": "5f3df862-4ec9-48ad-b837-6c50a9c4cc60",
   "metadata": {},
   "outputs": [],
   "source": [
    "# 1. Drucke das erste und das letzte Element des Tupels my_tuple in Python aus.\n"
   ]
  },
  {
   "cell_type": "code",
   "execution_count": null,
   "id": "4351d1fc-2423-4405-84f3-bf7b5a974e1d",
   "metadata": {},
   "outputs": [],
   "source": [
    "# 2 Entferne das erste Element des Tupels my_tuple in Python\n"
   ]
  },
  {
   "cell_type": "markdown",
   "id": "65d0eecc-1ca3-4ca1-bbd7-f35c87c26541",
   "metadata": {},
   "source": [
    "# Set"
   ]
  },
  {
   "cell_type": "code",
   "execution_count": null,
   "id": "c52759b8-da3c-4402-b295-9448b294c60b",
   "metadata": {},
   "outputs": [],
   "source": [
    "# 1 Erstelle in Python eine Set mit den Werten \"Auto\", \"Fahrrad\" und \"Motorrad\".\n"
   ]
  },
  {
   "cell_type": "code",
   "execution_count": null,
   "id": "50d07675-859a-4672-af41-1bdc8219544d",
   "metadata": {},
   "outputs": [],
   "source": [
    "# 2 Füge der bereits erstellten Set ein weiteres Element \"Auto\" hinz\n"
   ]
  },
  {
   "cell_type": "code",
   "execution_count": null,
   "id": "f28af5b5-6309-4997-a84e-b077b353c274",
   "metadata": {},
   "outputs": [],
   "source": [
    "# 3 Zähle die Anzahl der Elemente in der  my_set und gib  my_set aus.\n"
   ]
  }
 ],
 "metadata": {
  "kernelspec": {
   "display_name": "Python 3 (ipykernel)",
   "language": "python",
   "name": "python3"
  },
  "language_info": {
   "codemirror_mode": {
    "name": "ipython",
    "version": 3
   },
   "file_extension": ".py",
   "mimetype": "text/x-python",
   "name": "python",
   "nbconvert_exporter": "python",
   "pygments_lexer": "ipython3",
   "version": "3.11.5"
  }
 },
 "nbformat": 4,
 "nbformat_minor": 5
}
