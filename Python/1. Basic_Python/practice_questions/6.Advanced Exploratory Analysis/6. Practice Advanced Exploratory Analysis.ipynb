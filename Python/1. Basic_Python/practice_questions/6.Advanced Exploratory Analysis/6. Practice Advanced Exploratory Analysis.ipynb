{
 "cells": [
  {
   "cell_type": "markdown",
   "id": "b66543a0-5656-4384-8f09-c07163c284b9",
   "metadata": {},
   "source": [
    "# PART 1 "
   ]
  },
  {
   "cell_type": "markdown",
   "id": "dd6dedcf-f2fa-47a7-8988-9a8abef5feeb",
   "metadata": {},
   "source": [
    "| Column Name | English Description | German Description |\n",
    "|-------------|---------------------|--------------------|\n",
    "| Age         | The age of the patient in years. | Das Alter des Patienten in Jahren. |\n",
    "| Sex         | The sex of the patient (1 = male, 0 = female). | Das Geschlecht des Patienten (1 = männlich, 0 = weiblich). |\n",
    "| Cp          | Type of chest pain (values range from 0 to 3). | Art der Brustschmerzen (Werte von 0 bis 3). |\n",
    "| Trtbps      | Resting blood pressure in mm Hg. | Ruhender Blutdruck in mm Hg. |\n",
    "| Chol        | Serum cholesterol in mg/dl. | Serumcholesterin in mg/dl. |\n",
    "| Fbs         | Fasting blood sugar (> 120 mg/dl, 1 = true; 0 = false). | Nüchternblutzucker (> 120 mg/dl, 1 = wahr; 0 = falsch). |\n",
    "| Restecg     | Resting electrocardiographic results (0,1,2). | Ergebnisse des Ruhe-EKG (0,1,2). |\n",
    "| Thalachh    | Maximum heart rate achieved. | Maximal erreichte Herzfrequenz. |\n",
    "| Exng        | Exercise induced angina (1 = yes; 0 = no). | Durch Übung induzierte Angina (1 = ja; 0 = nein). |\n",
    "| Oldpeak     | ST depression induced by exercise relative to rest. | Durch Bewegung induzierte ST-Senkung im Vergleich zur Ruhe. |\n",
    "| Slp         | Slope of the peak exercise ST segment. | Steigung des ST-Segments bei maximaler Belastung. |\n",
    "| Caa         | Number of major vessels colored by fluoroscopy (0-3). | Anzahl der durch Fluoroskopie gefärbten großen Gefäße (0-3). |\n",
    "| Thall       | Thallium stress test result (values 0-3). | Ergebnis des Thallium-Stress-Tests (Werte 0-3). |\n",
    "| Output      | Diagnosis of heart disease (1 = disease; 0 = no disease). | Diagnose der Herzkrankheit (1 = Krankheit; 0 = keine Krankheit). |\n"
   ]
  },
  {
   "cell_type": "markdown",
   "id": "cf8a928a-1d52-4f0d-b04f-daf675050ed5",
   "metadata": {},
   "source": [
    "## 1. Import the necessary libraries (Importieren Sie die notwendigen Bibliotheken )"
   ]
  },
  {
   "cell_type": "code",
   "execution_count": null,
   "id": "c539b271-186f-45f1-91e0-9bb6691a3a8b",
   "metadata": {},
   "outputs": [],
   "source": []
  },
  {
   "cell_type": "markdown",
   "id": "6378b8a5-2bca-47ea-ad5a-c71e8bd2275e",
   "metadata": {},
   "source": [
    "## 2. Import the dataset (chipotle.tsv)  (Importieren Sie den Datensatz)"
   ]
  },
  {
   "cell_type": "code",
   "execution_count": 1,
   "id": "8bc88a57-d39e-496b-a472-edf079931d77",
   "metadata": {},
   "outputs": [],
   "source": [
    "### 1.Print first 5 row of the dataset (heart.csv) (Geben Sie die ersten 5 Zeilen des Datensatzes aus.)\n"
   ]
  },
  {
   "cell_type": "code",
   "execution_count": 2,
   "id": "ac0ff917-42df-4aa4-a014-27b1b7f56379",
   "metadata": {},
   "outputs": [],
   "source": [
    "### 2. Use the 'check_df' function to analyze the dataset.(Verwende die Funktion 'check_df', um das Dataset zu analysieren)\n"
   ]
  },
  {
   "cell_type": "code",
   "execution_count": 3,
   "id": "5dd1fe6d-e615-4605-bac4-2138c057469a",
   "metadata": {},
   "outputs": [],
   "source": [
    "### 3. Drop duplicated and missing values ( Entferne doppelte und fehlende Werte)\n"
   ]
  },
  {
   "cell_type": "code",
   "execution_count": 4,
   "id": "ab4c2457-5a17-477f-8c18-349e94744daa",
   "metadata": {},
   "outputs": [],
   "source": [
    "### 4. Use the 'find_categorical_columns' function to find the categorical columns.\n",
    "### Verwende die Funktion 'find_categorical_columns', um die kategorischen Spalten zu finden\n"
   ]
  },
  {
   "cell_type": "code",
   "execution_count": 5,
   "id": "a94f54ae-0c35-4cd6-8594-74afa85e9fd3",
   "metadata": {},
   "outputs": [],
   "source": [
    "### 5. Discuss whether the categorical columns in the dataset make sense or if they are wrong . Change change max unique_values parameter to find out the correct solution\n",
    "### Diskutiere, ob die kategorischen Spalten im Dataset sinnvoll sind oder ob sie fehlerhaft sind \n",
    "##Kann man den Parameter 'max_unique_values' ändern, um die korrekte Lösung für die Überprüfung der kategorischen Spalten im Dataset zu finden\n"
   ]
  },
  {
   "cell_type": "code",
   "execution_count": 6,
   "id": "4fdb22cf-6c75-4e90-9b6e-c3e3547604c5",
   "metadata": {},
   "outputs": [],
   "source": [
    "### 6. \"Use the 'find_binary_columns' function to identify the binary columns.\" ( Verwenden Sie die Funktion 'find_binary_columns', um die binären Spalten zu identifizieren)\n"
   ]
  },
  {
   "cell_type": "code",
   "execution_count": 7,
   "id": "5e4b34b9-2c4c-4506-8abb-26e0399eabc9",
   "metadata": {},
   "outputs": [],
   "source": [
    "### 7. Identify non-binary categorical columns ( Identifizieren Sie nicht-binäre kategoriale Spalten.)\n"
   ]
  },
  {
   "cell_type": "code",
   "execution_count": 8,
   "id": "9521ef21-e256-4e9a-bbca-9124c49ff574",
   "metadata": {},
   "outputs": [],
   "source": [
    "### 8. Use the 'describe_numerical_column' function to analyze the numerical 'age' column\n",
    "### ( Verwenden Sie die Funktion 'describe_numerical_column', um die numerische Spalte 'Alter' zu analysieren)"
   ]
  },
  {
   "cell_type": "markdown",
   "id": "1093e646-2ac7-4edc-889f-80ae636a45cd",
   "metadata": {},
   "source": [
    "# PART 2 "
   ]
  },
  {
   "cell_type": "markdown",
   "id": "f28953b9-1b3a-4961-9eec-8e90236483ce",
   "metadata": {},
   "source": [
    "# 3. Numerical columns"
   ]
  },
  {
   "cell_type": "code",
   "execution_count": 9,
   "id": "0f29d2f3-f038-4e6d-981b-53a338afc271",
   "metadata": {},
   "outputs": [],
   "source": [
    "### 1. Select the numerical columns  (Die numerischen Spalten auswählen)\n",
    "\n"
   ]
  },
  {
   "cell_type": "code",
   "execution_count": 10,
   "id": "31e9623f-354f-4a16-9010-4a2d6cb65681",
   "metadata": {},
   "outputs": [],
   "source": [
    "### 2. Use the 'plot_numerical_column' function to analyze the numerical columns (Verwenden Sie die Funktion 'plot_numerical_column', um die numerischen Spalten zu analysieren)\n"
   ]
  },
  {
   "cell_type": "markdown",
   "id": "89d96f1f-a8f9-4329-8bf6-8d5bc8a9e8e5",
   "metadata": {},
   "source": [
    "# PART 3"
   ]
  },
  {
   "cell_type": "markdown",
   "id": "9ce4a7a2-eb25-4547-abe5-8bfbb402aa87",
   "metadata": {},
   "source": [
    "# 4. Correlation analysis"
   ]
  },
  {
   "cell_type": "code",
   "execution_count": 12,
   "id": "5462dcab-587d-4b8f-baba-616b6fc1a9dd",
   "metadata": {},
   "outputs": [],
   "source": [
    "## Correlation in continuous variables and  binary columns"
   ]
  },
  {
   "cell_type": "code",
   "execution_count": 13,
   "id": "9b5d6490-a8d0-44aa-8286-dfc36c13cd85",
   "metadata": {},
   "outputs": [],
   "source": [
    "### 11. Find the correlation among continuous variables and binary columns (Ermitteln Sie die Korrelation zwischen continuous Variablen und binary Spalten.)\n"
   ]
  },
  {
   "cell_type": "code",
   "execution_count": 14,
   "id": "4385fe89-277f-4c4e-8b33-3beea90966f1",
   "metadata": {},
   "outputs": [],
   "source": [
    "### 12 Find the correlation among non-binary column variables  ( Ermitteln Sie die Korrelation zwischen Variablen in nicht-binären Spalten.)\n"
   ]
  },
  {
   "cell_type": "markdown",
   "id": "5f4746cb-e573-4d5f-bdd8-16f52f01878d",
   "metadata": {},
   "source": [
    "# PART 4"
   ]
  },
  {
   "cell_type": "markdown",
   "id": "920af577-30ea-4fc1-bc42-0990aeb14000",
   "metadata": {},
   "source": [
    "# 5. Correlation analysis  with Visualizing"
   ]
  },
  {
   "cell_type": "code",
   "execution_count": 16,
   "id": "0a71cf4a-8118-4da6-991f-ed077d560fb9",
   "metadata": {},
   "outputs": [],
   "source": [
    "###  13. Analyze and visually represent the correlation between numerical variables and categorical variables\n",
    "### Analysieren und visualisieren Sie die Korrelation zwischen numerischen Variablen und kategorialen Variablen\n",
    "\n"
   ]
  }
 ],
 "metadata": {
  "kernelspec": {
   "display_name": "Python 3 (ipykernel)",
   "language": "python",
   "name": "python3"
  },
  "language_info": {
   "codemirror_mode": {
    "name": "ipython",
    "version": 3
   },
   "file_extension": ".py",
   "mimetype": "text/x-python",
   "name": "python",
   "nbconvert_exporter": "python",
   "pygments_lexer": "ipython3",
   "version": "3.11.5"
  }
 },
 "nbformat": 4,
 "nbformat_minor": 5
}
