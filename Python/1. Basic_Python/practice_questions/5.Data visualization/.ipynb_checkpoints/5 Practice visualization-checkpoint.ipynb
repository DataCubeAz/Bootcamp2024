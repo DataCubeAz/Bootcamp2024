{
 "cells": [
  {
   "cell_type": "markdown",
   "id": "4f947e90-32bc-45fb-9723-7a93974ffabc",
   "metadata": {},
   "source": [
    "| Column Name         | English Description                                 | German Description                                         |\n",
    "|---------------------|-----------------------------------------------------|------------------------------------------------------------|\n",
    "| order_id            | Identifier for the order.                           | Kennung für die Bestellung.                                |\n",
    "| quantity            | Number of items ordered.                            | Anzahl der bestellten Artikel.                             |\n",
    "| item_name           | Name of the food item.                              | Name des Lebensmittelartikels.                             |\n",
    "| choice_description  | Description of food item customizations (if any).   | Beschreibung der Anpassungen des Lebensmittelartikels (falls vorhanden). |\n",
    "| item_price          | Price of the item (in USD).                         | Preis des Artikels (in USD).                               |\n"
   ]
  },
  {
   "cell_type": "markdown",
   "id": "74f839b6-63cf-4cc5-ab20-519325e5c66c",
   "metadata": {},
   "source": [
    "## 1. Import the necessary libraries (Importieren Sie die notwendigen Bibliotheken )"
   ]
  },
  {
   "cell_type": "code",
   "execution_count": null,
   "id": "562416a2-0c84-458d-ba60-733b0185c7cb",
   "metadata": {},
   "outputs": [],
   "source": []
  },
  {
   "cell_type": "markdown",
   "id": "974fd6cf-1bc6-4b4d-9c4d-5dc27b1b8113",
   "metadata": {},
   "source": [
    "## 2. Import the dataset (Importieren Sie den Datensatz)"
   ]
  },
  {
   "cell_type": "code",
   "execution_count": null,
   "id": "62126545-f73a-446b-8902-b35e244081a0",
   "metadata": {},
   "outputs": [],
   "source": [
    "### 1.Print first 5 row of the dataset (Geben Sie die ersten 10 Zeilen des Datensatzes aus.)\n"
   ]
  },
  {
   "cell_type": "code",
   "execution_count": 4,
   "id": "23fb4466-473c-445f-b7ac-ddcd8801cac3",
   "metadata": {},
   "outputs": [],
   "source": [
    "### Convert the 'item_price' column to a numerical format ( Konvertiere die 'item_price'-Spalte in ein numerisches Format)\n",
    "df['item_price'] = df['item_price'].apply(lambda x: float(x.strip('$')))"
   ]
  },
  {
   "cell_type": "code",
   "execution_count": null,
   "id": "e2ac7150-12c4-441b-bd14-39dd54c57646",
   "metadata": {},
   "outputs": [],
   "source": [
    "# 2. Use boxplot and analyze the outlier in  item_price columns \n",
    "#Verwenden Sie eine boxplot und analysieren  die Ausreißer in der Spalte 'item_price\n",
    "\n"
   ]
  },
  {
   "cell_type": "code",
   "execution_count": null,
   "id": "d7fd9401-5b4c-44c0-913c-eb70df7036d2",
   "metadata": {},
   "outputs": [],
   "source": [
    "### 3. Create a histogram to visualize the frequency distribution of the quantity of items ordered.\n",
    "### Erstelle ein Histogramm, um die Häufigkeitsverteilung der bestellten Artikelmenge zu visualisieren.\n",
    "\n"
   ]
  },
  {
   "cell_type": "code",
   "execution_count": null,
   "id": "d08a618d-9cfb-4977-b4cf-cc420319dc79",
   "metadata": {},
   "outputs": [],
   "source": [
    "### 4. Create a bar chart to display the count of each unique item in the 'item_name' column\n",
    "### Erstelle ein bar chart , um die Anzahl jeder einzigartigen Position in der Spalte 'item_name' anzuzeigen\n",
    "\n"
   ]
  }
 ],
 "metadata": {
  "kernelspec": {
   "display_name": "Python 3 (ipykernel)",
   "language": "python",
   "name": "python3"
  },
  "language_info": {
   "codemirror_mode": {
    "name": "ipython",
    "version": 3
   },
   "file_extension": ".py",
   "mimetype": "text/x-python",
   "name": "python",
   "nbconvert_exporter": "python",
   "pygments_lexer": "ipython3",
   "version": "3.11.5"
  }
 },
 "nbformat": 4,
 "nbformat_minor": 5
}
