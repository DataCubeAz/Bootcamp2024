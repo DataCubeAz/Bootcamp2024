{
 "cells": [
  {
   "cell_type": "markdown",
   "metadata": {
    "id": "rA6i43effSVe"
   },
   "source": [
    "***Introduction to Data Structures***\n"
   ]
  },
  {
   "cell_type": "markdown",
   "metadata": {
    "id": "WvUj0aOOfSVg"
   },
   "source": [
    "\n",
    "- **Numbers: int, float, complex**\n",
    "- **Strings: str**\n",
    "- **Boolean (TRUE-FALSE): bool**\n",
    "- **List**\n",
    "- **Tuple**\n",
    "- **Set**\n"
   ]
  },
  {
   "cell_type": "markdown",
   "metadata": {
    "id": "sTrylfqsfSVh"
   },
   "source": [
    "# Numbers: int, float, complex"
   ]
  },
  {
   "cell_type": "markdown",
   "metadata": {
    "id": "YwJQ3vGhfSVh"
   },
   "source": [
    "## Intigers"
   ]
  },
  {
   "cell_type": "markdown",
   "metadata": {
    "id": "xnawSyUlfSVh"
   },
   "source": [
    "##### English\n",
    "- **The integer is the number we use when we count things.**\n",
    "- **Integers are like whole numbers**, such as the number of fingers on your hand.\n",
    "- **No decimal points**; they can be positive or negative.\n",
    "- **Watch out for decimal points**; integers don't have them."
   ]
  },
  {
   "cell_type": "code",
   "execution_count": null,
   "metadata": {
    "colab": {
     "base_uri": "https://localhost:8080/"
    },
    "executionInfo": {
     "elapsed": 263,
     "status": "ok",
     "timestamp": 1722435439326,
     "user": {
      "displayName": "DataCubeAz",
      "userId": "12865883615439672478"
     },
     "user_tz": -120
    },
    "id": "iFY0xdR7JIS2",
    "outputId": "64cbdc3a-045d-4b34-a268-27587c0e5a0d"
   },
   "outputs": [
    {
     "name": "stdout",
     "output_type": "stream",
     "text": [
      "10\n"
     ]
    }
   ],
   "source": [
    "print(10)"
   ]
  },
  {
   "cell_type": "code",
   "execution_count": null,
   "metadata": {
    "colab": {
     "base_uri": "https://localhost:8080/"
    },
    "executionInfo": {
     "elapsed": 279,
     "status": "ok",
     "timestamp": 1723749140239,
     "user": {
      "displayName": "DataCubeAz",
      "userId": "12865883615439672478"
     },
     "user_tz": -120
    },
    "id": "phNC_8BIJ0cA",
    "outputId": "b62f91b6-0bbf-4e4e-ce50-5c10c0836b40"
   },
   "outputs": [
    {
     "data": {
      "text/plain": [
       "int"
      ]
     },
     "execution_count": 26,
     "metadata": {},
     "output_type": "execute_result"
    }
   ],
   "source": [
    "type(10)"
   ]
  },
  {
   "cell_type": "code",
   "execution_count": null,
   "metadata": {
    "colab": {
     "base_uri": "https://localhost:8080/"
    },
    "executionInfo": {
     "elapsed": 284,
     "status": "ok",
     "timestamp": 1723749682170,
     "user": {
      "displayName": "DataCubeAz",
      "userId": "12865883615439672478"
     },
     "user_tz": -120
    },
    "id": "G-M6ZAEDe66z",
    "outputId": "2b98b76d-d339-4b01-c418-17795745c54f"
   },
   "outputs": [
    {
     "data": {
      "text/plain": [
       "int"
      ]
     },
     "execution_count": 30,
     "metadata": {},
     "output_type": "execute_result"
    }
   ],
   "source": [
    "type(12)"
   ]
  },
  {
   "cell_type": "code",
   "execution_count": null,
   "metadata": {
    "colab": {
     "base_uri": "https://localhost:8080/"
    },
    "executionInfo": {
     "elapsed": 2,
     "status": "ok",
     "timestamp": 1723749717770,
     "user": {
      "displayName": "DataCubeAz",
      "userId": "12865883615439672478"
     },
     "user_tz": -120
    },
    "id": "BvEGDOUNfSVi",
    "outputId": "087d1b81-6998-47e9-e3a8-3950bbb4fd80"
   },
   "outputs": [
    {
     "name": "stdout",
     "output_type": "stream",
     "text": [
      "<class 'int'>\n"
     ]
    }
   ],
   "source": [
    "print(type(3))"
   ]
  },
  {
   "cell_type": "markdown",
   "metadata": {
    "id": "Q9CRUdMjfSVj"
   },
   "source": [
    "#### Variables"
   ]
  },
  {
   "cell_type": "code",
   "execution_count": null,
   "metadata": {
    "colab": {
     "base_uri": "https://localhost:8080/"
    },
    "executionInfo": {
     "elapsed": 431,
     "status": "ok",
     "timestamp": 1723751020703,
     "user": {
      "displayName": "DataCubeAz",
      "userId": "12865883615439672478"
     },
     "user_tz": -120
    },
    "id": "r74r_LcTfSVj",
    "outputId": "ea2bcf4b-10e1-43a0-8137-12e464d0b315"
   },
   "outputs": [
    {
     "name": "stdout",
     "output_type": "stream",
     "text": [
      "<class 'int'>\n",
      "<class 'int'>\n",
      "<class 'int'>\n"
     ]
    }
   ],
   "source": [
    "### Intiger numbers\n",
    "### Variables\n",
    "x = 5\n",
    "y = -7\n",
    "z = 0\n",
    "\n",
    "print(type(x))\n",
    "print(type(y))\n",
    "print(type(z))"
   ]
  },
  {
   "cell_type": "code",
   "execution_count": null,
   "metadata": {
    "colab": {
     "base_uri": "https://localhost:8080/"
    },
    "executionInfo": {
     "elapsed": 347,
     "status": "ok",
     "timestamp": 1722435946829,
     "user": {
      "displayName": "DataCubeAz",
      "userId": "12865883615439672478"
     },
     "user_tz": -120
    },
    "id": "Wmenr6sSfSVj",
    "outputId": "448e8c5c-4fa7-402f-85d2-34fae70b9e54",
    "tags": []
   },
   "outputs": [
    {
     "name": "stdout",
     "output_type": "stream",
     "text": [
      "15\n"
     ]
    }
   ],
   "source": [
    "result1 = x * 3\n",
    "print(result1)\n"
   ]
  },
  {
   "cell_type": "code",
   "execution_count": null,
   "metadata": {
    "colab": {
     "base_uri": "https://localhost:8080/"
    },
    "executionInfo": {
     "elapsed": 285,
     "status": "ok",
     "timestamp": 1723751025770,
     "user": {
      "displayName": "DataCubeAz",
      "userId": "12865883615439672478"
     },
     "user_tz": -120
    },
    "id": "KPdYJzlshSHO",
    "outputId": "84d76606-6a00-4f5e-f360-93ddccbd5cb1"
   },
   "outputs": [
    {
     "data": {
      "text/plain": [
       "-7"
      ]
     },
     "execution_count": 59,
     "metadata": {},
     "output_type": "execute_result"
    }
   ],
   "source": [
    "y"
   ]
  },
  {
   "cell_type": "code",
   "execution_count": null,
   "metadata": {
    "colab": {
     "base_uri": "https://localhost:8080/"
    },
    "executionInfo": {
     "elapsed": 5,
     "status": "ok",
     "timestamp": 1722429554899,
     "user": {
      "displayName": "DataCubeAz",
      "userId": "12865883615439672478"
     },
     "user_tz": -120
    },
    "id": "JQfbv_HdfSVj",
    "outputId": "5635e619-a615-4f33-b8dc-db747972c44a"
   },
   "outputs": [
    {
     "name": "stdout",
     "output_type": "stream",
     "text": [
      "-1.0\n"
     ]
    }
   ],
   "source": [
    "result2 = y / 7\n",
    "print(result2)"
   ]
  },
  {
   "cell_type": "code",
   "execution_count": null,
   "metadata": {
    "colab": {
     "base_uri": "https://localhost:8080/"
    },
    "executionInfo": {
     "elapsed": 261,
     "status": "ok",
     "timestamp": 1723751622436,
     "user": {
      "displayName": "DataCubeAz",
      "userId": "12865883615439672478"
     },
     "user_tz": -120
    },
    "id": "VId-5Vjymejv",
    "outputId": "69579b8c-aee0-4afe-eaa4-4abe8207b329"
   },
   "outputs": [
    {
     "data": {
      "text/plain": [
       "float"
      ]
     },
     "execution_count": 69,
     "metadata": {},
     "output_type": "execute_result"
    }
   ],
   "source": [
    "type(-7/7)"
   ]
  },
  {
   "cell_type": "code",
   "execution_count": null,
   "metadata": {
    "id": "op3aPoIAhY7M"
   },
   "outputs": [],
   "source": [
    "y=y/7"
   ]
  },
  {
   "cell_type": "code",
   "execution_count": null,
   "metadata": {
    "colab": {
     "base_uri": "https://localhost:8080/"
    },
    "executionInfo": {
     "elapsed": 4,
     "status": "ok",
     "timestamp": 1722429554899,
     "user": {
      "displayName": "DataCubeAz",
      "userId": "12865883615439672478"
     },
     "user_tz": -120
    },
    "id": "NmAm1ldafSVk",
    "outputId": "40fde2b1-772a-402a-c3ba-70d3587da74b"
   },
   "outputs": [
    {
     "name": "stdout",
     "output_type": "stream",
     "text": [
      "-35\n"
     ]
    }
   ],
   "source": [
    "result3 = (x * y)\n",
    "print(result3)"
   ]
  },
  {
   "cell_type": "code",
   "execution_count": null,
   "metadata": {
    "colab": {
     "base_uri": "https://localhost:8080/"
    },
    "executionInfo": {
     "elapsed": 249,
     "status": "ok",
     "timestamp": 1722436252484,
     "user": {
      "displayName": "DataCubeAz",
      "userId": "12865883615439672478"
     },
     "user_tz": -120
    },
    "id": "hZsV1gUjfSVk",
    "outputId": "4b925be4-1117-47f2-8298-9e0862fd793d"
   },
   "outputs": [
    {
     "name": "stdout",
     "output_type": "stream",
     "text": [
      "125\n"
     ]
    }
   ],
   "source": [
    "\n",
    "result4 = x ** 3\n",
    "print(result4)"
   ]
  },
  {
   "cell_type": "markdown",
   "metadata": {
    "id": "PcgvpfgwfSVk"
   },
   "source": [
    "##### English\n",
    "- You can do all Math operations  in Python\n"
   ]
  },
  {
   "cell_type": "markdown",
   "metadata": {
    "id": "P4CekqOwfSVk"
   },
   "source": [
    "## Floating-Point Numbers"
   ]
  },
  {
   "cell_type": "code",
   "execution_count": null,
   "metadata": {
    "colab": {
     "base_uri": "https://localhost:8080/"
    },
    "executionInfo": {
     "elapsed": 287,
     "status": "ok",
     "timestamp": 1723751330891,
     "user": {
      "displayName": "DataCubeAz",
      "userId": "12865883615439672478"
     },
     "user_tz": -120
    },
    "id": "R79DFCdPfSVk",
    "outputId": "2f5adfe7-e86d-45e6-d714-aabd02fa913d",
    "tags": []
   },
   "outputs": [
    {
     "name": "stdout",
     "output_type": "stream",
     "text": [
      "<class 'float'>\n",
      "<class 'float'>\n",
      "<class 'float'>\n"
     ]
    }
   ],
   "source": [
    "#### (float)\n",
    "\n",
    "a = 3.14\n",
    "b = -0.5\n",
    "c = 2.0\n",
    "\n",
    "print(type(a))\n",
    "print(type(b))\n",
    "print(type(c))"
   ]
  },
  {
   "cell_type": "code",
   "execution_count": null,
   "metadata": {
    "colab": {
     "base_uri": "https://localhost:8080/"
    },
    "executionInfo": {
     "elapsed": 273,
     "status": "ok",
     "timestamp": 1723751561535,
     "user": {
      "displayName": "DataCubeAz",
      "userId": "12865883615439672478"
     },
     "user_tz": -120
    },
    "id": "zU-F1OmPmV0u",
    "outputId": "032ee031-647b-4341-d609-e603a28dd9b5"
   },
   "outputs": [
    {
     "data": {
      "text/plain": [
       "float"
      ]
     },
     "execution_count": 66,
     "metadata": {},
     "output_type": "execute_result"
    }
   ],
   "source": [
    "type(2.0)"
   ]
  },
  {
   "cell_type": "code",
   "execution_count": null,
   "metadata": {
    "colab": {
     "base_uri": "https://localhost:8080/"
    },
    "executionInfo": {
     "elapsed": 2,
     "status": "ok",
     "timestamp": 1723751569664,
     "user": {
      "displayName": "DataCubeAz",
      "userId": "12865883615439672478"
     },
     "user_tz": -120
    },
    "id": "yts-SxskmYMe",
    "outputId": "6982bd39-5e30-4e08-a6a0-906edb243b33"
   },
   "outputs": [
    {
     "data": {
      "text/plain": [
       "int"
      ]
     },
     "execution_count": 67,
     "metadata": {},
     "output_type": "execute_result"
    }
   ],
   "source": [
    "type(2)"
   ]
  },
  {
   "cell_type": "code",
   "execution_count": null,
   "metadata": {
    "colab": {
     "base_uri": "https://localhost:8080/"
    },
    "executionInfo": {
     "elapsed": 282,
     "status": "ok",
     "timestamp": 1723751691171,
     "user": {
      "displayName": "DataCubeAz",
      "userId": "12865883615439672478"
     },
     "user_tz": -120
    },
    "id": "w8oo7Cpnmqu6",
    "outputId": "da4b4c68-4fc2-451e-f870-40a25fe2bfe7"
   },
   "outputs": [
    {
     "data": {
      "text/plain": [
       "True"
      ]
     },
     "execution_count": 70,
     "metadata": {},
     "output_type": "execute_result"
    }
   ],
   "source": [
    "2==2.0"
   ]
  },
  {
   "cell_type": "code",
   "execution_count": null,
   "metadata": {
    "colab": {
     "base_uri": "https://localhost:8080/"
    },
    "executionInfo": {
     "elapsed": 3,
     "status": "ok",
     "timestamp": 1723751808990,
     "user": {
      "displayName": "DataCubeAz",
      "userId": "12865883615439672478"
     },
     "user_tz": -120
    },
    "id": "8cQYqKqbfSVk",
    "outputId": "07413d0f-7b0d-42f0-e86f-5c07bcc1b107",
    "tags": []
   },
   "outputs": [
    {
     "name": "stdout",
     "output_type": "stream",
     "text": [
      "3\n"
     ]
    }
   ],
   "source": [
    "### Change types from float to int\n",
    "a = 3.14\n",
    "a=int(a)\n",
    "print(a)"
   ]
  },
  {
   "cell_type": "code",
   "execution_count": null,
   "metadata": {
    "colab": {
     "base_uri": "https://localhost:8080/"
    },
    "executionInfo": {
     "elapsed": 272,
     "status": "ok",
     "timestamp": 1723751828802,
     "user": {
      "displayName": "DataCubeAz",
      "userId": "12865883615439672478"
     },
     "user_tz": -120
    },
    "id": "U6Xf2ezbnUsw",
    "outputId": "291f56d5-2cdf-4aee-dde9-92ad1f0130e5"
   },
   "outputs": [
    {
     "data": {
      "text/plain": [
       "float"
      ]
     },
     "execution_count": 76,
     "metadata": {},
     "output_type": "execute_result"
    }
   ],
   "source": [
    "type(3.78)"
   ]
  },
  {
   "cell_type": "code",
   "execution_count": null,
   "metadata": {
    "colab": {
     "base_uri": "https://localhost:8080/"
    },
    "executionInfo": {
     "elapsed": 3,
     "status": "ok",
     "timestamp": 1722359162955,
     "user": {
      "displayName": "DataCubeAz",
      "userId": "12865883615439672478"
     },
     "user_tz": -120
    },
    "id": "mzOWYScpfSVk",
    "outputId": "92cb5319-379b-453d-ed4a-da52f27f0464"
   },
   "outputs": [
    {
     "name": "stdout",
     "output_type": "stream",
     "text": [
      "<class 'int'>\n"
     ]
    }
   ],
   "source": [
    "print(type(a))"
   ]
  },
  {
   "cell_type": "code",
   "execution_count": null,
   "metadata": {
    "colab": {
     "base_uri": "https://localhost:8080/"
    },
    "executionInfo": {
     "elapsed": 265,
     "status": "ok",
     "timestamp": 1723751990990,
     "user": {
      "displayName": "DataCubeAz",
      "userId": "12865883615439672478"
     },
     "user_tz": -120
    },
    "id": "A8_BIzqRfSVl",
    "outputId": "631afb3d-3a49-421b-fe6b-de81eaf15e97",
    "tags": []
   },
   "outputs": [
    {
     "name": "stdout",
     "output_type": "stream",
     "text": [
      "5.0\n"
     ]
    }
   ],
   "source": [
    "### Change types from into  to float\n",
    "\n",
    "x = 5\n",
    "x = float(x)\n",
    "print(x)"
   ]
  },
  {
   "cell_type": "code",
   "execution_count": null,
   "metadata": {
    "colab": {
     "base_uri": "https://localhost:8080/"
    },
    "executionInfo": {
     "elapsed": 2,
     "status": "ok",
     "timestamp": 1722359162955,
     "user": {
      "displayName": "DataCubeAz",
      "userId": "12865883615439672478"
     },
     "user_tz": -120
    },
    "id": "dS3u7g47fSVl",
    "outputId": "07a50016-b0f3-464e-a3f4-3c2c33a4e47c"
   },
   "outputs": [
    {
     "name": "stdout",
     "output_type": "stream",
     "text": [
      "<class 'float'>\n"
     ]
    }
   ],
   "source": [
    "print(type(x))"
   ]
  },
  {
   "cell_type": "code",
   "execution_count": null,
   "metadata": {
    "colab": {
     "base_uri": "https://localhost:8080/"
    },
    "executionInfo": {
     "elapsed": 2,
     "status": "ok",
     "timestamp": 1722359162955,
     "user": {
      "displayName": "DataCubeAz",
      "userId": "12865883615439672478"
     },
     "user_tz": -120
    },
    "id": "ElGOkDjFfSVl",
    "outputId": "4ecddc58-ea56-4789-9915-fdd42f2c69a4",
    "tags": []
   },
   "outputs": [
    {
     "name": "stdout",
     "output_type": "stream",
     "text": [
      "0\n"
     ]
    }
   ],
   "source": [
    "result1 = int(a * b / 10)\n"
   ]
  },
  {
   "cell_type": "code",
   "execution_count": null,
   "metadata": {
    "colab": {
     "base_uri": "https://localhost:8080/"
    },
    "executionInfo": {
     "elapsed": 1,
     "status": "ok",
     "timestamp": 1723752503104,
     "user": {
      "displayName": "DataCubeAz",
      "userId": "12865883615439672478"
     },
     "user_tz": -120
    },
    "id": "2FE3YzL-p69B",
    "outputId": "1f309a97-1992-4fc4-816e-70d93718aaab"
   },
   "outputs": [
    {
     "data": {
      "text/plain": [
       "-0.15"
      ]
     },
     "execution_count": 101,
     "metadata": {},
     "output_type": "execute_result"
    }
   ],
   "source": [
    "c = a * b / 10\n",
    "c"
   ]
  },
  {
   "cell_type": "code",
   "execution_count": null,
   "metadata": {
    "colab": {
     "base_uri": "https://localhost:8080/"
    },
    "executionInfo": {
     "elapsed": 289,
     "status": "ok",
     "timestamp": 1723752519257,
     "user": {
      "displayName": "DataCubeAz",
      "userId": "12865883615439672478"
     },
     "user_tz": -120
    },
    "id": "1H6RSsfYp76o",
    "outputId": "dc235cb0-73b2-4cbc-b9a9-9ba03ca48ad3"
   },
   "outputs": [
    {
     "name": "stdout",
     "output_type": "stream",
     "text": [
      "0\n"
     ]
    }
   ],
   "source": [
    "result2 = int(c)\n",
    "print(result2)"
   ]
  },
  {
   "cell_type": "code",
   "execution_count": null,
   "metadata": {
    "colab": {
     "base_uri": "https://localhost:8080/"
    },
    "executionInfo": {
     "elapsed": 278,
     "status": "ok",
     "timestamp": 1723752443171,
     "user": {
      "displayName": "DataCubeAz",
      "userId": "12865883615439672478"
     },
     "user_tz": -120
    },
    "id": "fA6ymZsmpg9A",
    "outputId": "bd50e7c3-3584-444f-d92c-764cdb95aea4"
   },
   "outputs": [
    {
     "data": {
      "text/plain": [
       "0"
      ]
     },
     "execution_count": 98,
     "metadata": {},
     "output_type": "execute_result"
    }
   ],
   "source": [
    "int(a * b / 10)"
   ]
  },
  {
   "cell_type": "code",
   "execution_count": null,
   "metadata": {
    "colab": {
     "base_uri": "https://localhost:8080/"
    },
    "executionInfo": {
     "elapsed": 279,
     "status": "ok",
     "timestamp": 1722359163233,
     "user": {
      "displayName": "DataCubeAz",
      "userId": "12865883615439672478"
     },
     "user_tz": -120
    },
    "id": "tX8YdOyffSVl",
    "outputId": "0c244c87-6fd5-4301-9ea9-dc9ab6dff26f"
   },
   "outputs": [
    {
     "name": "stdout",
     "output_type": "stream",
     "text": [
      "0\n"
     ]
    }
   ],
   "source": [
    "print(result2)"
   ]
  },
  {
   "cell_type": "markdown",
   "metadata": {
    "id": "PV3E5buffSVl"
   },
   "source": [
    "## Complex Numbers"
   ]
  },
  {
   "cell_type": "code",
   "execution_count": null,
   "metadata": {
    "colab": {
     "base_uri": "https://localhost:8080/"
    },
    "executionInfo": {
     "elapsed": 254,
     "status": "ok",
     "timestamp": 1723991994343,
     "user": {
      "displayName": "DataCubeAz",
      "userId": "12865883615439672478"
     },
     "user_tz": -120
    },
    "id": "M5-_7KIZfSVl",
    "outputId": "fac34e09-1077-41f6-f95b-9748c49df616"
   },
   "outputs": [
    {
     "name": "stdout",
     "output_type": "stream",
     "text": [
      "<class 'complex'>\n",
      "<class 'complex'>\n",
      "<class 'complex'>\n"
     ]
    }
   ],
   "source": [
    "p = 2 + 3j\n",
    "q = -1.5 - 0.5j\n",
    "r = 0 + 2j\n",
    "\n",
    "print(type(p))\n",
    "print(type(q))\n",
    "print(type(r))"
   ]
  },
  {
   "cell_type": "markdown",
   "metadata": {
    "id": "fQnwZUKxfSVl"
   },
   "source": [
    "  **Key Takeaways**\n",
    "\n",
    "- Python supports various numeric data types, including integers (int), floating-point numbers (float), and complex numbers (complex).\n",
    "- Integers are whole numbers without decimal points and can be positive or negative.\n",
    "- Floating-point numbers have decimal points and can also be positive or negative. Be mindful of potential precision issues.\n",
    "- Complex numbers consist of a real part and an imaginary part, represented with \"j\" or \"J.\" They are used in advanced mathematical calculations.\n",
    "- You can use the type() function to determine the data type of a number.\n",
    "- Math operations can be performed with these numeric data types to perform various calculations in Python."
   ]
  },
  {
   "cell_type": "markdown",
   "metadata": {
    "id": "O3ojtNWRfSVl"
   },
   "source": [
    "# Strings: str"
   ]
  },
  {
   "cell_type": "markdown",
   "metadata": {
    "id": "6lmQ531efSVl"
   },
   "source": [
    "##### English\n",
    "- Strings are sequences of characters enclosed in single ('') or double (\"\") quotes or  \"\"\"  This is for notes but it is also saved as intiger \"\"\"\n",
    "- You can use single or double quotes interchangeably, but be consistent.\n"
   ]
  },
  {
   "cell_type": "code",
   "execution_count": null,
   "metadata": {
    "colab": {
     "base_uri": "https://localhost:8080/"
    },
    "executionInfo": {
     "elapsed": 18,
     "status": "ok",
     "timestamp": 1724652031364,
     "user": {
      "displayName": "DataCubeAz",
      "userId": "12865883615439672478"
     },
     "user_tz": -120
    },
    "id": "iD53Uid4GX-3",
    "outputId": "74f4b968-a359-495c-dedc-9d0eef079b50"
   },
   "outputs": [
    {
     "data": {
      "text/plain": [
       "int"
      ]
     },
     "execution_count": 1,
     "metadata": {},
     "output_type": "execute_result"
    }
   ],
   "source": [
    "type(5)"
   ]
  },
  {
   "cell_type": "code",
   "execution_count": null,
   "metadata": {
    "colab": {
     "base_uri": "https://localhost:8080/"
    },
    "executionInfo": {
     "elapsed": 16,
     "status": "ok",
     "timestamp": 1724652031364,
     "user": {
      "displayName": "DataCubeAz",
      "userId": "12865883615439672478"
     },
     "user_tz": -120
    },
    "id": "JCVM3Bu9GgiX",
    "outputId": "ed75c3cb-6d73-445d-ae7c-ff236aa35b4e"
   },
   "outputs": [
    {
     "data": {
      "text/plain": [
       "str"
      ]
     },
     "execution_count": 2,
     "metadata": {},
     "output_type": "execute_result"
    }
   ],
   "source": [
    "type(\"5\")"
   ]
  },
  {
   "cell_type": "code",
   "execution_count": null,
   "metadata": {
    "colab": {
     "base_uri": "https://localhost:8080/"
    },
    "executionInfo": {
     "elapsed": 15,
     "status": "ok",
     "timestamp": 1724652031364,
     "user": {
      "displayName": "DataCubeAz",
      "userId": "12865883615439672478"
     },
     "user_tz": -120
    },
    "id": "vc0KSTp4GbUA",
    "outputId": "ce56be25-5d89-4d92-eaa7-ea942b756b83"
   },
   "outputs": [
    {
     "data": {
      "text/plain": [
       "10"
      ]
     },
     "execution_count": 3,
     "metadata": {},
     "output_type": "execute_result"
    }
   ],
   "source": [
    "5+5"
   ]
  },
  {
   "cell_type": "code",
   "execution_count": null,
   "metadata": {
    "id": "NQUlYANmG_CP"
   },
   "outputs": [],
   "source": [
    "x=5+5"
   ]
  },
  {
   "cell_type": "code",
   "execution_count": null,
   "metadata": {
    "colab": {
     "base_uri": "https://localhost:8080/"
    },
    "executionInfo": {
     "elapsed": 15,
     "status": "ok",
     "timestamp": 1724652031365,
     "user": {
      "displayName": "DataCubeAz",
      "userId": "12865883615439672478"
     },
     "user_tz": -120
    },
    "id": "P4X_NcZjHBq-",
    "outputId": "ee4e5987-238c-4ce8-942e-08f8a15b8fc9"
   },
   "outputs": [
    {
     "data": {
      "text/plain": [
       "10"
      ]
     },
     "execution_count": 5,
     "metadata": {},
     "output_type": "execute_result"
    }
   ],
   "source": [
    "x"
   ]
  },
  {
   "cell_type": "code",
   "execution_count": null,
   "metadata": {
    "colab": {
     "base_uri": "https://localhost:8080/",
     "height": 35
    },
    "executionInfo": {
     "elapsed": 14,
     "status": "ok",
     "timestamp": 1724652031365,
     "user": {
      "displayName": "DataCubeAz",
      "userId": "12865883615439672478"
     },
     "user_tz": -120
    },
    "id": "MF2aC4b0Gncv",
    "outputId": "10bacbaa-9c66-4172-f33d-ec7f90cf7d2a"
   },
   "outputs": [
    {
     "data": {
      "application/vnd.google.colaboratory.intrinsic+json": {
       "type": "string"
      },
      "text/plain": [
       "'55'"
      ]
     },
     "execution_count": 6,
     "metadata": {},
     "output_type": "execute_result"
    }
   ],
   "source": [
    "'5' + '5'"
   ]
  },
  {
   "cell_type": "code",
   "execution_count": null,
   "metadata": {
    "id": "QHEPWofUGxuv"
   },
   "outputs": [],
   "source": [
    "ad = \"Hessen\""
   ]
  },
  {
   "cell_type": "code",
   "execution_count": null,
   "metadata": {
    "colab": {
     "base_uri": "https://localhost:8080/",
     "height": 35
    },
    "executionInfo": {
     "elapsed": 13,
     "status": "ok",
     "timestamp": 1724652031365,
     "user": {
      "displayName": "DataCubeAz",
      "userId": "12865883615439672478"
     },
     "user_tz": -120
    },
    "id": "P_FdYwlCHLSW",
    "outputId": "8c73231d-2e3d-4880-fafa-64cee7baeecd"
   },
   "outputs": [
    {
     "data": {
      "application/vnd.google.colaboratory.intrinsic+json": {
       "type": "string"
      },
      "text/plain": [
       "'Hessen'"
      ]
     },
     "execution_count": 8,
     "metadata": {},
     "output_type": "execute_result"
    }
   ],
   "source": [
    "ad"
   ]
  },
  {
   "cell_type": "code",
   "execution_count": null,
   "metadata": {
    "colab": {
     "base_uri": "https://localhost:8080/"
    },
    "executionInfo": {
     "elapsed": 13,
     "status": "ok",
     "timestamp": 1724652031365,
     "user": {
      "displayName": "DataCubeAz",
      "userId": "12865883615439672478"
     },
     "user_tz": -120
    },
    "id": "IrPw8y6afSVl",
    "outputId": "7d7c4cf1-2760-4e38-eca6-3371e53fa91f"
   },
   "outputs": [
    {
     "name": "stdout",
     "output_type": "stream",
     "text": [
      "Alice\n",
      "Hello, World!\n"
     ]
    }
   ],
   "source": [
    "### String samples\n",
    "\n",
    "name = \"Alice\"\n",
    "message = 'Hello, World!'\n",
    "print(name)\n",
    "print(message)\n"
   ]
  },
  {
   "cell_type": "code",
   "execution_count": null,
   "metadata": {
    "colab": {
     "base_uri": "https://localhost:8080/",
     "height": 35
    },
    "executionInfo": {
     "elapsed": 12,
     "status": "ok",
     "timestamp": 1724652031365,
     "user": {
      "displayName": "DataCubeAz",
      "userId": "12865883615439672478"
     },
     "user_tz": -120
    },
    "id": "w7NQ9QplFIF4",
    "outputId": "aaa8185e-e3f5-4728-8575-8e79b7ddeebf"
   },
   "outputs": [
    {
     "data": {
      "application/vnd.google.colaboratory.intrinsic+json": {
       "type": "string"
      },
      "text/plain": [
       "'Alice'"
      ]
     },
     "execution_count": 10,
     "metadata": {},
     "output_type": "execute_result"
    }
   ],
   "source": [
    "name"
   ]
  },
  {
   "cell_type": "code",
   "execution_count": null,
   "metadata": {
    "colab": {
     "base_uri": "https://localhost:8080/"
    },
    "executionInfo": {
     "elapsed": 11,
     "status": "ok",
     "timestamp": 1724652031365,
     "user": {
      "displayName": "DataCubeAz",
      "userId": "12865883615439672478"
     },
     "user_tz": -120
    },
    "id": "0AqlaKZpfSVl",
    "outputId": "88f81619-f048-4362-e7d7-7535f2628f81",
    "tags": []
   },
   "outputs": [
    {
     "name": "stdout",
     "output_type": "stream",
     "text": [
      "Hello, Alice\n"
     ]
    }
   ],
   "source": [
    "###String Concatenation:\n",
    "\n",
    "greeting = \"Hello, \" + name\n",
    "print(greeting)"
   ]
  },
  {
   "cell_type": "markdown",
   "metadata": {
    "id": "vG0X7wj-fSVm",
    "tags": []
   },
   "source": [
    "#### English\n",
    " - You can join strings using the + operator.\n"
   ]
  },
  {
   "cell_type": "code",
   "execution_count": null,
   "metadata": {
    "colab": {
     "base_uri": "https://localhost:8080/"
    },
    "executionInfo": {
     "elapsed": 10,
     "status": "ok",
     "timestamp": 1724652031365,
     "user": {
      "displayName": "DataCubeAz",
      "userId": "12865883615439672478"
     },
     "user_tz": -120
    },
    "id": "Pf3McOWAfSVm",
    "outputId": "02d6fea6-4c6e-4aab-f1b2-5f6c971f7680"
   },
   "outputs": [
    {
     "name": "stdout",
     "output_type": "stream",
     "text": [
      "12\n"
     ]
    }
   ],
   "source": [
    "### String Length:\n",
    "\n",
    "length = len(greeting)\n",
    "print(length)"
   ]
  },
  {
   "cell_type": "markdown",
   "metadata": {
    "id": "EZD-RWWkfSVm"
   },
   "source": [
    "- You can find the length of a string using the len() function."
   ]
  },
  {
   "cell_type": "code",
   "execution_count": null,
   "metadata": {
    "id": "qhTuGy8nKXf-"
   },
   "outputs": [],
   "source": [
    "name= \"Hessen\""
   ]
  },
  {
   "cell_type": "code",
   "execution_count": null,
   "metadata": {
    "colab": {
     "base_uri": "https://localhost:8080/"
    },
    "executionInfo": {
     "elapsed": 9,
     "status": "ok",
     "timestamp": 1724652031365,
     "user": {
      "displayName": "DataCubeAz",
      "userId": "12865883615439672478"
     },
     "user_tz": -120
    },
    "id": "TrKAcoFaKc8m",
    "outputId": "d1d241e9-5f63-49a1-dd89-bf0918fb0723"
   },
   "outputs": [
    {
     "data": {
      "text/plain": [
       "6"
      ]
     },
     "execution_count": 14,
     "metadata": {},
     "output_type": "execute_result"
    }
   ],
   "source": [
    "len(name)"
   ]
  },
  {
   "cell_type": "code",
   "execution_count": null,
   "metadata": {
    "colab": {
     "base_uri": "https://localhost:8080/",
     "height": 35
    },
    "executionInfo": {
     "elapsed": 8,
     "status": "ok",
     "timestamp": 1724652031365,
     "user": {
      "displayName": "DataCubeAz",
      "userId": "12865883615439672478"
     },
     "user_tz": -120
    },
    "id": "YReDv7_6KmeI",
    "outputId": "70902e77-0431-445b-ed52-c6a0419beaa4"
   },
   "outputs": [
    {
     "data": {
      "application/vnd.google.colaboratory.intrinsic+json": {
       "type": "string"
      },
      "text/plain": [
       "'e'"
      ]
     },
     "execution_count": 15,
     "metadata": {},
     "output_type": "execute_result"
    }
   ],
   "source": [
    "name[1]"
   ]
  },
  {
   "cell_type": "code",
   "execution_count": null,
   "metadata": {
    "colab": {
     "base_uri": "https://localhost:8080/",
     "height": 35
    },
    "executionInfo": {
     "elapsed": 14,
     "status": "ok",
     "timestamp": 1724652031710,
     "user": {
      "displayName": "DataCubeAz",
      "userId": "12865883615439672478"
     },
     "user_tz": -120
    },
    "id": "BzCQ5wssLI5O",
    "outputId": "6f086a39-70ce-47ba-dafe-67c3a85d2395"
   },
   "outputs": [
    {
     "data": {
      "application/vnd.google.colaboratory.intrinsic+json": {
       "type": "string"
      },
      "text/plain": [
       "'Hello, Alice'"
      ]
     },
     "execution_count": 16,
     "metadata": {},
     "output_type": "execute_result"
    }
   ],
   "source": [
    "greeting"
   ]
  },
  {
   "cell_type": "code",
   "execution_count": null,
   "metadata": {
    "colab": {
     "base_uri": "https://localhost:8080/",
     "height": 35
    },
    "executionInfo": {
     "elapsed": 13,
     "status": "ok",
     "timestamp": 1724652031710,
     "user": {
      "displayName": "DataCubeAz",
      "userId": "12865883615439672478"
     },
     "user_tz": -120
    },
    "id": "HriAUBUTLnjh",
    "outputId": "b99a7e03-30d3-4cd9-c61c-e5ef8cb1c1dc"
   },
   "outputs": [
    {
     "data": {
      "application/vnd.google.colaboratory.intrinsic+json": {
       "type": "string"
      },
      "text/plain": [
       "'Alice'"
      ]
     },
     "execution_count": 17,
     "metadata": {},
     "output_type": "execute_result"
    }
   ],
   "source": [
    "name_slic= greeting[7:12+1]\n",
    "name_slic"
   ]
  },
  {
   "cell_type": "code",
   "execution_count": null,
   "metadata": {
    "colab": {
     "base_uri": "https://localhost:8080/"
    },
    "executionInfo": {
     "elapsed": 13,
     "status": "ok",
     "timestamp": 1724652031710,
     "user": {
      "displayName": "DataCubeAz",
      "userId": "12865883615439672478"
     },
     "user_tz": -120
    },
    "id": "TRCxTK4YfSVm",
    "outputId": "c39cf262-bc6c-42e7-a59a-2981a186fc6f"
   },
   "outputs": [
    {
     "name": "stdout",
     "output_type": "stream",
     "text": [
      "H\n",
      "Alice\n"
     ]
    }
   ],
   "source": [
    "### String Indexing and Slicing:\n",
    "first_char = greeting[0]\n",
    "substring = greeting[7:12]\n",
    "print(first_char)\n",
    "print(substring)"
   ]
  },
  {
   "cell_type": "markdown",
   "metadata": {
    "id": "5S1QdfDEfSVm"
   },
   "source": [
    "#### English\n",
    "- You can access individual characters in a string using indexing (starts from 0).\n",
    "- You can slice a string to extract a portion of it using [start:stop] notation.\n"
   ]
  },
  {
   "cell_type": "code",
   "execution_count": null,
   "metadata": {
    "colab": {
     "base_uri": "https://localhost:8080/"
    },
    "executionInfo": {
     "elapsed": 12,
     "status": "ok",
     "timestamp": 1724652031710,
     "user": {
      "displayName": "DataCubeAz",
      "userId": "12865883615439672478"
     },
     "user_tz": -120
    },
    "id": "BNUUXNy-fSVp",
    "outputId": "8cff3157-31bd-443d-d521-67c6660a2ef2",
    "tags": []
   },
   "outputs": [
    {
     "name": "stdout",
     "output_type": "stream",
     "text": [
      "d r\n"
     ]
    }
   ],
   "source": [
    "### Negative indexing\n",
    "\n",
    "word = 'Hello World'\n",
    "last_letter = word[-1]\n",
    "third_from_end = word[-3]\n",
    "print(last_letter, third_from_end)\n"
   ]
  },
  {
   "cell_type": "code",
   "execution_count": null,
   "metadata": {
    "colab": {
     "base_uri": "https://localhost:8080/",
     "height": 35
    },
    "executionInfo": {
     "elapsed": 11,
     "status": "ok",
     "timestamp": 1724652031710,
     "user": {
      "displayName": "DataCubeAz",
      "userId": "12865883615439672478"
     },
     "user_tz": -120
    },
    "id": "D6KCWyzdfSVp",
    "outputId": "72ec2a1c-e041-4420-d33d-b94246159f88",
    "tags": []
   },
   "outputs": [
    {
     "data": {
      "application/vnd.google.colaboratory.intrinsic+json": {
       "type": "string"
      },
      "text/plain": [
       "'Hello, Hessen'"
      ]
     },
     "execution_count": 20,
     "metadata": {},
     "output_type": "execute_result"
    }
   ],
   "source": [
    "### String Methods:\n",
    "\n",
    "greeting = \"Hello, \" + name\n",
    "greeting"
   ]
  },
  {
   "cell_type": "code",
   "execution_count": null,
   "metadata": {
    "id": "q2dXM-EXZajR"
   },
   "outputs": [],
   "source": [
    "name=name.upper()"
   ]
  },
  {
   "cell_type": "code",
   "execution_count": null,
   "metadata": {
    "colab": {
     "base_uri": "https://localhost:8080/"
    },
    "executionInfo": {
     "elapsed": 10,
     "status": "ok",
     "timestamp": 1724652031710,
     "user": {
      "displayName": "DataCubeAz",
      "userId": "12865883615439672478"
     },
     "user_tz": -120
    },
    "id": "gV6jWM4KZRyn",
    "outputId": "5da29638-e833-4de1-c6fb-211a667a2eb0"
   },
   "outputs": [
    {
     "name": "stdout",
     "output_type": "stream",
     "text": [
      "HELLO, HESSEN\n"
     ]
    }
   ],
   "source": [
    "uppercase_greeting = greeting.upper()\n",
    "print(uppercase_greeting)"
   ]
  },
  {
   "cell_type": "code",
   "execution_count": null,
   "metadata": {
    "colab": {
     "base_uri": "https://localhost:8080/",
     "height": 35
    },
    "executionInfo": {
     "elapsed": 253,
     "status": "ok",
     "timestamp": 1724652833567,
     "user": {
      "displayName": "DataCubeAz",
      "userId": "12865883615439672478"
     },
     "user_tz": -120
    },
    "id": "vsgDUDQ3bDCb",
    "outputId": "bcbd7875-ea0a-4431-a469-21691f2d8e29"
   },
   "outputs": [
    {
     "data": {
      "application/vnd.google.colaboratory.intrinsic+json": {
       "type": "string"
      },
      "text/plain": [
       "'HELLO'"
      ]
     },
     "execution_count": 29,
     "metadata": {},
     "output_type": "execute_result"
    }
   ],
   "source": [
    "\"Hello\".upper()"
   ]
  },
  {
   "cell_type": "code",
   "execution_count": null,
   "metadata": {
    "colab": {
     "base_uri": "https://localhost:8080/",
     "height": 35
    },
    "executionInfo": {
     "elapsed": 250,
     "status": "ok",
     "timestamp": 1724652901863,
     "user": {
      "displayName": "DataCubeAz",
      "userId": "12865883615439672478"
     },
     "user_tz": -120
    },
    "id": "3Ialm0OibhpT",
    "outputId": "b4124338-e8d9-41b1-d39a-71f072fa4a65"
   },
   "outputs": [
    {
     "data": {
      "application/vnd.google.colaboratory.intrinsic+json": {
       "type": "string"
      },
      "text/plain": [
       "'hello, hessen'"
      ]
     },
     "execution_count": 31,
     "metadata": {},
     "output_type": "execute_result"
    }
   ],
   "source": [
    "uppercase_greeting.lower()"
   ]
  },
  {
   "cell_type": "code",
   "execution_count": null,
   "metadata": {
    "colab": {
     "base_uri": "https://localhost:8080/",
     "height": 35
    },
    "executionInfo": {
     "elapsed": 3,
     "status": "ok",
     "timestamp": 1724652180211,
     "user": {
      "displayName": "DataCubeAz",
      "userId": "12865883615439672478"
     },
     "user_tz": -120
    },
    "id": "4sRXfgf_bPCR",
    "outputId": "0e9814db-4c37-412d-b670-09c9bc96ef2b"
   },
   "outputs": [
    {
     "data": {
      "application/vnd.google.colaboratory.intrinsic+json": {
       "type": "string"
      },
      "text/plain": [
       "'HELLO, HESSEN'"
      ]
     },
     "execution_count": 26,
     "metadata": {},
     "output_type": "execute_result"
    }
   ],
   "source": [
    "uppercase_greeting.upper()"
   ]
  },
  {
   "cell_type": "markdown",
   "metadata": {
    "id": "xjvzdvO3fSVp"
   },
   "source": [
    "#### English\n",
    " - Python offers many string methods for manipulating strings, such as upper(), lower(), and replace().\n",
    " - Remember that strings are immutable; methods return new strings."
   ]
  },
  {
   "cell_type": "code",
   "execution_count": null,
   "metadata": {
    "id": "e6qtjWnwfSVp",
    "tags": []
   },
   "outputs": [],
   "source": [
    "### Reassign the character\n",
    "\n",
    "word = 'Hello'\n",
    "#word[0] = 'B'"
   ]
  },
  {
   "cell_type": "markdown",
   "metadata": {
    "id": "2o5h1337fSVp"
   },
   "source": [
    "- Deactivate the code above and pay attention to the error.\n",
    "- You cannot change a character of the string  "
   ]
  },
  {
   "cell_type": "code",
   "execution_count": null,
   "metadata": {
    "id": "6EFw0vOjfSVp"
   },
   "outputs": [],
   "source": [
    "### Reassing the variable\n",
    "\n",
    "word = 'aaa'"
   ]
  },
  {
   "cell_type": "code",
   "execution_count": null,
   "metadata": {
    "id": "V2kNEAImVbg0"
   },
   "outputs": [],
   "source": [
    "word = 'abc'"
   ]
  },
  {
   "cell_type": "markdown",
   "metadata": {
    "id": "VUvrhFJ-fSVp",
    "tags": []
   },
   "source": [
    "- You can only reasign the variable to new value"
   ]
  },
  {
   "cell_type": "code",
   "execution_count": null,
   "metadata": {
    "id": "ksyLeKj9fIw8"
   },
   "outputs": [],
   "source": [
    "greeting"
   ]
  },
  {
   "cell_type": "code",
   "execution_count": null,
   "metadata": {
    "colab": {
     "base_uri": "https://localhost:8080/"
    },
    "executionInfo": {
     "elapsed": 266,
     "status": "ok",
     "timestamp": 1724653596895,
     "user": {
      "displayName": "DataCubeAz",
      "userId": "12865883615439672478"
     },
     "user_tz": -120
    },
    "id": "OQQGxsp3fSVq",
    "outputId": "fe1a5fd4-cb5f-47a5-d433-38de24af77e3",
    "tags": []
   },
   "outputs": [
    {
     "data": {
      "text/plain": [
       "['__add__',\n",
       " '__class__',\n",
       " '__contains__',\n",
       " '__delattr__',\n",
       " '__dir__',\n",
       " '__doc__',\n",
       " '__eq__',\n",
       " '__format__',\n",
       " '__ge__',\n",
       " '__getattribute__',\n",
       " '__getitem__',\n",
       " '__getnewargs__',\n",
       " '__gt__',\n",
       " '__hash__',\n",
       " '__init__',\n",
       " '__init_subclass__',\n",
       " '__iter__',\n",
       " '__le__',\n",
       " '__len__',\n",
       " '__lt__',\n",
       " '__mod__',\n",
       " '__mul__',\n",
       " '__ne__',\n",
       " '__new__',\n",
       " '__reduce__',\n",
       " '__reduce_ex__',\n",
       " '__repr__',\n",
       " '__rmod__',\n",
       " '__rmul__',\n",
       " '__setattr__',\n",
       " '__sizeof__',\n",
       " '__str__',\n",
       " '__subclasshook__',\n",
       " 'capitalize',\n",
       " 'casefold',\n",
       " 'center',\n",
       " 'count',\n",
       " 'encode',\n",
       " 'endswith',\n",
       " 'expandtabs',\n",
       " 'find',\n",
       " 'format',\n",
       " 'format_map',\n",
       " 'index',\n",
       " 'isalnum',\n",
       " 'isalpha',\n",
       " 'isascii',\n",
       " 'isdecimal',\n",
       " 'isdigit',\n",
       " 'isidentifier',\n",
       " 'islower',\n",
       " 'isnumeric',\n",
       " 'isprintable',\n",
       " 'isspace',\n",
       " 'istitle',\n",
       " 'isupper',\n",
       " 'join',\n",
       " 'ljust',\n",
       " 'lower',\n",
       " 'lstrip',\n",
       " 'maketrans',\n",
       " 'partition',\n",
       " 'removeprefix',\n",
       " 'removesuffix',\n",
       " 'replace',\n",
       " 'rfind',\n",
       " 'rindex',\n",
       " 'rjust',\n",
       " 'rpartition',\n",
       " 'rsplit',\n",
       " 'rstrip',\n",
       " 'split',\n",
       " 'splitlines',\n",
       " 'startswith',\n",
       " 'strip',\n",
       " 'swapcase',\n",
       " 'title',\n",
       " 'translate',\n",
       " 'upper',\n",
       " 'zfill']"
      ]
     },
     "execution_count": 44,
     "metadata": {},
     "output_type": "execute_result"
    }
   ],
   "source": [
    "### dir function\n",
    "\n",
    "dir(greeting)\n"
   ]
  },
  {
   "cell_type": "code",
   "execution_count": null,
   "metadata": {
    "colab": {
     "base_uri": "https://localhost:8080/"
    },
    "executionInfo": {
     "elapsed": 274,
     "status": "ok",
     "timestamp": 1724655030600,
     "user": {
      "displayName": "DataCubeAz",
      "userId": "12865883615439672478"
     },
     "user_tz": -120
    },
    "id": "nhsTVgSPaNhc",
    "outputId": "43e32c83-6bc5-4fc8-a79d-e74d7d462e6a"
   },
   "outputs": [
    {
     "name": "stdout",
     "output_type": "stream",
     "text": [
      "Help on method_descriptor:\n",
      "\n",
      "join(self, iterable, /)\n",
      "    Concatenate any number of strings.\n",
      "    \n",
      "    The string whose method is called is inserted in between each given string.\n",
      "    The result is returned as a new string.\n",
      "    \n",
      "    Example: '.'.join(['ab', 'pq', 'rs']) -> 'ab.pq.rs'\n",
      "\n"
     ]
    }
   ],
   "source": [
    "help(str.join)"
   ]
  },
  {
   "cell_type": "code",
   "execution_count": null,
   "metadata": {
    "colab": {
     "base_uri": "https://localhost:8080/"
    },
    "executionInfo": {
     "elapsed": 242,
     "status": "ok",
     "timestamp": 1724655051286,
     "user": {
      "displayName": "DataCubeAz",
      "userId": "12865883615439672478"
     },
     "user_tz": -120
    },
    "id": "QZQe2TbaaR5T",
    "outputId": "ba9ef0c5-5283-46ee-d939-0d963ae1dc52"
   },
   "outputs": [
    {
     "name": "stdout",
     "output_type": "stream",
     "text": [
      "Help on built-in function len in module builtins:\n",
      "\n",
      "len(obj, /)\n",
      "    Return the number of items in a container.\n",
      "\n"
     ]
    }
   ],
   "source": [
    "help(len)"
   ]
  },
  {
   "cell_type": "markdown",
   "metadata": {
    "id": "53mkSHxhfSVq",
    "tags": []
   },
   "source": [
    "#### English\n",
    " - The dir() function is used to inspect and retrieve a list of methods and attributes associated with a given variable.\n",
    "   \n",
    "\n"
   ]
  },
  {
   "cell_type": "code",
   "execution_count": null,
   "metadata": {
    "colab": {
     "base_uri": "https://localhost:8080/"
    },
    "executionInfo": {
     "elapsed": 268,
     "status": "ok",
     "timestamp": 1724656559002,
     "user": {
      "displayName": "DataCubeAz",
      "userId": "12865883615439672478"
     },
     "user_tz": -120
    },
    "id": "Gw8NXbtph6ls",
    "outputId": "6a25dc6d-639a-4dfe-fc2c-46d9a2eaf5cd"
   },
   "outputs": [
    {
     "data": {
      "text/plain": [
       "['', 'ello, ', 'essen']"
      ]
     },
     "execution_count": 83,
     "metadata": {},
     "output_type": "execute_result"
    }
   ],
   "source": [
    "greeting.split(sep='H')"
   ]
  },
  {
   "cell_type": "code",
   "execution_count": null,
   "metadata": {
    "colab": {
     "base_uri": "https://localhost:8080/"
    },
    "executionInfo": {
     "elapsed": 288,
     "status": "ok",
     "timestamp": 1724655940314,
     "user": {
      "displayName": "DataCubeAz",
      "userId": "12865883615439672478"
     },
     "user_tz": -120
    },
    "id": "kwkb4w__fSVq",
    "outputId": "32daa0af-21fb-46e0-e3ab-940e3e0e553f",
    "tags": []
   },
   "outputs": [
    {
     "data": {
      "text/plain": [
       "['Hello,', 'Hessen']"
      ]
     },
     "execution_count": 69,
     "metadata": {},
     "output_type": "execute_result"
    }
   ],
   "source": [
    "greeting.split()"
   ]
  },
  {
   "cell_type": "code",
   "execution_count": null,
   "metadata": {
    "colab": {
     "base_uri": "https://localhost:8080/",
     "height": 35
    },
    "executionInfo": {
     "elapsed": 283,
     "status": "ok",
     "timestamp": 1724655802965,
     "user": {
      "displayName": "DataCubeAz",
      "userId": "12865883615439672478"
     },
     "user_tz": -120
    },
    "id": "4eWbG2OofwGF",
    "outputId": "7861a82e-3957-4252-dedb-0f66fa76c0be"
   },
   "outputs": [
    {
     "data": {
      "application/vnd.google.colaboratory.intrinsic+json": {
       "type": "string"
      },
      "text/plain": [
       "'Hello, Hessen'"
      ]
     },
     "execution_count": 67,
     "metadata": {},
     "output_type": "execute_result"
    }
   ],
   "source": []
  },
  {
   "cell_type": "code",
   "execution_count": null,
   "metadata": {
    "colab": {
     "base_uri": "https://localhost:8080/",
     "height": 35
    },
    "executionInfo": {
     "elapsed": 274,
     "status": "ok",
     "timestamp": 1724656571050,
     "user": {
      "displayName": "DataCubeAz",
      "userId": "12865883615439672478"
     },
     "user_tz": -120
    },
    "id": "1MBQ4gy2fSVq",
    "outputId": "2241200d-66d6-4dda-b2de-6493167800e8",
    "tags": []
   },
   "outputs": [
    {
     "data": {
      "application/vnd.google.colaboratory.intrinsic+json": {
       "type": "string"
      },
      "text/plain": [
       "' ofofo '"
      ]
     },
     "execution_count": 84,
     "metadata": {},
     "output_type": "execute_result"
    }
   ],
   "source": [
    "original_string = \" ofofo \"\n",
    "original_string"
   ]
  },
  {
   "cell_type": "code",
   "execution_count": null,
   "metadata": {
    "colab": {
     "base_uri": "https://localhost:8080/"
    },
    "executionInfo": {
     "elapsed": 283,
     "status": "ok",
     "timestamp": 1724656640597,
     "user": {
      "displayName": "DataCubeAz",
      "userId": "12865883615439672478"
     },
     "user_tz": -120
    },
    "id": "GVHjglyVZCrf",
    "outputId": "f8289957-3f23-4ba3-a323-a4900b29b71a"
   },
   "outputs": [
    {
     "name": "stdout",
     "output_type": "stream",
     "text": [
      "ofofo\n"
     ]
    }
   ],
   "source": [
    "stripped_string = original_string.strip()\n",
    "print(stripped_string)"
   ]
  },
  {
   "cell_type": "code",
   "execution_count": null,
   "metadata": {
    "colab": {
     "base_uri": "https://localhost:8080/"
    },
    "executionInfo": {
     "elapsed": 276,
     "status": "ok",
     "timestamp": 1724656681228,
     "user": {
      "displayName": "DataCubeAz",
      "userId": "12865883615439672478"
     },
     "user_tz": -120
    },
    "id": "k5QtYjhdfSVq",
    "outputId": "3cd2a22b-8079-4044-c4d3-9aa5ff42bef6",
    "tags": []
   },
   "outputs": [
    {
     "name": "stdout",
     "output_type": "stream",
     "text": [
      "fof\n"
     ]
    }
   ],
   "source": [
    "original_string = \"ofofo\"\n",
    "stripped_string = original_string.strip(\"o\")\n",
    "print(stripped_string)"
   ]
  },
  {
   "cell_type": "code",
   "execution_count": null,
   "metadata": {
    "id": "tjpAAR4KfSVq",
    "tags": []
   },
   "outputs": [],
   "source": [
    "### String Formatting:\n",
    "name = 'Alica'\n",
    "age = 35\n"
   ]
  },
  {
   "cell_type": "code",
   "execution_count": null,
   "metadata": {
    "colab": {
     "base_uri": "https://localhost:8080/"
    },
    "executionInfo": {
     "elapsed": 303,
     "status": "ok",
     "timestamp": 1724697801328,
     "user": {
      "displayName": "DataCubeAz",
      "userId": "12865883615439672478"
     },
     "user_tz": -120
    },
    "id": "VNCyxNuH_3Q4",
    "outputId": "516b26c6-553d-4dc2-a639-2e817c0e8d9c"
   },
   "outputs": [
    {
     "name": "stdout",
     "output_type": "stream",
     "text": [
      "My name is Alica and I am 30 years old.\n"
     ]
    }
   ],
   "source": [
    "f_string = f\"My name is {name} and I am {age} years old.\"\n",
    "print(f_string)"
   ]
  },
  {
   "cell_type": "code",
   "execution_count": null,
   "metadata": {
    "colab": {
     "base_uri": "https://localhost:8080/"
    },
    "executionInfo": {
     "elapsed": 279,
     "status": "ok",
     "timestamp": 1724697892959,
     "user": {
      "displayName": "DataCubeAz",
      "userId": "12865883615439672478"
     },
     "user_tz": -120
    },
    "id": "TS0NHhC2ACYY",
    "outputId": "d496994c-9b77-4ada-b6b6-b3d1abdcd1d9"
   },
   "outputs": [
    {
     "name": "stdout",
     "output_type": "stream",
     "text": [
      "Mənım 35 yaşım var\n"
     ]
    }
   ],
   "source": [
    "print(f\"Mənım {age} yaşım var\")"
   ]
  },
  {
   "cell_type": "code",
   "execution_count": null,
   "metadata": {
    "colab": {
     "base_uri": "https://localhost:8080/"
    },
    "executionInfo": {
     "elapsed": 347,
     "status": "ok",
     "timestamp": 1724698030884,
     "user": {
      "displayName": "DataCubeAz",
      "userId": "12865883615439672478"
     },
     "user_tz": -120
    },
    "id": "8e5PkVRJfSVq",
    "outputId": "6ab947fa-3804-410b-b9ff-a42e914d81a3",
    "tags": []
   },
   "outputs": [
    {
     "name": "stdout",
     "output_type": "stream",
     "text": [
      " My name is Alica  and I am 35 years  old.\n"
     ]
    }
   ],
   "source": [
    "### Format method\n",
    "\n",
    "formatted_string = \" My name is {}  and I am {} years  old.\".format(name, age)\n",
    "print(formatted_string)"
   ]
  },
  {
   "cell_type": "markdown",
   "metadata": {
    "id": "xQRkXrNZfSVq",
    "tags": []
   },
   "source": [
    "#### English\n",
    "- You can format strings using f-strings or the `format()' method.\n",
    "\n",
    "\n",
    "\n"
   ]
  },
  {
   "cell_type": "code",
   "execution_count": null,
   "metadata": {
    "colab": {
     "base_uri": "https://localhost:8080/"
    },
    "executionInfo": {
     "elapsed": 298,
     "status": "ok",
     "timestamp": 1724698118026,
     "user": {
      "displayName": "DataCubeAz",
      "userId": "12865883615439672478"
     },
     "user_tz": -120
    },
    "id": "m8ccsL1VfSVq",
    "outputId": "8adbf82b-be20-4d38-9921-0dd9f6eb9982",
    "tags": []
   },
   "outputs": [
    {
     "name": "stdout",
     "output_type": "stream",
     "text": [
      "Tom 's pen is blue\n"
     ]
    }
   ],
   "source": [
    "### Escape character\n",
    "\n",
    "#print('Tom 's pen is blue')\n",
    "print('Tom \\'s pen is blue')"
   ]
  },
  {
   "cell_type": "markdown",
   "metadata": {
    "id": "bz-8GLfxfSVq"
   },
   "source": [
    "#### English\n",
    "The backslash is used in a few other important combinations as well:\\\n",
    "- \\n indicates a line break\n",
    "- \\t indicates a tab or indent\n"
   ]
  },
  {
   "cell_type": "code",
   "execution_count": null,
   "metadata": {
    "colab": {
     "base_uri": "https://localhost:8080/"
    },
    "executionInfo": {
     "elapsed": 287,
     "status": "ok",
     "timestamp": 1724698281262,
     "user": {
      "displayName": "DataCubeAz",
      "userId": "12865883615439672478"
     },
     "user_tz": -120
    },
    "id": "czML9F3UfSVq",
    "outputId": "2fe410d4-ff81-4c7c-922e-96f05ddeb8c5"
   },
   "outputs": [
    {
     "name": "stdout",
     "output_type": "stream",
     "text": [
      "Single-quoted string: Tom 's pen\n",
      "Length of the single-quoted string: 10\n"
     ]
    }
   ],
   "source": [
    "### Escape character isn't  part of the text\n",
    "\n",
    "single_quote_string = 'Tom \\'s pen'\n",
    "double_quote_string = \"Tom 's pen\"\n",
    "print(f\"Single-quoted string: {single_quote_string}\")\n",
    "print(f\"Length of the single-quoted string: {len(single_quote_string)}\")\n"
   ]
  },
  {
   "cell_type": "code",
   "execution_count": null,
   "metadata": {
    "colab": {
     "base_uri": "https://localhost:8080/"
    },
    "executionInfo": {
     "elapsed": 243,
     "status": "ok",
     "timestamp": 1724698289124,
     "user": {
      "displayName": "DataCubeAz",
      "userId": "12865883615439672478"
     },
     "user_tz": -120
    },
    "id": "nk6yVFsafSVq",
    "outputId": "5a07d98d-17d8-4819-e0a6-9bbe00f51865"
   },
   "outputs": [
    {
     "name": "stdout",
     "output_type": "stream",
     "text": [
      "Double-quoted string: Tom 's pen\n",
      "Length of the double-quoted string: 10\n"
     ]
    }
   ],
   "source": [
    "\n",
    "print(f\"Double-quoted string: {double_quote_string}\")\n",
    "print(f\"Length of the double-quoted string: {len(double_quote_string)}\")"
   ]
  },
  {
   "cell_type": "markdown",
   "metadata": {
    "id": "QS-1IKFefSVr"
   },
   "source": [
    "#### English\n",
    " - Note that the escape character isn't considered part of the text.\n",
    "\n"
   ]
  },
  {
   "cell_type": "code",
   "execution_count": null,
   "metadata": {
    "colab": {
     "base_uri": "https://localhost:8080/",
     "height": 35
    },
    "executionInfo": {
     "elapsed": 8,
     "status": "ok",
     "timestamp": 1724698684523,
     "user": {
      "displayName": "DataCubeAz",
      "userId": "12865883615439672478"
     },
     "user_tz": -120
    },
    "id": "DosutTe8fSVr",
    "outputId": "e6b78fcc-449a-41c0-c2b0-997676279efd",
    "tags": []
   },
   "outputs": [
    {
     "data": {
      "application/vnd.google.colaboratory.intrinsic+json": {
       "type": "string"
      },
      "text/plain": [
       "'My name is khan'"
      ]
     },
     "execution_count": 38,
     "metadata": {},
     "output_type": "execute_result"
    }
   ],
   "source": [
    "### replace() replaces characters or sequences of characters in the string\n",
    "\n",
    "word = 'My name is khan'\n"
   ]
  },
  {
   "cell_type": "code",
   "execution_count": null,
   "metadata": {
    "id": "cy_Zaa0cDaxn"
   },
   "outputs": [],
   "source": [
    "word =word.replace(\"khan\", \"Cefer\")"
   ]
  },
  {
   "cell_type": "code",
   "execution_count": null,
   "metadata": {
    "colab": {
     "base_uri": "https://localhost:8080/",
     "height": 35
    },
    "executionInfo": {
     "elapsed": 260,
     "status": "ok",
     "timestamp": 1724698826363,
     "user": {
      "displayName": "DataCubeAz",
      "userId": "12865883615439672478"
     },
     "user_tz": -120
    },
    "id": "lKWhQ02mDy7H",
    "outputId": "db7da7a0-25bf-4c8c-fcbb-947debbb970b"
   },
   "outputs": [
    {
     "data": {
      "application/vnd.google.colaboratory.intrinsic+json": {
       "type": "string"
      },
      "text/plain": [
       "'My name is Cefer'"
      ]
     },
     "execution_count": 42,
     "metadata": {},
     "output_type": "execute_result"
    }
   ],
   "source": [
    "word"
   ]
  },
  {
   "cell_type": "code",
   "execution_count": null,
   "metadata": {
    "colab": {
     "base_uri": "https://localhost:8080/"
    },
    "executionInfo": {
     "elapsed": 243,
     "status": "ok",
     "timestamp": 1724698840330,
     "user": {
      "displayName": "DataCubeAz",
      "userId": "12865883615439672478"
     },
     "user_tz": -120
    },
    "id": "pCarJvjIDU7Z",
    "outputId": "b154d497-95d2-4b21-d0da-adce5f33815a"
   },
   "outputs": [
    {
     "name": "stdout",
     "output_type": "stream",
     "text": [
      "Replaced Word: Your name is Cefer\n",
      "Original Word (Unchanged): My name is Cefer\n"
     ]
    }
   ],
   "source": [
    "new_word = word.replace('My', 'Your')\n",
    "print(f'Replaced Word: {new_word}')\n",
    "print(f'Original Word (Unchanged): {word}')"
   ]
  },
  {
   "cell_type": "markdown",
   "metadata": {
    "id": "fjhNamOqfSVr"
   },
   "source": [
    "#### English\n",
    " - Note: This method doesn't modify the original string; it returns a new string with the replacement.\n",
    " - You should assign the result to a variable if you want to keep or work with the modified string.\n"
   ]
  },
  {
   "cell_type": "code",
   "execution_count": null,
   "metadata": {
    "colab": {
     "base_uri": "https://localhost:8080/",
     "height": 35
    },
    "executionInfo": {
     "elapsed": 258,
     "status": "ok",
     "timestamp": 1724699468196,
     "user": {
      "displayName": "DataCubeAz",
      "userId": "12865883615439672478"
     },
     "user_tz": -120
    },
    "id": "MTmKkLYWfSVr",
    "outputId": "0f733df3-35c6-415e-f986-cec2337b5499",
    "tags": []
   },
   "outputs": [
    {
     "data": {
      "application/vnd.google.colaboratory.intrinsic+json": {
       "type": "string"
      },
      "text/plain": [
       "'hey, hello, hello, hello, how low?'"
      ]
     },
     "execution_count": 58,
     "metadata": {},
     "output_type": "execute_result"
    }
   ],
   "source": [
    "#find() searches for a substring in a string\n",
    "word = 'hey, hello, hello, hello, how low?'\n",
    "word"
   ]
  },
  {
   "cell_type": "code",
   "execution_count": null,
   "metadata": {
    "colab": {
     "base_uri": "https://localhost:8080/"
    },
    "executionInfo": {
     "elapsed": 257,
     "status": "ok",
     "timestamp": 1724699609040,
     "user": {
      "displayName": "DataCubeAz",
      "userId": "12865883615439672478"
     },
     "user_tz": -120
    },
    "id": "T9_efTb8GyhP",
    "outputId": "022ede4f-b0ba-47a7-efd3-a79341b62cc4"
   },
   "outputs": [
    {
     "data": {
      "text/plain": [
       "26"
      ]
     },
     "execution_count": 60,
     "metadata": {},
     "output_type": "execute_result"
    }
   ],
   "source": [
    "word.find(\"how\")"
   ]
  },
  {
   "cell_type": "code",
   "execution_count": null,
   "metadata": {
    "colab": {
     "base_uri": "https://localhost:8080/"
    },
    "executionInfo": {
     "elapsed": 326,
     "status": "ok",
     "timestamp": 1724699624829,
     "user": {
      "displayName": "DataCubeAz",
      "userId": "12865883615439672478"
     },
     "user_tz": -120
    },
    "id": "bpqDzGMlGeo5",
    "outputId": "480f9eaa-c310-442c-f78b-970e368ef7f9"
   },
   "outputs": [
    {
     "data": {
      "text/plain": [
       "5"
      ]
     },
     "execution_count": 61,
     "metadata": {},
     "output_type": "execute_result"
    }
   ],
   "source": [
    "word.find(\"hello\")"
   ]
  },
  {
   "cell_type": "code",
   "execution_count": null,
   "metadata": {
    "colab": {
     "base_uri": "https://localhost:8080/"
    },
    "executionInfo": {
     "elapsed": 268,
     "status": "ok",
     "timestamp": 1724699354094,
     "user": {
      "displayName": "DataCubeAz",
      "userId": "12865883615439672478"
     },
     "user_tz": -120
    },
    "id": "tBT3ZJMfFnhq",
    "outputId": "dc78c541-ce55-493f-e2b1-3816959d80f6"
   },
   "outputs": [
    {
     "name": "stdout",
     "output_type": "stream",
     "text": [
      "Index of first 'hello': 5\n"
     ]
    }
   ],
   "source": [
    "idx = word.find('hello')\n",
    "print(f\"Index of first 'hello': {idx}\")"
   ]
  },
  {
   "cell_type": "code",
   "execution_count": null,
   "metadata": {
    "colab": {
     "base_uri": "https://localhost:8080/"
    },
    "executionInfo": {
     "elapsed": 273,
     "status": "ok",
     "timestamp": 1724699707762,
     "user": {
      "displayName": "DataCubeAz",
      "userId": "12865883615439672478"
     },
     "user_tz": -120
    },
    "id": "FCdNyp6rfSVr",
    "outputId": "ea1484ab-5293-48b2-b29f-632076e056e1",
    "tags": []
   },
   "outputs": [
    {
     "name": "stdout",
     "output_type": "stream",
     "text": [
      "Index of 'hello' in the range (7 to 26): 12\n"
     ]
    }
   ],
   "source": [
    "# Use the find() method with optional start and end positions\n",
    "\n",
    "idx = word.find('hello', 7, 26)\n",
    "print(f\"Index of 'hello' in the range (7 to 26): {idx}\")"
   ]
  },
  {
   "cell_type": "code",
   "execution_count": null,
   "metadata": {
    "colab": {
     "base_uri": "https://localhost:8080/"
    },
    "executionInfo": {
     "elapsed": 270,
     "status": "ok",
     "timestamp": 1724700046873,
     "user": {
      "displayName": "DataCubeAz",
      "userId": "12865883615439672478"
     },
     "user_tz": -120
    },
    "id": "oozKwGcwfSVr",
    "outputId": "e003ba0b-3055-4a1d-b3bc-0067295c75d2",
    "tags": []
   },
   "outputs": [
    {
     "name": "stdout",
     "output_type": "stream",
     "text": [
      "Index of : -1\n"
     ]
    }
   ],
   "source": [
    "idx = word.find('hallo')\n",
    "print(f\"Index of : {idx}\")"
   ]
  },
  {
   "cell_type": "markdown",
   "metadata": {
    "id": "xB8JQ0B4fSVr"
   },
   "source": [
    "#### English\n",
    "- The result is the index of the first 'hello' found within that range or -1 if not foun\n",
    "\n"
   ]
  },
  {
   "cell_type": "code",
   "execution_count": null,
   "metadata": {
    "colab": {
     "base_uri": "https://localhost:8080/"
    },
    "executionInfo": {
     "elapsed": 254,
     "status": "ok",
     "timestamp": 1724699870462,
     "user": {
      "displayName": "DataCubeAz",
      "userId": "12865883615439672478"
     },
     "user_tz": -120
    },
    "id": "992EAyuafSVr",
    "outputId": "c7878e6e-a10d-4110-e588-ee8a06db59b6",
    "tags": []
   },
   "outputs": [
    {
     "name": "stdout",
     "output_type": "stream",
     "text": [
      "Index of : -1\n"
     ]
    }
   ],
   "source": [
    " # find () method is case-sensitive\n",
    "\n",
    "idx = word.find('Hello')\n",
    "print(f\"Index of : {idx}\")"
   ]
  },
  {
   "cell_type": "markdown",
   "metadata": {
    "id": "CkFWkuI6fSVr",
    "jp-MarkdownHeadingCollapsed": true
   },
   "source": [
    "**Key Takeaways**\n",
    "\n",
    "- Strings in Python are sequences of characters enclosed in single (') or double (\") quotes.\n",
    "- You can use escape sequences, like \\n for a new line, to include special characters in strings.\n",
    "- String concatenation allows you to join strings together using the + operator.\n",
    "- The len() function can be used to find the length (number of characters) in a string.\n",
    "- You can access individual characters in a string using indexing, which starts from 0.\n",
    "- String slicing allows you to extract substrings using [start:stop] notation.\n",
    "- Python offers various string methods (e.g., upper(), lower(), replace()) for string manipulation.\n",
    "- Keep in mind that strings are immutable; when you modify a string, it creates a new string.\n",
    "- String formatting can be done using f-strings or the format() method to insert variables or values into a string.\n",
    "- Understanding strings is essential for working with text data, user input, and text processing in Python."
   ]
  },
  {
   "cell_type": "markdown",
   "metadata": {
    "id": "QvazcmsmfSVs"
   },
   "source": [
    "# Time for Practice"
   ]
  },
  {
   "cell_type": "code",
   "execution_count": null,
   "metadata": {
    "id": "GWCVlbyzfSVs"
   },
   "outputs": [],
   "source": [
    "##################################################################################################################################################################################################################"
   ]
  },
  {
   "cell_type": "markdown",
   "metadata": {
    "id": "lI-196pxfSVs"
   },
   "source": [
    "#  Boolean\n"
   ]
  },
  {
   "cell_type": "markdown",
   "metadata": {
    "id": "jRP5ZdMWfSVs",
    "tags": []
   },
   "source": [
    "#### English\n",
    "-  Boolean values represent true or false conditions.\n"
   ]
  },
  {
   "cell_type": "code",
   "execution_count": null,
   "metadata": {
    "colab": {
     "base_uri": "https://localhost:8080/"
    },
    "executionInfo": {
     "elapsed": 271,
     "status": "ok",
     "timestamp": 1724700716995,
     "user": {
      "displayName": "DataCubeAz",
      "userId": "12865883615439672478"
     },
     "user_tz": -120
    },
    "id": "a_tUBErEfSVs",
    "outputId": "b92e4835-806d-44b3-c66a-6c7bbda5ad69",
    "tags": []
   },
   "outputs": [
    {
     "data": {
      "text/plain": [
       "True"
      ]
     },
     "execution_count": 82,
     "metadata": {},
     "output_type": "execute_result"
    }
   ],
   "source": [
    "# True is a boolean value representing a true condition.\n",
    "True"
   ]
  },
  {
   "cell_type": "code",
   "execution_count": null,
   "metadata": {
    "id": "AAboij5BfSVs",
    "outputId": "1be9db53-7d60-472f-982e-7496461d961b",
    "tags": []
   },
   "outputs": [
    {
     "data": {
      "text/plain": [
       "False"
      ]
     },
     "execution_count": 44,
     "metadata": {},
     "output_type": "execute_result"
    }
   ],
   "source": [
    "# False is a boolean value representing a false condition.\n",
    "False"
   ]
  },
  {
   "cell_type": "code",
   "execution_count": null,
   "metadata": {
    "colab": {
     "base_uri": "https://localhost:8080/"
    },
    "executionInfo": {
     "elapsed": 242,
     "status": "ok",
     "timestamp": 1724700759481,
     "user": {
      "displayName": "DataCubeAz",
      "userId": "12865883615439672478"
     },
     "user_tz": -120
    },
    "id": "DS2T5W1KfSVs",
    "outputId": "b6826fe0-5106-48a4-d676-a7584744b1a2",
    "tags": []
   },
   "outputs": [
    {
     "data": {
      "text/plain": [
       "bool"
      ]
     },
     "execution_count": 83,
     "metadata": {},
     "output_type": "execute_result"
    }
   ],
   "source": [
    "# Using the type() function to check the data type of True.\n",
    "\n",
    "type(True)"
   ]
  },
  {
   "cell_type": "code",
   "execution_count": null,
   "metadata": {
    "colab": {
     "base_uri": "https://localhost:8080/"
    },
    "executionInfo": {
     "elapsed": 272,
     "status": "ok",
     "timestamp": 1724700769159,
     "user": {
      "displayName": "DataCubeAz",
      "userId": "12865883615439672478"
     },
     "user_tz": -120
    },
    "id": "rGP8WU0EfSVs",
    "outputId": "6ad8a6a3-fcab-4d78-a7f2-e8ef4de6130b"
   },
   "outputs": [
    {
     "data": {
      "text/plain": [
       "False"
      ]
     },
     "execution_count": 84,
     "metadata": {},
     "output_type": "execute_result"
    }
   ],
   "source": [
    "# Comparison of integers with the equality operator (==)\n",
    "\n",
    "5 == 4 # 5 is not equal to 4, therefore this expression yields False"
   ]
  },
  {
   "cell_type": "code",
   "execution_count": null,
   "metadata": {
    "colab": {
     "base_uri": "https://localhost:8080/"
    },
    "executionInfo": {
     "elapsed": 284,
     "status": "ok",
     "timestamp": 1724700818807,
     "user": {
      "displayName": "DataCubeAz",
      "userId": "12865883615439672478"
     },
     "user_tz": -120
    },
    "id": "IYlmQhKzKYHP",
    "outputId": "853b039c-7725-4354-f3f7-8f1d4110bad6"
   },
   "outputs": [
    {
     "data": {
      "text/plain": [
       "True"
      ]
     },
     "execution_count": 85,
     "metadata": {},
     "output_type": "execute_result"
    }
   ],
   "source": [
    "5.0 ==5"
   ]
  },
  {
   "cell_type": "code",
   "execution_count": null,
   "metadata": {
    "colab": {
     "base_uri": "https://localhost:8080/"
    },
    "executionInfo": {
     "elapsed": 255,
     "status": "ok",
     "timestamp": 1724700538345,
     "user": {
      "displayName": "DataCubeAz",
      "userId": "12865883615439672478"
     },
     "user_tz": -120
    },
    "id": "-NIonzhMfSVs",
    "outputId": "e5054f6f-aecf-4b74-8325-0e2997ae7b45"
   },
   "outputs": [
    {
     "data": {
      "text/plain": [
       "True"
      ]
     },
     "execution_count": 78,
     "metadata": {},
     "output_type": "execute_result"
    }
   ],
   "source": [
    "# 1 is equal to 1, therefore this expression yields True\n",
    "\n",
    "1 == 1"
   ]
  },
  {
   "cell_type": "code",
   "execution_count": null,
   "metadata": {
    "colab": {
     "base_uri": "https://localhost:8080/"
    },
    "executionInfo": {
     "elapsed": 266,
     "status": "ok",
     "timestamp": 1724700564806,
     "user": {
      "displayName": "DataCubeAz",
      "userId": "12865883615439672478"
     },
     "user_tz": -120
    },
    "id": "6Zqk6q7FfSVs",
    "outputId": "c7db81b0-a008-49d6-96cd-ea382e1b8518"
   },
   "outputs": [
    {
     "data": {
      "text/plain": [
       "bool"
      ]
     },
     "execution_count": 80,
     "metadata": {},
     "output_type": "execute_result"
    }
   ],
   "source": [
    "# Using the type() function to check the data type of the comparison result\n",
    "\n",
    "type(False)"
   ]
  },
  {
   "cell_type": "code",
   "execution_count": null,
   "metadata": {
    "colab": {
     "base_uri": "https://localhost:8080/"
    },
    "executionInfo": {
     "elapsed": 233,
     "status": "ok",
     "timestamp": 1724701912346,
     "user": {
      "displayName": "DataCubeAz",
      "userId": "12865883615439672478"
     },
     "user_tz": -120
    },
    "id": "7p3kib3hfSVs",
    "outputId": "00e6da0b-062c-4182-ef97-93e788df6a08",
    "tags": []
   },
   "outputs": [
    {
     "name": "stdout",
     "output_type": "stream",
     "text": [
      "is_student: True\n",
      "is_adult: False\n"
     ]
    }
   ],
   "source": [
    "### Boolean Variables:\n",
    "\n",
    "# - Booleans can be assigned to variables. They can only have two values: True or False.\n",
    "\n",
    "is_student = True  # This variable indicates whether someone is a student (True) or not (False).\n",
    "is_adult = False   # This variable indicates whether someone is an adult (True) or not (False).\n",
    "\n",
    "print(f'is_student: {is_student}')\n",
    "print(f'is_adult: {is_adult}')\n"
   ]
  },
  {
   "cell_type": "code",
   "execution_count": null,
   "metadata": {
    "colab": {
     "base_uri": "https://localhost:8080/"
    },
    "executionInfo": {
     "elapsed": 273,
     "status": "ok",
     "timestamp": 1724701914479,
     "user": {
      "displayName": "DataCubeAz",
      "userId": "12865883615439672478"
     },
     "user_tz": -120
    },
    "id": "3xCBzSgDfSVs",
    "outputId": "a29da0a5-f3fc-4024-f6c4-e12e4b9001a1",
    "tags": []
   },
   "outputs": [
    {
     "name": "stdout",
     "output_type": "stream",
     "text": [
      "is_teenager: True\n",
      "is_elderly: False\n"
     ]
    }
   ],
   "source": [
    "### Comparison Operators: (Vergleichsoperatoren:)\n",
    "\n",
    "# - Booleans often result from comparisons using operators like == (equal) or != (not equal).\n",
    "\n",
    "\n",
    "age = 18\n",
    "is_teenager =age == 18\n",
    "is_elderly = age >= 65\n",
    "\n",
    "print(f'is_teenager: {is_teenager}')\n",
    "print(f'is_elderly: {is_elderly}')\n"
   ]
  },
  {
   "cell_type": "code",
   "execution_count": null,
   "metadata": {
    "colab": {
     "base_uri": "https://localhost:8080/"
    },
    "executionInfo": {
     "elapsed": 254,
     "status": "ok",
     "timestamp": 1724701309894,
     "user": {
      "displayName": "DataCubeAz",
      "userId": "12865883615439672478"
     },
     "user_tz": -120
    },
    "id": "feb8mmtsNVZI",
    "outputId": "6e049643-48d7-4058-d20f-20ec966afa82"
   },
   "outputs": [
    {
     "data": {
      "text/plain": [
       "True"
      ]
     },
     "execution_count": 91,
     "metadata": {},
     "output_type": "execute_result"
    }
   ],
   "source": [
    "age == 18"
   ]
  },
  {
   "cell_type": "code",
   "execution_count": null,
   "metadata": {
    "colab": {
     "base_uri": "https://localhost:8080/"
    },
    "executionInfo": {
     "elapsed": 279,
     "status": "ok",
     "timestamp": 1724701928285,
     "user": {
      "displayName": "DataCubeAz",
      "userId": "12865883615439672478"
     },
     "user_tz": -120
    },
    "id": "3EJQlFUEfSVs",
    "outputId": "11644386-084f-4b52-d322-834e2b6cc803",
    "tags": []
   },
   "outputs": [
    {
     "name": "stdout",
     "output_type": "stream",
     "text": [
      "is_student_and_teenager: True\n",
      "is_adult_or_elderly: False\n",
      "is_not_adult: True\n"
     ]
    }
   ],
   "source": [
    "###  Logical Operators:\n",
    "\n",
    "\n",
    "is_adult_or_elderly = is_adult or is_elderly\n",
    "is_not_adult = not is_adult\n",
    "\n",
    "print(f'is_student_and_teenager: {is_student_and_teenager}')\n",
    "print(f'is_adult_or_elderly: {is_adult_or_elderly}')\n",
    "print(f'is_not_adult: {is_not_adult}')"
   ]
  },
  {
   "cell_type": "code",
   "execution_count": null,
   "metadata": {
    "colab": {
     "base_uri": "https://localhost:8080/"
    },
    "executionInfo": {
     "elapsed": 263,
     "status": "ok",
     "timestamp": 1724701856342,
     "user": {
      "displayName": "DataCubeAz",
      "userId": "12865883615439672478"
     },
     "user_tz": -120
    },
    "id": "XzW3PaevOtaw",
    "outputId": "745b522b-1cfe-4fe2-d0c8-0eb90c2e244c"
   },
   "outputs": [
    {
     "name": "stdout",
     "output_type": "stream",
     "text": [
      "False True\n"
     ]
    }
   ],
   "source": [
    "print(is_student ,is_teenager )"
   ]
  },
  {
   "cell_type": "code",
   "execution_count": null,
   "metadata": {
    "id": "DtrIYw54PTXi"
   },
   "outputs": [],
   "source": [
    "is_student=False"
   ]
  },
  {
   "cell_type": "code",
   "execution_count": null,
   "metadata": {
    "colab": {
     "base_uri": "https://localhost:8080/"
    },
    "executionInfo": {
     "elapsed": 254,
     "status": "ok",
     "timestamp": 1724701869631,
     "user": {
      "displayName": "DataCubeAz",
      "userId": "12865883615439672478"
     },
     "user_tz": -120
    },
    "id": "gbVZxMhONnpg",
    "outputId": "6cb0771c-5cfe-4ccb-dda9-7030e5d2f8e0"
   },
   "outputs": [
    {
     "data": {
      "text/plain": [
       "True"
      ]
     },
     "execution_count": 101,
     "metadata": {},
     "output_type": "execute_result"
    }
   ],
   "source": [
    "# - Logical operators (and, or, not) are used to combine or invert boolean values.\n",
    "is_student_and_teenager = is_student or is_teenager\n",
    "is_student_and_teenager"
   ]
  },
  {
   "cell_type": "markdown",
   "metadata": {
    "id": "4XoY3S51fSVs",
    "tags": []
   },
   "source": [
    "#### English\n",
    "\n",
    "**Key Takeaways**\n",
    "\n",
    "- **Why It's Important**:\n",
    "- Booleans are fundamental for decision-making in programming, like if statements and loops.\n",
    "- They help control the flow of a program based on conditions.\n",
    "- Booleans are used for testing, validation, and making your code responsive to different situations.\n",
    "- **Common Mistakes**:\n",
    " - Misusing assignment operator (=) instead of equality operator (==) in comparisons.\n",
    " - Forgetting the capitalization: 'True' and 'False' are case-sensitive in Python.\n"
   ]
  },
  {
   "cell_type": "markdown",
   "metadata": {
    "id": "Z160lpQofSVt"
   },
   "source": [
    "# Time for Practice"
   ]
  },
  {
   "cell_type": "code",
   "execution_count": null,
   "metadata": {
    "id": "7fZltp2cfSVt"
   },
   "outputs": [],
   "source": [
    "##################################################################################################################################################################################################################"
   ]
  },
  {
   "cell_type": "markdown",
   "metadata": {
    "id": "oqk2Tw6ofSVt"
   },
   "source": [
    "\n",
    "#  Lists\n"
   ]
  },
  {
   "cell_type": "markdown",
   "metadata": {
    "id": "kdsvnJ7kfSVt"
   },
   "source": [
    "#### English\n",
    "- A list is a  collection of items that can be of different data types.\n",
    "- Lists are created by placing items (elements) inside square brackets [ ], separated by commas.\n",
    "- Lists are mutable, which means you can change their content after they are created."
   ]
  },
  {
   "cell_type": "code",
   "execution_count": null,
   "metadata": {
    "colab": {
     "base_uri": "https://localhost:8080/"
    },
    "executionInfo": {
     "elapsed": 204,
     "status": "ok",
     "timestamp": 1724776302967,
     "user": {
      "displayName": "DataCubeAz",
      "userId": "12865883615439672478"
     },
     "user_tz": -120
    },
    "id": "F8vJm-dOfSVt",
    "outputId": "f40fcedc-c481-4425-f6d2-d21df7600def",
    "tags": []
   },
   "outputs": [
    {
     "name": "stdout",
     "output_type": "stream",
     "text": [
      "fruits: ['apple', 'banana', 'cherry']\n",
      "numbers: [1, 2, 3, 4, 5]\n",
      "mixed_list: ['apple', 3, 5.6, True, 6.6]\n"
     ]
    }
   ],
   "source": [
    "###  Creating Lists:\n",
    "\n",
    "fruits = [\"apple\", \"banana\",\"cherry\"]\n",
    "numbers = [1, 2, 3, 4, 5]\n",
    "mixed_list = [\"apple\", 3, 5.6, True, 6.6]\n",
    "\n",
    "print(f'fruits: {fruits}')\n",
    "print(f'numbers: {numbers}')\n",
    "print(f'mixed_list: {mixed_list}')"
   ]
  },
  {
   "cell_type": "code",
   "execution_count": null,
   "metadata": {
    "colab": {
     "base_uri": "https://localhost:8080/"
    },
    "executionInfo": {
     "elapsed": 206,
     "status": "ok",
     "timestamp": 1724776307462,
     "user": {
      "displayName": "DataCubeAz",
      "userId": "12865883615439672478"
     },
     "user_tz": -120
    },
    "id": "p-aT5PyVfSVt",
    "outputId": "db2c0e78-295d-428c-ebc4-4486fb6b114f"
   },
   "outputs": [
    {
     "name": "stdout",
     "output_type": "stream",
     "text": [
      "The data type of 'elements' is: <class 'list'>\n"
     ]
    }
   ],
   "source": [
    "#type()\n",
    "print(f\"The data type of 'elements' is: {type(fruits)}\")"
   ]
  },
  {
   "cell_type": "markdown",
   "metadata": {
    "id": "lDriLAHYfSVt"
   },
   "source": [
    "\n",
    "- Lists are created using square brackets [] and can contain various data types.\n"
   ]
  },
  {
   "cell_type": "code",
   "execution_count": null,
   "metadata": {
    "colab": {
     "base_uri": "https://localhost:8080/"
    },
    "executionInfo": {
     "elapsed": 196,
     "status": "ok",
     "timestamp": 1724776549334,
     "user": {
      "displayName": "DataCubeAz",
      "userId": "12865883615439672478"
     },
     "user_tz": -120
    },
    "id": "MkB0TOhlfSVt",
    "outputId": "588cfb27-5835-453f-bf77-a093b2e8343c"
   },
   "outputs": [
    {
     "name": "stdout",
     "output_type": "stream",
     "text": [
      "first_fruit: banana\n",
      "last_number: 5\n"
     ]
    }
   ],
   "source": [
    "# Accessing Elements:\n",
    "first_fruit = fruits[1]\n",
    "last_number = numbers[-1]\n",
    "print(f'first_fruit: {first_fruit}')\n",
    "print(f'last_number: {last_number}')"
   ]
  },
  {
   "cell_type": "markdown",
   "metadata": {
    "id": "fC23tJHLfSVt"
   },
   "source": [
    "\n",
    "- You can access list elements by their index, which starts at 0.\n",
    "\n"
   ]
  },
  {
   "cell_type": "code",
   "execution_count": null,
   "metadata": {
    "id": "oo9YROQ0fSVt"
   },
   "outputs": [],
   "source": [
    "# - Lists are mutable; you can change their content.\n",
    "numbers = [1, 2, 3, 4, 5]\n"
   ]
  },
  {
   "cell_type": "code",
   "execution_count": null,
   "metadata": {
    "colab": {
     "base_uri": "https://localhost:8080/"
    },
    "executionInfo": {
     "elapsed": 214,
     "status": "ok",
     "timestamp": 1724776736980,
     "user": {
      "displayName": "DataCubeAz",
      "userId": "12865883615439672478"
     },
     "user_tz": -120
    },
    "id": "GRanh8_ms547",
    "outputId": "c87e8d81-5dcc-4067-d882-4f2c888e2877"
   },
   "outputs": [
    {
     "name": "stdout",
     "output_type": "stream",
     "text": [
      "[1, 2, 99, 4, 5]\n"
     ]
    }
   ],
   "source": [
    "numbers[2] = 99\n",
    "print(numbers)"
   ]
  },
  {
   "cell_type": "markdown",
   "metadata": {
    "id": "PmbPxhmnfSVt"
   },
   "source": [
    "\n",
    "- Lists are mutable; you can change their content.\n",
    "\n"
   ]
  },
  {
   "cell_type": "code",
   "execution_count": null,
   "metadata": {
    "id": "7HFXrZZ5fSVt",
    "outputId": "63f67df3-b8a3-43a9-c9fb-dc92ba41418c",
    "tags": []
   },
   "outputs": [
    {
     "name": "stdout",
     "output_type": "stream",
     "text": [
      "subset_fruits: ['banana', 'cherry']\n",
      "partial_numbers: [1, 2, 99]\n"
     ]
    }
   ],
   "source": [
    "# Slicing Lists:\n",
    "\n",
    "subset_fruits = fruits[1:3]\n",
    "partial_numbers = numbers[:3]\n",
    "\n",
    "print(f'subset_fruits: {subset_fruits}')\n",
    "print(f'partial_numbers: {partial_numbers}')"
   ]
  },
  {
   "cell_type": "markdown",
   "metadata": {
    "id": "kv_7w7GqfSVt"
   },
   "source": [
    "\n",
    "- Slicing allows you to get a portion of the list.\n",
    "\n"
   ]
  },
  {
   "cell_type": "code",
   "execution_count": null,
   "metadata": {
    "id": "wjX8OPW0fSVt",
    "tags": []
   },
   "outputs": [],
   "source": [
    "# Create a list of fruits\n",
    "fruits = [\"apple\", \"banana\", \"cherry\", \"date\", \"elderberry\"]"
   ]
  },
  {
   "cell_type": "code",
   "execution_count": null,
   "metadata": {
    "colab": {
     "base_uri": "https://localhost:8080/"
    },
    "executionInfo": {
     "elapsed": 203,
     "status": "ok",
     "timestamp": 1724779462826,
     "user": {
      "displayName": "DataCubeAz",
      "userId": "12865883615439672478"
     },
     "user_tz": -120
    },
    "id": "aGSAA9L1fSVu",
    "outputId": "5a54b917-c409-4799-8873-8913429caba8"
   },
   "outputs": [
    {
     "data": {
      "text/plain": [
       "['__add__',\n",
       " '__class__',\n",
       " '__class_getitem__',\n",
       " '__contains__',\n",
       " '__delattr__',\n",
       " '__delitem__',\n",
       " '__dir__',\n",
       " '__doc__',\n",
       " '__eq__',\n",
       " '__format__',\n",
       " '__ge__',\n",
       " '__getattribute__',\n",
       " '__getitem__',\n",
       " '__gt__',\n",
       " '__hash__',\n",
       " '__iadd__',\n",
       " '__imul__',\n",
       " '__init__',\n",
       " '__init_subclass__',\n",
       " '__iter__',\n",
       " '__le__',\n",
       " '__len__',\n",
       " '__lt__',\n",
       " '__mul__',\n",
       " '__ne__',\n",
       " '__new__',\n",
       " '__reduce__',\n",
       " '__reduce_ex__',\n",
       " '__repr__',\n",
       " '__reversed__',\n",
       " '__rmul__',\n",
       " '__setattr__',\n",
       " '__setitem__',\n",
       " '__sizeof__',\n",
       " '__str__',\n",
       " '__subclasshook__',\n",
       " 'append',\n",
       " 'clear',\n",
       " 'copy',\n",
       " 'count',\n",
       " 'extend',\n",
       " 'index',\n",
       " 'insert',\n",
       " 'pop',\n",
       " 'remove',\n",
       " 'reverse',\n",
       " 'sort']"
      ]
     },
     "execution_count": 59,
     "metadata": {},
     "output_type": "execute_result"
    }
   ],
   "source": [
    "dir(fruits)"
   ]
  },
  {
   "cell_type": "code",
   "execution_count": null,
   "metadata": {
    "colab": {
     "base_uri": "https://localhost:8080/"
    },
    "executionInfo": {
     "elapsed": 218,
     "status": "ok",
     "timestamp": 1724780882327,
     "user": {
      "displayName": "DataCubeAz",
      "userId": "12865883615439672478"
     },
     "user_tz": -120
    },
    "id": "41FXV0ym14By",
    "outputId": "279cf2c4-649f-4a8c-efa8-3f9f824af172"
   },
   "outputs": [
    {
     "data": {
      "text/plain": [
       "['apple', 'banana', 'cherry', 'date', 'elderberry']"
      ]
     },
     "execution_count": 108,
     "metadata": {},
     "output_type": "execute_result"
    }
   ],
   "source": [
    "fruits"
   ]
  },
  {
   "cell_type": "code",
   "execution_count": null,
   "metadata": {
    "id": "18Ue0Ph8fSVu",
    "outputId": "2f6a9666-d6fb-452f-8975-a3f5e4560e0c",
    "tags": []
   },
   "outputs": [
    {
     "name": "stdout",
     "output_type": "stream",
     "text": [
      "Fruits after removing 'banana': ['apple', 'cherry', 'date', 'elderberry']\n"
     ]
    }
   ],
   "source": [
    "# Remove \"banana\" from the 'fruits' list using the remove() method.\n",
    "fruits.remove(\"banana\")\n",
    "print(f\"Fruits after removing 'banana': {fruits}\")"
   ]
  },
  {
   "cell_type": "code",
   "execution_count": null,
   "metadata": {
    "colab": {
     "base_uri": "https://localhost:8080/"
    },
    "executionInfo": {
     "elapsed": 2,
     "status": "ok",
     "timestamp": 1724780310748,
     "user": {
      "displayName": "DataCubeAz",
      "userId": "12865883615439672478"
     },
     "user_tz": -120
    },
    "id": "Ccfymt9IfSVu",
    "outputId": "b2a85e77-3ef1-4b01-a852-5469ba31d9c3",
    "tags": []
   },
   "outputs": [
    {
     "name": "stdout",
     "output_type": "stream",
     "text": [
      "Fruits after popping the last item: ['cherry', 'date']\n"
     ]
    }
   ],
   "source": [
    "# Remove the last item from the 'fruits' list using the pop() method\n",
    "fruits.pop(0)\n",
    "print(f\"Fruits after popping the last item: {fruits}\")"
   ]
  },
  {
   "cell_type": "code",
   "execution_count": null,
   "metadata": {
    "id": "xyc-BBPcfSVu",
    "outputId": "481a84fa-2314-47c9-8ba5-01d711e3d452",
    "scrolled": true,
    "tags": []
   },
   "outputs": [
    {
     "name": "stdout",
     "output_type": "stream",
     "text": [
      "Fruits after popping the last item: ['apple', 'date']\n"
     ]
    }
   ],
   "source": [
    "fruits.pop(1)\n",
    "print(f\"Fruits after popping the last item: {fruits}\")"
   ]
  },
  {
   "cell_type": "code",
   "execution_count": null,
   "metadata": {
    "colab": {
     "base_uri": "https://localhost:8080/"
    },
    "executionInfo": {
     "elapsed": 201,
     "status": "ok",
     "timestamp": 1724780386248,
     "user": {
      "displayName": "DataCubeAz",
      "userId": "12865883615439672478"
     },
     "user_tz": -120
    },
    "id": "zkw4Jjj3fSVu",
    "outputId": "aa4b8d6b-abbe-4987-d042-4b52b14f3dea"
   },
   "outputs": [
    {
     "data": {
      "text/plain": [
       "[12, 2, 4, 5, 10, 0, 3]"
      ]
     },
     "execution_count": 97,
     "metadata": {},
     "output_type": "execute_result"
    }
   ],
   "source": [
    "# Sorts the 'numbers' list in ascending order.\n",
    "numbers = [12, 2, 4, 5, 10,0, 3]\n",
    "numbers"
   ]
  },
  {
   "cell_type": "code",
   "execution_count": null,
   "metadata": {
    "colab": {
     "base_uri": "https://localhost:8080/"
    },
    "executionInfo": {
     "elapsed": 345,
     "status": "ok",
     "timestamp": 1724780410494,
     "user": {
      "displayName": "DataCubeAz",
      "userId": "12865883615439672478"
     },
     "user_tz": -120
    },
    "id": "72wXy1LY7AMC",
    "outputId": "6ac75ec7-7b74-4140-fea1-9720c9d3bee8"
   },
   "outputs": [
    {
     "name": "stdout",
     "output_type": "stream",
     "text": [
      "this is the  listed after sort [0, 2, 3, 4, 5, 10, 12]\n"
     ]
    }
   ],
   "source": [
    "numbers.sort()\n",
    "print(f'this is the  listed after sort {numbers}')"
   ]
  },
  {
   "cell_type": "code",
   "execution_count": null,
   "metadata": {
    "colab": {
     "base_uri": "https://localhost:8080/"
    },
    "executionInfo": {
     "elapsed": 193,
     "status": "ok",
     "timestamp": 1724780355654,
     "user": {
      "displayName": "DataCubeAz",
      "userId": "12865883615439672478"
     },
     "user_tz": -120
    },
    "id": "t4t3bITV64dq",
    "outputId": "ed38ff53-834d-46d3-bbf5-d04a2702f5f1"
   },
   "outputs": [
    {
     "data": {
      "text/plain": [
       "['__add__',\n",
       " '__class__',\n",
       " '__class_getitem__',\n",
       " '__contains__',\n",
       " '__delattr__',\n",
       " '__delitem__',\n",
       " '__dir__',\n",
       " '__doc__',\n",
       " '__eq__',\n",
       " '__format__',\n",
       " '__ge__',\n",
       " '__getattribute__',\n",
       " '__getitem__',\n",
       " '__gt__',\n",
       " '__hash__',\n",
       " '__iadd__',\n",
       " '__imul__',\n",
       " '__init__',\n",
       " '__init_subclass__',\n",
       " '__iter__',\n",
       " '__le__',\n",
       " '__len__',\n",
       " '__lt__',\n",
       " '__mul__',\n",
       " '__ne__',\n",
       " '__new__',\n",
       " '__reduce__',\n",
       " '__reduce_ex__',\n",
       " '__repr__',\n",
       " '__reversed__',\n",
       " '__rmul__',\n",
       " '__setattr__',\n",
       " '__setitem__',\n",
       " '__sizeof__',\n",
       " '__str__',\n",
       " '__subclasshook__',\n",
       " 'append',\n",
       " 'clear',\n",
       " 'copy',\n",
       " 'count',\n",
       " 'extend',\n",
       " 'index',\n",
       " 'insert',\n",
       " 'pop',\n",
       " 'remove',\n",
       " 'reverse',\n",
       " 'sort']"
      ]
     },
     "execution_count": 95,
     "metadata": {},
     "output_type": "execute_result"
    }
   ],
   "source": [
    "dir(numbers)"
   ]
  },
  {
   "cell_type": "code",
   "execution_count": null,
   "metadata": {
    "colab": {
     "base_uri": "https://localhost:8080/"
    },
    "executionInfo": {
     "elapsed": 210,
     "status": "ok",
     "timestamp": 1724780508200,
     "user": {
      "displayName": "DataCubeAz",
      "userId": "12865883615439672478"
     },
     "user_tz": -120
    },
    "id": "LggTQmZ-fSVu",
    "outputId": "9a3d02e9-36e4-4268-a440-c32fb77d4548"
   },
   "outputs": [
    {
     "name": "stdout",
     "output_type": "stream",
     "text": [
      "this is the  listed after sort [12, 10, 5, 4, 3, 2, 0]\n"
     ]
    }
   ],
   "source": [
    "# Sorts the 'numbers' list in descending order.\n",
    "numbers = [12, 2, 4, 5, 10,0, 3]\n",
    "numbers.sort(reverse=True)\n",
    "print(f'this is the  listed after sort {numbers}')"
   ]
  },
  {
   "cell_type": "code",
   "execution_count": null,
   "metadata": {
    "colab": {
     "base_uri": "https://localhost:8080/"
    },
    "executionInfo": {
     "elapsed": 197,
     "status": "ok",
     "timestamp": 1724780520930,
     "user": {
      "displayName": "DataCubeAz",
      "userId": "12865883615439672478"
     },
     "user_tz": -120
    },
    "id": "xM8_BId4fSVu",
    "outputId": "0abb8058-acbf-49c9-e087-ed43293a2fc2"
   },
   "outputs": [
    {
     "name": "stdout",
     "output_type": "stream",
     "text": [
      "['A', 'B', 'C', 'D', 'a', 'b']\n"
     ]
    }
   ],
   "source": [
    "#sort() method to sort the 'alphabet' list\n",
    "alphabet= ['A', 'a', 'B', 'C', 'D', 'b']\n",
    "alphabet.sort()\n",
    "print(alphabet)"
   ]
  },
  {
   "cell_type": "code",
   "execution_count": null,
   "metadata": {
    "colab": {
     "base_uri": "https://localhost:8080/"
    },
    "executionInfo": {
     "elapsed": 214,
     "status": "ok",
     "timestamp": 1724780950649,
     "user": {
      "displayName": "DataCubeAz",
      "userId": "12865883615439672478"
     },
     "user_tz": -120
    },
    "id": "X7vcW-QifSVu",
    "outputId": "90255337-9a7a-4837-ef63-2cf196d12f84"
   },
   "outputs": [
    {
     "name": "stdout",
     "output_type": "stream",
     "text": [
      "this is the number list after sorted function [0, 2, 3, 4, 5, 10, 12]\n"
     ]
    }
   ],
   "source": [
    "#sorted() Function\n",
    "numbers = [12, 2, 4, 5, 10,0, 3]\n",
    "print(f'this is the number list after sorted function {sorted(numbers)}')"
   ]
  },
  {
   "cell_type": "markdown",
   "metadata": {
    "id": "vJ1UvyoOfSVu"
   },
   "source": [
    "#### English\n",
    "- Press \"Shift + Tab\" at the end of the sorted() function and the sort() method to see the differences.\n",
    "- sorted() returns a None value, which means it produces a empth list\n",
    "- Note: sort is a method, while sorted is a function. Therefore, sorted does not modify the original list; it simply returns the sorted result.\n",
    "- To see the difference, press Shift + Tab on sorted and sort\n"
   ]
  },
  {
   "cell_type": "code",
   "execution_count": null,
   "metadata": {
    "colab": {
     "base_uri": "https://localhost:8080/"
    },
    "executionInfo": {
     "elapsed": 199,
     "status": "ok",
     "timestamp": 1724781179979,
     "user": {
      "displayName": "DataCubeAz",
      "userId": "12865883615439672478"
     },
     "user_tz": -120
    },
    "id": "wIXuKd1NfSVu",
    "outputId": "9f25eefd-1adc-45b5-99ed-8f675dee89ea"
   },
   "outputs": [
    {
     "name": "stdout",
     "output_type": "stream",
     "text": [
      "Data type of 'line': <class 'str'>\n",
      "Length of 'line': 27\n"
     ]
    }
   ],
   "source": [
    "# Split the 'line' string into words using the split() method\n",
    "line = 'Lorem ipsum dolor sit amet.'\n",
    "print(f\"Data type of 'line': {type(line)}\")\n",
    "print(f\"Length of 'line': {len(line)}\")"
   ]
  },
  {
   "cell_type": "code",
   "execution_count": null,
   "metadata": {
    "colab": {
     "base_uri": "https://localhost:8080/"
    },
    "executionInfo": {
     "elapsed": 211,
     "status": "ok",
     "timestamp": 1724781225435,
     "user": {
      "displayName": "DataCubeAz",
      "userId": "12865883615439672478"
     },
     "user_tz": -120
    },
    "id": "GLuISeSn9ZE5",
    "outputId": "7b157655-1255-4dcd-c987-ea97aefd1c98"
   },
   "outputs": [
    {
     "data": {
      "text/plain": [
       "['Lorem ip', 'um dolor ', 'it amet.']"
      ]
     },
     "execution_count": 120,
     "metadata": {},
     "output_type": "execute_result"
    }
   ],
   "source": [
    "line.split(sep =\"s\")"
   ]
  },
  {
   "cell_type": "code",
   "execution_count": null,
   "metadata": {
    "id": "ziaiRnvzfSVu"
   },
   "outputs": [],
   "source": [
    "# 'words' will store a list of strings\n",
    "words = line.split()"
   ]
  },
  {
   "cell_type": "code",
   "execution_count": null,
   "metadata": {
    "colab": {
     "base_uri": "https://localhost:8080/"
    },
    "executionInfo": {
     "elapsed": 202,
     "status": "ok",
     "timestamp": 1724781106212,
     "user": {
      "displayName": "DataCubeAz",
      "userId": "12865883615439672478"
     },
     "user_tz": -120
    },
    "id": "rov6tddofSVu",
    "outputId": "129bfc7a-51f9-499e-eadc-18238be44639"
   },
   "outputs": [
    {
     "name": "stdout",
     "output_type": "stream",
     "text": [
      "List of words: ['Lorem', 'ipsum', 'dolor', 'sit', 'amet.']\n",
      "Data type of 'words': <class 'list'>\n",
      "Number of words in the 'words' list: 5\n"
     ]
    }
   ],
   "source": [
    "print(f\"List of words: {words}\")\n",
    "print(f\"Data type of 'words': {type(words)}\")\n",
    "print(f\"Number of words in the 'words' list: {len(words)}\")"
   ]
  },
  {
   "cell_type": "code",
   "execution_count": null,
   "metadata": {
    "colab": {
     "base_uri": "https://localhost:8080/"
    },
    "executionInfo": {
     "elapsed": 203,
     "status": "ok",
     "timestamp": 1724781246148,
     "user": {
      "displayName": "DataCubeAz",
      "userId": "12865883615439672478"
     },
     "user_tz": -120
    },
    "id": "8z1IOu51fSVu",
    "outputId": "1726c8ad-1273-4fe4-8db0-9dcd18f02137"
   },
   "outputs": [
    {
     "name": "stdout",
     "output_type": "stream",
     "text": [
      "['Uh-oh', 'uh-oh', 'uh-oh', 'uh-oh.']\n"
     ]
    }
   ],
   "source": [
    "#split() wthout any argument\n",
    "phrase = 'Uh-oh uh-oh uh-oh  uh-oh.'\n",
    "res = phrase.split()\n",
    "print(res)"
   ]
  },
  {
   "cell_type": "code",
   "execution_count": null,
   "metadata": {
    "colab": {
     "base_uri": "https://localhost:8080/"
    },
    "executionInfo": {
     "elapsed": 304,
     "status": "ok",
     "timestamp": 1724781255698,
     "user": {
      "displayName": "DataCubeAz",
      "userId": "12865883615439672478"
     },
     "user_tz": -120
    },
    "id": "jIABIv7IfSVu",
    "outputId": "0a87a671-d0b1-42b8-f6d9-b7c945c06296"
   },
   "outputs": [
    {
     "name": "stdout",
     "output_type": "stream",
     "text": [
      "['Uh', 'oh uh', 'oh uh', 'oh  uh', 'oh.']\n"
     ]
    }
   ],
   "source": [
    "#split() with argument\n",
    "phrase = 'Uh-oh uh-oh uh-oh  uh-oh.'\n",
    "res = phrase.split('-')\n",
    "print(res)"
   ]
  },
  {
   "cell_type": "code",
   "execution_count": null,
   "metadata": {
    "colab": {
     "base_uri": "https://localhost:8080/"
    },
    "executionInfo": {
     "elapsed": 186,
     "status": "ok",
     "timestamp": 1724781299383,
     "user": {
      "displayName": "DataCubeAz",
      "userId": "12865883615439672478"
     },
     "user_tz": -120
    },
    "id": "l3MwhOXpfSVv",
    "outputId": "975a64b1-d56a-4fa2-9396-1803d5b75dd5"
   },
   "outputs": [
    {
     "name": "stdout",
     "output_type": "stream",
     "text": [
      "Uh-oh uh-oh uh-oh  uh-oh.\n"
     ]
    }
   ],
   "source": [
    "# From list to string : join () method\n",
    "phrase = '-'.join(res)\n",
    "print(phrase)"
   ]
  },
  {
   "cell_type": "code",
   "execution_count": null,
   "metadata": {
    "colab": {
     "base_uri": "https://localhost:8080/"
    },
    "executionInfo": {
     "elapsed": 240,
     "status": "ok",
     "timestamp": 1724781505111,
     "user": {
      "displayName": "DataCubeAz",
      "userId": "12865883615439672478"
     },
     "user_tz": -120
    },
    "id": "LVRPyJj1fSVv",
    "outputId": "0c1e3658-16f1-4674-c56c-0d285bfb7b64"
   },
   "outputs": [
    {
     "name": "stdout",
     "output_type": "stream",
     "text": [
      "count_of_apples: 1\n"
     ]
    }
   ],
   "source": [
    "# Counts () method.\n",
    "fruits = [\"apple\", \"banana\", \"cherry\", \"date\", \"elderberry\"]\n",
    "count_of_apples = fruits.count(\"apple\")\n",
    "print(f'count_of_apples: {count_of_apples}')"
   ]
  },
  {
   "cell_type": "code",
   "execution_count": null,
   "metadata": {
    "colab": {
     "base_uri": "https://localhost:8080/"
    },
    "executionInfo": {
     "elapsed": 212,
     "status": "ok",
     "timestamp": 1724781510596,
     "user": {
      "displayName": "DataCubeAz",
      "userId": "12865883615439672478"
     },
     "user_tz": -120
    },
    "id": "OuNQ2xHK_TlT",
    "outputId": "21eb8bae-6927-43db-9973-31055e17f724"
   },
   "outputs": [
    {
     "data": {
      "text/plain": [
       "['apple', 'banana', 'cherry', 'date', 'elderberry']"
      ]
     },
     "execution_count": 131,
     "metadata": {},
     "output_type": "execute_result"
    }
   ],
   "source": [
    "fruits"
   ]
  },
  {
   "cell_type": "code",
   "execution_count": null,
   "metadata": {
    "colab": {
     "base_uri": "https://localhost:8080/"
    },
    "executionInfo": {
     "elapsed": 220,
     "status": "ok",
     "timestamp": 1724781555047,
     "user": {
      "displayName": "DataCubeAz",
      "userId": "12865883615439672478"
     },
     "user_tz": -120
    },
    "id": "NO0GqQYGfSVv",
    "outputId": "511f5227-2ee4-4d73-8dcc-90426184e325",
    "tags": []
   },
   "outputs": [
    {
     "name": "stdout",
     "output_type": "stream",
     "text": [
      "['apple', 'banana', 'cherry', 'date', 'elderberry', 'orange']\n"
     ]
    }
   ],
   "source": [
    "# Append () method.\n",
    "fruits.append(\"orange\")\n",
    "print(fruits)"
   ]
  },
  {
   "cell_type": "code",
   "execution_count": null,
   "metadata": {
    "colab": {
     "base_uri": "https://localhost:8080/"
    },
    "executionInfo": {
     "elapsed": 223,
     "status": "ok",
     "timestamp": 1724781991031,
     "user": {
      "displayName": "DataCubeAz",
      "userId": "12865883615439672478"
     },
     "user_tz": -120
    },
    "id": "itM690enfSVv",
    "outputId": "06b9af96-5406-40c1-f302-c3037fbb1321"
   },
   "outputs": [
    {
     "name": "stdout",
     "output_type": "stream",
     "text": [
      "[10, 20, [30, 40]]\n"
     ]
    }
   ],
   "source": [
    "# Append a list into a list.\n",
    "data = [10, 20]\n",
    "data.append([30, 40])\n",
    "print(data)\n"
   ]
  },
  {
   "cell_type": "code",
   "execution_count": null,
   "metadata": {
    "colab": {
     "base_uri": "https://localhost:8080/"
    },
    "executionInfo": {
     "elapsed": 221,
     "status": "ok",
     "timestamp": 1724782253499,
     "user": {
      "displayName": "DataCubeAz",
      "userId": "12865883615439672478"
     },
     "user_tz": -120
    },
    "id": "5FjO_0bnB-LR",
    "outputId": "c4b0a22e-35f5-43e2-efb3-82fb00ddb765"
   },
   "outputs": [
    {
     "data": {
      "text/plain": [
       "[12, 2, 4, 5, 10, 0, 3]"
      ]
     },
     "execution_count": 142,
     "metadata": {},
     "output_type": "execute_result"
    }
   ],
   "source": [
    "numbers"
   ]
  },
  {
   "cell_type": "code",
   "execution_count": null,
   "metadata": {
    "colab": {
     "base_uri": "https://localhost:8080/"
    },
    "executionInfo": {
     "elapsed": 225,
     "status": "ok",
     "timestamp": 1724782254817,
     "user": {
      "displayName": "DataCubeAz",
      "userId": "12865883615439672478"
     },
     "user_tz": -120
    },
    "id": "F84V6LjIfSVv",
    "outputId": "62960cbc-7414-429a-f4d8-1c1304088695"
   },
   "outputs": [
    {
     "name": "stdout",
     "output_type": "stream",
     "text": [
      "[12, 2, 4, 5, 10, 0, 3, 7, 8]\n"
     ]
    }
   ],
   "source": [
    "# Extend method().\n",
    "numbers.extend([7, 8])\n",
    "print(numbers)"
   ]
  },
  {
   "cell_type": "code",
   "execution_count": null,
   "metadata": {
    "colab": {
     "base_uri": "https://localhost:8080/"
    },
    "executionInfo": {
     "elapsed": 211,
     "status": "ok",
     "timestamp": 1724782377894,
     "user": {
      "displayName": "DataCubeAz",
      "userId": "12865883615439672478"
     },
     "user_tz": -120
    },
    "id": "z_B8EICAfSVw",
    "outputId": "97929aab-5d46-4d83-eb1c-efd6b99c3969"
   },
   "outputs": [
    {
     "name": "stdout",
     "output_type": "stream",
     "text": [
      "[4, 100, 12, 2, 4, 5, 10, 0, 3, 7, 8]\n"
     ]
    }
   ],
   "source": [
    "# Insert method()\n",
    "numbers.insert(1, 100)\n",
    "print(numbers)\n"
   ]
  },
  {
   "cell_type": "markdown",
   "metadata": {
    "id": "q3kz1yrrfSVw"
   },
   "source": [
    "#### English\n",
    "- Pay attention differcen between extend(),  append ()  and insert() methods\n",
    "\n"
   ]
  },
  {
   "cell_type": "code",
   "execution_count": null,
   "metadata": {
    "id": "a0ubhr8GfSVw"
   },
   "outputs": [],
   "source": [
    "# Nested list\n",
    "elements = [0, \"a\", 2, \"c\", True, [6, 5, 2]]"
   ]
  },
  {
   "cell_type": "code",
   "execution_count": null,
   "metadata": {
    "colab": {
     "base_uri": "https://localhost:8080/"
    },
    "executionInfo": {
     "elapsed": 227,
     "status": "ok",
     "timestamp": 1724782759039,
     "user": {
      "displayName": "DataCubeAz",
      "userId": "12865883615439672478"
     },
     "user_tz": -120
    },
    "id": "E8qbvT5iECd0",
    "outputId": "8d2791a5-527a-46b0-b473-72069925b058"
   },
   "outputs": [
    {
     "data": {
      "text/plain": [
       "[0, 'a', 2, 'c', True, [6, 5, 2]]"
      ]
     },
     "execution_count": 155,
     "metadata": {},
     "output_type": "execute_result"
    }
   ],
   "source": [
    "list(elements)"
   ]
  },
  {
   "cell_type": "code",
   "execution_count": null,
   "metadata": {
    "colab": {
     "base_uri": "https://localhost:8080/"
    },
    "executionInfo": {
     "elapsed": 236,
     "status": "ok",
     "timestamp": 1724782789219,
     "user": {
      "displayName": "DataCubeAz",
      "userId": "12865883615439672478"
     },
     "user_tz": -120
    },
    "id": "2P86sxdLfSVw",
    "outputId": "270f047a-2929-42f1-8d4d-27d017d9ac33"
   },
   "outputs": [
    {
     "name": "stdout",
     "output_type": "stream",
     "text": [
      "Element at index 5: [6, 5, 2]\n"
     ]
    }
   ],
   "source": [
    "# Access and print the element at index 5 of the 'elements' list, which is a nested list\n",
    "print(f\"Element at index 5: {elements[5]}\")"
   ]
  },
  {
   "cell_type": "code",
   "execution_count": null,
   "metadata": {
    "colab": {
     "base_uri": "https://localhost:8080/"
    },
    "executionInfo": {
     "elapsed": 204,
     "status": "ok",
     "timestamp": 1724782832783,
     "user": {
      "displayName": "DataCubeAz",
      "userId": "12865883615439672478"
     },
     "user_tz": -120
    },
    "id": "vxNCIMZTfSVw",
    "outputId": "7fed5ba5-168a-4e5a-f442-2ae7e8970204"
   },
   "outputs": [
    {
     "name": "stdout",
     "output_type": "stream",
     "text": [
      "Data type of element at index 5: <class 'list'>\n"
     ]
    }
   ],
   "source": [
    "# Use the type() function to determine the data type of the element at index 5.\n",
    "print(f\"Data type of element at index 5: {type(elements[5])}\")"
   ]
  },
  {
   "cell_type": "code",
   "execution_count": null,
   "metadata": {
    "colab": {
     "base_uri": "https://localhost:8080/"
    },
    "executionInfo": {
     "elapsed": 225,
     "status": "ok",
     "timestamp": 1724782857380,
     "user": {
      "displayName": "DataCubeAz",
      "userId": "12865883615439672478"
     },
     "user_tz": -120
    },
    "id": "OfGe1rYZEbjj",
    "outputId": "9fe253c8-cb59-4dce-9036-ba1828d3661b"
   },
   "outputs": [
    {
     "data": {
      "text/plain": [
       "[0, 'a', 2, 'c', True, [6, 5, 2]]"
      ]
     },
     "execution_count": 160,
     "metadata": {},
     "output_type": "execute_result"
    }
   ],
   "source": [
    "elements"
   ]
  },
  {
   "cell_type": "code",
   "execution_count": null,
   "metadata": {
    "id": "1NdngGRqfSVw",
    "outputId": "5aea233c-7a75-483d-a5b9-fb86a88f6c68"
   },
   "outputs": [
    {
     "name": "stdout",
     "output_type": "stream",
     "text": [
      "Element at index 1 of the nested list: 5\n"
     ]
    }
   ],
   "source": [
    "# Access and print the element at index 1 of the nested list at index 5.\n",
    "print(f\"Element at index 1 of the nested list: {elements[5][1]}\")"
   ]
  },
  {
   "cell_type": "code",
   "execution_count": null,
   "metadata": {
    "colab": {
     "base_uri": "https://localhost:8080/"
    },
    "executionInfo": {
     "elapsed": 226,
     "status": "ok",
     "timestamp": 1724782982356,
     "user": {
      "displayName": "DataCubeAz",
      "userId": "12865883615439672478"
     },
     "user_tz": -120
    },
    "id": "eWL3im6UfSVw",
    "outputId": "54d2b612-b332-476f-dfb7-3cac197044c9"
   },
   "outputs": [
    {
     "name": "stdout",
     "output_type": "stream",
     "text": [
      "Data type of element at index 1 of the nested list: <class 'int'>\n"
     ]
    }
   ],
   "source": [
    "# Use the type() function to determine the data type of the element at index 1 of the nested list.\n",
    "print(f\"Data type of element at index 1 of the nested list: {type(elements[5][1])}\")"
   ]
  },
  {
   "cell_type": "code",
   "execution_count": null,
   "metadata": {
    "colab": {
     "base_uri": "https://localhost:8080/"
    },
    "executionInfo": {
     "elapsed": 222,
     "status": "ok",
     "timestamp": 1724782987536,
     "user": {
      "displayName": "DataCubeAz",
      "userId": "12865883615439672478"
     },
     "user_tz": -120
    },
    "id": "spGoZrMYfSVw",
    "outputId": "fe4dc145-118a-42a6-e6fe-8dfcb99399ff"
   },
   "outputs": [
    {
     "name": "stdout",
     "output_type": "stream",
     "text": [
      "Number of elements in the 'elements' list: 6\n"
     ]
    }
   ],
   "source": [
    "# Create a list named 'elements' containing a mix of data types, including a nested list.\n",
    "elements = [0, \"a\", 2, \"c\", True, [6, 5, 2]]\n",
    "print(f\"Number of elements in the 'elements' list: {len(elements)}\")"
   ]
  },
  {
   "cell_type": "markdown",
   "metadata": {
    "id": "sXnJjBJBfSVw"
   },
   "source": [
    "#### English\n",
    "- When you use the len() function to find the length of a list, it counts each element as one, including nested lists\n",
    "\n"
   ]
  },
  {
   "cell_type": "code",
   "execution_count": null,
   "metadata": {
    "colab": {
     "base_uri": "https://localhost:8080/"
    },
    "executionInfo": {
     "elapsed": 208,
     "status": "ok",
     "timestamp": 1724783064864,
     "user": {
      "displayName": "DataCubeAz",
      "userId": "12865883615439672478"
     },
     "user_tz": -120
    },
    "id": "3FTMaVO5fSVw",
    "outputId": "69b91f4a-0f9d-4411-b593-a45dc0c308d7"
   },
   "outputs": [
    {
     "name": "stdout",
     "output_type": "stream",
     "text": [
      "kiwi found at index 3.\n"
     ]
    }
   ],
   "source": [
    "## Index() method\n",
    "fruits = ['apple', 'banana', 'orange', 'kiwi', 'grape']\n",
    "search_item = 'kiwi'\n",
    "index = fruits.index(search_item)\n",
    "print(f\"{search_item} found at index {index}.\")"
   ]
  },
  {
   "cell_type": "markdown",
   "metadata": {
    "id": "3uvrAFq4fSVx"
   },
   "source": [
    "**Key Takeaways**\n",
    "- Lists are versatile and can store a variety of data types, making them suitable for a wide range of applications.\n",
    "- Lists maintain the order of elements, meaning the order in which you add items is preserved.\n",
    "- Elements in a list can be accessed using an index. Indexing starts at 0 for the first element.\n",
    "- You can extract subsets of a list using slicing. This allows you to work with a portion of the list.\n",
    "- Lists are mutable, meaning you can change their contents by adding, removing, or modifying elements.\n",
    "- Python provides useful list methods like append(), remove(), sort(), and count() for various list operations.\n",
    "- Pay attention to off-by-one errors when indexing (starting from 0). Modifying a list while iterating over it can lead to unexpected behavior.\n",
    "-  Lists are fundamental data structures used to manage and manipulate collections of data. They are essential for tasks like data storage, processing, and iteration in Python\n",
    "-  Lists are commonly used in loops( we will learn in the next lessons) for iteration and processing each element in the list."
   ]
  },
  {
   "cell_type": "markdown",
   "metadata": {
    "id": "BdnLkXZafSVx"
   },
   "source": [
    "# Time for Practice"
   ]
  },
  {
   "cell_type": "code",
   "execution_count": null,
   "metadata": {
    "id": "kBEduRmefSVx"
   },
   "outputs": [],
   "source": [
    "#################################################################################################################################################################################################################"
   ]
  },
  {
   "cell_type": "markdown",
   "metadata": {
    "id": "_-9QNBsOfSVx"
   },
   "source": [
    "# Dictionaries"
   ]
  },
  {
   "cell_type": "markdown",
   "metadata": {
    "id": "FayV8G97fSVx"
   },
   "source": [
    "#### English\n",
    "- A dictionary in Python is a collection of key-value pairs.\n",
    "- It is mutable and iterable data structure.\n",
    "- Dictionaries are used to store data in the form of key-value mappings, where each key maps to a specific value."
   ]
  },
  {
   "cell_type": "code",
   "execution_count": null,
   "metadata": {
    "id": "Hii0pY_jickG"
   },
   "outputs": [],
   "source": [
    "mydict = {}"
   ]
  },
  {
   "cell_type": "code",
   "execution_count": null,
   "metadata": {
    "id": "ZQJfnUXSioL2"
   },
   "outputs": [],
   "source": [
    "mydict_01 =dict()"
   ]
  },
  {
   "cell_type": "code",
   "execution_count": null,
   "metadata": {
    "colab": {
     "base_uri": "https://localhost:8080/"
    },
    "executionInfo": {
     "elapsed": 241,
     "status": "ok",
     "timestamp": 1724874700452,
     "user": {
      "displayName": "DataCubeAz",
      "userId": "12865883615439672478"
     },
     "user_tz": -120
    },
    "id": "8VSJpvQPiiEd",
    "outputId": "45ef4bed-bbc1-4890-e8b4-a5aff0ed83ab"
   },
   "outputs": [
    {
     "data": {
      "text/plain": [
       "dict"
      ]
     },
     "execution_count": 11,
     "metadata": {},
     "output_type": "execute_result"
    }
   ],
   "source": [
    "type(mydict_01)"
   ]
  },
  {
   "cell_type": "code",
   "execution_count": null,
   "metadata": {
    "colab": {
     "base_uri": "https://localhost:8080/"
    },
    "executionInfo": {
     "elapsed": 264,
     "status": "ok",
     "timestamp": 1724881946147,
     "user": {
      "displayName": "DataCubeAz",
      "userId": "12865883615439672478"
     },
     "user_tz": -120
    },
    "id": "ssDDl9L-fSVx",
    "outputId": "e730ac8a-ea28-4756-9cb3-fb0025cdf45a"
   },
   "outputs": [
    {
     "name": "stdout",
     "output_type": "stream",
     "text": [
      "{'Xəmsə': ['Nizami Gəncəvi', 10.99], 'Durnalar': ['Qasım bəy Zakir', 12.99], 'Şərq Poeması': ['Mirzə Fətəli Axundov', 14.95]}\n"
     ]
    }
   ],
   "source": [
    "# Create a dictionary 'book_dict' that associates book titles with lists containing author names and prices.\n",
    "book_dict = {\n",
    "    \"Xəmsə\": [\"Nizami Gəncəvi\", 10.99],\n",
    "    \"Durnalar\": [\"Qasım bəy Zakir\", 12.99],\n",
    "    \"Şərq Poeması\": [\"Mirzə Fətəli Axundov\", 14.95] ,\n",
    "\n",
    "}\n",
    "print(book_dict)"
   ]
  },
  {
   "cell_type": "code",
   "execution_count": null,
   "metadata": {
    "colab": {
     "base_uri": "https://localhost:8080/"
    },
    "executionInfo": {
     "elapsed": 255,
     "status": "ok",
     "timestamp": 1724880049442,
     "user": {
      "displayName": "DataCubeAz",
      "userId": "12865883615439672478"
     },
     "user_tz": -120
    },
    "id": "AM6ANCHDfSVx",
    "outputId": "05445b58-5742-411c-aafb-6ccd8212fd8e"
   },
   "outputs": [
    {
     "name": "stdout",
     "output_type": "stream",
     "text": [
      "True\n"
     ]
    }
   ],
   "source": [
    "# Search for a key in the dictionary to check if it exists\n",
    "book_exists = \"Şərq Poeması\"  in   book_dict\n",
    "print(book_exists)"
   ]
  },
  {
   "cell_type": "code",
   "execution_count": null,
   "metadata": {
    "colab": {
     "base_uri": "https://localhost:8080/"
    },
    "executionInfo": {
     "elapsed": 243,
     "status": "ok",
     "timestamp": 1724880092588,
     "user": {
      "displayName": "DataCubeAz",
      "userId": "12865883615439672478"
     },
     "user_tz": -120
    },
    "id": "aFczL6slfSVx",
    "outputId": "98c092d5-8943-4368-8985-4d68ca0a45d3"
   },
   "outputs": [
    {
     "data": {
      "text/plain": [
       "['Nizami Gəncəvi', 10.99]"
      ]
     },
     "execution_count": 17,
     "metadata": {},
     "output_type": "execute_result"
    }
   ],
   "source": [
    "# Call the value by key\n",
    "\n",
    "book_dict['Xəmsə']"
   ]
  },
  {
   "cell_type": "markdown",
   "metadata": {
    "id": "hBBVaFYsfSVx"
   },
   "source": [
    "#### English\n",
    "- You can all the value by key\n",
    "- However you cannot call the key by value"
   ]
  },
  {
   "cell_type": "code",
   "execution_count": null,
   "metadata": {
    "colab": {
     "base_uri": "https://localhost:8080/"
    },
    "executionInfo": {
     "elapsed": 240,
     "status": "ok",
     "timestamp": 1724880183208,
     "user": {
      "displayName": "DataCubeAz",
      "userId": "12865883615439672478"
     },
     "user_tz": -120
    },
    "id": "BHcIeA_ZfSVx",
    "outputId": "901f2bcd-aed3-41e9-cce4-7b589676ea0b"
   },
   "outputs": [
    {
     "name": "stdout",
     "output_type": "stream",
     "text": [
      "<class 'list'>\n"
     ]
    }
   ],
   "source": [
    "#  Accessing the values with different methods\n",
    "sərq_info = book_dict[\"Xəmsə\"]\n",
    "print(type(sərq_info))\n"
   ]
  },
  {
   "cell_type": "code",
   "execution_count": null,
   "metadata": {
    "colab": {
     "base_uri": "https://localhost:8080/"
    },
    "executionInfo": {
     "elapsed": 235,
     "status": "ok",
     "timestamp": 1724880202865,
     "user": {
      "displayName": "DataCubeAz",
      "userId": "12865883615439672478"
     },
     "user_tz": -120
    },
    "id": "63yri2Ys3yV9",
    "outputId": "220129e8-855e-4278-e1a6-d5f77b254218"
   },
   "outputs": [
    {
     "data": {
      "text/plain": [
       "['Nizami Gəncəvi', 10.99]"
      ]
     },
     "execution_count": 23,
     "metadata": {},
     "output_type": "execute_result"
    }
   ],
   "source": [
    "sərq_info"
   ]
  },
  {
   "cell_type": "code",
   "execution_count": null,
   "metadata": {
    "colab": {
     "base_uri": "https://localhost:8080/"
    },
    "executionInfo": {
     "elapsed": 251,
     "status": "ok",
     "timestamp": 1724880279203,
     "user": {
      "displayName": "DataCubeAz",
      "userId": "12865883615439672478"
     },
     "user_tz": -120
    },
    "id": "OB4fQsOyfSVx",
    "outputId": "68ff9e31-4aaa-44a5-b730-49d32a2b0caf"
   },
   "outputs": [
    {
     "name": "stdout",
     "output_type": "stream",
     "text": [
      "Nizami Gəncəvi\n"
     ]
    }
   ],
   "source": [
    "author_of_xəmsə = book_dict[\"Xəmsə\"][0]\n",
    "\n",
    "print(author_of_xəmsə)\n"
   ]
  },
  {
   "cell_type": "code",
   "execution_count": null,
   "metadata": {
    "colab": {
     "base_uri": "https://localhost:8080/"
    },
    "executionInfo": {
     "elapsed": 261,
     "status": "ok",
     "timestamp": 1724880268700,
     "user": {
      "displayName": "DataCubeAz",
      "userId": "12865883615439672478"
     },
     "user_tz": -120
    },
    "id": "pIrUi0-WfSVy",
    "outputId": "c37f3ce8-7abc-49b3-e0a8-db5b23ce1540"
   },
   "outputs": [
    {
     "name": "stdout",
     "output_type": "stream",
     "text": [
      "10.99\n"
     ]
    }
   ],
   "source": [
    "\n",
    "info= book_dict[\"Xəmsə\"][1]\n",
    "print(info)"
   ]
  },
  {
   "cell_type": "code",
   "execution_count": null,
   "metadata": {
    "colab": {
     "base_uri": "https://localhost:8080/"
    },
    "executionInfo": {
     "elapsed": 258,
     "status": "ok",
     "timestamp": 1724880319068,
     "user": {
      "displayName": "DataCubeAz",
      "userId": "12865883615439672478"
     },
     "user_tz": -120
    },
    "id": "Gpk9Uf4I4OmM",
    "outputId": "38f823e0-f00d-4a7e-84fe-0b27c029a851"
   },
   "outputs": [
    {
     "data": {
      "text/plain": [
       "{'Xəmsə': ['Nizami Gəncəvi', 10.99],\n",
       " 'Durnalar': ['Qasım bəy Zakir', 12.99],\n",
       " 'Şərq Poeması': ['Mirzə Fətəli Axundov', 14.95]}"
      ]
     },
     "execution_count": 29,
     "metadata": {},
     "output_type": "execute_result"
    }
   ],
   "source": [
    "book_dict"
   ]
  },
  {
   "cell_type": "code",
   "execution_count": null,
   "metadata": {
    "colab": {
     "base_uri": "https://localhost:8080/"
    },
    "executionInfo": {
     "elapsed": 252,
     "status": "ok",
     "timestamp": 1724880343098,
     "user": {
      "displayName": "DataCubeAz",
      "userId": "12865883615439672478"
     },
     "user_tz": -120
    },
    "id": "WzJcmZrefSVy",
    "outputId": "5f23c410-e8ec-4f52-ddc9-fe0ba6e915b9"
   },
   "outputs": [
    {
     "name": "stdout",
     "output_type": "stream",
     "text": [
      "Book titles in the dictionary: dict_keys(['Xəmsə', 'Durnalar', 'Şərq Poeması'])\n"
     ]
    }
   ],
   "source": [
    "# Retrieve the keys (book titles) in the dictionary\n",
    "keys = book_dict.keys()\n",
    "print(f\"Book titles in the dictionary: {keys}\")"
   ]
  },
  {
   "cell_type": "code",
   "execution_count": null,
   "metadata": {
    "colab": {
     "base_uri": "https://localhost:8080/"
    },
    "executionInfo": {
     "elapsed": 247,
     "status": "ok",
     "timestamp": 1724880359517,
     "user": {
      "displayName": "DataCubeAz",
      "userId": "12865883615439672478"
     },
     "user_tz": -120
    },
    "id": "59q887YvfSVy",
    "outputId": "ac4e713c-3b1f-4fb9-c315-3f037a5e7323"
   },
   "outputs": [
    {
     "name": "stdout",
     "output_type": "stream",
     "text": [
      "Author names and prices in the dictionary: dict_values([['Nizami Gəncəvi', 10.99], ['Qasım bəy Zakir', 12.99], ['Mirzə Fətəli Axundov', 14.95]])\n"
     ]
    }
   ],
   "source": [
    "# Retrieve the values (author names and prices) in the dictionary\n",
    "values = book_dict.values()\n",
    "print(f\"Author names and prices in the dictionary: {values}\")"
   ]
  },
  {
   "cell_type": "code",
   "execution_count": null,
   "metadata": {
    "colab": {
     "base_uri": "https://localhost:8080/"
    },
    "executionInfo": {
     "elapsed": 243,
     "status": "ok",
     "timestamp": 1724881406191,
     "user": {
      "displayName": "DataCubeAz",
      "userId": "12865883615439672478"
     },
     "user_tz": -120
    },
    "id": "gLxFShmt5LIq",
    "outputId": "8448676b-61c6-4300-cde9-db5edf3bf713"
   },
   "outputs": [
    {
     "name": "stdout",
     "output_type": "stream",
     "text": [
      "Xəmsə əsəri\n",
      "Durnalar əsəri\n",
      "Şərq Poeması əsəri\n"
     ]
    }
   ],
   "source": [
    "for key  in book_dict.keys():\n",
    "  print(f\"{key} əsəri\")"
   ]
  },
  {
   "cell_type": "code",
   "execution_count": null,
   "metadata": {
    "colab": {
     "base_uri": "https://localhost:8080/"
    },
    "executionInfo": {
     "elapsed": 240,
     "status": "ok",
     "timestamp": 1724881419068,
     "user": {
      "displayName": "DataCubeAz",
      "userId": "12865883615439672478"
     },
     "user_tz": -120
    },
    "id": "J9vtWUV18a5L",
    "outputId": "fa3eb694-7946-4a41-a91c-20422a02f325"
   },
   "outputs": [
    {
     "data": {
      "text/plain": [
       "dict_items([('Xəmsə', ['Nizami Gəncəvi', 10.99]), ('Durnalar', ['Qasım bəy Zakir', 12.99]), ('Şərq Poeması', ['Mirzə Fətəli Axundov', 14.95])])"
      ]
     },
     "execution_count": 59,
     "metadata": {},
     "output_type": "execute_result"
    }
   ],
   "source": [
    "book_dict.items()"
   ]
  },
  {
   "cell_type": "code",
   "execution_count": null,
   "metadata": {
    "colab": {
     "base_uri": "https://localhost:8080/"
    },
    "executionInfo": {
     "elapsed": 242,
     "status": "ok",
     "timestamp": 1724881610430,
     "user": {
      "displayName": "DataCubeAz",
      "userId": "12865883615439672478"
     },
     "user_tz": -120
    },
    "id": "CXk47yPwfSVy",
    "outputId": "133ec859-a8c4-424c-83f2-3faad9aa6f9c"
   },
   "outputs": [
    {
     "name": "stdout",
     "output_type": "stream",
     "text": [
      "Key: Xəmsə, Value: ['Nizami Gəncəvi', 10.99]\n",
      "Key: Durnalar, Value: ['Qasım bəy Zakir', 12.99]\n",
      "Key: Şərq Poeması, Value: ['Mirzə Fətəli Axundov', 14.95]\n"
     ]
    }
   ],
   "source": [
    "\n",
    "for Key, Values in book_dict.items():\n",
    "    print(f'Key: {Key}, Value: {Values}')"
   ]
  },
  {
   "cell_type": "code",
   "execution_count": null,
   "metadata": {
    "id": "fpixwTtnfSVy"
   },
   "outputs": [],
   "source": [
    "# Edit the value associated with a key\n",
    "book_dict['Beşlik'] = [\"Nizami Gəncəvi\", 15]\n"
   ]
  },
  {
   "cell_type": "code",
   "execution_count": null,
   "metadata": {
    "colab": {
     "base_uri": "https://localhost:8080/"
    },
    "executionInfo": {
     "elapsed": 256,
     "status": "ok",
     "timestamp": 1724882388555,
     "user": {
      "displayName": "DataCubeAz",
      "userId": "12865883615439672478"
     },
     "user_tz": -120
    },
    "id": "1c_mMaeV_4Tz",
    "outputId": "bc3c2c50-84a4-4813-8026-109c553277a1"
   },
   "outputs": [
    {
     "name": "stdout",
     "output_type": "stream",
     "text": [
      "Key: Xəmsə, Value: ['Nizami Gəncəvi', 12.99]\n",
      "Key: Durnalar, Value: ['Qasım bəy Zakir', 12.99]\n",
      "Key: Şərq Poeması, Value: ['Mirzə Fətəli Axundov', 14.95]\n",
      "Key: Beşlik, Value: ['Nizami Gəncəvi', 15]\n"
     ]
    }
   ],
   "source": [
    "for key, value in book_dict.items():\n",
    "    print(f'Key: {key}, Value: {value}')"
   ]
  },
  {
   "cell_type": "code",
   "execution_count": null,
   "metadata": {
    "colab": {
     "base_uri": "https://localhost:8080/",
     "height": 193
    },
    "executionInfo": {
     "elapsed": 238,
     "status": "error",
     "timestamp": 1724882413900,
     "user": {
      "displayName": "DataCubeAz",
      "userId": "12865883615439672478"
     },
     "user_tz": -120
    },
    "id": "57vZEJPUfSVy",
    "outputId": "db37a11d-2f8b-4992-a2d2-5fa69e515f84"
   },
   "outputs": [
    {
     "ename": "KeyError",
     "evalue": "'One'",
     "output_type": "error",
     "traceback": [
      "\u001b[0;31m---------------------------------------------------------------------------\u001b[0m",
      "\u001b[0;31mKeyError\u001b[0m                                  Traceback (most recent call last)",
      "\u001b[0;32m<ipython-input-83-55d1fc1a8e78>\u001b[0m in \u001b[0;36m<cell line: 3>\u001b[0;34m()\u001b[0m\n\u001b[1;32m      1\u001b[0m \u001b[0;31m#KeyError\u001b[0m\u001b[0;34m\u001b[0m\u001b[0;34m\u001b[0m\u001b[0m\n\u001b[1;32m      2\u001b[0m \u001b[0;34m\u001b[0m\u001b[0m\n\u001b[0;32m----> 3\u001b[0;31m \u001b[0mprint\u001b[0m\u001b[0;34m(\u001b[0m\u001b[0mbook_dict\u001b[0m\u001b[0;34m[\u001b[0m\u001b[0;34m'One'\u001b[0m\u001b[0;34m]\u001b[0m\u001b[0;34m)\u001b[0m\u001b[0;34m\u001b[0m\u001b[0;34m\u001b[0m\u001b[0m\n\u001b[0m\u001b[1;32m      4\u001b[0m \u001b[0;31m# Activate the code above to see the error code\u001b[0m\u001b[0;34m\u001b[0m\u001b[0;34m\u001b[0m\u001b[0m\n",
      "\u001b[0;31mKeyError\u001b[0m: 'One'"
     ]
    }
   ],
   "source": [
    "#KeyError\n",
    "\n",
    "print(book_dict['One'])\n",
    "# Activate the code above to see the error code"
   ]
  },
  {
   "cell_type": "code",
   "execution_count": null,
   "metadata": {
    "colab": {
     "base_uri": "https://localhost:8080/"
    },
    "executionInfo": {
     "elapsed": 264,
     "status": "ok",
     "timestamp": 1724882556398,
     "user": {
      "displayName": "DataCubeAz",
      "userId": "12865883615439672478"
     },
     "user_tz": -120
    },
    "id": "Gk7GPGD4fSVy",
    "outputId": "06e15678-cd03-44fc-f7d8-681029a1c4ca"
   },
   "outputs": [
    {
     "name": "stdout",
     "output_type": "stream",
     "text": [
      "['Nizami Gəncəvi', 12.99]\n"
     ]
    }
   ],
   "source": [
    "# Try to access the value associated with the key 'One' in the 'book_prices' dictionary\n",
    "\n",
    "try:\n",
    "    book = book_dict['Xəmsə']\n",
    "    print(book)\n",
    "except:\n",
    "    print('We do not have this book')"
   ]
  },
  {
   "cell_type": "code",
   "execution_count": null,
   "metadata": {
    "id": "jhNUZzpt-wjs"
   },
   "outputs": [],
   "source": [
    "# Edit the value associated with a key\n",
    "book_dict['Beşlik'] = [\"Nizami Gəncəvi\", 12.99]\n",
    "for key, value in book_dict.items():\n",
    "    print(f'Key: {key}, Value: {value}')"
   ]
  },
  {
   "cell_type": "code",
   "execution_count": null,
   "metadata": {
    "colab": {
     "base_uri": "https://localhost:8080/"
    },
    "executionInfo": {
     "elapsed": 255,
     "status": "ok",
     "timestamp": 1724883154274,
     "user": {
      "displayName": "DataCubeAz",
      "userId": "12865883615439672478"
     },
     "user_tz": -120
    },
    "id": "uz-BpAVafSVy",
    "outputId": "3d068d2e-89f2-4404-d0c1-23fc955d03ab"
   },
   "outputs": [
    {
     "name": "stdout",
     "output_type": "stream",
     "text": [
      "None\n"
     ]
    }
   ],
   "source": [
    "#Using get\n",
    "\n",
    "print(book_dict.get(\"One\")) #This method won't cause errors and is simpler than try-except."
   ]
  },
  {
   "cell_type": "code",
   "execution_count": null,
   "metadata": {
    "id": "1I1ZZNUjfSVy"
   },
   "outputs": [],
   "source": [
    "#Adding items\n",
    "\n",
    "book_dict[\"War and Peace \"]= 20.0\n"
   ]
  },
  {
   "cell_type": "code",
   "execution_count": null,
   "metadata": {
    "colab": {
     "base_uri": "https://localhost:8080/"
    },
    "executionInfo": {
     "elapsed": 289,
     "status": "ok",
     "timestamp": 1724883355349,
     "user": {
      "displayName": "DataCubeAz",
      "userId": "12865883615439672478"
     },
     "user_tz": -120
    },
    "id": "0AJAAHf5DiP7",
    "outputId": "cba101bb-9b29-4e55-a1c3-9ceb439b27d8"
   },
   "outputs": [
    {
     "data": {
      "text/plain": [
       "{'Xəmsə': ['Nizami Gəncəvi', 12.99],\n",
       " 'Durnalar': ['Qasım bəy Zakir', 12.99],\n",
       " 'Şərq Poeması': ['Mirzə Fətəli Axundov', 14.95],\n",
       " 'Beşlik': ['Nizami Gəncəvi', 15],\n",
       " 'War and Peace ': 20.0,\n",
       " 'Pride and Prejudice': ['Jane Austen', 20]}"
      ]
     },
     "execution_count": 98,
     "metadata": {},
     "output_type": "execute_result"
    }
   ],
   "source": [
    "book_dict"
   ]
  },
  {
   "cell_type": "code",
   "execution_count": null,
   "metadata": {
    "id": "K6wXA661DQb0"
   },
   "outputs": [],
   "source": [
    "book_dict.update({\"Pride and Prejudice\": [\"Jane Austen\", 20]})"
   ]
  },
  {
   "cell_type": "code",
   "execution_count": null,
   "metadata": {
    "colab": {
     "base_uri": "https://localhost:8080/"
    },
    "executionInfo": {
     "elapsed": 256,
     "status": "ok",
     "timestamp": 1724883368854,
     "user": {
      "displayName": "DataCubeAz",
      "userId": "12865883615439672478"
     },
     "user_tz": -120
    },
    "id": "ZiAmRkPTfSVy",
    "outputId": "e55101d5-99c4-4eb0-b360-a82671568f80"
   },
   "outputs": [
    {
     "name": "stdout",
     "output_type": "stream",
     "text": [
      "Key: Xəmsə, Value: ['Nizami Gəncəvi', 12.99]\n",
      "Key: Durnalar, Value: ['Qasım bəy Zakir', 12.99]\n",
      "Key: Şərq Poeması, Value: ['Mirzə Fətəli Axundov', 14.95]\n",
      "Key: Beşlik, Value: ['Nizami Gəncəvi', 15]\n",
      "Key: War and Peace , Value: 20.0\n",
      "Key: Pride and Prejudice, Value: ['Jane Austen', 20]\n"
     ]
    }
   ],
   "source": [
    "for key, value in book_dict.items():\n",
    "    print(f'Key: {key}, Value: {value}')  # Print"
   ]
  },
  {
   "cell_type": "code",
   "execution_count": null,
   "metadata": {
    "id": "X2SeI85ifSVy"
   },
   "outputs": [],
   "source": [
    "#Dictory is use in website\n",
    "\n",
    "shopping_cart = [\n",
    "    {\n",
    "        'product': 'T-shirt',\n",
    "        'category': 'clothing',\n",
    "        'quantity': 2,\n",
    "        'price': 15.99\n",
    "    },\n",
    "    {\n",
    "        'product': 'Jeans',\n",
    "        'category': 'clothing',\n",
    "        'quantity': 1,\n",
    "        'price': 29.99\n",
    "    },\n",
    "    {\n",
    "        'product': 'Sneakers',\n",
    "        'category': 'footwear',\n",
    "        'quantity': 1,\n",
    "        'price': 49.99\n",
    "    }\n",
    "]"
   ]
  },
  {
   "cell_type": "code",
   "execution_count": null,
   "metadata": {
    "colab": {
     "base_uri": "https://localhost:8080/"
    },
    "executionInfo": {
     "elapsed": 249,
     "status": "ok",
     "timestamp": 1724883564879,
     "user": {
      "displayName": "DataCubeAz",
      "userId": "12865883615439672478"
     },
     "user_tz": -120
    },
    "id": "_ZHTxZyJEnIb",
    "outputId": "b04c4d00-94d3-447d-c0c8-97763c1629d7"
   },
   "outputs": [
    {
     "data": {
      "text/plain": [
       "[{'product': 'T-shirt', 'category': 'clothing', 'quantity': 2, 'price': 15.99},\n",
       " {'product': 'Jeans', 'category': 'clothing', 'quantity': 1, 'price': 29.99},\n",
       " {'product': 'Sneakers',\n",
       "  'category': 'footwear',\n",
       "  'quantity': 1,\n",
       "  'price': 49.99}]"
      ]
     },
     "execution_count": 102,
     "metadata": {},
     "output_type": "execute_result"
    }
   ],
   "source": [
    "shopping_cart"
   ]
  },
  {
   "cell_type": "code",
   "execution_count": null,
   "metadata": {
    "colab": {
     "base_uri": "https://localhost:8080/"
    },
    "executionInfo": {
     "elapsed": 223,
     "status": "ok",
     "timestamp": 1724884119402,
     "user": {
      "displayName": "DataCubeAz",
      "userId": "12865883615439672478"
     },
     "user_tz": -120
    },
    "id": "BRZt74pEEI7L",
    "outputId": "20a42412-8692-4749-a34b-927f63b1a66f"
   },
   "outputs": [
    {
     "name": "stdout",
     "output_type": "stream",
     "text": [
      "111.96000000000001\n"
     ]
    }
   ],
   "source": [
    "total_cost =0\n",
    "\n",
    "for item  in  shopping_cart:\n",
    "  item_cost =(item[\"quantity\"] * item[\"price\"])\n",
    "  total_cost +=item_cost\n",
    "print(total_cost)\n"
   ]
  },
  {
   "cell_type": "code",
   "execution_count": null,
   "metadata": {
    "colab": {
     "base_uri": "https://localhost:8080/"
    },
    "executionInfo": {
     "elapsed": 242,
     "status": "ok",
     "timestamp": 1724884085939,
     "user": {
      "displayName": "DataCubeAz",
      "userId": "12865883615439672478"
     },
     "user_tz": -120
    },
    "id": "XmAN9K48fSVy",
    "outputId": "c0dca22a-f930-4b5a-fe35-791056e23b2c"
   },
   "outputs": [
    {
     "name": "stdout",
     "output_type": "stream",
     "text": [
      "111.96000000000001\n"
     ]
    }
   ],
   "source": [
    "\n",
    "total_cost = 0\n",
    "\n",
    "for item in shopping_cart:\n",
    "\n",
    "    total_cost += item['price'] * item['quantity']\n",
    "\n",
    "print(total_cost)"
   ]
  },
  {
   "cell_type": "markdown",
   "metadata": {
    "id": "qvwlSWNYfSVy"
   },
   "source": [
    "#### English\n",
    "**Key Takeaways**\n",
    "\n",
    "- Dictionaries provide fast and efficient data retrieval.\n",
    "- Dictionaries allow you to organize and store data in a structured way.\n",
    "- Dictionaries enable you to create associations between keys and values, which is a powerful way to represent relationships and mappings in your programs\n",
    "- Dictionaries are dynamic and mutable.\n"
   ]
  },
  {
   "cell_type": "markdown",
   "metadata": {
    "id": "d4FrL8FZfSVy"
   },
   "source": [
    "# Time for Practice"
   ]
  },
  {
   "cell_type": "code",
   "execution_count": null,
   "metadata": {
    "id": "gNlnVND_fSVy"
   },
   "outputs": [],
   "source": [
    "########################################################################################################################################################################################################################"
   ]
  },
  {
   "cell_type": "markdown",
   "metadata": {
    "id": "h0HcmrstfSVz"
   },
   "source": [
    "# Tuple"
   ]
  },
  {
   "cell_type": "markdown",
   "metadata": {
    "id": "c6CP9WNYfSVz"
   },
   "source": [
    "#### English\n",
    "- A tuple is immutable, and iterable collection of elements in Python.\n",
    "- It is similar to a list, but unlike lists, tuples cannot be modified after creation.\n",
    "- Tuples are defined by enclosing elements in parentheses ( ).''"
   ]
  },
  {
   "cell_type": "code",
   "execution_count": 8,
   "metadata": {
    "colab": {
     "base_uri": "https://localhost:8080/"
    },
    "executionInfo": {
     "elapsed": 269,
     "status": "ok",
     "timestamp": 1724944741201,
     "user": {
      "displayName": "DataCubeAz",
      "userId": "12865883615439672478"
     },
     "user_tz": -120
    },
    "id": "T82QJdPHfSVz",
    "outputId": "b7b56ff3-9f8a-4fd2-f5a5-310320d0731f"
   },
   "outputs": [
    {
     "name": "stdout",
     "output_type": "stream",
     "text": [
      "Data type of 'my_tuple': <class 'tuple'>\n"
     ]
    }
   ],
   "source": [
    "#tuple\n",
    "\n",
    "my_tuple = (\"apple\", \"banana\", \"cherry\")\n",
    "print(f\"Data type of 'my_tuple': {type(my_tuple)}\")\n"
   ]
  },
  {
   "cell_type": "code",
   "execution_count": 10,
   "metadata": {
    "colab": {
     "base_uri": "https://localhost:8080/"
    },
    "executionInfo": {
     "elapsed": 268,
     "status": "ok",
     "timestamp": 1724944797942,
     "user": {
      "displayName": "DataCubeAz",
      "userId": "12865883615439672478"
     },
     "user_tz": -120
    },
    "id": "iPqi35PffSVz",
    "outputId": "b786278a-3afb-4e16-a838-0158c4a54b0f"
   },
   "outputs": [
    {
     "name": "stdout",
     "output_type": "stream",
     "text": [
      "First element of 'my_tuple': banana\n"
     ]
    }
   ],
   "source": [
    "#Index\n",
    "\n",
    "first_element = my_tuple[1]\n",
    "print(f\"First element of 'my_tuple': {first_element}\")"
   ]
  },
  {
   "cell_type": "code",
   "execution_count": 12,
   "metadata": {
    "colab": {
     "base_uri": "https://localhost:8080/"
    },
    "executionInfo": {
     "elapsed": 246,
     "status": "ok",
     "timestamp": 1724944826088,
     "user": {
      "displayName": "DataCubeAz",
      "userId": "12865883615439672478"
     },
     "user_tz": -120
    },
    "id": "WAyPIkXqfSVz",
    "outputId": "3f3212bc-4bd0-45d9-bc27-fe7ba07b5e14"
   },
   "outputs": [
    {
     "name": "stdout",
     "output_type": "stream",
     "text": [
      "Mixed-type tuple 'mixed_tuple': ('Hello', 'I', 1, 2, 2.6, True, False)\n"
     ]
    }
   ],
   "source": [
    "#  mixed-type tuple\n",
    "\n",
    "mixed_tuple = (\"Hello\", \"I\", 1, 2, 2.6, True, False)\n",
    "print(f\"Mixed-type tuple 'mixed_tuple': {mixed_tuple}\")"
   ]
  },
  {
   "cell_type": "code",
   "execution_count": 13,
   "metadata": {
    "colab": {
     "base_uri": "https://localhost:8080/"
    },
    "executionInfo": {
     "elapsed": 269,
     "status": "ok",
     "timestamp": 1724944851657,
     "user": {
      "displayName": "DataCubeAz",
      "userId": "12865883615439672478"
     },
     "user_tz": -120
    },
    "id": "Mb1QQ4yGuZr8",
    "outputId": "9485c193-3aaa-46c3-bb08-bef6aa8c3d36"
   },
   "outputs": [
    {
     "data": {
      "text/plain": [
       "('apple', 'banana', 'cherry')"
      ]
     },
     "execution_count": 13,
     "metadata": {},
     "output_type": "execute_result"
    }
   ],
   "source": [
    "my_tuple"
   ]
  },
  {
   "cell_type": "code",
   "execution_count": 15,
   "metadata": {
    "colab": {
     "base_uri": "https://localhost:8080/"
    },
    "executionInfo": {
     "elapsed": 251,
     "status": "ok",
     "timestamp": 1724944900891,
     "user": {
      "displayName": "DataCubeAz",
      "userId": "12865883615439672478"
     },
     "user_tz": -120
    },
    "id": "aaWvbEQ1fSVz",
    "outputId": "0c7017d3-5dc5-4507-89a7-e4828fe765a0"
   },
   "outputs": [
    {
     "name": "stdout",
     "output_type": "stream",
     "text": [
      "Subset of elements using slicing: ('apple', 'banana', 'cherry')\n"
     ]
    }
   ],
   "source": [
    "#Slicing the tuple to get a subset of elements\n",
    "\n",
    "subset = my_tuple[0:5]\n",
    "print(f\"Subset of elements using slicing: {subset}\")"
   ]
  },
  {
   "cell_type": "code",
   "execution_count": 16,
   "metadata": {
    "colab": {
     "base_uri": "https://localhost:8080/",
     "height": 35
    },
    "executionInfo": {
     "elapsed": 258,
     "status": "ok",
     "timestamp": 1724944939447,
     "user": {
      "displayName": "DataCubeAz",
      "userId": "12865883615439672478"
     },
     "user_tz": -120
    },
    "id": "QwsHE-NfuujK",
    "outputId": "7524c8f3-444a-4714-bc03-6c32273fec95"
   },
   "outputs": [
    {
     "data": {
      "application/vnd.google.colaboratory.intrinsic+json": {
       "type": "string"
      },
      "text/plain": [
       "'apple'"
      ]
     },
     "execution_count": 16,
     "metadata": {},
     "output_type": "execute_result"
    }
   ],
   "source": [
    "my_tuple[0]"
   ]
  },
  {
   "cell_type": "code",
   "execution_count": 17,
   "metadata": {
    "colab": {
     "base_uri": "https://localhost:8080/",
     "height": 193
    },
    "executionInfo": {
     "elapsed": 239,
     "status": "error",
     "timestamp": 1724944945775,
     "user": {
      "displayName": "DataCubeAz",
      "userId": "12865883615439672478"
     },
     "user_tz": -120
    },
    "id": "39UVa0-YfSVz",
    "outputId": "56b06b6a-d504-4365-81ef-fc42343d44f4"
   },
   "outputs": [
    {
     "ename": "TypeError",
     "evalue": "'tuple' object does not support item assignment",
     "output_type": "error",
     "traceback": [
      "\u001b[0;31m---------------------------------------------------------------------------\u001b[0m",
      "\u001b[0;31mTypeError\u001b[0m                                 Traceback (most recent call last)",
      "\u001b[0;32m<ipython-input-17-4abfb2802492>\u001b[0m in \u001b[0;36m<cell line: 3>\u001b[0;34m()\u001b[0m\n\u001b[1;32m      1\u001b[0m \u001b[0;31m#Immutable\u001b[0m\u001b[0;34m\u001b[0m\u001b[0;34m\u001b[0m\u001b[0m\n\u001b[1;32m      2\u001b[0m \u001b[0;34m\u001b[0m\u001b[0m\n\u001b[0;32m----> 3\u001b[0;31m \u001b[0mmy_tuple\u001b[0m\u001b[0;34m[\u001b[0m\u001b[0;36m0\u001b[0m\u001b[0;34m]\u001b[0m \u001b[0;34m=\u001b[0m \u001b[0;34m'kiwi'\u001b[0m\u001b[0;34m\u001b[0m\u001b[0;34m\u001b[0m\u001b[0m\n\u001b[0m\u001b[1;32m      4\u001b[0m \u001b[0;31m#Activa the code above to see the error\u001b[0m\u001b[0;34m\u001b[0m\u001b[0;34m\u001b[0m\u001b[0m\n",
      "\u001b[0;31mTypeError\u001b[0m: 'tuple' object does not support item assignment"
     ]
    }
   ],
   "source": [
    "#Immutable\n",
    "\n",
    "my_tuple[0] = 'kiwi'\n",
    "#Activa the code above to see the error"
   ]
  },
  {
   "cell_type": "code",
   "execution_count": 23,
   "metadata": {
    "colab": {
     "base_uri": "https://localhost:8080/"
    },
    "executionInfo": {
     "elapsed": 245,
     "status": "ok",
     "timestamp": 1724945062274,
     "user": {
      "displayName": "DataCubeAz",
      "userId": "12865883615439672478"
     },
     "user_tz": -120
    },
    "id": "eFnikOKAvMr7",
    "outputId": "e89204cc-5902-48dd-f018-f79d52142602"
   },
   "outputs": [
    {
     "data": {
      "text/plain": [
       "('apple', 'banana', 'cherry')"
      ]
     },
     "execution_count": 23,
     "metadata": {},
     "output_type": "execute_result"
    }
   ],
   "source": [
    "my_tuple"
   ]
  },
  {
   "cell_type": "code",
   "execution_count": 22,
   "metadata": {
    "colab": {
     "base_uri": "https://localhost:8080/",
     "height": 35
    },
    "executionInfo": {
     "elapsed": 9,
     "status": "ok",
     "timestamp": 1724945051068,
     "user": {
      "displayName": "DataCubeAz",
      "userId": "12865883615439672478"
     },
     "user_tz": -120
    },
    "id": "gpuaes6QvCgL",
    "outputId": "87d21b88-76c2-4106-9112-5152619f879b"
   },
   "outputs": [
    {
     "data": {
      "application/vnd.google.colaboratory.intrinsic+json": {
       "type": "string"
      },
      "text/plain": [
       "'banana'"
      ]
     },
     "execution_count": 22,
     "metadata": {},
     "output_type": "execute_result"
    }
   ],
   "source": [
    "my_tuple[1]"
   ]
  },
  {
   "cell_type": "code",
   "execution_count": 26,
   "metadata": {
    "colab": {
     "base_uri": "https://localhost:8080/"
    },
    "executionInfo": {
     "elapsed": 224,
     "status": "ok",
     "timestamp": 1724945111826,
     "user": {
      "displayName": "DataCubeAz",
      "userId": "12865883615439672478"
     },
     "user_tz": -120
    },
    "id": "P2Oso683fSVz",
    "outputId": "adf643fb-15f4-455b-a46c-a9d3871fd6f3"
   },
   "outputs": [
    {
     "name": "stdout",
     "output_type": "stream",
     "text": [
      "apple banana cherry\n"
     ]
    }
   ],
   "source": [
    "#Sequence Packing/Unpacking:\n",
    "x, y, z= my_tuple\n",
    "print(x,y,z)"
   ]
  },
  {
   "cell_type": "code",
   "execution_count": 24,
   "metadata": {
    "colab": {
     "base_uri": "https://localhost:8080/",
     "height": 35
    },
    "executionInfo": {
     "elapsed": 267,
     "status": "ok",
     "timestamp": 1724945077778,
     "user": {
      "displayName": "DataCubeAz",
      "userId": "12865883615439672478"
     },
     "user_tz": -120
    },
    "id": "dCj5nwRKvIVT",
    "outputId": "d393ede0-753f-4393-80a2-4144d52fa2db"
   },
   "outputs": [
    {
     "data": {
      "application/vnd.google.colaboratory.intrinsic+json": {
       "type": "string"
      },
      "text/plain": [
       "'banana'"
      ]
     },
     "execution_count": 24,
     "metadata": {},
     "output_type": "execute_result"
    }
   ],
   "source": [
    "y"
   ]
  },
  {
   "cell_type": "markdown",
   "metadata": {
    "id": "aUoNdDXZfSVz"
   },
   "source": [
    "#### English\n",
    "**Key Takeaways**\n",
    "- Tuples maintain the order of elements, meaning the first element is accessed first, the second element is accessed second, and so on.\n",
    "- Once a tuple is created, you cannot change, add, or remove its elements. This is in contrast to lists, which are mutable.\n",
    "- Tuples are used when you want to ensure that the data remains unchanged throughout your program.\n",
    "- Since tuples are immutable, they can be used as keys in dictionaries, whereas lists cannot.\n",
    "- You can assign multiple variables in a single line by unpacking a tuple"
   ]
  },
  {
   "cell_type": "markdown",
   "metadata": {
    "id": "oKS7XoK2fSVz"
   },
   "source": [
    "# Time for Practice\n"
   ]
  },
  {
   "cell_type": "code",
   "execution_count": null,
   "metadata": {
    "id": "5egJXeQDfSVz"
   },
   "outputs": [],
   "source": [
    "#######################################################################################################################################################################################################################"
   ]
  },
  {
   "cell_type": "markdown",
   "metadata": {
    "id": "BCnk--U2fSVz"
   },
   "source": [
    "# Set"
   ]
  },
  {
   "cell_type": "markdown",
   "metadata": {
    "id": "b3nYOCYCfSV0"
   },
   "source": [
    "#### English\n",
    "- A set is an unordered collection of unique elements.\n",
    "\n"
   ]
  },
  {
   "cell_type": "code",
   "execution_count": 40,
   "metadata": {
    "colab": {
     "base_uri": "https://localhost:8080/"
    },
    "executionInfo": {
     "elapsed": 291,
     "status": "ok",
     "timestamp": 1724946619897,
     "user": {
      "displayName": "DataCubeAz",
      "userId": "12865883615439672478"
     },
     "user_tz": -120
    },
    "id": "4qKGDVNWfSV0",
    "outputId": "6253e8bd-41b6-413b-a7df-9908ce8aaae3"
   },
   "outputs": [
    {
     "data": {
      "text/plain": [
       "set"
      ]
     },
     "execution_count": 40,
     "metadata": {},
     "output_type": "execute_result"
    }
   ],
   "source": [
    "# Creating a set with curly braces\n",
    "\n",
    "fruits = {\"apple\", \"banana\", \"cherry\"}\n",
    "type(fruits)"
   ]
  },
  {
   "cell_type": "markdown",
   "metadata": {
    "id": "yRh16keufSV0"
   },
   "source": [
    "#### English\n",
    "- It look like a dictionary but it has no key : value pair\n"
   ]
  },
  {
   "cell_type": "code",
   "execution_count": 43,
   "metadata": {
    "colab": {
     "base_uri": "https://localhost:8080/"
    },
    "executionInfo": {
     "elapsed": 232,
     "status": "ok",
     "timestamp": 1724946722430,
     "user": {
      "displayName": "DataCubeAz",
      "userId": "12865883615439672478"
     },
     "user_tz": -120
    },
    "id": "b-gSxBmDfSV0",
    "outputId": "acac4c7c-68d1-438f-8c3e-4df663bc7966"
   },
   "outputs": [
    {
     "data": {
      "text/plain": [
       "set"
      ]
     },
     "execution_count": 43,
     "metadata": {},
     "output_type": "execute_result"
    }
   ],
   "source": [
    "# Creating a set using the set() constructor\n",
    "\n",
    "colors = set([\"red\", \"green\", \"blue\"])\n",
    "type(colors)"
   ]
  },
  {
   "cell_type": "code",
   "execution_count": 44,
   "metadata": {
    "colab": {
     "base_uri": "https://localhost:8080/"
    },
    "executionInfo": {
     "elapsed": 229,
     "status": "ok",
     "timestamp": 1724946724139,
     "user": {
      "displayName": "DataCubeAz",
      "userId": "12865883615439672478"
     },
     "user_tz": -120
    },
    "id": "QaLmhwZq1QtS",
    "outputId": "bab01fbc-6679-40fb-84b2-2fad085fe760"
   },
   "outputs": [
    {
     "data": {
      "text/plain": [
       "{'blue', 'green', 'red'}"
      ]
     },
     "execution_count": 44,
     "metadata": {},
     "output_type": "execute_result"
    }
   ],
   "source": [
    "colors"
   ]
  },
  {
   "cell_type": "markdown",
   "metadata": {
    "id": "o0OvHivVfSV0"
   },
   "source": [
    "#### English\n",
    "- It resembles a list, yet set() is employed.\n",
    "- To learn more about it, press Shift + Tap at the end of set().\n"
   ]
  },
  {
   "cell_type": "code",
   "execution_count": null,
   "metadata": {
    "id": "68lmYw6QfSV0"
   },
   "outputs": [],
   "source": [
    "# An empty set\n",
    "\n",
    "empty_set = set()"
   ]
  },
  {
   "cell_type": "code",
   "execution_count": 46,
   "metadata": {
    "executionInfo": {
     "elapsed": 256,
     "status": "ok",
     "timestamp": 1724946783559,
     "user": {
      "displayName": "DataCubeAz",
      "userId": "12865883615439672478"
     },
     "user_tz": -120
    },
    "id": "MzCTAhpMfSV0"
   },
   "outputs": [],
   "source": [
    "#There is no order in set\n",
    "#colors[0]\n",
    "#activate the code ot see the error code ."
   ]
  },
  {
   "cell_type": "markdown",
   "metadata": {
    "id": "wfuIYKu5fSV0"
   },
   "source": [
    "- To learn more about error, press Shift + Tap at the end of set() to find out the reason."
   ]
  },
  {
   "cell_type": "code",
   "execution_count": 56,
   "metadata": {
    "executionInfo": {
     "elapsed": 235,
     "status": "ok",
     "timestamp": 1724947103475,
     "user": {
      "displayName": "DataCubeAz",
      "userId": "12865883615439672478"
     },
     "user_tz": -120
    },
    "id": "byPfkdob13Dr"
   },
   "outputs": [],
   "source": [
    "\n",
    "fruits_list_2 = list({\"apple\", \"banana\", \"cherry\", \"apple\", \"banana\"})"
   ]
  },
  {
   "cell_type": "code",
   "execution_count": 55,
   "metadata": {
    "colab": {
     "base_uri": "https://localhost:8080/"
    },
    "executionInfo": {
     "elapsed": 257,
     "status": "ok",
     "timestamp": 1724947074540,
     "user": {
      "displayName": "DataCubeAz",
      "userId": "12865883615439672478"
     },
     "user_tz": -120
    },
    "id": "5k6KP4Tm2w66",
    "outputId": "b3c5f2d4-1717-4b24-f5b9-7cf82ed2520f"
   },
   "outputs": [
    {
     "data": {
      "text/plain": [
       "['cherry', 'banana', 'apple']"
      ]
     },
     "execution_count": 55,
     "metadata": {},
     "output_type": "execute_result"
    }
   ],
   "source": [
    "fruits_list_2"
   ]
  },
  {
   "cell_type": "code",
   "execution_count": 51,
   "metadata": {
    "executionInfo": {
     "elapsed": 278,
     "status": "ok",
     "timestamp": 1724946983306,
     "user": {
      "displayName": "DataCubeAz",
      "userId": "12865883615439672478"
     },
     "user_tz": -120
    },
    "id": "sLveJEEo1-B7"
   },
   "outputs": [],
   "source": [
    "fruits_list_1 =[\"apple\", \"banana\", \"cherry\", \"apple\", \"banana\"]"
   ]
  },
  {
   "cell_type": "code",
   "execution_count": 52,
   "metadata": {
    "colab": {
     "base_uri": "https://localhost:8080/"
    },
    "executionInfo": {
     "elapsed": 347,
     "status": "ok",
     "timestamp": 1724946988488,
     "user": {
      "displayName": "DataCubeAz",
      "userId": "12865883615439672478"
     },
     "user_tz": -120
    },
    "id": "gluYRe3T2jYy",
    "outputId": "c21940ae-069c-4538-df70-a64a517118d2"
   },
   "outputs": [
    {
     "data": {
      "text/plain": [
       "['apple', 'banana', 'cherry', 'apple', 'banana']"
      ]
     },
     "execution_count": 52,
     "metadata": {},
     "output_type": "execute_result"
    }
   ],
   "source": [
    "fruits_list_1"
   ]
  },
  {
   "cell_type": "code",
   "execution_count": 53,
   "metadata": {
    "colab": {
     "base_uri": "https://localhost:8080/"
    },
    "executionInfo": {
     "elapsed": 272,
     "status": "ok",
     "timestamp": 1724947010707,
     "user": {
      "displayName": "DataCubeAz",
      "userId": "12865883615439672478"
     },
     "user_tz": -120
    },
    "id": "6evuFyetfSV0",
    "outputId": "adb9d431-1d8d-4e2c-869e-144ff84fc3c6"
   },
   "outputs": [
    {
     "data": {
      "text/plain": [
       "{'apple', 'banana', 'cherry'}"
      ]
     },
     "execution_count": 53,
     "metadata": {},
     "output_type": "execute_result"
    }
   ],
   "source": [
    "#Pay attention to fruit dataset compare it with outp\n",
    "\n",
    "\n",
    "fruits = {\"apple\", \"banana\", \"cherry\", \"apple\", \"banana\"}\n",
    "fruits\n"
   ]
  },
  {
   "cell_type": "code",
   "execution_count": 57,
   "metadata": {
    "executionInfo": {
     "elapsed": 249,
     "status": "ok",
     "timestamp": 1724947194924,
     "user": {
      "displayName": "DataCubeAz",
      "userId": "12865883615439672478"
     },
     "user_tz": -120
    },
    "id": "FIf8g4lcfSV0"
   },
   "outputs": [],
   "source": [
    "# Adding  Elements:\n",
    "\n",
    "\n",
    "fruits.add(\"orange\")"
   ]
  },
  {
   "cell_type": "code",
   "execution_count": 58,
   "metadata": {
    "colab": {
     "base_uri": "https://localhost:8080/"
    },
    "executionInfo": {
     "elapsed": 238,
     "status": "ok",
     "timestamp": 1724947202956,
     "user": {
      "displayName": "DataCubeAz",
      "userId": "12865883615439672478"
     },
     "user_tz": -120
    },
    "id": "FaQyaGwQ3Xxs",
    "outputId": "d75e18f1-cffc-4a98-de01-8f302c2fb77f"
   },
   "outputs": [
    {
     "data": {
      "text/plain": [
       "{'apple', 'banana', 'cherry', 'orange'}"
      ]
     },
     "execution_count": 58,
     "metadata": {},
     "output_type": "execute_result"
    }
   ],
   "source": [
    "fruits"
   ]
  },
  {
   "cell_type": "code",
   "execution_count": 59,
   "metadata": {
    "executionInfo": {
     "elapsed": 260,
     "status": "ok",
     "timestamp": 1724947207889,
     "user": {
      "displayName": "DataCubeAz",
      "userId": "12865883615439672478"
     },
     "user_tz": -120
    },
    "id": "8V5GQxjyfSV0"
   },
   "outputs": [],
   "source": [
    "# Removing Elements\n",
    "\n",
    "\n",
    "fruits.remove(\"apple\")"
   ]
  },
  {
   "cell_type": "code",
   "execution_count": 60,
   "metadata": {
    "colab": {
     "base_uri": "https://localhost:8080/"
    },
    "executionInfo": {
     "elapsed": 247,
     "status": "ok",
     "timestamp": 1724947227056,
     "user": {
      "displayName": "DataCubeAz",
      "userId": "12865883615439672478"
     },
     "user_tz": -120
    },
    "id": "h0Bg3as_3dmb",
    "outputId": "4404062b-aef6-49f1-bc6f-4f2fa62dd2ef"
   },
   "outputs": [
    {
     "data": {
      "text/plain": [
       "{'banana', 'cherry', 'orange'}"
      ]
     },
     "execution_count": 60,
     "metadata": {},
     "output_type": "execute_result"
    }
   ],
   "source": [
    "fruits"
   ]
  },
  {
   "cell_type": "code",
   "execution_count": 61,
   "metadata": {
    "executionInfo": {
     "elapsed": 252,
     "status": "ok",
     "timestamp": 1724947231509,
     "user": {
      "displayName": "DataCubeAz",
      "userId": "12865883615439672478"
     },
     "user_tz": -120
    },
    "id": "g4fSMSDEfSV0"
   },
   "outputs": [],
   "source": [
    "# Unique value\n",
    "\n",
    "a = {1, 1, 1, 2, 2,2} # A set in Python is a collection that stores only unique values"
   ]
  },
  {
   "cell_type": "code",
   "execution_count": 62,
   "metadata": {
    "colab": {
     "base_uri": "https://localhost:8080/"
    },
    "executionInfo": {
     "elapsed": 255,
     "status": "ok",
     "timestamp": 1724947233007,
     "user": {
      "displayName": "DataCubeAz",
      "userId": "12865883615439672478"
     },
     "user_tz": -120
    },
    "id": "iPFBc2rbfSV0",
    "outputId": "ead182cf-ed70-48df-8217-32e1edb1c183"
   },
   "outputs": [
    {
     "name": "stdout",
     "output_type": "stream",
     "text": [
      "{1, 2}\n"
     ]
    }
   ],
   "source": [
    "print(a)"
   ]
  },
  {
   "cell_type": "code",
   "execution_count": 63,
   "metadata": {
    "colab": {
     "base_uri": "https://localhost:8080/"
    },
    "executionInfo": {
     "elapsed": 244,
     "status": "ok",
     "timestamp": 1724947248630,
     "user": {
      "displayName": "DataCubeAz",
      "userId": "12865883615439672478"
     },
     "user_tz": -120
    },
    "id": "6jAG16ijfSV0",
    "outputId": "6e68cf6d-23a2-482c-b78b-b874ff537085"
   },
   "outputs": [
    {
     "data": {
      "text/plain": [
       "2"
      ]
     },
     "execution_count": 63,
     "metadata": {},
     "output_type": "execute_result"
    }
   ],
   "source": [
    "len(a)"
   ]
  },
  {
   "cell_type": "code",
   "execution_count": 64,
   "metadata": {
    "colab": {
     "base_uri": "https://localhost:8080/"
    },
    "executionInfo": {
     "elapsed": 232,
     "status": "ok",
     "timestamp": 1724947276374,
     "user": {
      "displayName": "DataCubeAz",
      "userId": "12865883615439672478"
     },
     "user_tz": -120
    },
    "id": "PmdghUlt3kZD",
    "outputId": "3d4dd0ce-27cd-4bda-d8b7-ea64314aba5a"
   },
   "outputs": [
    {
     "data": {
      "text/plain": [
       "2"
      ]
     },
     "execution_count": 64,
     "metadata": {},
     "output_type": "execute_result"
    }
   ],
   "source": [
    "len({1, 1, 1, 2, 2,2})"
   ]
  },
  {
   "cell_type": "code",
   "execution_count": null,
   "metadata": {
    "id": "n3xLU-D8fSV0",
    "outputId": "5cb1533d-9e0d-4ff3-d62d-474191606626",
    "scrolled": true
   },
   "outputs": [
    {
     "data": {
      "text/plain": [
       "['__and__',\n",
       " '__class__',\n",
       " '__class_getitem__',\n",
       " '__contains__',\n",
       " '__delattr__',\n",
       " '__dir__',\n",
       " '__doc__',\n",
       " '__eq__',\n",
       " '__format__',\n",
       " '__ge__',\n",
       " '__getattribute__',\n",
       " '__getstate__',\n",
       " '__gt__',\n",
       " '__hash__',\n",
       " '__iand__',\n",
       " '__init__',\n",
       " '__init_subclass__',\n",
       " '__ior__',\n",
       " '__isub__',\n",
       " '__iter__',\n",
       " '__ixor__',\n",
       " '__le__',\n",
       " '__len__',\n",
       " '__lt__',\n",
       " '__ne__',\n",
       " '__new__',\n",
       " '__or__',\n",
       " '__rand__',\n",
       " '__reduce__',\n",
       " '__reduce_ex__',\n",
       " '__repr__',\n",
       " '__ror__',\n",
       " '__rsub__',\n",
       " '__rxor__',\n",
       " '__setattr__',\n",
       " '__sizeof__',\n",
       " '__str__',\n",
       " '__sub__',\n",
       " '__subclasshook__',\n",
       " '__xor__',\n",
       " 'add',\n",
       " 'clear',\n",
       " 'copy',\n",
       " 'difference',\n",
       " 'difference_update',\n",
       " 'discard',\n",
       " 'intersection',\n",
       " 'intersection_update',\n",
       " 'isdisjoint',\n",
       " 'issubset',\n",
       " 'issuperset',\n",
       " 'pop',\n",
       " 'remove',\n",
       " 'symmetric_difference',\n",
       " 'symmetric_difference_update',\n",
       " 'union',\n",
       " 'update']"
      ]
     },
     "execution_count": 123,
     "metadata": {},
     "output_type": "execute_result"
    }
   ],
   "source": [
    "dir(a)"
   ]
  },
  {
   "cell_type": "code",
   "execution_count": 65,
   "metadata": {
    "executionInfo": {
     "elapsed": 243,
     "status": "ok",
     "timestamp": 1724947371592,
     "user": {
      "displayName": "DataCubeAz",
      "userId": "12865883615439672478"
     },
     "user_tz": -120
    },
    "id": "SGFbtyiXfSV0"
   },
   "outputs": [],
   "source": [
    "# Create two sets 'a' and 'b'\n",
    "a = {1, 2, 3, 4, 5}\n",
    "b = {4, 5, 6, 7, 8}"
   ]
  },
  {
   "cell_type": "code",
   "execution_count": 66,
   "metadata": {
    "colab": {
     "base_uri": "https://localhost:8080/"
    },
    "executionInfo": {
     "elapsed": 245,
     "status": "ok",
     "timestamp": 1724947376481,
     "user": {
      "displayName": "DataCubeAz",
      "userId": "12865883615439672478"
     },
     "user_tz": -120
    },
    "id": "V3L2uoap4AhZ",
    "outputId": "1d365ced-7d99-40c1-f5d4-48ad1dfef84e"
   },
   "outputs": [
    {
     "data": {
      "text/plain": [
       "{1, 2, 3, 4, 5}"
      ]
     },
     "execution_count": 66,
     "metadata": {},
     "output_type": "execute_result"
    }
   ],
   "source": [
    "a"
   ]
  },
  {
   "cell_type": "code",
   "execution_count": 67,
   "metadata": {
    "colab": {
     "base_uri": "https://localhost:8080/"
    },
    "executionInfo": {
     "elapsed": 3,
     "status": "ok",
     "timestamp": 1724947381131,
     "user": {
      "displayName": "DataCubeAz",
      "userId": "12865883615439672478"
     },
     "user_tz": -120
    },
    "id": "l0oypweq4DVz",
    "outputId": "33b8bbab-1c6a-42a8-a0ec-0cd7c2c828bd"
   },
   "outputs": [
    {
     "data": {
      "text/plain": [
       "{4, 5, 6, 7, 8}"
      ]
     },
     "execution_count": 67,
     "metadata": {},
     "output_type": "execute_result"
    }
   ],
   "source": [
    "b"
   ]
  },
  {
   "cell_type": "code",
   "execution_count": 69,
   "metadata": {
    "colab": {
     "base_uri": "https://localhost:8080/"
    },
    "executionInfo": {
     "elapsed": 278,
     "status": "ok",
     "timestamp": 1724949365461,
     "user": {
      "displayName": "DataCubeAz",
      "userId": "12865883615439672478"
     },
     "user_tz": -120
    },
    "id": "tapadu4t_gnS",
    "outputId": "4677ec24-3a09-4770-c006-7c0866cb880f"
   },
   "outputs": [
    {
     "data": {
      "text/plain": [
       "{1, 2, 3}"
      ]
     },
     "execution_count": 69,
     "metadata": {},
     "output_type": "execute_result"
    }
   ],
   "source": [
    "a.difference(b)"
   ]
  },
  {
   "cell_type": "code",
   "execution_count": 68,
   "metadata": {
    "colab": {
     "base_uri": "https://localhost:8080/"
    },
    "executionInfo": {
     "elapsed": 251,
     "status": "ok",
     "timestamp": 1724947729837,
     "user": {
      "displayName": "DataCubeAz",
      "userId": "12865883615439672478"
     },
     "user_tz": -120
    },
    "id": "k_HB8EaTfSV0",
    "outputId": "d8dec03d-40fb-4bfc-dc0d-bd32d0cff3eb"
   },
   "outputs": [
    {
     "name": "stdout",
     "output_type": "stream",
     "text": [
      "Elements in 'a' but not in 'b': {1, 2, 3}\n"
     ]
    }
   ],
   "source": [
    "#difference()\n",
    "\n",
    "difference_ab = a.difference(b)\n",
    "difference_ab = a - b #\n",
    "print(f\"Elements in 'a' but not in 'b': {difference_ab}\")"
   ]
  },
  {
   "cell_type": "code",
   "execution_count": 70,
   "metadata": {
    "colab": {
     "base_uri": "https://localhost:8080/"
    },
    "executionInfo": {
     "elapsed": 267,
     "status": "ok",
     "timestamp": 1724949388421,
     "user": {
      "displayName": "DataCubeAz",
      "userId": "12865883615439672478"
     },
     "user_tz": -120
    },
    "id": "A_Xn8AY5fSV1",
    "outputId": "942b50e0-6a6a-46ea-a552-fa4eab24f54c"
   },
   "outputs": [
    {
     "name": "stdout",
     "output_type": "stream",
     "text": [
      "Elements common to both 'a' and 'b': {4, 5}\n"
     ]
    }
   ],
   "source": [
    "#intersection()\n",
    "# Calculate the intersection between set 'a' and set 'b' using the 'intersection()' method\n",
    "\n",
    "intersection_ab = a.intersection(b)\n",
    "print(f\"Elements common to both 'a' and 'b': {intersection_ab}\")\n"
   ]
  },
  {
   "cell_type": "code",
   "execution_count": 72,
   "metadata": {
    "colab": {
     "base_uri": "https://localhost:8080/"
    },
    "executionInfo": {
     "elapsed": 256,
     "status": "ok",
     "timestamp": 1724949416627,
     "user": {
      "displayName": "DataCubeAz",
      "userId": "12865883615439672478"
     },
     "user_tz": -120
    },
    "id": "xCXVJgVKfSV1",
    "outputId": "0581fb22-ec4e-42cd-e84d-0858c693a191"
   },
   "outputs": [
    {
     "data": {
      "text/plain": [
       "[1, 2, 3, 4]"
      ]
     },
     "execution_count": 72,
     "metadata": {},
     "output_type": "execute_result"
    }
   ],
   "source": [
    "# Removing duplicates from a list\n",
    "\n",
    "\n",
    "my_list = [1, 2, 2, 3, 3, 4]\n",
    "unique_set = set(my_list)\n",
    "unique_list = list(unique_set)\n",
    "unique_list"
   ]
  },
  {
   "cell_type": "markdown",
   "metadata": {
    "id": "1eUAY0sdfSV1"
   },
   "source": [
    "**Key Takeaways**\n",
    "- Sets are great for maintaining a collection of unique elements\n",
    "- Sets do not support indexing, so you cannot access elements by their position within the set.\n",
    "- Sets support set operations such as union, intersection, and difference.\n",
    "- Sets are optimized for membership testing.  A set is much faster than searching for it in a list, especially for large collections.\n",
    "- Removing duplicates from a list or sequence\n",
    "- Sets are unordered, so you can't rely on the order of elements within a set.\n"
   ]
  },
  {
   "cell_type": "markdown",
   "metadata": {
    "id": "7N3oKf16fSV1"
   },
   "source": []
  },
  {
   "cell_type": "markdown",
   "metadata": {
    "id": "ReBJf0_gfSV1"
   },
   "source": [
    "# Time for Practice"
   ]
  },
  {
   "cell_type": "code",
   "execution_count": null,
   "metadata": {
    "id": "ibWWmkVGfSV1"
   },
   "outputs": [],
   "source": [
    "################################################################################################################################################################################################################"
   ]
  },
  {
   "cell_type": "markdown",
   "metadata": {
    "id": "XIVRS2aafSV1"
   },
   "source": [
    "# Quick Overview\n"
   ]
  },
  {
   "cell_type": "markdown",
   "metadata": {
    "id": "suVop5UDfSV1"
   },
   "source": [
    "###  Mutability vs. Immutability:"
   ]
  },
  {
   "cell_type": "code",
   "execution_count": 74,
   "metadata": {
    "colab": {
     "base_uri": "https://localhost:8080/"
    },
    "executionInfo": {
     "elapsed": 247,
     "status": "ok",
     "timestamp": 1724949795931,
     "user": {
      "displayName": "DataCubeAz",
      "userId": "12865883615439672478"
     },
     "user_tz": -120
    },
    "id": "noSYieuAfSV1",
    "outputId": "0fcc0648-7245-4d27-a1b8-cafea6964ca4"
   },
   "outputs": [
    {
     "data": {
      "text/plain": [
       "[10, 2, 3]"
      ]
     },
     "execution_count": 74,
     "metadata": {},
     "output_type": "execute_result"
    }
   ],
   "source": [
    "\n",
    "# Lists are mutable\n",
    "my_list = [1, 2, 3]\n",
    "my_list[0] = 10\n",
    "my_list\n"
   ]
  },
  {
   "cell_type": "code",
   "execution_count": null,
   "metadata": {
    "id": "mWVvidLHBPkr"
   },
   "outputs": [],
   "source": [
    "# Tuples are immutable\n",
    "my_tuple = (1, 2, 3)\n",
    "# Attempting to modify a tuple will result in an error: my_tuple[0"
   ]
  },
  {
   "cell_type": "markdown",
   "metadata": {
    "id": "_vYfvP_QfSV1"
   },
   "source": [
    "### Ordered vs. Unordered:"
   ]
  },
  {
   "cell_type": "code",
   "execution_count": 75,
   "metadata": {
    "executionInfo": {
     "elapsed": 260,
     "status": "ok",
     "timestamp": 1724949840654,
     "user": {
      "displayName": "DataCubeAz",
      "userId": "12865883615439672478"
     },
     "user_tz": -120
    },
    "id": "mRzOYnWsfSV2"
   },
   "outputs": [],
   "source": [
    "# Lists, tuples, and strings are ordered\n",
    "my_list = [3, 1, 2]\n",
    "my_tuple = (3, 1, 2)\n",
    "my_string = \"cba\"\n",
    "# Sets and dictionaries are unordered\n",
    "\n",
    "\n"
   ]
  },
  {
   "cell_type": "code",
   "execution_count": 83,
   "metadata": {
    "colab": {
     "base_uri": "https://localhost:8080/",
     "height": 35
    },
    "executionInfo": {
     "elapsed": 257,
     "status": "ok",
     "timestamp": 1724950063992,
     "user": {
      "displayName": "DataCubeAz",
      "userId": "12865883615439672478"
     },
     "user_tz": -120
    },
    "id": "BlqzMAsbCRIp",
    "outputId": "dc74346a-83d0-44f2-dce0-b4474285b8e1"
   },
   "outputs": [
    {
     "data": {
      "application/vnd.google.colaboratory.intrinsic+json": {
       "type": "string"
      },
      "text/plain": [
       "'c'"
      ]
     },
     "execution_count": 83,
     "metadata": {},
     "output_type": "execute_result"
    }
   ],
   "source": [
    "my_string[0]"
   ]
  },
  {
   "cell_type": "code",
   "execution_count": 76,
   "metadata": {
    "executionInfo": {
     "elapsed": 239,
     "status": "ok",
     "timestamp": 1724949861137,
     "user": {
      "displayName": "DataCubeAz",
      "userId": "12865883615439672478"
     },
     "user_tz": -120
    },
    "id": "lscVvsqoBezL"
   },
   "outputs": [],
   "source": [
    "my_list.sort()"
   ]
  },
  {
   "cell_type": "code",
   "execution_count": 77,
   "metadata": {
    "colab": {
     "base_uri": "https://localhost:8080/"
    },
    "executionInfo": {
     "elapsed": 267,
     "status": "ok",
     "timestamp": 1724949867588,
     "user": {
      "displayName": "DataCubeAz",
      "userId": "12865883615439672478"
     },
     "user_tz": -120
    },
    "id": "9IxLzIDgBiM4",
    "outputId": "432a39c8-221d-4a39-fc5f-8d25f17c897e"
   },
   "outputs": [
    {
     "data": {
      "text/plain": [
       "[1, 2, 3]"
      ]
     },
     "execution_count": 77,
     "metadata": {},
     "output_type": "execute_result"
    }
   ],
   "source": [
    "my_list"
   ]
  },
  {
   "cell_type": "code",
   "execution_count": 84,
   "metadata": {
    "executionInfo": {
     "elapsed": 241,
     "status": "ok",
     "timestamp": 1724950071196,
     "user": {
      "displayName": "DataCubeAz",
      "userId": "12865883615439672478"
     },
     "user_tz": -120
    },
    "id": "8jx8_4FSBbbw"
   },
   "outputs": [],
   "source": [
    "my_set = {3, 1, 2}\n",
    "my_dict = {'b': 2, 'a': 1, 'c': 3}\n",
    "\n",
    "\n",
    "# Attempting to call a value with index in set or  my_dict"
   ]
  },
  {
   "cell_type": "code",
   "execution_count": 85,
   "metadata": {
    "colab": {
     "base_uri": "https://localhost:8080/",
     "height": 141
    },
    "executionInfo": {
     "elapsed": 263,
     "status": "error",
     "timestamp": 1724950081046,
     "user": {
      "displayName": "DataCubeAz",
      "userId": "12865883615439672478"
     },
     "user_tz": -120
    },
    "id": "joz0aXR4CPW8",
    "outputId": "22801f1c-20e9-46c1-a36f-8ddf917826ff"
   },
   "outputs": [
    {
     "ename": "TypeError",
     "evalue": "'set' object is not subscriptable",
     "output_type": "error",
     "traceback": [
      "\u001b[0;31m---------------------------------------------------------------------------\u001b[0m",
      "\u001b[0;31mTypeError\u001b[0m                                 Traceback (most recent call last)",
      "\u001b[0;32m<ipython-input-85-158c424478a1>\u001b[0m in \u001b[0;36m<cell line: 1>\u001b[0;34m()\u001b[0m\n\u001b[0;32m----> 1\u001b[0;31m \u001b[0mmy_set\u001b[0m\u001b[0;34m[\u001b[0m\u001b[0;36m0\u001b[0m\u001b[0;34m]\u001b[0m\u001b[0;34m\u001b[0m\u001b[0;34m\u001b[0m\u001b[0m\n\u001b[0m",
      "\u001b[0;31mTypeError\u001b[0m: 'set' object is not subscriptable"
     ]
    }
   ],
   "source": [
    "my_set[0]"
   ]
  },
  {
   "cell_type": "markdown",
   "metadata": {
    "id": "24E6_KANfSV2"
   },
   "source": [
    " ### Duplicate Handling:"
   ]
  },
  {
   "cell_type": "code",
   "execution_count": 88,
   "metadata": {
    "executionInfo": {
     "elapsed": 269,
     "status": "ok",
     "timestamp": 1724950204421,
     "user": {
      "displayName": "DataCubeAz",
      "userId": "12865883615439672478"
     },
     "user_tz": -120
    },
    "id": "D9RsJyPFfSV2"
   },
   "outputs": [],
   "source": [
    "# Lists allow duplicates\n",
    "\n",
    "\n",
    "my_list = [1, 2, 2, 3, 3, 3]\n",
    "\n",
    "# Sets automatically remove duplicates\n",
    "\n",
    "\n",
    "my_set = {1, 2, 2, 3, 3, 3}\n",
    "\n",
    "# Dictionaries require unique keys\n",
    "\n",
    "my_dict = {'a': 1, 'b': 2, 'a': 3, \"c\" : 2}  # The second 'a' overwrites the first\n",
    "\n",
    "\n",
    "# Attempting to add the second  key : a  , value : 5  in  my_dict\n",
    "\n"
   ]
  },
  {
   "cell_type": "code",
   "execution_count": 89,
   "metadata": {
    "colab": {
     "base_uri": "https://localhost:8080/"
    },
    "executionInfo": {
     "elapsed": 239,
     "status": "ok",
     "timestamp": 1724950205826,
     "user": {
      "displayName": "DataCubeAz",
      "userId": "12865883615439672478"
     },
     "user_tz": -120
    },
    "id": "JE1hBD_QCmoB",
    "outputId": "30802882-5223-4c09-e8ed-61cfcccffdda"
   },
   "outputs": [
    {
     "data": {
      "text/plain": [
       "{'a': 3, 'b': 2, 'c': 2}"
      ]
     },
     "execution_count": 89,
     "metadata": {},
     "output_type": "execute_result"
    }
   ],
   "source": [
    "my_dict"
   ]
  },
  {
   "cell_type": "markdown",
   "metadata": {
    "id": "t2dpSHb_fSV2"
   },
   "source": [
    "## Use Cases:\n"
   ]
  },
  {
   "cell_type": "code",
   "execution_count": null,
   "metadata": {
    "id": "-zzBuOUXfSV2"
   },
   "outputs": [],
   "source": [
    "# Lists for general use\n",
    "\n",
    "my_list = [1, 2, 3]\n",
    "\n",
    "# Tuples for immutability and dictionary keys. #Tuples are often used as keys in dictionaries\n",
    "\n",
    "\n",
    "my_tuple = (4, 5, 6)\n",
    "\n",
    "# Sets for unique values and set operations\n",
    "\n",
    "\n",
    "my_set = {7, 8, 9}\n",
    "\n",
    "# Strings for text\n",
    "\n",
    "my_string = \"Hello, World!\"\n",
    "\n",
    "# Dictionaries for key-value mappings\n",
    "\n",
    "my_dict = {'name': 'Alice', 'age': 30}"
   ]
  },
  {
   "cell_type": "code",
   "execution_count": 90,
   "metadata": {
    "colab": {
     "base_uri": "https://localhost:8080/"
    },
    "executionInfo": {
     "elapsed": 246,
     "status": "ok",
     "timestamp": 1724950346959,
     "user": {
      "displayName": "DataCubeAz",
      "userId": "12865883615439672478"
     },
     "user_tz": -120
    },
    "id": "3nxQLzD_fSV2",
    "outputId": "71b76ed3-0694-4fbf-b9db-2beb5a86cd66"
   },
   "outputs": [
    {
     "name": "stdout",
     "output_type": "stream",
     "text": [
      "Alice\n"
     ]
    }
   ],
   "source": [
    "# Creating a dictionary with a tuple key\n",
    "\n",
    "\n",
    "student_info = {(4, 5, 6): 'Alice'}\n",
    "\n",
    "# Accessing the value using the tuple key\n",
    "\n",
    "\n",
    "print(student_info[(4, 5, 6)])  # Output: 'Alice'\n"
   ]
  },
  {
   "cell_type": "code",
   "execution_count": null,
   "metadata": {
    "id": "CR2QHGl3fSV2"
   },
   "outputs": [],
   "source": []
  }
 ],
 "metadata": {
  "colab": {
   "collapsed_sections": [
    "O3ojtNWRfSVl"
   ],
   "provenance": []
  },
  "jpcodetoc-autonumbering": true,
  "jpcodetoc-showcode": true,
  "jpcodetoc-showmarkdowntxt": false,
  "jpcodetoc-showtags": true,
  "kernelspec": {
   "display_name": "Python 3 (ipykernel)",
   "language": "python",
   "name": "python3"
  },
  "language_info": {
   "codemirror_mode": {
    "name": "ipython",
    "version": 3
   },
   "file_extension": ".py",
   "mimetype": "text/x-python",
   "name": "python",
   "nbconvert_exporter": "python",
   "pygments_lexer": "ipython3",
   "version": "3.11.5"
  }
 },
 "nbformat": 4,
 "nbformat_minor": 0
}
