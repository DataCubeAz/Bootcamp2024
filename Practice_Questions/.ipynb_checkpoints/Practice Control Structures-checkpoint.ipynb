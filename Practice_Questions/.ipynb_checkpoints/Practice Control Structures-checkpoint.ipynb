{
 "cells": [
  {
   "cell_type": "markdown",
   "id": "127b985b-01af-4a5a-9837-48e4192e7b30",
   "metadata": {},
   "source": [
    "# Functions"
   ]
  },
  {
   "cell_type": "code",
   "execution_count": 1,
   "id": "1ac586dc-648c-4c8a-a753-4c5ab7367efa",
   "metadata": {},
   "outputs": [],
   "source": [
    "### 1. Schreibe eine Funktion, die zwei Zahlen multipliziert\n"
   ]
  },
  {
   "cell_type": "markdown",
   "id": "f003fa11-1996-4d42-a1a8-d5ba3469c08e",
   "metadata": {},
   "source": [
    "# Conditions"
   ]
  },
  {
   "cell_type": "code",
   "execution_count": 3,
   "id": "4da3656c-285b-4486-b59e-eebbc005b753",
   "metadata": {},
   "outputs": [],
   "source": [
    "### 1. Schreibe eine Funktion, die prüft, ob eine Zahl gerade oder ungerade ist.\n"
   ]
  },
  {
   "cell_type": "code",
   "execution_count": 4,
   "id": "898726c5-daf4-46b5-bea6-29b5708b9c88",
   "metadata": {},
   "outputs": [],
   "source": [
    "### 2. Schreibe eine weitere Funktion, die eine Zahl zu einer Liste von odd_num Zahlen hinzufügt, wenn sie ungerade ist, und zu einer Liste von even_num Zahlen, wenn sie gerade ist\n",
    "even_num=[]\n",
    "odd_num=[]\n"
   ]
  },
  {
   "cell_type": "markdown",
   "id": "9e138250-fb26-4641-95e1-e34c32247f9c",
   "metadata": {},
   "source": [
    " # Loops"
   ]
  },
  {
   "cell_type": "code",
   "execution_count": 5,
   "id": "ed812a4a-cc10-4283-ac09-303308c80043",
   "metadata": {},
   "outputs": [],
   "source": [
    "prices = [15, 29, 74, 32, 100, 150, 200]"
   ]
  },
  {
   "cell_type": "code",
   "execution_count": 6,
   "id": "11cc491f-1c6e-43fc-b955-dd173350951a",
   "metadata": {},
   "outputs": [],
   "source": [
    "### 1. Schreibe eine LOOP code, die alle Elemente der Preisliste durchläuft und überprüft, ob sie mehr als 100 betragen. \n",
    "### Wenn ja, füge diese Zahl cheap_list hinzu, wenn weniger als 100, expensive_list.\n",
    "\n"
   ]
  },
  {
   "cell_type": "markdown",
   "id": "9c66dca5-5d4e-4c79-b8f5-a4b1c8d8355a",
   "metadata": {},
   "source": [
    "# Advanced Loop funtions "
   ]
  },
  {
   "cell_type": "code",
   "execution_count": 7,
   "id": "5bde8e32-094f-43a0-89c7-c151a63a307e",
   "metadata": {},
   "outputs": [],
   "source": [
    "### 1. Schreibe eine Funktion alter_word in Python. Diese Funktion nimmt ein Wort und ändert es so:\n",
    "### Buchstaben an geraden Stellen werden groß, an ungeraden Stellen klein. Teste diese Funktion mit dem Wort 'hello'.\n",
    "\n"
   ]
  }
 ],
 "metadata": {
  "kernelspec": {
   "display_name": "Python 3 (ipykernel)",
   "language": "python",
   "name": "python3"
  },
  "language_info": {
   "codemirror_mode": {
    "name": "ipython",
    "version": 3
   },
   "file_extension": ".py",
   "mimetype": "text/x-python",
   "name": "python",
   "nbconvert_exporter": "python",
   "pygments_lexer": "ipython3",
   "version": "3.11.5"
  }
 },
 "nbformat": 4,
 "nbformat_minor": 5
}
