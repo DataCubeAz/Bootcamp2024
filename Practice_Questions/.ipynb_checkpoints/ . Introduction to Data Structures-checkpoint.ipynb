{
 "cells": [
  {
   "cell_type": "markdown",
   "id": "7cce6d95-5999-4741-aafb-dd0f40f130d8",
   "metadata": {},
   "source": [
    "# Numbers: int, float, complex"
   ]
  },
  {
   "cell_type": "markdown",
   "id": "70ce4bee-aa3f-405b-917f-76123a29dff5",
   "metadata": {},
   "source": [
    "### 1. int"
   ]
  },
  {
   "cell_type": "code",
   "execution_count": 2,
   "id": "fc686078-c56d-4770-9a49-7252bd5fd50f",
   "metadata": {},
   "outputs": [],
   "source": [
    "x = 10\n",
    "y = -5\n"
   ]
  },
  {
   "cell_type": "code",
   "execution_count": null,
   "id": "d6bca0fb-7fb6-4b36-af30-80928abc8dcf",
   "metadata": {},
   "outputs": [],
   "source": [
    "### a. Finden Sie die Summe von a und b\n"
   ]
  },
  {
   "cell_type": "code",
   "execution_count": 3,
   "id": "f77f0d9d-bede-4099-9ee6-c185b002323d",
   "metadata": {},
   "outputs": [],
   "source": [
    "### b. Was ist der Typ des Ergebnisses?"
   ]
  },
  {
   "cell_type": "markdown",
   "id": "b40a2062-b152-420b-bff1-058f6bd86ca5",
   "metadata": {},
   "source": [
    "### 2. float"
   ]
  },
  {
   "cell_type": "code",
   "execution_count": 5,
   "id": "6325256a-8c4d-4faf-b98c-c30a75664b13",
   "metadata": {},
   "outputs": [],
   "source": [
    "a = 3.5\n",
    "b = 2.0"
   ]
  },
  {
   "cell_type": "code",
   "execution_count": null,
   "id": "d6dd8ebe-d0ac-48be-aa3b-1392e93fca3b",
   "metadata": {},
   "outputs": [],
   "source": [
    "### a. Multiplizieren Sie a und b. \n"
   ]
  },
  {
   "cell_type": "code",
   "execution_count": null,
   "id": "72e5a4d5-a0ce-4106-9174-558af5024181",
   "metadata": {},
   "outputs": [],
   "source": [
    "### b. Welchen Datentyp hat das Ergebnis?\n"
   ]
  },
  {
   "cell_type": "markdown",
   "id": "91c79dbf-29a1-40e9-8edc-57abe5a75927",
   "metadata": {},
   "source": [
    "### 3. complex"
   ]
  },
  {
   "cell_type": "code",
   "execution_count": 6,
   "id": "e294b75f-372d-43eb-b655-73dfc22efab9",
   "metadata": {},
   "outputs": [],
   "source": [
    "a = 1 + 2j\n",
    "b = 3 + 4j"
   ]
  },
  {
   "cell_type": "code",
   "execution_count": null,
   "id": "2bf98fd7-0a1b-441a-8ae5-fba2937cec0b",
   "metadata": {},
   "outputs": [],
   "source": [
    "### a. Subtrahieren Sie b von a\n"
   ]
  },
  {
   "cell_type": "code",
   "execution_count": null,
   "id": "6e010383-f114-4ca3-9da7-6ed2ec9e20ad",
   "metadata": {},
   "outputs": [],
   "source": [
    "### b. Was ist der Typ des resultierenden Werts\n"
   ]
  }
 ],
 "metadata": {
  "kernelspec": {
   "display_name": "Python 3 (ipykernel)",
   "language": "python",
   "name": "python3"
  },
  "language_info": {
   "codemirror_mode": {
    "name": "ipython",
    "version": 3
   },
   "file_extension": ".py",
   "mimetype": "text/x-python",
   "name": "python",
   "nbconvert_exporter": "python",
   "pygments_lexer": "ipython3",
   "version": "3.11.5"
  }
 },
 "nbformat": 4,
 "nbformat_minor": 5
}
